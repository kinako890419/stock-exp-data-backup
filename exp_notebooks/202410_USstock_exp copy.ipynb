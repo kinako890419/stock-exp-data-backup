{
 "cells": [
  {
   "cell_type": "code",
   "execution_count": 1,
   "metadata": {},
   "outputs": [],
   "source": [
    "import sys\n",
    "sys.path.insert(0, '../../stock_factor_lab/')"
   ]
  },
  {
   "cell_type": "markdown",
   "metadata": {},
   "source": [
    "# 美股"
   ]
  },
  {
   "cell_type": "markdown",
   "metadata": {},
   "source": [
    "## import"
   ]
  },
  {
   "cell_type": "code",
   "execution_count": 2,
   "metadata": {},
   "outputs": [],
   "source": [
    "from get_data import Data\n",
    "import backtest\n",
    "from combinations import sim_conditions\n",
    "import pandas as pd\n",
    "import numpy as np\n",
    "import matplotlib.pyplot as plt\n",
    "import plotly.graph_objects as go\n",
    "import plotly.express as px\n",
    "from itertools import cycle\n",
    "from plotly.subplots import make_subplots\n",
    "from matplotlib import rcParams\n",
    "rcParams['font.sans-serif'] = ['Microsoft JhengHei']\n",
    "import matplotlib as mpl\n",
    "mpl.rcParams['axes.unicode_minus'] = False\n",
    "from matplotlib.ticker import FuncFormatter\n",
    "import matplotlib.dates as mdates\n",
    "from datetime import datetime\n",
    "\n",
    "# from dataframe import CustomDataFrame\n",
    "\n",
    "import plot_data"
   ]
  },
  {
   "cell_type": "code",
   "execution_count": 3,
   "metadata": {},
   "outputs": [],
   "source": [
    "# pd.options.display.float_format = '{:.4f}'.format # 禁用科學數字"
   ]
  },
  {
   "cell_type": "markdown",
   "metadata": {},
   "source": [
    "## 日期設定"
   ]
  },
  {
   "cell_type": "code",
   "execution_count": 4,
   "metadata": {},
   "outputs": [],
   "source": [
    "START_DATE = '2009-01-01'\n",
    "END_DATE = '2024-09-30'"
   ]
  },
  {
   "cell_type": "markdown",
   "metadata": {},
   "source": [
    "## get data"
   ]
  },
  {
   "cell_type": "code",
   "execution_count": 5,
   "metadata": {},
   "outputs": [],
   "source": [
    "data=Data(market='US')"
   ]
  },
  {
   "cell_type": "markdown",
   "metadata": {},
   "source": [
    "---"
   ]
  },
  {
   "cell_type": "markdown",
   "metadata": {},
   "source": [
    "## 畫圖 Function"
   ]
  },
  {
   "cell_type": "code",
   "execution_count": 6,
   "metadata": {},
   "outputs": [],
   "source": [
    "from matplotlib.ticker import PercentFormatter\n",
    "\n",
    "def plot_diff_PER_cagr(report_collec, title='CAGR 比較'):\n",
    "    \"\"\"\n",
    "    將策略分為以'PE_8', 'PE_10'和'PE_12'結尾的三個CAGR折線圖，並顯示在同一圖表上\n",
    "\n",
    "    參數:\n",
    "    report_collec: 策略報告集合\n",
    "    title: 圖表標題\n",
    "\n",
    "    返回: 顯示圖表\n",
    "    \"\"\"\n",
    "\n",
    "    reports = report_collec.reports\n",
    "\n",
    "    strategies_pe8 = []\n",
    "    cagr_values_pe8 = []\n",
    "    strategies_pe10 = []\n",
    "    cagr_values_pe10 = []\n",
    "    strategies_pe12 = []\n",
    "    cagr_values_pe12 = []\n",
    "\n",
    "    # 獲得每個策略的CAGR，並根據命名進行分類\n",
    "    for strategy_name, report in reports.items():\n",
    "        if strategy_name.endswith('本益比<8進場'):\n",
    "            prefix = strategy_name.replace('_本益比<8進場', '')\n",
    "            strategies_pe8.append(prefix)\n",
    "            cagr = report.get_stats()['CAGR'] * 100\n",
    "            cagr_values_pe8.append(cagr)\n",
    "        elif strategy_name.endswith('本益比<10進場'):\n",
    "            prefix = strategy_name.replace('_本益比<10進場', '')\n",
    "            strategies_pe10.append(prefix)\n",
    "            cagr = report.get_stats()['CAGR'] * 100\n",
    "            cagr_values_pe10.append(cagr)\n",
    "        elif strategy_name.endswith('本益比<12進場'):\n",
    "            prefix = strategy_name.replace('_本益比<12進場', '')\n",
    "            strategies_pe12.append(prefix)\n",
    "            cagr = report.get_stats()['CAGR'] * 100\n",
    "            cagr_values_pe12.append(cagr)\n",
    "\n",
    "    # 確保三個列表的長度一致，以保持x軸一致性\n",
    "    all_prefixes = sorted(list(set(strategies_pe8) | set(strategies_pe10) | set(strategies_pe12)))\n",
    "\n",
    "    cagr_values_pe8_aligned = [cagr_values_pe8[strategies_pe8.index(prefix)] if prefix in strategies_pe8 else None for prefix in all_prefixes]\n",
    "    cagr_values_pe10_aligned = [cagr_values_pe10[strategies_pe10.index(prefix)] if prefix in strategies_pe10 else None for prefix in all_prefixes]\n",
    "    cagr_values_pe12_aligned = [cagr_values_pe12[strategies_pe12.index(prefix)] if prefix in strategies_pe12 else None for prefix in all_prefixes]\n",
    "\n",
    "    # 繪製同一張圖上的三條線\n",
    "    plt.figure(figsize=(10, 6))\n",
    "\n",
    "    plt.plot(all_prefixes, cagr_values_pe8_aligned, marker='o', label='PE_8', color='tab:green')\n",
    "    plt.plot(all_prefixes, cagr_values_pe10_aligned, marker='o', label='PE_10', color='tab:blue')\n",
    "    plt.plot(all_prefixes, cagr_values_pe12_aligned, marker='o', label='PE_12', color='tab:orange')\n",
    "\n",
    "    # 設定圖表標題與軸標籤\n",
    "    plt.title(title)\n",
    "    # plt.xlabel('配息率三年至少>多少%')\n",
    "    plt.ylabel('CAGR (%)')\n",
    "    plt.gca().yaxis.set_major_formatter(PercentFormatter())\n",
    "\n",
    "    # 設定 x 軸刻度及旋轉角度\n",
    "    plt.xticks(rotation=90, ha='right', fontsize=10)\n",
    "\n",
    "    # 添加網格線和圖例\n",
    "    plt.grid(True, alpha=0.7, axis='y', linestyle='--')\n",
    "    plt.legend()\n",
    "\n",
    "    plt.tight_layout()\n",
    "\n",
    "    # 顯示圖表\n",
    "    plt.show()"
   ]
  },
  {
   "cell_type": "markdown",
   "metadata": {},
   "source": [
    "---"
   ]
  },
  {
   "cell_type": "markdown",
   "metadata": {},
   "source": [
    "## 資料下載"
   ]
  },
  {
   "cell_type": "code",
   "execution_count": 7,
   "metadata": {},
   "outputs": [],
   "source": [
    "close = data.get('price:close')"
   ]
  },
  {
   "cell_type": "markdown",
   "metadata": {},
   "source": [
    "### **盈餘再投資率**"
   ]
  },
  {
   "cell_type": "code",
   "execution_count": 8,
   "metadata": {},
   "outputs": [],
   "source": [
    "netIncome = data.get('annual_report_fundamentals:netIncome')\n",
    "\n",
    "# 4 年加總 #\n",
    "df = netIncome.copy()\n",
    "# 提取index的月份\n",
    "df['month'] = df.index.month\n",
    "# 依據月份分組，對每個月份的每四年進行加總\n",
    "result = df.groupby('month', group_keys=False).apply(lambda group: group.rolling(4, min_periods=4).sum())\n",
    "# result\n",
    "\n",
    "# 刪除用來group的欄位\n",
    "netprofit_rol = result.drop(columns='month')"
   ]
  },
  {
   "cell_type": "code",
   "execution_count": 9,
   "metadata": {},
   "outputs": [],
   "source": [
    "# 去除稅後淨利為負 (計算盈再率)\n",
    "adj_netprofit = netprofit_rol[(netprofit_rol > 0) & (netIncome > 0)]"
   ]
  },
  {
   "cell_type": "code",
   "execution_count": 10,
   "metadata": {},
   "outputs": [],
   "source": [
    "# 長期投資\n",
    "longTermInvestments = data.get('annual_report_fundamentals:longTermInvestments')\n",
    "# 固定資產\n",
    "propertyPlantEquipmentNet = data.get('annual_report_fundamentals:propertyPlantEquipmentNet')\n",
    "\n",
    "\n",
    "capex = longTermInvestments + propertyPlantEquipmentNet\n",
    "# 以月份為單位，所以要減掉 48 個月前的資料 (第四年 - 第0年)\n",
    "capex_rol = capex.diff(48)\n",
    "\n",
    "\n",
    "rr = capex_rol / adj_netprofit"
   ]
  },
  {
   "cell_type": "code",
   "execution_count": 11,
   "metadata": {},
   "outputs": [],
   "source": [
    "# plot_data.numeric_bins(rr.resample(\"A-MAY\").last(), '美股盈再率')"
   ]
  },
  {
   "cell_type": "markdown",
   "metadata": {},
   "source": [
    "---"
   ]
  },
  {
   "cell_type": "markdown",
   "metadata": {},
   "source": [
    "### **本益比 (P/E)**"
   ]
  },
  {
   "cell_type": "code",
   "execution_count": 12,
   "metadata": {},
   "outputs": [],
   "source": [
    "pe = data.get('quarter_report:PE')"
   ]
  },
  {
   "cell_type": "code",
   "execution_count": 13,
   "metadata": {},
   "outputs": [],
   "source": [
    "eps = data.get('quarter_report:EPS')"
   ]
  },
  {
   "cell_type": "code",
   "execution_count": 14,
   "metadata": {},
   "outputs": [],
   "source": [
    "eps_rol = eps + eps.shift(3) + eps.shift(6) + eps.shift(9) # 近四季加總\n",
    "pe_daily = (close / eps_rol)\n",
    "pe_daily = pe_daily[eps_rol > 0]"
   ]
  },
  {
   "cell_type": "markdown",
   "metadata": {},
   "source": [
    "### **其他因子**"
   ]
  },
  {
   "cell_type": "markdown",
   "metadata": {},
   "source": [
    "- ROE (季資料，取第四季)\n",
    "- 股利支付率 (只有年資料) ＝〈現金股利總額〈元〉／ 股利分配年度之稅後淨利〉x 100\n",
    "- 董監持股 (沒有每年的資料，缺值採向前補值)\n",
    "- 上市上櫃滿兩年"
   ]
  },
  {
   "cell_type": "code",
   "execution_count": 15,
   "metadata": {},
   "outputs": [],
   "source": [
    "roe = data.get('annual_report:ROE')"
   ]
  },
  {
   "cell_type": "code",
   "execution_count": 16,
   "metadata": {},
   "outputs": [],
   "source": [
    "dpr = data.get('annual_report_fundamentals:dividendPayoutRatio')"
   ]
  },
  {
   "cell_type": "code",
   "execution_count": 17,
   "metadata": {},
   "outputs": [],
   "source": [
    "income_bf_tax = data.get('annual_report_fundamentals:incomeBeforeTax')"
   ]
  },
  {
   "cell_type": "code",
   "execution_count": 18,
   "metadata": {},
   "outputs": [
    {
     "data": {
      "text/html": [
       "<div>\n",
       "<style scoped>\n",
       "    .dataframe tbody tr th:only-of-type {\n",
       "        vertical-align: middle;\n",
       "    }\n",
       "\n",
       "    .dataframe tbody tr th {\n",
       "        vertical-align: top;\n",
       "    }\n",
       "\n",
       "    .dataframe thead th {\n",
       "        text-align: right;\n",
       "    }\n",
       "</style>\n",
       "<table border=\"1\" class=\"dataframe\">\n",
       "  <thead>\n",
       "    <tr style=\"text-align: right;\">\n",
       "      <th></th>\n",
       "      <th>company_symbol</th>\n",
       "      <th>name</th>\n",
       "      <th>ipo_date</th>\n",
       "      <th>industry</th>\n",
       "    </tr>\n",
       "  </thead>\n",
       "  <tbody>\n",
       "    <tr>\n",
       "      <th>0</th>\n",
       "      <td>A</td>\n",
       "      <td>Agilent Technologies, Inc.</td>\n",
       "      <td>1999-11-18</td>\n",
       "      <td>Medical - Diagnostics &amp; Research</td>\n",
       "    </tr>\n",
       "    <tr>\n",
       "      <th>1</th>\n",
       "      <td>AA</td>\n",
       "      <td>Alcoa Corporation</td>\n",
       "      <td>2016-11-01</td>\n",
       "      <td>Aluminum</td>\n",
       "    </tr>\n",
       "    <tr>\n",
       "      <th>2</th>\n",
       "      <td>AAL</td>\n",
       "      <td>American Airlines Group Inc.</td>\n",
       "      <td>2005-09-27</td>\n",
       "      <td>Airlines, Airports &amp; Air Services</td>\n",
       "    </tr>\n",
       "    <tr>\n",
       "      <th>3</th>\n",
       "      <td>AAN</td>\n",
       "      <td>The Aaron's Company, Inc.</td>\n",
       "      <td>2020-11-25</td>\n",
       "      <td>Rental &amp; Leasing Services</td>\n",
       "    </tr>\n",
       "    <tr>\n",
       "      <th>4</th>\n",
       "      <td>AAON</td>\n",
       "      <td>AAON, Inc.</td>\n",
       "      <td>1992-12-16</td>\n",
       "      <td>Construction</td>\n",
       "    </tr>\n",
       "    <tr>\n",
       "      <th>...</th>\n",
       "      <td>...</td>\n",
       "      <td>...</td>\n",
       "      <td>...</td>\n",
       "      <td>...</td>\n",
       "    </tr>\n",
       "    <tr>\n",
       "      <th>2634</th>\n",
       "      <td>ZUMZ</td>\n",
       "      <td>Zumiez Inc.</td>\n",
       "      <td>2005-05-06</td>\n",
       "      <td>Apparel - Retail</td>\n",
       "    </tr>\n",
       "    <tr>\n",
       "      <th>2635</th>\n",
       "      <td>ZUO</td>\n",
       "      <td>Zuora, Inc.</td>\n",
       "      <td>2018-04-12</td>\n",
       "      <td>Software - Infrastructure</td>\n",
       "    </tr>\n",
       "    <tr>\n",
       "      <th>2636</th>\n",
       "      <td>ZWS</td>\n",
       "      <td>Zurn Elkay Water Solutions Corporation</td>\n",
       "      <td>2012-03-29</td>\n",
       "      <td>Industrial - Pollution &amp; Treatment Controls</td>\n",
       "    </tr>\n",
       "    <tr>\n",
       "      <th>2637</th>\n",
       "      <td>ZYME</td>\n",
       "      <td>Zymeworks Inc.</td>\n",
       "      <td>2017-04-28</td>\n",
       "      <td>Biotechnology</td>\n",
       "    </tr>\n",
       "    <tr>\n",
       "      <th>2638</th>\n",
       "      <td>ZYXI</td>\n",
       "      <td>Zynex, Inc.</td>\n",
       "      <td>2004-02-25</td>\n",
       "      <td>Medical - Distribution</td>\n",
       "    </tr>\n",
       "  </tbody>\n",
       "</table>\n",
       "<p>2639 rows × 4 columns</p>\n",
       "</div>"
      ],
      "text/plain": [
       "     company_symbol                                    name   ipo_date  \\\n",
       "0                 A              Agilent Technologies, Inc. 1999-11-18   \n",
       "1                AA                       Alcoa Corporation 2016-11-01   \n",
       "2               AAL            American Airlines Group Inc. 2005-09-27   \n",
       "3               AAN               The Aaron's Company, Inc. 2020-11-25   \n",
       "4              AAON                              AAON, Inc. 1992-12-16   \n",
       "...             ...                                     ...        ...   \n",
       "2634           ZUMZ                             Zumiez Inc. 2005-05-06   \n",
       "2635            ZUO                             Zuora, Inc. 2018-04-12   \n",
       "2636            ZWS  Zurn Elkay Water Solutions Corporation 2012-03-29   \n",
       "2637           ZYME                          Zymeworks Inc. 2017-04-28   \n",
       "2638           ZYXI                             Zynex, Inc. 2004-02-25   \n",
       "\n",
       "                                         industry  \n",
       "0                Medical - Diagnostics & Research  \n",
       "1                                        Aluminum  \n",
       "2               Airlines, Airports & Air Services  \n",
       "3                       Rental & Leasing Services  \n",
       "4                                    Construction  \n",
       "...                                           ...  \n",
       "2634                             Apparel - Retail  \n",
       "2635                    Software - Infrastructure  \n",
       "2636  Industrial - Pollution & Treatment Controls  \n",
       "2637                                Biotechnology  \n",
       "2638                       Medical - Distribution  \n",
       "\n",
       "[2639 rows x 4 columns]"
      ]
     },
     "execution_count": 18,
     "metadata": {},
     "output_type": "execute_result"
    }
   ],
   "source": [
    "comp_profile = data.get('company_profile')\n",
    "comp_profile"
   ]
  },
  {
   "cell_type": "code",
   "execution_count": 19,
   "metadata": {},
   "outputs": [],
   "source": [
    "stock_data = {}\n",
    "\n",
    "for index, row in comp_profile.iterrows():\n",
    "    stock_code = row['company_symbol']\n",
    "    listed_date_ = row['ipo_date']\n",
    "    end_date = listed_date_ + pd.DateOffset(years=2)\n",
    "    \n",
    "    # 創建一個全為 True 的 series\n",
    "    series = pd.Series(True, index=close.index)\n",
    "    # 在上市日之前和之後兩年內設置為 False\n",
    "    series.loc[:end_date] = False\n",
    "    \n",
    "    stock_data[stock_code] = series\n",
    "\n",
    "listed_df = pd.concat(stock_data, axis=1)"
   ]
  },
  {
   "cell_type": "markdown",
   "metadata": {},
   "source": [
    "---"
   ]
  },
  {
   "cell_type": "markdown",
   "metadata": {},
   "source": [
    "## 選股條件\n",
    "- ROE 五年平均 > 15%\n",
    "- 盈再率 < 40%\n",
    "- 稅後淨利 > 五億台幣 (7500萬美元)，稅前淨利 > 7500萬美元\n",
    "- 配息 > 40%\n",
    "- 上市上櫃滿兩年\n",
    "- PE < 12買入，>30賣出"
   ]
  },
  {
   "cell_type": "markdown",
   "metadata": {},
   "source": [
    "### ROE"
   ]
  },
  {
   "cell_type": "code",
   "execution_count": 20,
   "metadata": {},
   "outputs": [],
   "source": [
    "# ROE 5年平均 > 15%\n",
    "df = roe.copy()\n",
    "# 提取index的月份\n",
    "df['month'] = df.index.month\n",
    "# 依據月份分組，對每個月份的每5年計算平均\n",
    "result = df.groupby('month', group_keys=False).apply(lambda group: group.rolling(5, min_periods=5).mean())\n",
    "# 刪除用來group的欄位\n",
    "roe_rol = result.drop(columns='month')"
   ]
  },
  {
   "cell_type": "code",
   "execution_count": 21,
   "metadata": {},
   "outputs": [],
   "source": [
    "roe_cond = (roe_rol > 0.15)[START_DATE:END_DATE]"
   ]
  },
  {
   "cell_type": "markdown",
   "metadata": {},
   "source": [
    "### 盈再率"
   ]
  },
  {
   "cell_type": "code",
   "execution_count": 22,
   "metadata": {},
   "outputs": [],
   "source": [
    "rr_cond = (rr < 0.4)[START_DATE:END_DATE]"
   ]
  },
  {
   "cell_type": "markdown",
   "metadata": {},
   "source": [
    "### 稅後淨利、稅前淨利"
   ]
  },
  {
   "cell_type": "code",
   "execution_count": 23,
   "metadata": {},
   "outputs": [],
   "source": [
    "# netprofit_cond = (netIncome > 75000000)[START_DATE:END_DATE]"
   ]
  },
  {
   "cell_type": "code",
   "execution_count": 24,
   "metadata": {},
   "outputs": [],
   "source": [
    "netprofit_cond = (income_bf_tax > 75000000)[START_DATE:END_DATE]"
   ]
  },
  {
   "cell_type": "markdown",
   "metadata": {},
   "source": [
    "### 配息率"
   ]
  },
  {
   "cell_type": "code",
   "execution_count": 25,
   "metadata": {},
   "outputs": [],
   "source": [
    "payout_ratio = dpr.copy()\n",
    "payout_ratio = payout_ratio[(netIncome > 0) & (payout_ratio > 0)]\n",
    "\n",
    "\n",
    "# 3 年至少 > 40%\n",
    "df = payout_ratio.copy()\n",
    "# 提取index的月份\n",
    "df['month'] = df.index.month\n",
    "# 依據月份分組，對每個月份的每四年進行加總\n",
    "result = df.groupby('month', group_keys=False).apply(lambda group: group.rolling(3, min_periods=3).min())\n",
    "# 刪除用來group的欄位\n",
    "payout_ratio_rol = result.drop(columns='month')"
   ]
  },
  {
   "cell_type": "code",
   "execution_count": 26,
   "metadata": {},
   "outputs": [],
   "source": [
    "payout_cond = (payout_ratio_rol >= 0.4)[START_DATE:END_DATE]"
   ]
  },
  {
   "cell_type": "markdown",
   "metadata": {},
   "source": [
    "### 本益比"
   ]
  },
  {
   "cell_type": "markdown",
   "metadata": {},
   "source": [
    "#### 每季"
   ]
  },
  {
   "cell_type": "code",
   "execution_count": 27,
   "metadata": {},
   "outputs": [],
   "source": [
    "pe_cond_entry_Q = (pe < 12)[START_DATE:END_DATE]\n",
    "pe_cond_exit_Q = (pe > 30)[START_DATE:END_DATE]"
   ]
  },
  {
   "cell_type": "markdown",
   "metadata": {},
   "source": [
    "#### 每日"
   ]
  },
  {
   "cell_type": "code",
   "execution_count": 28,
   "metadata": {},
   "outputs": [],
   "source": [
    "daily_pe_resample = pe_daily.resample('M').last()[START_DATE:END_DATE]\n",
    "\n",
    "pe_cond_entry = (daily_pe_resample < 12)\n",
    "pe_cond_exit =  (daily_pe_resample > 30)"
   ]
  },
  {
   "cell_type": "markdown",
   "metadata": {},
   "source": [
    "### 上市滿兩年"
   ]
  },
  {
   "cell_type": "code",
   "execution_count": 29,
   "metadata": {},
   "outputs": [],
   "source": [
    "listed_cond = listed_df.resample('M').last()"
   ]
  },
  {
   "cell_type": "markdown",
   "metadata": {},
   "source": [
    "---"
   ]
  },
  {
   "cell_type": "markdown",
   "metadata": {},
   "source": [
    "## 所有條件不含本益比進出場"
   ]
  },
  {
   "cell_type": "code",
   "execution_count": 30,
   "metadata": {},
   "outputs": [],
   "source": [
    "orig_cond = (rr < 0.8) & roe_cond & netprofit_cond & payout_cond & listed_cond\n",
    "orig_cond_opt = rr_cond & roe_cond & netprofit_cond & payout_cond & listed_cond"
   ]
  },
  {
   "cell_type": "markdown",
   "metadata": {},
   "source": [
    "### 盈再率 < 40%"
   ]
  },
  {
   "cell_type": "code",
   "execution_count": 31,
   "metadata": {},
   "outputs": [
    {
     "data": {
      "text/plain": [
       "{'CAGR': 0.16540875206719674,\n",
       " 'daily_sharpe': 31.07,\n",
       " 'max_drawdown': -0.3825969026381447,\n",
       " 'avg_drawdown': -0.02913321098616934,\n",
       " 'win_ratio': 0.7351598173515982,\n",
       " 'ytd': 0.12629318058762307}"
      ]
     },
     "execution_count": 31,
     "metadata": {},
     "output_type": "execute_result"
    }
   ],
   "source": [
    "rep_orig_opt = backtest.sim(orig_cond_opt, resample='M', data=data)\n",
    "rep_orig_opt.get_stats()"
   ]
  },
  {
   "cell_type": "markdown",
   "metadata": {},
   "source": [
    "### 不看配息率"
   ]
  },
  {
   "cell_type": "code",
   "execution_count": 32,
   "metadata": {},
   "outputs": [],
   "source": [
    "nodpr_cond = (rr < 0.8) & roe_cond & netprofit_cond & listed_cond\n",
    "nodpr_cond_opt = rr_cond & roe_cond & netprofit_cond & listed_cond"
   ]
  },
  {
   "cell_type": "code",
   "execution_count": 33,
   "metadata": {},
   "outputs": [
    {
     "data": {
      "text/plain": [
       "{'CAGR': 0.1859541270985383,\n",
       " 'daily_sharpe': 28.0,\n",
       " 'max_drawdown': -0.3933434017522528,\n",
       " 'avg_drawdown': -0.04034409121952658,\n",
       " 'win_ratio': 0.6962616822429907,\n",
       " 'ytd': 0.11597858574437447}"
      ]
     },
     "execution_count": 33,
     "metadata": {},
     "output_type": "execute_result"
    }
   ],
   "source": [
    "noDPRrep_opt = backtest.sim(nodpr_cond_opt, resample='M', data=data)\n",
    "noDPRrep_opt.get_stats()"
   ]
  },
  {
   "cell_type": "markdown",
   "metadata": {},
   "source": [
    "## 所有條件包含本益比進出場"
   ]
  },
  {
   "cell_type": "markdown",
   "metadata": {},
   "source": [
    "### 盈再率 < 40%"
   ]
  },
  {
   "cell_type": "code",
   "execution_count": 34,
   "metadata": {},
   "outputs": [],
   "source": [
    "opt_orig_pe = (orig_cond_opt & pe_cond_entry).hold_until((~orig_cond_opt) | pe_cond_exit)"
   ]
  },
  {
   "cell_type": "code",
   "execution_count": 35,
   "metadata": {},
   "outputs": [
    {
     "data": {
      "text/plain": [
       "{'CAGR': 0.16283132519699461,\n",
       " 'daily_sharpe': 30.68,\n",
       " 'max_drawdown': -0.39350976771098034,\n",
       " 'avg_drawdown': -0.03583305231329648,\n",
       " 'win_ratio': 0.7261146496815286,\n",
       " 'ytd': 0.11877994546373749}"
      ]
     },
     "execution_count": 35,
     "metadata": {},
     "output_type": "execute_result"
    }
   ],
   "source": [
    "opt_rep_pe = backtest.sim(opt_orig_pe, resample='M', data=data)\n",
    "opt_rep_pe.get_stats()"
   ]
  },
  {
   "cell_type": "code",
   "execution_count": 36,
   "metadata": {},
   "outputs": [
    {
     "data": {
      "application/vnd.plotly.v1+json": {
       "config": {
        "plotlyServerURL": "https://plot.ly"
       },
       "data": [
        {
         "hovertemplate": "%{x}<br>%{y:.2%}<br>EXC<extra></extra>",
         "marker": {
          "color": "#FF6692"
         },
         "name": "EXC",
         "offsetgroup": "EXC",
         "showlegend": false,
         "type": "bar",
         "x": [
          2009
         ],
         "y": [
          -0.0008104509580688148
         ]
        },
        {
         "base": 0,
         "hovertemplate": "STBA: 0.08%<extra></extra>",
         "marker": {
          "color": "#FECB52"
         },
         "name": "STBA",
         "offsetgroup": "STBA",
         "type": "bar",
         "x": [
          2009
         ],
         "y": [
          0.0007900345309614452
         ]
        },
        {
         "base": 0.0007900345309614452,
         "hovertemplate": "ADP: 0.29%<extra></extra>",
         "marker": {
          "color": "#00CC96"
         },
         "name": "ADP",
         "offsetgroup": "ADP",
         "type": "bar",
         "x": [
          2009
         ],
         "y": [
          0.0028750498698681165
         ]
        },
        {
         "base": 0.0036650844008295617,
         "hovertemplate": "SFL: 0.36%<extra></extra>",
         "marker": {
          "color": "#FF6692"
         },
         "name": "SFL",
         "offsetgroup": "SFL",
         "type": "bar",
         "x": [
          2009
         ],
         "y": [
          0.003629764065335749
         ]
        },
        {
         "base": 0.007294848466165311,
         "hovertemplate": "PCH: 0.40%<extra></extra>",
         "marker": {
          "color": "rgb(179, 179, 179)"
         },
         "name": "PCH",
         "offsetgroup": "PCH",
         "type": "bar",
         "x": [
          2009
         ],
         "y": [
          0.003977336685302623
         ]
        },
        {
         "base": 0.011272185151467934,
         "hovertemplate": "PCG: 0.43%<extra></extra>",
         "marker": {
          "color": "rgb(180, 151, 231)"
         },
         "name": "PCG",
         "offsetgroup": "PCG",
         "type": "bar",
         "x": [
          2009
         ],
         "y": [
          0.004301937905705723
         ]
        },
        {
         "base": 0.015574123057173657,
         "hovertemplate": "MKC: 0.52%<extra></extra>",
         "marker": {
          "color": "rgb(255,127,0)"
         },
         "name": "MKC",
         "offsetgroup": "MKC",
         "type": "bar",
         "x": [
          2009
         ],
         "y": [
          0.005231276650301813
         ]
        },
        {
         "base": 0.02080539970747547,
         "hovertemplate": "LLY: 0.70%<extra></extra>",
         "marker": {
          "color": "#FFA15A"
         },
         "name": "LLY",
         "offsetgroup": "LLY",
         "type": "bar",
         "x": [
          2009
         ],
         "y": [
          0.007033699059561132
         ]
        },
        {
         "base": 0.0278390987670366,
         "hovertemplate": "VFC: 0.84%<extra></extra>",
         "marker": {
          "color": "rgb(166,86,40)"
         },
         "name": "VFC",
         "offsetgroup": "VFC",
         "type": "bar",
         "x": [
          2009
         ],
         "y": [
          0.008398386946754363
         ]
        },
        {
         "base": 0.036237485713790964,
         "hovertemplate": "ABT: 0.85%<extra></extra>",
         "marker": {
          "color": "#EF553B"
         },
         "name": "ABT",
         "offsetgroup": "ABT",
         "type": "bar",
         "x": [
          2009
         ],
         "y": [
          0.008510229347071168
         ]
        },
        {
         "base": 0.04474771506086213,
         "hovertemplate": "CMA: 0.89%<extra></extra>",
         "marker": {
          "color": "rgb(139, 224, 164)"
         },
         "name": "CMA",
         "offsetgroup": "CMA",
         "type": "bar",
         "x": [
          2009
         ],
         "y": [
          0.008903484765553759
         ]
        },
        {
         "base": 0.05365119982641589,
         "hovertemplate": "SYY: 0.90%<extra></extra>",
         "marker": {
          "color": "rgb(228,26,28)"
         },
         "name": "SYY",
         "offsetgroup": "SYY",
         "type": "bar",
         "x": [
          2009
         ],
         "y": [
          0.008980480950485646
         ]
        },
        {
         "base": 0.06263168077690154,
         "hovertemplate": "CL: 0.94%<extra></extra>",
         "marker": {
          "color": "rgb(254, 136, 177)"
         },
         "name": "CL",
         "offsetgroup": "CL",
         "type": "bar",
         "x": [
          2009
         ],
         "y": [
          0.009436367008813527
         ]
        },
        {
         "base": 0.07206804778571507,
         "hovertemplate": "WM: 0.96%<extra></extra>",
         "marker": {
          "color": "rgb(248, 156, 116)"
         },
         "name": "WM",
         "offsetgroup": "WM",
         "type": "bar",
         "x": [
          2009
         ],
         "y": [
          0.009643445068433235
         ]
        },
        {
         "base": 0.0817114928541483,
         "hovertemplate": "KMB: 0.99%<extra></extra>",
         "marker": {
          "color": "rgb(166,118,29)"
         },
         "name": "KMB",
         "offsetgroup": "KMB",
         "type": "bar",
         "x": [
          2009
         ],
         "y": [
          0.009944324852653699
         ]
        },
        {
         "base": 0.091655817706802,
         "hovertemplate": "K: 1.01%<extra></extra>",
         "marker": {
          "color": "rgb(217,95,2)"
         },
         "name": "K",
         "offsetgroup": "K",
         "type": "bar",
         "x": [
          2009
         ],
         "y": [
          0.010130576065926744
         ]
        },
        {
         "base": 0.10178639377272874,
         "hovertemplate": "MO: 1.03%<extra></extra>",
         "marker": {
          "color": "rgb(166,86,40)"
         },
         "name": "MO",
         "offsetgroup": "MO",
         "type": "bar",
         "x": [
          2009
         ],
         "y": [
          0.010321187251409328
         ]
        },
        {
         "base": 0.11210758102413808,
         "hovertemplate": "GIS: 1.12%<extra></extra>",
         "marker": {
          "color": "rgb(255,255,51)"
         },
         "name": "GIS",
         "offsetgroup": "GIS",
         "type": "bar",
         "x": [
          2009
         ],
         "y": [
          0.011152968277470351
         ]
        },
        {
         "base": 0.12326054930160843,
         "hovertemplate": "CNS: 1.13%<extra></extra>",
         "marker": {
          "color": "rgb(217,95,2)"
         },
         "name": "CNS",
         "offsetgroup": "CNS",
         "type": "bar",
         "x": [
          2009
         ],
         "y": [
          0.011311804415252702
         ]
        },
        {
         "base": 0.13457235371686113,
         "hovertemplate": "VGR: 1.18%<extra></extra>",
         "marker": {
          "color": "rgb(247,129,191)"
         },
         "name": "VGR",
         "offsetgroup": "VGR",
         "type": "bar",
         "x": [
          2009
         ],
         "y": [
          0.011834331225295928
         ]
        },
        {
         "base": 0.14640668494215706,
         "hovertemplate": "GPC: 1.32%<extra></extra>",
         "marker": {
          "color": "rgb(166,86,40)"
         },
         "name": "GPC",
         "offsetgroup": "GPC",
         "type": "bar",
         "x": [
          2009
         ],
         "y": [
          0.013201869971869583
         ]
        },
        {
         "base": 0.15960855491402665,
         "hovertemplate": "KO: 1.38%<extra></extra>",
         "marker": {
          "color": "rgb(102,102,102)"
         },
         "name": "KO",
         "offsetgroup": "KO",
         "type": "bar",
         "x": [
          2009
         ],
         "y": [
          0.013776417165679108
         ]
        },
        {
         "base": 0.17338497207970577,
         "hovertemplate": "BOH: 1.55%<extra></extra>",
         "marker": {
          "color": "rgb(153,153,153)"
         },
         "name": "BOH",
         "offsetgroup": "BOH",
         "type": "bar",
         "x": [
          2009
         ],
         "y": [
          0.015487477590238096
         ]
        },
        {
         "base": 0.18887244966994388,
         "hovertemplate": "PAYX: 1.60%<extra></extra>",
         "marker": {
          "color": "rgb(201, 219, 116)"
         },
         "name": "PAYX",
         "offsetgroup": "PAYX",
         "type": "bar",
         "x": [
          2009
         ],
         "y": [
          0.015952593049910545
         ]
        },
        {
         "base": 0.2048250427198544,
         "hovertemplate": "VLY: 1.63%<extra></extra>",
         "marker": {
          "color": "rgb(102, 197, 204)"
         },
         "name": "VLY",
         "offsetgroup": "VLY",
         "type": "bar",
         "x": [
          2009
         ],
         "y": [
          0.016301278345859118
         ]
        },
        {
         "base": 0.22112632106571353,
         "hovertemplate": "BMY: 1.70%<extra></extra>",
         "marker": {
          "color": "rgb(247,129,191)"
         },
         "name": "BMY",
         "offsetgroup": "BMY",
         "type": "bar",
         "x": [
          2009
         ],
         "y": [
          0.01700130296587453
         ]
        },
        {
         "base": 0.23812762403158805,
         "hovertemplate": "MRK: 1.85%<extra></extra>",
         "marker": {
          "color": "rgb(247,129,191)"
         },
         "name": "MRK",
         "offsetgroup": "MRK",
         "type": "bar",
         "x": [
          2009
         ],
         "y": [
          0.018537237755861625
         ]
        },
        {
         "base": 0.2566648617874497,
         "hovertemplate": "MAT: 1.86%<extra></extra>",
         "marker": {
          "color": "#FF97FF"
         },
         "name": "MAT",
         "offsetgroup": "MAT",
         "type": "bar",
         "x": [
          2009
         ],
         "y": [
          0.018624657038872033
         ]
        },
        {
         "base": 0.2752895188263217,
         "hovertemplate": "MCHP: 1.90%<extra></extra>",
         "marker": {
          "color": "rgb(77,175,74)"
         },
         "name": "MCHP",
         "offsetgroup": "MCHP",
         "type": "bar",
         "x": [
          2009
         ],
         "y": [
          0.018978876569811565
         ]
        },
        {
         "base": 0.29426839539613325,
         "hovertemplate": "PPG: 1.92%<extra></extra>",
         "marker": {
          "color": "rgb(166,118,29)"
         },
         "name": "PPG",
         "offsetgroup": "PPG",
         "type": "bar",
         "x": [
          2009
         ],
         "y": [
          0.019158972124845252
         ]
        },
        {
         "base": 0.3134273675209785,
         "hovertemplate": "PKG: 1.94%<extra></extra>",
         "marker": {
          "color": "rgb(102,166,30)"
         },
         "name": "PKG",
         "offsetgroup": "PKG",
         "type": "bar",
         "x": [
          2009
         ],
         "y": [
          0.019432894868101708
         ]
        },
        {
         "base": 0.3328602623890802,
         "hovertemplate": "USB: 2.31%<extra></extra>",
         "marker": {
          "color": "rgb(255,255,51)"
         },
         "name": "USB",
         "offsetgroup": "USB",
         "type": "bar",
         "x": [
          2009
         ],
         "y": [
          0.02306476307658315
         ]
        },
        {
         "base": 0.35592502546566335,
         "hovertemplate": "AVY: 2.54%<extra></extra>",
         "marker": {
          "color": "rgb(55,126,184)"
         },
         "name": "AVY",
         "offsetgroup": "AVY",
         "type": "bar",
         "x": [
          2009
         ],
         "y": [
          0.025375963994971773
         ]
        },
        {
         "base": 0.3813009894606351,
         "hovertemplate": "PII: 2.74%<extra></extra>",
         "marker": {
          "color": "rgb(231,41,138)"
         },
         "name": "PII",
         "offsetgroup": "PII",
         "type": "bar",
         "x": [
          2009
         ],
         "y": [
          0.02743718462412632
         ]
        },
        {
         "base": 0.40873817408476143,
         "hovertemplate": "GE: 2.84%<extra></extra>",
         "marker": {
          "color": "#FECB52"
         },
         "name": "GE",
         "offsetgroup": "GE",
         "type": "bar",
         "x": [
          2009
         ],
         "y": [
          0.028428751806345444
         ]
        },
        {
         "base": 0.4371669258911069,
         "hovertemplate": "SIG: 3.10%<extra></extra>",
         "marker": {
          "color": "#B6E880"
         },
         "name": "SIG",
         "offsetgroup": "SIG",
         "type": "bar",
         "x": [
          2009
         ],
         "y": [
          0.03095747957637889
         ]
        },
        {
         "base": 0.4681244054674858,
         "hovertemplate": "NUS: 3.19%<extra></extra>",
         "marker": {
          "color": "rgb(220, 176, 242)"
         },
         "name": "NUS",
         "offsetgroup": "NUS",
         "type": "bar",
         "x": [
          2009
         ],
         "y": [
          0.03188358703714465
         ]
        },
        {
         "hovertemplate": "%{x}<br>%{y:.2%}<br>PAYX<extra></extra>",
         "marker": {
          "color": "rgb(201, 219, 116)"
         },
         "name": "PAYX",
         "offsetgroup": "PAYX",
         "showlegend": false,
         "type": "bar",
         "x": [
          2010
         ],
         "y": [
          -0.0007021665492325758
         ]
        },
        {
         "hovertemplate": "%{x}<br>%{y:.2%}<br>PFE<extra></extra>",
         "marker": {
          "color": "rgb(217,95,2)"
         },
         "name": "PFE",
         "offsetgroup": "PFE",
         "showlegend": false,
         "type": "bar",
         "x": [
          2010
         ],
         "y": [
          -0.0008870608197743602
         ]
        },
        {
         "hovertemplate": "%{x}<br>%{y:.2%}<br>CL<extra></extra>",
         "marker": {
          "color": "rgb(254, 136, 177)"
         },
         "name": "CL",
         "offsetgroup": "CL",
         "showlegend": false,
         "type": "bar",
         "x": [
          2010
         ],
         "y": [
          -0.0009936419566127907
         ]
        },
        {
         "hovertemplate": "%{x}<br>%{y:.2%}<br>BOH<extra></extra>",
         "marker": {
          "color": "rgb(153,153,153)"
         },
         "name": "BOH",
         "offsetgroup": "BOH",
         "showlegend": false,
         "type": "bar",
         "x": [
          2010
         ],
         "y": [
          -0.0012640223075045323
         ]
        },
        {
         "hovertemplate": "%{x}<br>%{y:.2%}<br>KO<extra></extra>",
         "marker": {
          "color": "rgb(102,102,102)"
         },
         "name": "KO",
         "offsetgroup": "KO",
         "showlegend": false,
         "type": "bar",
         "x": [
          2010
         ],
         "y": [
          -0.0013212582620245404
         ]
        },
        {
         "hovertemplate": "%{x}<br>%{y:.2%}<br>PCG<extra></extra>",
         "marker": {
          "color": "rgb(180, 151, 231)"
         },
         "name": "PCG",
         "offsetgroup": "PCG",
         "showlegend": false,
         "type": "bar",
         "x": [
          2010
         ],
         "y": [
          -0.0013230175169322777
         ]
        },
        {
         "hovertemplate": "%{x}<br>%{y:.2%}<br>K<extra></extra>",
         "marker": {
          "color": "rgb(217,95,2)"
         },
         "name": "K",
         "offsetgroup": "K",
         "showlegend": false,
         "type": "bar",
         "x": [
          2010
         ],
         "y": [
          -0.0018741909969823126
         ]
        },
        {
         "hovertemplate": "%{x}<br>%{y:.2%}<br>CLX<extra></extra>",
         "marker": {
          "color": "rgb(201, 219, 116)"
         },
         "name": "CLX",
         "offsetgroup": "CLX",
         "showlegend": false,
         "type": "bar",
         "x": [
          2010
         ],
         "y": [
          -0.0021215527423905736
         ]
        },
        {
         "hovertemplate": "%{x}<br>%{y:.2%}<br>ABT<extra></extra>",
         "marker": {
          "color": "#EF553B"
         },
         "name": "ABT",
         "offsetgroup": "ABT",
         "showlegend": false,
         "type": "bar",
         "x": [
          2010
         ],
         "y": [
          -0.004545663466884584
         ]
        },
        {
         "base": 0,
         "hovertemplate": "GIS: 0.02%<extra></extra>",
         "marker": {
          "color": "rgb(255,255,51)"
         },
         "name": "GIS",
         "offsetgroup": "GIS",
         "type": "bar",
         "x": [
          2010
         ],
         "y": [
          0.00015396349234669064
         ]
        },
        {
         "base": 0.00015396349234669064,
         "hovertemplate": "MRK: 0.03%<extra></extra>",
         "marker": {
          "color": "rgb(247,129,191)"
         },
         "name": "MRK",
         "offsetgroup": "MRK",
         "type": "bar",
         "x": [
          2010
         ],
         "y": [
          0.0002917381689158918
         ]
        },
        {
         "base": 0.0004457016612625824,
         "hovertemplate": "KMB: 0.05%<extra></extra>",
         "marker": {
          "color": "rgb(166,118,29)"
         },
         "name": "KMB",
         "offsetgroup": "KMB",
         "type": "bar",
         "x": [
          2010
         ],
         "y": [
          0.000491104059470115
         ]
        },
        {
         "base": 0.0009368057207326975,
         "hovertemplate": "STBA: 0.07%<extra></extra>",
         "marker": {
          "color": "#FECB52"
         },
         "name": "STBA",
         "offsetgroup": "STBA",
         "type": "bar",
         "x": [
          2010
         ],
         "y": [
          0.0006699395446555155
         ]
        },
        {
         "base": 0.0016067452653882128,
         "hovertemplate": "PKG: 0.10%<extra></extra>",
         "marker": {
          "color": "rgb(102,166,30)"
         },
         "name": "PKG",
         "offsetgroup": "PKG",
         "type": "bar",
         "x": [
          2010
         ],
         "y": [
          0.0009919999108521918
         ]
        },
        {
         "base": 0.0025987451762404046,
         "hovertemplate": "SYY: 0.12%<extra></extra>",
         "marker": {
          "color": "rgb(228,26,28)"
         },
         "name": "SYY",
         "offsetgroup": "SYY",
         "type": "bar",
         "x": [
          2010
         ],
         "y": [
          0.001198624838552141
         ]
        },
        {
         "base": 0.0037973700147925457,
         "hovertemplate": "NUS: 0.15%<extra></extra>",
         "marker": {
          "color": "rgb(220, 176, 242)"
         },
         "name": "NUS",
         "offsetgroup": "NUS",
         "type": "bar",
         "x": [
          2010
         ],
         "y": [
          0.0014892047649865923
         ]
        },
        {
         "base": 0.005286574779779138,
         "hovertemplate": "WM: 0.17%<extra></extra>",
         "marker": {
          "color": "rgb(248, 156, 116)"
         },
         "name": "WM",
         "offsetgroup": "WM",
         "type": "bar",
         "x": [
          2010
         ],
         "y": [
          0.0016670387242678762
         ]
        },
        {
         "base": 0.006953613504047013,
         "hovertemplate": "ADP: 0.23%<extra></extra>",
         "marker": {
          "color": "#00CC96"
         },
         "name": "ADP",
         "offsetgroup": "ADP",
         "type": "bar",
         "x": [
          2010
         ],
         "y": [
          0.002282155178357922
         ]
        },
        {
         "base": 0.009235768682404935,
         "hovertemplate": "AVY: 0.24%<extra></extra>",
         "marker": {
          "color": "rgb(55,126,184)"
         },
         "name": "AVY",
         "offsetgroup": "AVY",
         "type": "bar",
         "x": [
          2010
         ],
         "y": [
          0.002380408573725633
         ]
        },
        {
         "base": 0.011616177256130568,
         "hovertemplate": "BMY: 0.24%<extra></extra>",
         "marker": {
          "color": "rgb(247,129,191)"
         },
         "name": "BMY",
         "offsetgroup": "BMY",
         "type": "bar",
         "x": [
          2010
         ],
         "y": [
          0.002398352371066897
         ]
        },
        {
         "base": 0.014014529627197465,
         "hovertemplate": "VLY: 0.36%<extra></extra>",
         "marker": {
          "color": "rgb(102, 197, 204)"
         },
         "name": "VLY",
         "offsetgroup": "VLY",
         "type": "bar",
         "x": [
          2010
         ],
         "y": [
          0.003556223299552941
         ]
        },
        {
         "base": 0.017570752926750408,
         "hovertemplate": "PM: 0.37%<extra></extra>",
         "marker": {
          "color": "rgb(230,171,2)"
         },
         "name": "PM",
         "offsetgroup": "PM",
         "type": "bar",
         "x": [
          2010
         ],
         "y": [
          0.003738307587865454
         ]
        },
        {
         "base": 0.02130906051461586,
         "hovertemplate": "MCD: 0.39%<extra></extra>",
         "marker": {
          "color": "rgb(55,126,184)"
         },
         "name": "MCD",
         "offsetgroup": "MCD",
         "type": "bar",
         "x": [
          2010
         ],
         "y": [
          0.0039284298468100325
         ]
        },
        {
         "base": 0.025237490361425894,
         "hovertemplate": "USB: 0.41%<extra></extra>",
         "marker": {
          "color": "rgb(255,255,51)"
         },
         "name": "USB",
         "offsetgroup": "USB",
         "type": "bar",
         "x": [
          2010
         ],
         "y": [
          0.00407404304836461
         ]
        },
        {
         "base": 0.029311533409790504,
         "hovertemplate": "RYN: 0.44%<extra></extra>",
         "marker": {
          "color": "#00CC96"
         },
         "name": "RYN",
         "offsetgroup": "RYN",
         "type": "bar",
         "x": [
          2010
         ],
         "y": [
          0.004424476810705281
         ]
        },
        {
         "base": 0.033736010220495785,
         "hovertemplate": "VFC: 0.55%<extra></extra>",
         "marker": {
          "color": "rgb(166,86,40)"
         },
         "name": "VFC",
         "offsetgroup": "VFC",
         "type": "bar",
         "x": [
          2010
         ],
         "y": [
          0.005466253990223398
         ]
        },
        {
         "base": 0.039202264210719186,
         "hovertemplate": "MCHP: 0.62%<extra></extra>",
         "marker": {
          "color": "rgb(77,175,74)"
         },
         "name": "MCHP",
         "offsetgroup": "MCHP",
         "type": "bar",
         "x": [
          2010
         ],
         "y": [
          0.006220230924677907
         ]
        },
        {
         "base": 0.04542249513539709,
         "hovertemplate": "GE: 0.63%<extra></extra>",
         "marker": {
          "color": "#FECB52"
         },
         "name": "GE",
         "offsetgroup": "GE",
         "type": "bar",
         "x": [
          2010
         ],
         "y": [
          0.006262637834436681
         ]
        },
        {
         "base": 0.05168513296983377,
         "hovertemplate": "MAT: 0.68%<extra></extra>",
         "marker": {
          "color": "#FF97FF"
         },
         "name": "MAT",
         "offsetgroup": "MAT",
         "type": "bar",
         "x": [
          2010
         ],
         "y": [
          0.006831503524744674
         ]
        },
        {
         "base": 0.058516636494578445,
         "hovertemplate": "GPC: 1.01%<extra></extra>",
         "marker": {
          "color": "rgb(166,86,40)"
         },
         "name": "GPC",
         "offsetgroup": "GPC",
         "type": "bar",
         "x": [
          2010
         ],
         "y": [
          0.01008774090568161
         ]
        },
        {
         "base": 0.06860437740026006,
         "hovertemplate": "MKC: 1.02%<extra></extra>",
         "marker": {
          "color": "rgb(255,127,0)"
         },
         "name": "MKC",
         "offsetgroup": "MKC",
         "type": "bar",
         "x": [
          2010
         ],
         "y": [
          0.010224326597126653
         ]
        },
        {
         "base": 0.0788287039973867,
         "hovertemplate": "MO: 1.03%<extra></extra>",
         "marker": {
          "color": "rgb(166,86,40)"
         },
         "name": "MO",
         "offsetgroup": "MO",
         "type": "bar",
         "x": [
          2010
         ],
         "y": [
          0.010320684137416132
         ]
        },
        {
         "base": 0.08914938813480283,
         "hovertemplate": "PII: 2.09%<extra></extra>",
         "marker": {
          "color": "rgb(231,41,138)"
         },
         "name": "PII",
         "offsetgroup": "PII",
         "type": "bar",
         "x": [
          2010
         ],
         "y": [
          0.020858358726545206
         ]
        },
        {
         "base": 0.11000774686134804,
         "hovertemplate": "SCCO: 2.11%<extra></extra>",
         "marker": {
          "color": "#FFA15A"
         },
         "name": "SCCO",
         "offsetgroup": "SCCO",
         "type": "bar",
         "x": [
          2010
         ],
         "y": [
          0.021056982227655736
         ]
        },
        {
         "hovertemplate": "%{x}<br>%{y:.2%}<br>USB<extra></extra>",
         "marker": {
          "color": "rgb(255,255,51)"
         },
         "name": "USB",
         "offsetgroup": "USB",
         "showlegend": false,
         "type": "bar",
         "x": [
          2011
         ],
         "y": [
          -0.0006954921419373307
         ]
        },
        {
         "hovertemplate": "%{x}<br>%{y:.2%}<br>SCCO<extra></extra>",
         "marker": {
          "color": "#FFA15A"
         },
         "name": "SCCO",
         "offsetgroup": "SCCO",
         "showlegend": false,
         "type": "bar",
         "x": [
          2011
         ],
         "y": [
          -0.00990229675313503
         ]
        },
        {
         "base": 0,
         "hovertemplate": "CPB: 0.08%<extra></extra>",
         "marker": {
          "color": "rgb(117,112,179)"
         },
         "name": "CPB",
         "offsetgroup": "CPB",
         "type": "bar",
         "x": [
          2011
         ],
         "y": [
          0.0008481582773381561
         ]
        },
        {
         "base": 0.0008481582773381561,
         "hovertemplate": "MKC: 0.10%<extra></extra>",
         "marker": {
          "color": "rgb(255,127,0)"
         },
         "name": "MKC",
         "offsetgroup": "MKC",
         "type": "bar",
         "x": [
          2011
         ],
         "y": [
          0.001023554781183609
         ]
        },
        {
         "base": 0.0018717130585217652,
         "hovertemplate": "WTW: 0.13%<extra></extra>",
         "marker": {
          "color": "rgb(135, 197, 95)"
         },
         "name": "WTW",
         "offsetgroup": "WTW",
         "type": "bar",
         "x": [
          2011
         ],
         "y": [
          0.0012791530970536267
         ]
        },
        {
         "base": 0.003150866155575392,
         "hovertemplate": "WM: 0.15%<extra></extra>",
         "marker": {
          "color": "rgb(248, 156, 116)"
         },
         "name": "WM",
         "offsetgroup": "WM",
         "type": "bar",
         "x": [
          2011
         ],
         "y": [
          0.0015383057701956028
         ]
        },
        {
         "base": 0.004689171925770995,
         "hovertemplate": "BKE: 0.18%<extra></extra>",
         "marker": {
          "color": "rgb(166,86,40)"
         },
         "name": "BKE",
         "offsetgroup": "BKE",
         "type": "bar",
         "x": [
          2011
         ],
         "y": [
          0.0018327019717297509
         ]
        },
        {
         "base": 0.0065218738975007465,
         "hovertemplate": "PAYX: 0.26%<extra></extra>",
         "marker": {
          "color": "rgb(201, 219, 116)"
         },
         "name": "PAYX",
         "offsetgroup": "PAYX",
         "type": "bar",
         "x": [
          2011
         ],
         "y": [
          0.0026270014809359264
         ]
        },
        {
         "base": 0.009148875378436673,
         "hovertemplate": "PEP: 0.40%<extra></extra>",
         "marker": {
          "color": "rgb(27,158,119)"
         },
         "name": "PEP",
         "offsetgroup": "PEP",
         "type": "bar",
         "x": [
          2011
         ],
         "y": [
          0.003980354362216012
         ]
        },
        {
         "base": 0.013129229740652684,
         "hovertemplate": "SYY: 0.40%<extra></extra>",
         "marker": {
          "color": "rgb(228,26,28)"
         },
         "name": "SYY",
         "offsetgroup": "SYY",
         "type": "bar",
         "x": [
          2011
         ],
         "y": [
          0.0040392232539444885
         ]
        },
        {
         "base": 0.017168452994597173,
         "hovertemplate": "GE: 0.43%<extra></extra>",
         "marker": {
          "color": "#FECB52"
         },
         "name": "GE",
         "offsetgroup": "GE",
         "type": "bar",
         "x": [
          2011
         ],
         "y": [
          0.004340905813612036
         ]
        },
        {
         "base": 0.021509358808209207,
         "hovertemplate": "PFE: 0.44%<extra></extra>",
         "marker": {
          "color": "rgb(217,95,2)"
         },
         "name": "PFE",
         "offsetgroup": "PFE",
         "type": "bar",
         "x": [
          2011
         ],
         "y": [
          0.00437280510796212
         ]
        },
        {
         "base": 0.025882163916171326,
         "hovertemplate": "CLX: 0.44%<extra></extra>",
         "marker": {
          "color": "rgb(201, 219, 116)"
         },
         "name": "CLX",
         "offsetgroup": "CLX",
         "type": "bar",
         "x": [
          2011
         ],
         "y": [
          0.004416621098559882
         ]
        },
        {
         "base": 0.030298785014731208,
         "hovertemplate": "K: 0.44%<extra></extra>",
         "marker": {
          "color": "rgb(217,95,2)"
         },
         "name": "K",
         "offsetgroup": "K",
         "type": "bar",
         "x": [
          2011
         ],
         "y": [
          0.004435131824351405
         ]
        },
        {
         "base": 0.03473391683908261,
         "hovertemplate": "PCAR: 0.59%<extra></extra>",
         "marker": {
          "color": "rgb(139, 224, 164)"
         },
         "name": "PCAR",
         "offsetgroup": "PCAR",
         "type": "bar",
         "x": [
          2011
         ],
         "y": [
          0.005850746513187919
         ]
        },
        {
         "base": 0.04058466335227053,
         "hovertemplate": "UPS: 0.60%<extra></extra>",
         "marker": {
          "color": "rgb(255,127,0)"
         },
         "name": "UPS",
         "offsetgroup": "UPS",
         "type": "bar",
         "x": [
          2011
         ],
         "y": [
          0.0060186291526355155
         ]
        },
        {
         "base": 0.046603292504906045,
         "hovertemplate": "MAT: 0.60%<extra></extra>",
         "marker": {
          "color": "#FF97FF"
         },
         "name": "MAT",
         "offsetgroup": "MAT",
         "type": "bar",
         "x": [
          2011
         ],
         "y": [
          0.006030770628275622
         ]
        },
        {
         "base": 0.05263406313318167,
         "hovertemplate": "PII: 0.63%<extra></extra>",
         "marker": {
          "color": "rgb(231,41,138)"
         },
         "name": "PII",
         "offsetgroup": "PII",
         "type": "bar",
         "x": [
          2011
         ],
         "y": [
          0.006335775643033986
         ]
        },
        {
         "base": 0.05896983877621566,
         "hovertemplate": "BBWI: 0.76%<extra></extra>",
         "marker": {
          "color": "rgb(152,78,163)"
         },
         "name": "BBWI",
         "offsetgroup": "BBWI",
         "type": "bar",
         "x": [
          2011
         ],
         "y": [
          0.007636038522063067
         ]
        },
        {
         "base": 0.06660587729827873,
         "hovertemplate": "TROW: 0.83%<extra></extra>",
         "marker": {
          "color": "rgb(152,78,163)"
         },
         "name": "TROW",
         "offsetgroup": "TROW",
         "type": "bar",
         "x": [
          2011
         ],
         "y": [
          0.008334194997063109
         ]
        },
        {
         "base": 0.07494007229534183,
         "hovertemplate": "ADP: 0.86%<extra></extra>",
         "marker": {
          "color": "#00CC96"
         },
         "name": "ADP",
         "offsetgroup": "ADP",
         "type": "bar",
         "x": [
          2011
         ],
         "y": [
          0.008556723752953192
         ]
        },
        {
         "base": 0.08349679604829502,
         "hovertemplate": "MCHP: 0.86%<extra></extra>",
         "marker": {
          "color": "rgb(77,175,74)"
         },
         "name": "MCHP",
         "offsetgroup": "MCHP",
         "type": "bar",
         "x": [
          2011
         ],
         "y": [
          0.008558718848474046
         ]
        },
        {
         "base": 0.09205551489676907,
         "hovertemplate": "AEO: 0.91%<extra></extra>",
         "marker": {
          "color": "#AB63FA"
         },
         "name": "AEO",
         "offsetgroup": "AEO",
         "type": "bar",
         "x": [
          2011
         ],
         "y": [
          0.00913599335512994
         ]
        },
        {
         "base": 0.101191508251899,
         "hovertemplate": "GIS: 0.92%<extra></extra>",
         "marker": {
          "color": "rgb(255,255,51)"
         },
         "name": "GIS",
         "offsetgroup": "GIS",
         "type": "bar",
         "x": [
          2011
         ],
         "y": [
          0.009184678244094904
         ]
        },
        {
         "base": 0.1103761864959939,
         "hovertemplate": "KMB: 0.99%<extra></extra>",
         "marker": {
          "color": "rgb(166,118,29)"
         },
         "name": "KMB",
         "offsetgroup": "KMB",
         "type": "bar",
         "x": [
          2011
         ],
         "y": [
          0.009912687140585283
         ]
        },
        {
         "base": 0.12028887363657918,
         "hovertemplate": "CL: 1.00%<extra></extra>",
         "marker": {
          "color": "rgb(254, 136, 177)"
         },
         "name": "CL",
         "offsetgroup": "CL",
         "type": "bar",
         "x": [
          2011
         ],
         "y": [
          0.00999799589699571
         ]
        },
        {
         "base": 0.13028686953357488,
         "hovertemplate": "GPC: 1.01%<extra></extra>",
         "marker": {
          "color": "rgb(166,86,40)"
         },
         "name": "GPC",
         "offsetgroup": "GPC",
         "type": "bar",
         "x": [
          2011
         ],
         "y": [
          0.010124420704458837
         ]
        },
        {
         "base": 0.14041129023803373,
         "hovertemplate": "ABT: 1.09%<extra></extra>",
         "marker": {
          "color": "#EF553B"
         },
         "name": "ABT",
         "offsetgroup": "ABT",
         "type": "bar",
         "x": [
          2011
         ],
         "y": [
          0.01088360183183596
         ]
        },
        {
         "base": 0.15129489206986968,
         "hovertemplate": "HD: 1.13%<extra></extra>",
         "marker": {
          "color": "rgb(102, 197, 204)"
         },
         "name": "HD",
         "offsetgroup": "HD",
         "type": "bar",
         "x": [
          2011
         ],
         "y": [
          0.011333014745615738
         ]
        },
        {
         "base": 0.16262790681548542,
         "hovertemplate": "MO: 1.25%<extra></extra>",
         "marker": {
          "color": "rgb(166,86,40)"
         },
         "name": "MO",
         "offsetgroup": "MO",
         "type": "bar",
         "x": [
          2011
         ],
         "y": [
          0.012548766289092123
         ]
        },
        {
         "base": 0.17517667310457755,
         "hovertemplate": "MCD: 1.41%<extra></extra>",
         "marker": {
          "color": "rgb(55,126,184)"
         },
         "name": "MCD",
         "offsetgroup": "MCD",
         "type": "bar",
         "x": [
          2011
         ],
         "y": [
          0.014082127248195284
         ]
        },
        {
         "base": 0.18925880035277282,
         "hovertemplate": "RYN: 1.51%<extra></extra>",
         "marker": {
          "color": "#00CC96"
         },
         "name": "RYN",
         "offsetgroup": "RYN",
         "type": "bar",
         "x": [
          2011
         ],
         "y": [
          0.01506889257013896
         ]
        },
        {
         "base": 0.20432769292291178,
         "hovertemplate": "PM: 1.76%<extra></extra>",
         "marker": {
          "color": "rgb(230,171,2)"
         },
         "name": "PM",
         "offsetgroup": "PM",
         "type": "bar",
         "x": [
          2011
         ],
         "y": [
          0.01755975759146335
         ]
        },
        {
         "base": 0.22188745051437514,
         "hovertemplate": "VFC: 2.07%<extra></extra>",
         "marker": {
          "color": "rgb(166,86,40)"
         },
         "name": "VFC",
         "offsetgroup": "VFC",
         "type": "bar",
         "x": [
          2011
         ],
         "y": [
          0.0207425657331872
         ]
        },
        {
         "hovertemplate": "%{x}<br>%{y:.2%}<br>GEF<extra></extra>",
         "marker": {
          "color": "rgb(228,26,28)"
         },
         "name": "GEF",
         "offsetgroup": "GEF",
         "showlegend": false,
         "type": "bar",
         "x": [
          2012
         ],
         "y": [
          -0.0007605337469091967
         ]
        },
        {
         "hovertemplate": "%{x}<br>%{y:.2%}<br>MCD<extra></extra>",
         "marker": {
          "color": "rgb(55,126,184)"
         },
         "name": "MCD",
         "offsetgroup": "MCD",
         "showlegend": false,
         "type": "bar",
         "x": [
          2012
         ],
         "y": [
          -0.0010485483990460235
         ]
        },
        {
         "hovertemplate": "%{x}<br>%{y:.2%}<br>MCHP<extra></extra>",
         "marker": {
          "color": "rgb(77,175,74)"
         },
         "name": "MCHP",
         "offsetgroup": "MCHP",
         "showlegend": false,
         "type": "bar",
         "x": [
          2012
         ],
         "y": [
          -0.0010839160274351257
         ]
        },
        {
         "hovertemplate": "%{x}<br>%{y:.2%}<br>NPK<extra></extra>",
         "marker": {
          "color": "rgb(246, 207, 113)"
         },
         "name": "NPK",
         "offsetgroup": "NPK",
         "showlegend": false,
         "type": "bar",
         "x": [
          2012
         ],
         "y": [
          -0.0016285637731240526
         ]
        },
        {
         "hovertemplate": "%{x}<br>%{y:.2%}<br>WTW<extra></extra>",
         "marker": {
          "color": "rgb(135, 197, 95)"
         },
         "name": "WTW",
         "offsetgroup": "WTW",
         "showlegend": false,
         "type": "bar",
         "x": [
          2012
         ],
         "y": [
          -0.0020883114822184516
         ]
        },
        {
         "base": 0,
         "hovertemplate": "SCCO: 0.07%<extra></extra>",
         "marker": {
          "color": "#FFA15A"
         },
         "name": "SCCO",
         "offsetgroup": "SCCO",
         "type": "bar",
         "x": [
          2012
         ],
         "y": [
          0.0007046136739425773
         ]
        },
        {
         "base": 0.0007046136739425773,
         "hovertemplate": "GEF-B: 0.12%<extra></extra>",
         "marker": {
          "color": "rgb(55,126,184)"
         },
         "name": "GEF-B",
         "offsetgroup": "GEF-B",
         "type": "bar",
         "x": [
          2012
         ],
         "y": [
          0.001190487290405646
         ]
        },
        {
         "base": 0.0018951009643482233,
         "hovertemplate": "GIS: 0.14%<extra></extra>",
         "marker": {
          "color": "rgb(255,255,51)"
         },
         "name": "GIS",
         "offsetgroup": "GIS",
         "type": "bar",
         "x": [
          2012
         ],
         "y": [
          0.0013702479175956447
         ]
        },
        {
         "base": 0.003265348881943868,
         "hovertemplate": "UPS: 0.14%<extra></extra>",
         "marker": {
          "color": "rgb(255,127,0)"
         },
         "name": "UPS",
         "offsetgroup": "UPS",
         "type": "bar",
         "x": [
          2012
         ],
         "y": [
          0.0013750972221451148
         ]
        },
        {
         "base": 0.004640446104088983,
         "hovertemplate": "PEP: 0.20%<extra></extra>",
         "marker": {
          "color": "rgb(27,158,119)"
         },
         "name": "PEP",
         "offsetgroup": "PEP",
         "type": "bar",
         "x": [
          2012
         ],
         "y": [
          0.0020211477336746888
         ]
        },
        {
         "base": 0.006661593837763672,
         "hovertemplate": "PAYX: 0.24%<extra></extra>",
         "marker": {
          "color": "rgb(201, 219, 116)"
         },
         "name": "PAYX",
         "offsetgroup": "PAYX",
         "type": "bar",
         "x": [
          2012
         ],
         "y": [
          0.002445466491686998
         ]
        },
        {
         "base": 0.00910706032945067,
         "hovertemplate": "WM: 0.25%<extra></extra>",
         "marker": {
          "color": "rgb(248, 156, 116)"
         },
         "name": "WM",
         "offsetgroup": "WM",
         "type": "bar",
         "x": [
          2012
         ],
         "y": [
          0.002482606401931105
         ]
        },
        {
         "base": 0.011589666731381775,
         "hovertemplate": "ADP: 0.27%<extra></extra>",
         "marker": {
          "color": "#00CC96"
         },
         "name": "ADP",
         "offsetgroup": "ADP",
         "type": "bar",
         "x": [
          2012
         ],
         "y": [
          0.002697239670709739
         ]
        },
        {
         "base": 0.014286906402091515,
         "hovertemplate": "PM: 0.28%<extra></extra>",
         "marker": {
          "color": "rgb(230,171,2)"
         },
         "name": "PM",
         "offsetgroup": "PM",
         "type": "bar",
         "x": [
          2012
         ],
         "y": [
          0.0027626929711590405
         ]
        },
        {
         "base": 0.017049599373250554,
         "hovertemplate": "GPC: 0.30%<extra></extra>",
         "marker": {
          "color": "rgb(166,86,40)"
         },
         "name": "GPC",
         "offsetgroup": "GPC",
         "type": "bar",
         "x": [
          2012
         ],
         "y": [
          0.002971924337104365
         ]
        },
        {
         "base": 0.02002152371035492,
         "hovertemplate": "SYY: 0.31%<extra></extra>",
         "marker": {
          "color": "rgb(228,26,28)"
         },
         "name": "SYY",
         "offsetgroup": "SYY",
         "type": "bar",
         "x": [
          2012
         ],
         "y": [
          0.0030975532141569568
         ]
        },
        {
         "base": 0.023119076924511876,
         "hovertemplate": "HI: 0.32%<extra></extra>",
         "marker": {
          "color": "rgb(246, 207, 113)"
         },
         "name": "HI",
         "offsetgroup": "HI",
         "type": "bar",
         "x": [
          2012
         ],
         "y": [
          0.0032073840988650123
         ]
        },
        {
         "base": 0.026326461023376886,
         "hovertemplate": "VFC: 0.40%<extra></extra>",
         "marker": {
          "color": "rgb(166,86,40)"
         },
         "name": "VFC",
         "offsetgroup": "VFC",
         "type": "bar",
         "x": [
          2012
         ],
         "y": [
          0.004044003516612882
         ]
        },
        {
         "base": 0.030370464539989768,
         "hovertemplate": "CPB: 0.42%<extra></extra>",
         "marker": {
          "color": "rgb(117,112,179)"
         },
         "name": "CPB",
         "offsetgroup": "CPB",
         "type": "bar",
         "x": [
          2012
         ],
         "y": [
          0.004242021690926915
         ]
        },
        {
         "base": 0.034612486230916686,
         "hovertemplate": "MO: 0.43%<extra></extra>",
         "marker": {
          "color": "rgb(166,86,40)"
         },
         "name": "MO",
         "offsetgroup": "MO",
         "type": "bar",
         "x": [
          2012
         ],
         "y": [
          0.004318310212304263
         ]
        },
        {
         "base": 0.03893079644322095,
         "hovertemplate": "CAG: 0.43%<extra></extra>",
         "marker": {
          "color": "rgb(248, 156, 116)"
         },
         "name": "CAG",
         "offsetgroup": "CAG",
         "type": "bar",
         "x": [
          2012
         ],
         "y": [
          0.004347230715687704
         ]
        },
        {
         "base": 0.043278027158908654,
         "hovertemplate": "K: 0.44%<extra></extra>",
         "marker": {
          "color": "rgb(217,95,2)"
         },
         "name": "K",
         "offsetgroup": "K",
         "type": "bar",
         "x": [
          2012
         ],
         "y": [
          0.00437205071239675
         ]
        },
        {
         "base": 0.0476500778713054,
         "hovertemplate": "HRB: 0.45%<extra></extra>",
         "marker": {
          "color": "rgb(135, 197, 95)"
         },
         "name": "HRB",
         "offsetgroup": "HRB",
         "type": "bar",
         "x": [
          2012
         ],
         "y": [
          0.00451213298688058
         ]
        },
        {
         "base": 0.05216221085818598,
         "hovertemplate": "CL: 0.55%<extra></extra>",
         "marker": {
          "color": "rgb(254, 136, 177)"
         },
         "name": "CL",
         "offsetgroup": "CL",
         "type": "bar",
         "x": [
          2012
         ],
         "y": [
          0.00551370369830426
         ]
        },
        {
         "base": 0.05767591455649024,
         "hovertemplate": "KMB: 0.59%<extra></extra>",
         "marker": {
          "color": "rgb(166,118,29)"
         },
         "name": "KMB",
         "offsetgroup": "KMB",
         "type": "bar",
         "x": [
          2012
         ],
         "y": [
          0.005870252050393693
         ]
        },
        {
         "base": 0.06354616660688393,
         "hovertemplate": "TROW: 0.61%<extra></extra>",
         "marker": {
          "color": "rgb(152,78,163)"
         },
         "name": "TROW",
         "offsetgroup": "TROW",
         "type": "bar",
         "x": [
          2012
         ],
         "y": [
          0.006111840174581785
         ]
        },
        {
         "base": 0.06965800678146572,
         "hovertemplate": "ABT: 0.63%<extra></extra>",
         "marker": {
          "color": "#EF553B"
         },
         "name": "ABT",
         "offsetgroup": "ABT",
         "type": "bar",
         "x": [
          2012
         ],
         "y": [
          0.006250138977790766
         ]
        },
        {
         "base": 0.07590814575925649,
         "hovertemplate": "AEO: 0.63%<extra></extra>",
         "marker": {
          "color": "#AB63FA"
         },
         "name": "AEO",
         "offsetgroup": "AEO",
         "type": "bar",
         "x": [
          2012
         ],
         "y": [
          0.00632208343753515
         ]
        },
        {
         "base": 0.08223022919679164,
         "hovertemplate": "RYN: 0.65%<extra></extra>",
         "marker": {
          "color": "#00CC96"
         },
         "name": "RYN",
         "offsetgroup": "RYN",
         "type": "bar",
         "x": [
          2012
         ],
         "y": [
          0.00652126590273601
         ]
        },
        {
         "base": 0.08875149509952765,
         "hovertemplate": "PCAR: 0.67%<extra></extra>",
         "marker": {
          "color": "rgb(139, 224, 164)"
         },
         "name": "PCAR",
         "offsetgroup": "PCAR",
         "type": "bar",
         "x": [
          2012
         ],
         "y": [
          0.006658057640104315
         ]
        },
        {
         "base": 0.09540955273963196,
         "hovertemplate": "BKE: 0.75%<extra></extra>",
         "marker": {
          "color": "rgb(166,86,40)"
         },
         "name": "BKE",
         "offsetgroup": "BKE",
         "type": "bar",
         "x": [
          2012
         ],
         "y": [
          0.007492151744402061
         ]
        },
        {
         "base": 0.10290170448403402,
         "hovertemplate": "LLY: 0.78%<extra></extra>",
         "marker": {
          "color": "#FFA15A"
         },
         "name": "LLY",
         "offsetgroup": "LLY",
         "type": "bar",
         "x": [
          2012
         ],
         "y": [
          0.007811345838931382
         ]
        },
        {
         "base": 0.1107130503229654,
         "hovertemplate": "EMR: 0.83%<extra></extra>",
         "marker": {
          "color": "#AB63FA"
         },
         "name": "EMR",
         "offsetgroup": "EMR",
         "type": "bar",
         "x": [
          2012
         ],
         "y": [
          0.008285045059280818
         ]
        },
        {
         "base": 0.11899809538224622,
         "hovertemplate": "MAT: 1.12%<extra></extra>",
         "marker": {
          "color": "#FF97FF"
         },
         "name": "MAT",
         "offsetgroup": "MAT",
         "type": "bar",
         "x": [
          2012
         ],
         "y": [
          0.01121461695611723
         ]
        },
        {
         "base": 0.13021271233836346,
         "hovertemplate": "BBWI: 1.19%<extra></extra>",
         "marker": {
          "color": "rgb(152,78,163)"
         },
         "name": "BBWI",
         "offsetgroup": "BBWI",
         "type": "bar",
         "x": [
          2012
         ],
         "y": [
          0.011919702515141472
         ]
        },
        {
         "base": 0.14213241485350492,
         "hovertemplate": "HD: 1.43%<extra></extra>",
         "marker": {
          "color": "rgb(102, 197, 204)"
         },
         "name": "HD",
         "offsetgroup": "HD",
         "type": "bar",
         "x": [
          2012
         ],
         "y": [
          0.014314303409933428
         ]
        },
        {
         "hovertemplate": "%{x}<br>%{y:.2%}<br>RYN<extra></extra>",
         "marker": {
          "color": "#00CC96"
         },
         "name": "RYN",
         "offsetgroup": "RYN",
         "showlegend": false,
         "type": "bar",
         "x": [
          2013
         ],
         "y": [
          -0.006060269528365297
         ]
        },
        {
         "base": 0,
         "hovertemplate": "SFL: 0.02%<extra></extra>",
         "marker": {
          "color": "#FF6692"
         },
         "name": "SFL",
         "offsetgroup": "SFL",
         "type": "bar",
         "x": [
          2013
         ],
         "y": [
          0.00015196857848805056
         ]
        },
        {
         "base": 0.00015196857848805056,
         "hovertemplate": "PM: 0.03%<extra></extra>",
         "marker": {
          "color": "rgb(230,171,2)"
         },
         "name": "PM",
         "offsetgroup": "PM",
         "type": "bar",
         "x": [
          2013
         ],
         "y": [
          0.00033082147923416366
         ]
        },
        {
         "base": 0.00048279005772221425,
         "hovertemplate": "GEF: 0.04%<extra></extra>",
         "marker": {
          "color": "rgb(228,26,28)"
         },
         "name": "GEF",
         "offsetgroup": "GEF",
         "type": "bar",
         "x": [
          2013
         ],
         "y": [
          0.0003836264100862685
         ]
        },
        {
         "base": 0.0008664164678084828,
         "hovertemplate": "GEF-B: 0.05%<extra></extra>",
         "marker": {
          "color": "rgb(55,126,184)"
         },
         "name": "GEF-B",
         "offsetgroup": "GEF-B",
         "type": "bar",
         "x": [
          2013
         ],
         "y": [
          0.0005262450734503862
         ]
        },
        {
         "base": 0.001392661541258869,
         "hovertemplate": "CHRW: 0.07%<extra></extra>",
         "marker": {
          "color": "rgb(158, 185, 243)"
         },
         "name": "CHRW",
         "offsetgroup": "CHRW",
         "type": "bar",
         "x": [
          2013
         ],
         "y": [
          0.0007190500839210235
         ]
        },
        {
         "base": 0.0021117116251798927,
         "hovertemplate": "LLY: 0.10%<extra></extra>",
         "marker": {
          "color": "#FFA15A"
         },
         "name": "LLY",
         "offsetgroup": "LLY",
         "type": "bar",
         "x": [
          2013
         ],
         "y": [
          0.0009680506538558328
         ]
        },
        {
         "base": 0.0030797622790357257,
         "hovertemplate": "PG: 0.15%<extra></extra>",
         "marker": {
          "color": "rgb(117,112,179)"
         },
         "name": "PG",
         "offsetgroup": "PG",
         "type": "bar",
         "x": [
          2013
         ],
         "y": [
          0.0014541030616928808
         ]
        },
        {
         "base": 0.0045338653407286066,
         "hovertemplate": "MCHP: 0.20%<extra></extra>",
         "marker": {
          "color": "rgb(77,175,74)"
         },
         "name": "MCHP",
         "offsetgroup": "MCHP",
         "type": "bar",
         "x": [
          2013
         ],
         "y": [
          0.00195421842664855
         ]
        },
        {
         "base": 0.006488083767377157,
         "hovertemplate": "UPS: 0.26%<extra></extra>",
         "marker": {
          "color": "rgb(255,127,0)"
         },
         "name": "UPS",
         "offsetgroup": "UPS",
         "type": "bar",
         "x": [
          2013
         ],
         "y": [
          0.00259760073537573
         ]
        },
        {
         "base": 0.009085684502752888,
         "hovertemplate": "MCD: 0.28%<extra></extra>",
         "marker": {
          "color": "rgb(55,126,184)"
         },
         "name": "MCD",
         "offsetgroup": "MCD",
         "type": "bar",
         "x": [
          2013
         ],
         "y": [
          0.0028424144754256356
         ]
        },
        {
         "base": 0.011928098978178524,
         "hovertemplate": "NPK: 0.38%<extra></extra>",
         "marker": {
          "color": "rgb(246, 207, 113)"
         },
         "name": "NPK",
         "offsetgroup": "NPK",
         "type": "bar",
         "x": [
          2013
         ],
         "y": [
          0.0038016879821018545
         ]
        },
        {
         "base": 0.01572978696028038,
         "hovertemplate": "K: 0.43%<extra></extra>",
         "marker": {
          "color": "rgb(217,95,2)"
         },
         "name": "K",
         "offsetgroup": "K",
         "type": "bar",
         "x": [
          2013
         ],
         "y": [
          0.004295634894227362
         ]
        },
        {
         "base": 0.02002542185450774,
         "hovertemplate": "CAG: 0.44%<extra></extra>",
         "marker": {
          "color": "rgb(248, 156, 116)"
         },
         "name": "CAG",
         "offsetgroup": "CAG",
         "type": "bar",
         "x": [
          2013
         ],
         "y": [
          0.004387910166656073
         ]
        },
        {
         "base": 0.024413332021163813,
         "hovertemplate": "SYY: 0.46%<extra></extra>",
         "marker": {
          "color": "rgb(228,26,28)"
         },
         "name": "SYY",
         "offsetgroup": "SYY",
         "type": "bar",
         "x": [
          2013
         ],
         "y": [
          0.004559947536630237
         ]
        },
        {
         "base": 0.02897327955779405,
         "hovertemplate": "WTW: 0.48%<extra></extra>",
         "marker": {
          "color": "rgb(135, 197, 95)"
         },
         "name": "WTW",
         "offsetgroup": "WTW",
         "type": "bar",
         "x": [
          2013
         ],
         "y": [
          0.004781741504395669
         ]
        },
        {
         "base": 0.03375502106218972,
         "hovertemplate": "CPB: 0.56%<extra></extra>",
         "marker": {
          "color": "rgb(117,112,179)"
         },
         "name": "CPB",
         "offsetgroup": "CPB",
         "type": "bar",
         "x": [
          2013
         ],
         "y": [
          0.005580211450416454
         ]
        },
        {
         "base": 0.03933523251260618,
         "hovertemplate": "WM: 0.56%<extra></extra>",
         "marker": {
          "color": "rgb(248, 156, 116)"
         },
         "name": "WM",
         "offsetgroup": "WM",
         "type": "bar",
         "x": [
          2013
         ],
         "y": [
          0.005597513987606223
         ]
        },
        {
         "base": 0.0449327465002124,
         "hovertemplate": "CL: 0.63%<extra></extra>",
         "marker": {
          "color": "rgb(254, 136, 177)"
         },
         "name": "CL",
         "offsetgroup": "CL",
         "type": "bar",
         "x": [
          2013
         ],
         "y": [
          0.006263907394976844
         ]
        },
        {
         "base": 0.051196653895189244,
         "hovertemplate": "ABT: 0.63%<extra></extra>",
         "marker": {
          "color": "#EF553B"
         },
         "name": "ABT",
         "offsetgroup": "ABT",
         "type": "bar",
         "x": [
          2013
         ],
         "y": [
          0.00629543243597118
         ]
        },
        {
         "base": 0.05749208633116042,
         "hovertemplate": "MO: 0.63%<extra></extra>",
         "marker": {
          "color": "rgb(166,86,40)"
         },
         "name": "MO",
         "offsetgroup": "MO",
         "type": "bar",
         "x": [
          2013
         ],
         "y": [
          0.0063170878192158435
         ]
        },
        {
         "base": 0.06380917415037626,
         "hovertemplate": "PEP: 0.65%<extra></extra>",
         "marker": {
          "color": "rgb(27,158,119)"
         },
         "name": "PEP",
         "offsetgroup": "PEP",
         "type": "bar",
         "x": [
          2013
         ],
         "y": [
          0.0065410554603397624
         ]
        },
        {
         "base": 0.07035022961071602,
         "hovertemplate": "BKE: 0.72%<extra></extra>",
         "marker": {
          "color": "rgb(166,86,40)"
         },
         "name": "BKE",
         "offsetgroup": "BKE",
         "type": "bar",
         "x": [
          2013
         ],
         "y": [
          0.0072196856022898334
         ]
        },
        {
         "base": 0.07756991521300585,
         "hovertemplate": "TROW: 0.73%<extra></extra>",
         "marker": {
          "color": "rgb(152,78,163)"
         },
         "name": "TROW",
         "offsetgroup": "TROW",
         "type": "bar",
         "x": [
          2013
         ],
         "y": [
          0.007284517094823094
         ]
        },
        {
         "base": 0.08485443230782895,
         "hovertemplate": "GIS: 0.75%<extra></extra>",
         "marker": {
          "color": "rgb(255,255,51)"
         },
         "name": "GIS",
         "offsetgroup": "GIS",
         "type": "bar",
         "x": [
          2013
         ],
         "y": [
          0.007507204059751903
         ]
        },
        {
         "base": 0.09236163636758085,
         "hovertemplate": "HD: 0.76%<extra></extra>",
         "marker": {
          "color": "rgb(102, 197, 204)"
         },
         "name": "HD",
         "offsetgroup": "HD",
         "type": "bar",
         "x": [
          2013
         ],
         "y": [
          0.007611761356200234
         ]
        },
        {
         "base": 0.09997339772378108,
         "hovertemplate": "GPC: 0.92%<extra></extra>",
         "marker": {
          "color": "rgb(166,86,40)"
         },
         "name": "GPC",
         "offsetgroup": "GPC",
         "type": "bar",
         "x": [
          2013
         ],
         "y": [
          0.009178231240199553
         ]
        },
        {
         "base": 0.10915162896398063,
         "hovertemplate": "KMB: 0.94%<extra></extra>",
         "marker": {
          "color": "rgb(166,118,29)"
         },
         "name": "KMB",
         "offsetgroup": "KMB",
         "type": "bar",
         "x": [
          2013
         ],
         "y": [
          0.009379557576761635
         ]
        },
        {
         "base": 0.11853118654074227,
         "hovertemplate": "MAT: 0.95%<extra></extra>",
         "marker": {
          "color": "#FF97FF"
         },
         "name": "MAT",
         "offsetgroup": "MAT",
         "type": "bar",
         "x": [
          2013
         ],
         "y": [
          0.009454124881606208
         ]
        },
        {
         "base": 0.12798531142234848,
         "hovertemplate": "HI: 0.98%<extra></extra>",
         "marker": {
          "color": "rgb(246, 207, 113)"
         },
         "name": "HI",
         "offsetgroup": "HI",
         "type": "bar",
         "x": [
          2013
         ],
         "y": [
          0.009754362371801752
         ]
        },
        {
         "base": 0.13773967379415022,
         "hovertemplate": "BBWI: 1.02%<extra></extra>",
         "marker": {
          "color": "rgb(152,78,163)"
         },
         "name": "BBWI",
         "offsetgroup": "BBWI",
         "type": "bar",
         "x": [
          2013
         ],
         "y": [
          0.010177044605822621
         ]
        },
        {
         "base": 0.14791671839997284,
         "hovertemplate": "EMR: 1.03%<extra></extra>",
         "marker": {
          "color": "#AB63FA"
         },
         "name": "EMR",
         "offsetgroup": "EMR",
         "type": "bar",
         "x": [
          2013
         ],
         "y": [
          0.010266680419724143
         ]
        },
        {
         "base": 0.15818339881969698,
         "hovertemplate": "ADP: 1.19%<extra></extra>",
         "marker": {
          "color": "#00CC96"
         },
         "name": "ADP",
         "offsetgroup": "ADP",
         "type": "bar",
         "x": [
          2013
         ],
         "y": [
          0.01185601686243358
         ]
        },
        {
         "base": 0.17003941568213055,
         "hovertemplate": "HRB: 1.29%<extra></extra>",
         "marker": {
          "color": "rgb(135, 197, 95)"
         },
         "name": "HRB",
         "offsetgroup": "HRB",
         "type": "bar",
         "x": [
          2013
         ],
         "y": [
          0.012868626232994262
         ]
        },
        {
         "base": 0.1829080419151248,
         "hovertemplate": "PAYX: 1.34%<extra></extra>",
         "marker": {
          "color": "rgb(201, 219, 116)"
         },
         "name": "PAYX",
         "offsetgroup": "PAYX",
         "type": "bar",
         "x": [
          2013
         ],
         "y": [
          0.013354437070787898
         ]
        },
        {
         "hovertemplate": "%{x}<br>%{y:.2%}<br>EMR<extra></extra>",
         "marker": {
          "color": "#AB63FA"
         },
         "name": "EMR",
         "offsetgroup": "EMR",
         "showlegend": false,
         "type": "bar",
         "x": [
          2014
         ],
         "y": [
          -0.0013172472278111492
         ]
        },
        {
         "hovertemplate": "%{x}<br>%{y:.2%}<br>MAT<extra></extra>",
         "marker": {
          "color": "#FF97FF"
         },
         "name": "MAT",
         "offsetgroup": "MAT",
         "showlegend": false,
         "type": "bar",
         "x": [
          2014
         ],
         "y": [
          -0.010404733407766688
         ]
        },
        {
         "base": 0,
         "hovertemplate": "CMP: 0.07%<extra></extra>",
         "marker": {
          "color": "rgb(179, 179, 179)"
         },
         "name": "CMP",
         "offsetgroup": "CMP",
         "type": "bar",
         "x": [
          2014
         ],
         "y": [
          0.0006953593910115815
         ]
        },
        {
         "base": 0.0006953593910115815,
         "hovertemplate": "PCH: 0.08%<extra></extra>",
         "marker": {
          "color": "rgb(179, 179, 179)"
         },
         "name": "PCH",
         "offsetgroup": "PCH",
         "type": "bar",
         "x": [
          2014
         ],
         "y": [
          0.0008272073168828312
         ]
        },
        {
         "base": 0.0015225667078944127,
         "hovertemplate": "RYN: 0.08%<extra></extra>",
         "marker": {
          "color": "#00CC96"
         },
         "name": "RYN",
         "offsetgroup": "RYN",
         "type": "bar",
         "x": [
          2014
         ],
         "y": [
          0.0008480751015915754
         ]
        },
        {
         "base": 0.0023706418094859884,
         "hovertemplate": "BBWI: 0.14%<extra></extra>",
         "marker": {
          "color": "rgb(152,78,163)"
         },
         "name": "BBWI",
         "offsetgroup": "BBWI",
         "type": "bar",
         "x": [
          2014
         ],
         "y": [
          0.001427390895813611
         ]
        },
        {
         "base": 0.0037980327052995993,
         "hovertemplate": "GRMN: 0.17%<extra></extra>",
         "marker": {
          "color": "rgb(247,129,191)"
         },
         "name": "GRMN",
         "offsetgroup": "GRMN",
         "type": "bar",
         "x": [
          2014
         ],
         "y": [
          0.0016502254606474346
         ]
        },
        {
         "base": 0.005448258165947034,
         "hovertemplate": "PM: 0.20%<extra></extra>",
         "marker": {
          "color": "rgb(230,171,2)"
         },
         "name": "PM",
         "offsetgroup": "PM",
         "type": "bar",
         "x": [
          2014
         ],
         "y": [
          0.0020209674456821104
         ]
        },
        {
         "base": 0.007469225611629144,
         "hovertemplate": "ABT: 0.20%<extra></extra>",
         "marker": {
          "color": "#EF553B"
         },
         "name": "ABT",
         "offsetgroup": "ABT",
         "type": "bar",
         "x": [
          2014
         ],
         "y": [
          0.0020393491369946355
         ]
        },
        {
         "base": 0.00950857474862378,
         "hovertemplate": "NLY: 0.21%<extra></extra>",
         "marker": {
          "color": "rgb(102, 197, 204)"
         },
         "name": "NLY",
         "offsetgroup": "NLY",
         "type": "bar",
         "x": [
          2014
         ],
         "y": [
          0.0021356281354666315
         ]
        },
        {
         "base": 0.011644202884090411,
         "hovertemplate": "MCD: 0.23%<extra></extra>",
         "marker": {
          "color": "rgb(55,126,184)"
         },
         "name": "MCD",
         "offsetgroup": "MCD",
         "type": "bar",
         "x": [
          2014
         ],
         "y": [
          0.002274306394713043
         ]
        },
        {
         "base": 0.013918509278803455,
         "hovertemplate": "TROW: 0.23%<extra></extra>",
         "marker": {
          "color": "rgb(152,78,163)"
         },
         "name": "TROW",
         "offsetgroup": "TROW",
         "type": "bar",
         "x": [
          2014
         ],
         "y": [
          0.0023089242475949944
         ]
        },
        {
         "base": 0.01622743352639845,
         "hovertemplate": "K: 0.24%<extra></extra>",
         "marker": {
          "color": "rgb(217,95,2)"
         },
         "name": "K",
         "offsetgroup": "K",
         "type": "bar",
         "x": [
          2014
         ],
         "y": [
          0.002370240311084536
         ]
        },
        {
         "base": 0.018597673837482984,
         "hovertemplate": "SFL: 0.47%<extra></extra>",
         "marker": {
          "color": "#FF6692"
         },
         "name": "SFL",
         "offsetgroup": "SFL",
         "type": "bar",
         "x": [
          2014
         ],
         "y": [
          0.0047459265455376915
         ]
        },
        {
         "base": 0.023343600383020677,
         "hovertemplate": "GIS: 0.50%<extra></extra>",
         "marker": {
          "color": "rgb(255,255,51)"
         },
         "name": "GIS",
         "offsetgroup": "GIS",
         "type": "bar",
         "x": [
          2014
         ],
         "y": [
          0.0049747290854489324
         ]
        },
        {
         "base": 0.02831832946846961,
         "hovertemplate": "BKE: 0.51%<extra></extra>",
         "marker": {
          "color": "rgb(166,86,40)"
         },
         "name": "BKE",
         "offsetgroup": "BKE",
         "type": "bar",
         "x": [
          2014
         ],
         "y": [
          0.005074496019215318
         ]
        },
        {
         "base": 0.03339282548768493,
         "hovertemplate": "CPB: 0.51%<extra></extra>",
         "marker": {
          "color": "rgb(117,112,179)"
         },
         "name": "CPB",
         "offsetgroup": "CPB",
         "type": "bar",
         "x": [
          2014
         ],
         "y": [
          0.005131259897686776
         ]
        },
        {
         "base": 0.038524085385371706,
         "hovertemplate": "PAYX: 0.53%<extra></extra>",
         "marker": {
          "color": "rgb(201, 219, 116)"
         },
         "name": "PAYX",
         "offsetgroup": "PAYX",
         "type": "bar",
         "x": [
          2014
         ],
         "y": [
          0.005297623209837409
         ]
        },
        {
         "base": 0.04382170859520912,
         "hovertemplate": "CL: 0.54%<extra></extra>",
         "marker": {
          "color": "rgb(254, 136, 177)"
         },
         "name": "CL",
         "offsetgroup": "CL",
         "type": "bar",
         "x": [
          2014
         ],
         "y": [
          0.005407958146673644
         ]
        },
        {
         "base": 0.04922966674188276,
         "hovertemplate": "PG: 0.68%<extra></extra>",
         "marker": {
          "color": "rgb(117,112,179)"
         },
         "name": "PG",
         "offsetgroup": "PG",
         "type": "bar",
         "x": [
          2014
         ],
         "y": [
          0.00679772575818432
         ]
        },
        {
         "base": 0.05602739250006708,
         "hovertemplate": "SYY: 0.77%<extra></extra>",
         "marker": {
          "color": "rgb(228,26,28)"
         },
         "name": "SYY",
         "offsetgroup": "SYY",
         "type": "bar",
         "x": [
          2014
         ],
         "y": [
          0.0077314077592887725
         ]
        },
        {
         "base": 0.06375880025935585,
         "hovertemplate": "KMB: 0.93%<extra></extra>",
         "marker": {
          "color": "rgb(166,118,29)"
         },
         "name": "KMB",
         "offsetgroup": "KMB",
         "type": "bar",
         "x": [
          2014
         ],
         "y": [
          0.009272564167272327
         ]
        },
        {
         "base": 0.07303136442662818,
         "hovertemplate": "HRB: 0.97%<extra></extra>",
         "marker": {
          "color": "rgb(135, 197, 95)"
         },
         "name": "HRB",
         "offsetgroup": "HRB",
         "type": "bar",
         "x": [
          2014
         ],
         "y": [
          0.009658031932754744
         ]
        },
        {
         "base": 0.08268939635938292,
         "hovertemplate": "PEP: 0.97%<extra></extra>",
         "marker": {
          "color": "rgb(27,158,119)"
         },
         "name": "PEP",
         "offsetgroup": "PEP",
         "type": "bar",
         "x": [
          2014
         ],
         "y": [
          0.009660103173038713
         ]
        },
        {
         "base": 0.09234949953242164,
         "hovertemplate": "ADP: 1.06%<extra></extra>",
         "marker": {
          "color": "#00CC96"
         },
         "name": "ADP",
         "offsetgroup": "ADP",
         "type": "bar",
         "x": [
          2014
         ],
         "y": [
          0.010565214883987283
         ]
        },
        {
         "base": 0.10291471441640893,
         "hovertemplate": "KDP: 1.29%<extra></extra>",
         "marker": {
          "color": "rgb(231,41,138)"
         },
         "name": "KDP",
         "offsetgroup": "KDP",
         "type": "bar",
         "x": [
          2014
         ],
         "y": [
          0.012949871074811733
         ]
        },
        {
         "base": 0.11586458549122065,
         "hovertemplate": "HI: 1.34%<extra></extra>",
         "marker": {
          "color": "rgb(246, 207, 113)"
         },
         "name": "HI",
         "offsetgroup": "HI",
         "type": "bar",
         "x": [
          2014
         ],
         "y": [
          0.013367524021930957
         ]
        },
        {
         "base": 0.12923210951315162,
         "hovertemplate": "MO: 1.45%<extra></extra>",
         "marker": {
          "color": "rgb(166,86,40)"
         },
         "name": "MO",
         "offsetgroup": "MO",
         "type": "bar",
         "x": [
          2014
         ],
         "y": [
          0.014534831537055643
         ]
        },
        {
         "base": 0.14376694105020726,
         "hovertemplate": "LLY: 1.49%<extra></extra>",
         "marker": {
          "color": "#FFA15A"
         },
         "name": "LLY",
         "offsetgroup": "LLY",
         "type": "bar",
         "x": [
          2014
         ],
         "y": [
          0.014866479300051392
         ]
        },
        {
         "base": 0.15863342035025865,
         "hovertemplate": "CHRW: 1.51%<extra></extra>",
         "marker": {
          "color": "rgb(158, 185, 243)"
         },
         "name": "CHRW",
         "offsetgroup": "CHRW",
         "type": "bar",
         "x": [
          2014
         ],
         "y": [
          0.015058075712126456
         ]
        },
        {
         "base": 0.1736914960623851,
         "hovertemplate": "GPC: 1.61%<extra></extra>",
         "marker": {
          "color": "rgb(166,86,40)"
         },
         "name": "GPC",
         "offsetgroup": "GPC",
         "type": "bar",
         "x": [
          2014
         ],
         "y": [
          0.016066301311520363
         ]
        },
        {
         "hovertemplate": "%{x}<br>%{y:.2%}<br>NLY<extra></extra>",
         "marker": {
          "color": "rgb(102, 197, 204)"
         },
         "name": "NLY",
         "offsetgroup": "NLY",
         "showlegend": false,
         "type": "bar",
         "x": [
          2015
         ],
         "y": [
          -0.0007819023449712151
         ]
        },
        {
         "hovertemplate": "%{x}<br>%{y:.2%}<br>RYN<extra></extra>",
         "marker": {
          "color": "#00CC96"
         },
         "name": "RYN",
         "offsetgroup": "RYN",
         "showlegend": false,
         "type": "bar",
         "x": [
          2015
         ],
         "y": [
          -0.0015403659488338183
         ]
        },
        {
         "hovertemplate": "%{x}<br>%{y:.2%}<br>CL<extra></extra>",
         "marker": {
          "color": "rgb(254, 136, 177)"
         },
         "name": "CL",
         "offsetgroup": "CL",
         "showlegend": false,
         "type": "bar",
         "x": [
          2015
         ],
         "y": [
          -0.00164322754662374
         ]
        },
        {
         "hovertemplate": "%{x}<br>%{y:.2%}<br>LVS<extra></extra>",
         "marker": {
          "color": "#FF6692"
         },
         "name": "LVS",
         "offsetgroup": "LVS",
         "showlegend": false,
         "type": "bar",
         "x": [
          2015
         ],
         "y": [
          -0.002729175814155668
         ]
        },
        {
         "hovertemplate": "%{x}<br>%{y:.2%}<br>IDT<extra></extra>",
         "marker": {
          "color": "rgb(254, 136, 177)"
         },
         "name": "IDT",
         "offsetgroup": "IDT",
         "showlegend": false,
         "type": "bar",
         "x": [
          2015
         ],
         "y": [
          -0.004105961691767393
         ]
        },
        {
         "hovertemplate": "%{x}<br>%{y:.2%}<br>KMB<extra></extra>",
         "marker": {
          "color": "rgb(166,118,29)"
         },
         "name": "KMB",
         "offsetgroup": "KMB",
         "showlegend": false,
         "type": "bar",
         "x": [
          2015
         ],
         "y": [
          -0.004239610534723751
         ]
        },
        {
         "hovertemplate": "%{x}<br>%{y:.2%}<br>PG<extra></extra>",
         "marker": {
          "color": "rgb(117,112,179)"
         },
         "name": "PG",
         "offsetgroup": "PG",
         "showlegend": false,
         "type": "bar",
         "x": [
          2015
         ],
         "y": [
          -0.004422460880646673
         ]
        },
        {
         "hovertemplate": "%{x}<br>%{y:.2%}<br>HI<extra></extra>",
         "marker": {
          "color": "rgb(246, 207, 113)"
         },
         "name": "HI",
         "offsetgroup": "HI",
         "showlegend": false,
         "type": "bar",
         "x": [
          2015
         ],
         "y": [
          -0.004697081968851244
         ]
        },
        {
         "hovertemplate": "%{x}<br>%{y:.2%}<br>CHRW<extra></extra>",
         "marker": {
          "color": "rgb(158, 185, 243)"
         },
         "name": "CHRW",
         "offsetgroup": "CHRW",
         "showlegend": false,
         "type": "bar",
         "x": [
          2015
         ],
         "y": [
          -0.005436930313213566
         ]
        },
        {
         "hovertemplate": "%{x}<br>%{y:.2%}<br>GPC<extra></extra>",
         "marker": {
          "color": "rgb(166,86,40)"
         },
         "name": "GPC",
         "offsetgroup": "GPC",
         "showlegend": false,
         "type": "bar",
         "x": [
          2015
         ],
         "y": [
          -0.005533819945370057
         ]
        },
        {
         "hovertemplate": "%{x}<br>%{y:.2%}<br>EMR<extra></extra>",
         "marker": {
          "color": "#AB63FA"
         },
         "name": "EMR",
         "offsetgroup": "EMR",
         "showlegend": false,
         "type": "bar",
         "x": [
          2015
         ],
         "y": [
          -0.006498000259724928
         ]
        },
        {
         "hovertemplate": "%{x}<br>%{y:.2%}<br>IRM<extra></extra>",
         "marker": {
          "color": "rgb(180, 151, 231)"
         },
         "name": "IRM",
         "offsetgroup": "IRM",
         "showlegend": false,
         "type": "bar",
         "x": [
          2015
         ],
         "y": [
          -0.007356881608379577
         ]
        },
        {
         "hovertemplate": "%{x}<br>%{y:.2%}<br>GRMN<extra></extra>",
         "marker": {
          "color": "rgb(247,129,191)"
         },
         "name": "GRMN",
         "offsetgroup": "GRMN",
         "showlegend": false,
         "type": "bar",
         "x": [
          2015
         ],
         "y": [
          -0.010365010370638788
         ]
        },
        {
         "hovertemplate": "%{x}<br>%{y:.2%}<br>PCH<extra></extra>",
         "marker": {
          "color": "rgb(179, 179, 179)"
         },
         "name": "PCH",
         "offsetgroup": "PCH",
         "showlegend": false,
         "type": "bar",
         "x": [
          2015
         ],
         "y": [
          -0.011208725133983266
         ]
        },
        {
         "hovertemplate": "%{x}<br>%{y:.2%}<br>BKE<extra></extra>",
         "marker": {
          "color": "rgb(166,86,40)"
         },
         "name": "BKE",
         "offsetgroup": "BKE",
         "showlegend": false,
         "type": "bar",
         "x": [
          2015
         ],
         "y": [
          -0.01741071063163108
         ]
        },
        {
         "base": 0,
         "hovertemplate": "HRB: 0.02%<extra></extra>",
         "marker": {
          "color": "rgb(135, 197, 95)"
         },
         "name": "HRB",
         "offsetgroup": "HRB",
         "type": "bar",
         "x": [
          2015
         ],
         "y": [
          0.00024861134574882164
         ]
        },
        {
         "base": 0.00024861134574882164,
         "hovertemplate": "ADP: 0.07%<extra></extra>",
         "marker": {
          "color": "#00CC96"
         },
         "name": "ADP",
         "offsetgroup": "ADP",
         "type": "bar",
         "x": [
          2015
         ],
         "y": [
          0.0006643233166733658
         ]
        },
        {
         "base": 0.0009129346624221874,
         "hovertemplate": "SFL: 0.07%<extra></extra>",
         "marker": {
          "color": "#FF6692"
         },
         "name": "SFL",
         "offsetgroup": "SFL",
         "type": "bar",
         "x": [
          2015
         ],
         "y": [
          0.0006895029970994998
         ]
        },
        {
         "base": 0.0016024376595216872,
         "hovertemplate": "VZ: 0.08%<extra></extra>",
         "marker": {
          "color": "rgb(246, 207, 113)"
         },
         "name": "VZ",
         "offsetgroup": "VZ",
         "type": "bar",
         "x": [
          2015
         ],
         "y": [
          0.0008423592088889912
         ]
        },
        {
         "base": 0.0024447968684106784,
         "hovertemplate": "CMP: 0.16%<extra></extra>",
         "marker": {
          "color": "rgb(179, 179, 179)"
         },
         "name": "CMP",
         "offsetgroup": "CMP",
         "type": "bar",
         "x": [
          2015
         ],
         "y": [
          0.0016264956795787897
         ]
        },
        {
         "base": 0.004071292547989468,
         "hovertemplate": "CNS: 0.30%<extra></extra>",
         "marker": {
          "color": "rgb(217,95,2)"
         },
         "name": "CNS",
         "offsetgroup": "CNS",
         "type": "bar",
         "x": [
          2015
         ],
         "y": [
          0.002983866675926337
         ]
        },
        {
         "base": 0.007055159223915804,
         "hovertemplate": "BOH: 0.31%<extra></extra>",
         "marker": {
          "color": "rgb(153,153,153)"
         },
         "name": "BOH",
         "offsetgroup": "BOH",
         "type": "bar",
         "x": [
          2015
         ],
         "y": [
          0.003067087132142843
         ]
        },
        {
         "base": 0.010122246356058648,
         "hovertemplate": "MAT: 0.31%<extra></extra>",
         "marker": {
          "color": "#FF97FF"
         },
         "name": "MAT",
         "offsetgroup": "MAT",
         "type": "bar",
         "x": [
          2015
         ],
         "y": [
          0.0030850068072621455
         ]
        },
        {
         "base": 0.013207253163320793,
         "hovertemplate": "PEP: 0.32%<extra></extra>",
         "marker": {
          "color": "rgb(27,158,119)"
         },
         "name": "PEP",
         "offsetgroup": "PEP",
         "type": "bar",
         "x": [
          2015
         ],
         "y": [
          0.003164564378228436
         ]
        },
        {
         "base": 0.01637181754154923,
         "hovertemplate": "GIS: 0.33%<extra></extra>",
         "marker": {
          "color": "rgb(255,255,51)"
         },
         "name": "GIS",
         "offsetgroup": "GIS",
         "type": "bar",
         "x": [
          2015
         ],
         "y": [
          0.0032941630448678864
         ]
        },
        {
         "base": 0.019665980586417116,
         "hovertemplate": "SYY: 0.44%<extra></extra>",
         "marker": {
          "color": "rgb(228,26,28)"
         },
         "name": "SYY",
         "offsetgroup": "SYY",
         "type": "bar",
         "x": [
          2015
         ],
         "y": [
          0.00436045468029721
         ]
        },
        {
         "base": 0.024026435266714326,
         "hovertemplate": "LLY: 0.46%<extra></extra>",
         "marker": {
          "color": "#FFA15A"
         },
         "name": "LLY",
         "offsetgroup": "LLY",
         "type": "bar",
         "x": [
          2015
         ],
         "y": [
          0.0045773679603693385
         ]
        },
        {
         "base": 0.028603803227083665,
         "hovertemplate": "PM: 0.50%<extra></extra>",
         "marker": {
          "color": "rgb(230,171,2)"
         },
         "name": "PM",
         "offsetgroup": "PM",
         "type": "bar",
         "x": [
          2015
         ],
         "y": [
          0.004956816694782011
         ]
        },
        {
         "base": 0.033560619921865674,
         "hovertemplate": "PAYX: 0.51%<extra></extra>",
         "marker": {
          "color": "rgb(201, 219, 116)"
         },
         "name": "PAYX",
         "offsetgroup": "PAYX",
         "type": "bar",
         "x": [
          2015
         ],
         "y": [
          0.005053105179717881
         ]
        },
        {
         "base": 0.038613725101583556,
         "hovertemplate": "CPB: 0.71%<extra></extra>",
         "marker": {
          "color": "rgb(117,112,179)"
         },
         "name": "CPB",
         "offsetgroup": "CPB",
         "type": "bar",
         "x": [
          2015
         ],
         "y": [
          0.00707571728448637
         ]
        },
        {
         "base": 0.04568944238606992,
         "hovertemplate": "MO: 0.85%<extra></extra>",
         "marker": {
          "color": "rgb(166,86,40)"
         },
         "name": "MO",
         "offsetgroup": "MO",
         "type": "bar",
         "x": [
          2015
         ],
         "y": [
          0.008529866252199324
         ]
        },
        {
         "base": 0.05421930863826925,
         "hovertemplate": "KDP: 0.95%<extra></extra>",
         "marker": {
          "color": "rgb(231,41,138)"
         },
         "name": "KDP",
         "offsetgroup": "KDP",
         "type": "bar",
         "x": [
          2015
         ],
         "y": [
          0.009459567753519905
         ]
        },
        {
         "base": 0.06367887639178915,
         "hovertemplate": "RLI: 0.97%<extra></extra>",
         "marker": {
          "color": "#636EFA"
         },
         "name": "RLI",
         "offsetgroup": "RLI",
         "type": "bar",
         "x": [
          2015
         ],
         "y": [
          0.009652905861640115
         ]
        },
        {
         "base": 0.07333178225342926,
         "hovertemplate": "MCD: 1.07%<extra></extra>",
         "marker": {
          "color": "rgb(55,126,184)"
         },
         "name": "MCD",
         "offsetgroup": "MCD",
         "type": "bar",
         "x": [
          2015
         ],
         "y": [
          0.010716547246426216
         ]
        },
        {
         "hovertemplate": "%{x}<br>%{y:.2%}<br>KDP<extra></extra>",
         "marker": {
          "color": "rgb(231,41,138)"
         },
         "name": "KDP",
         "offsetgroup": "KDP",
         "showlegend": false,
         "type": "bar",
         "x": [
          2016
         ],
         "y": [
          -0.0008489219652889034
         ]
        },
        {
         "hovertemplate": "%{x}<br>%{y:.2%}<br>BKE<extra></extra>",
         "marker": {
          "color": "rgb(166,86,40)"
         },
         "name": "BKE",
         "offsetgroup": "BKE",
         "showlegend": false,
         "type": "bar",
         "x": [
          2016
         ],
         "y": [
          -0.0018081185319192405
         ]
        },
        {
         "hovertemplate": "%{x}<br>%{y:.2%}<br>DIN<extra></extra>",
         "marker": {
          "color": "#636EFA"
         },
         "name": "DIN",
         "offsetgroup": "DIN",
         "showlegend": false,
         "type": "bar",
         "x": [
          2016
         ],
         "y": [
          -0.005998879670064913
         ]
        },
        {
         "hovertemplate": "%{x}<br>%{y:.2%}<br>HRB<extra></extra>",
         "marker": {
          "color": "rgb(135, 197, 95)"
         },
         "name": "HRB",
         "offsetgroup": "HRB",
         "showlegend": false,
         "type": "bar",
         "x": [
          2016
         ],
         "y": [
          -0.009212582616221505
         ]
        },
        {
         "base": 0,
         "hovertemplate": "CSCO: 0.01%<extra></extra>",
         "marker": {
          "color": "rgb(231,41,138)"
         },
         "name": "CSCO",
         "offsetgroup": "CSCO",
         "type": "bar",
         "x": [
          2016
         ],
         "y": [
          0.00013729320963909886
         ]
        },
        {
         "base": 0.00013729320963909886,
         "hovertemplate": "APAM: 0.15%<extra></extra>",
         "marker": {
          "color": "#FECB52"
         },
         "name": "APAM",
         "offsetgroup": "APAM",
         "type": "bar",
         "x": [
          2016
         ],
         "y": [
          0.0014848264868500126
         ]
        },
        {
         "base": 0.0016221196964891116,
         "hovertemplate": "MCD: 0.15%<extra></extra>",
         "marker": {
          "color": "rgb(55,126,184)"
         },
         "name": "MCD",
         "offsetgroup": "MCD",
         "type": "bar",
         "x": [
          2016
         ],
         "y": [
          0.001500425474338073
         ]
        },
        {
         "base": 0.003122545170827185,
         "hovertemplate": "CL: 0.15%<extra></extra>",
         "marker": {
          "color": "rgb(254, 136, 177)"
         },
         "name": "CL",
         "offsetgroup": "CL",
         "type": "bar",
         "x": [
          2016
         ],
         "y": [
          0.0015351121938037887
         ]
        },
        {
         "base": 0.004657657364630974,
         "hovertemplate": "WSM: 0.20%<extra></extra>",
         "marker": {
          "color": "rgb(220, 176, 242)"
         },
         "name": "WSM",
         "offsetgroup": "WSM",
         "type": "bar",
         "x": [
          2016
         ],
         "y": [
          0.00198487767059895
         ]
        },
        {
         "base": 0.006642535035229924,
         "hovertemplate": "RLI: 0.20%<extra></extra>",
         "marker": {
          "color": "#636EFA"
         },
         "name": "RLI",
         "offsetgroup": "RLI",
         "type": "bar",
         "x": [
          2016
         ],
         "y": [
          0.0020416107094320245
         ]
        },
        {
         "base": 0.008684145744661947,
         "hovertemplate": "BAX: 0.22%<extra></extra>",
         "marker": {
          "color": "rgb(77,175,74)"
         },
         "name": "BAX",
         "offsetgroup": "BAX",
         "type": "bar",
         "x": [
          2016
         ],
         "y": [
          0.002156209883087348
         ]
        },
        {
         "base": 0.010840355627749296,
         "hovertemplate": "PG: 0.24%<extra></extra>",
         "marker": {
          "color": "rgb(117,112,179)"
         },
         "name": "PG",
         "offsetgroup": "PG",
         "type": "bar",
         "x": [
          2016
         ],
         "y": [
          0.0024111209852461495
         ]
        },
        {
         "base": 0.013251476612995446,
         "hovertemplate": "PEP: 0.26%<extra></extra>",
         "marker": {
          "color": "rgb(27,158,119)"
         },
         "name": "PEP",
         "offsetgroup": "PEP",
         "type": "bar",
         "x": [
          2016
         ],
         "y": [
          0.0025519857120758892
         ]
        },
        {
         "base": 0.015803462325071335,
         "hovertemplate": "GIS: 0.28%<extra></extra>",
         "marker": {
          "color": "rgb(255,255,51)"
         },
         "name": "GIS",
         "offsetgroup": "GIS",
         "type": "bar",
         "x": [
          2016
         ],
         "y": [
          0.002828182154371869
         ]
        },
        {
         "base": 0.018631644479443203,
         "hovertemplate": "LEG: 0.32%<extra></extra>",
         "marker": {
          "color": "#AB63FA"
         },
         "name": "LEG",
         "offsetgroup": "LEG",
         "type": "bar",
         "x": [
          2016
         ],
         "y": [
          0.003159187555125389
         ]
        },
        {
         "base": 0.021790832034568594,
         "hovertemplate": "GRMN: 0.32%<extra></extra>",
         "marker": {
          "color": "rgb(247,129,191)"
         },
         "name": "GRMN",
         "offsetgroup": "GRMN",
         "type": "bar",
         "x": [
          2016
         ],
         "y": [
          0.0032044594058670646
         ]
        },
        {
         "base": 0.02499529144043566,
         "hovertemplate": "PM: 0.33%<extra></extra>",
         "marker": {
          "color": "rgb(230,171,2)"
         },
         "name": "PM",
         "offsetgroup": "PM",
         "type": "bar",
         "x": [
          2016
         ],
         "y": [
          0.003295256260126083
         ]
        },
        {
         "base": 0.028290547700561743,
         "hovertemplate": "SYY: 0.37%<extra></extra>",
         "marker": {
          "color": "rgb(228,26,28)"
         },
         "name": "SYY",
         "offsetgroup": "SYY",
         "type": "bar",
         "x": [
          2016
         ],
         "y": [
          0.003658265739913748
         ]
        },
        {
         "base": 0.03194881344047549,
         "hovertemplate": "PCH: 0.44%<extra></extra>",
         "marker": {
          "color": "rgb(179, 179, 179)"
         },
         "name": "PCH",
         "offsetgroup": "PCH",
         "type": "bar",
         "x": [
          2016
         ],
         "y": [
          0.004350966920873123
         ]
        },
        {
         "base": 0.036299780361348614,
         "hovertemplate": "ABBV: 0.44%<extra></extra>",
         "marker": {
          "color": "#636EFA"
         },
         "name": "ABBV",
         "offsetgroup": "ABBV",
         "type": "bar",
         "x": [
          2016
         ],
         "y": [
          0.004369320211741849
         ]
        },
        {
         "base": 0.040669100573090464,
         "hovertemplate": "LVS: 0.49%<extra></extra>",
         "marker": {
          "color": "#FF6692"
         },
         "name": "LVS",
         "offsetgroup": "LVS",
         "type": "bar",
         "x": [
          2016
         ],
         "y": [
          0.004892324798351378
         ]
        },
        {
         "base": 0.04556142537144184,
         "hovertemplate": "CHRW: 0.58%<extra></extra>",
         "marker": {
          "color": "rgb(158, 185, 243)"
         },
         "name": "CHRW",
         "offsetgroup": "CHRW",
         "type": "bar",
         "x": [
          2016
         ],
         "y": [
          0.005751396153537079
         ]
        },
        {
         "base": 0.051312821524978916,
         "hovertemplate": "GPC: 0.62%<extra></extra>",
         "marker": {
          "color": "rgb(166,86,40)"
         },
         "name": "GPC",
         "offsetgroup": "GPC",
         "type": "bar",
         "x": [
          2016
         ],
         "y": [
          0.006160621308168308
         ]
        },
        {
         "base": 0.057473442833147224,
         "hovertemplate": "PAYX: 0.63%<extra></extra>",
         "marker": {
          "color": "rgb(201, 219, 116)"
         },
         "name": "PAYX",
         "offsetgroup": "PAYX",
         "type": "bar",
         "x": [
          2016
         ],
         "y": [
          0.0063108189826329535
         ]
        },
        {
         "base": 0.06378426181578017,
         "hovertemplate": "GEN: 0.66%<extra></extra>",
         "marker": {
          "color": "rgb(77,175,74)"
         },
         "name": "GEN",
         "offsetgroup": "GEN",
         "type": "bar",
         "x": [
          2016
         ],
         "y": [
          0.006589104431912221
         ]
        },
        {
         "base": 0.0703733662476924,
         "hovertemplate": "EMR: 0.68%<extra></extra>",
         "marker": {
          "color": "#AB63FA"
         },
         "name": "EMR",
         "offsetgroup": "EMR",
         "type": "bar",
         "x": [
          2016
         ],
         "y": [
          0.006832899388984378
         ]
        },
        {
         "base": 0.07720626563667678,
         "hovertemplate": "ADP: 0.71%<extra></extra>",
         "marker": {
          "color": "#00CC96"
         },
         "name": "ADP",
         "offsetgroup": "ADP",
         "type": "bar",
         "x": [
          2016
         ],
         "y": [
          0.0071488667639928
         ]
        },
        {
         "base": 0.08435513240066958,
         "hovertemplate": "VZ: 0.72%<extra></extra>",
         "marker": {
          "color": "rgb(246, 207, 113)"
         },
         "name": "VZ",
         "offsetgroup": "VZ",
         "type": "bar",
         "x": [
          2016
         ],
         "y": [
          0.007189000791961533
         ]
        },
        {
         "base": 0.09154413319263112,
         "hovertemplate": "MO: 0.76%<extra></extra>",
         "marker": {
          "color": "rgb(166,86,40)"
         },
         "name": "MO",
         "offsetgroup": "MO",
         "type": "bar",
         "x": [
          2016
         ],
         "y": [
          0.007588010241539864
         ]
        },
        {
         "base": 0.09913214343417098,
         "hovertemplate": "CNS: 0.81%<extra></extra>",
         "marker": {
          "color": "rgb(217,95,2)"
         },
         "name": "CNS",
         "offsetgroup": "CNS",
         "type": "bar",
         "x": [
          2016
         ],
         "y": [
          0.008148150020413275
         ]
        },
        {
         "base": 0.10728029345458426,
         "hovertemplate": "CPB: 0.89%<extra></extra>",
         "marker": {
          "color": "rgb(117,112,179)"
         },
         "name": "CPB",
         "offsetgroup": "CPB",
         "type": "bar",
         "x": [
          2016
         ],
         "y": [
          0.008853654538739824
         ]
        },
        {
         "base": 0.11613394799332408,
         "hovertemplate": "CVI: 1.02%<extra></extra>",
         "marker": {
          "color": "rgb(102,166,30)"
         },
         "name": "CVI",
         "offsetgroup": "CVI",
         "type": "bar",
         "x": [
          2016
         ],
         "y": [
          0.01023152586309776
         ]
        },
        {
         "base": 0.12636547385642183,
         "hovertemplate": "MAT: 1.03%<extra></extra>",
         "marker": {
          "color": "#FF97FF"
         },
         "name": "MAT",
         "offsetgroup": "MAT",
         "type": "bar",
         "x": [
          2016
         ],
         "y": [
          0.010332296542541008
         ]
        },
        {
         "base": 0.13669777039896283,
         "hovertemplate": "BOH: 1.31%<extra></extra>",
         "marker": {
          "color": "rgb(153,153,153)"
         },
         "name": "BOH",
         "offsetgroup": "BOH",
         "type": "bar",
         "x": [
          2016
         ],
         "y": [
          0.01309031184800288
         ]
        },
        {
         "base": 0.14978808224696571,
         "hovertemplate": "HI: 1.31%<extra></extra>",
         "marker": {
          "color": "rgb(246, 207, 113)"
         },
         "name": "HI",
         "offsetgroup": "HI",
         "type": "bar",
         "x": [
          2016
         ],
         "y": [
          0.013110589760711916
         ]
        },
        {
         "base": 0.16289867200767763,
         "hovertemplate": "MATV: 1.42%<extra></extra>",
         "marker": {
          "color": "#FECB52"
         },
         "name": "MATV",
         "offsetgroup": "MATV",
         "type": "bar",
         "x": [
          2016
         ],
         "y": [
          0.014247989425693818
         ]
        },
        {
         "base": 0.17714666143337146,
         "hovertemplate": "IDT: 2.62%<extra></extra>",
         "marker": {
          "color": "rgb(254, 136, 177)"
         },
         "name": "IDT",
         "offsetgroup": "IDT",
         "type": "bar",
         "x": [
          2016
         ],
         "y": [
          0.02615895950389497
         ]
        },
        {
         "hovertemplate": "%{x}<br>%{y:.2%}<br>TGT<extra></extra>",
         "marker": {
          "color": "rgb(55,126,184)"
         },
         "name": "TGT",
         "offsetgroup": "TGT",
         "showlegend": false,
         "type": "bar",
         "x": [
          2017
         ],
         "y": [
          -0.0000075903056616108125
         ]
        },
        {
         "hovertemplate": "%{x}<br>%{y:.2%}<br>OMC<extra></extra>",
         "marker": {
          "color": "rgb(158, 185, 243)"
         },
         "name": "OMC",
         "offsetgroup": "OMC",
         "showlegend": false,
         "type": "bar",
         "x": [
          2017
         ],
         "y": [
          -0.00048399806072231164
         ]
        },
        {
         "hovertemplate": "%{x}<br>%{y:.2%}<br>LEG<extra></extra>",
         "marker": {
          "color": "#AB63FA"
         },
         "name": "LEG",
         "offsetgroup": "LEG",
         "showlegend": false,
         "type": "bar",
         "x": [
          2017
         ],
         "y": [
          -0.0009391347951578043
         ]
        },
        {
         "hovertemplate": "%{x}<br>%{y:.2%}<br>CVI<extra></extra>",
         "marker": {
          "color": "rgb(102,166,30)"
         },
         "name": "CVI",
         "offsetgroup": "CVI",
         "showlegend": false,
         "type": "bar",
         "x": [
          2017
         ],
         "y": [
          -0.0010227058817701765
         ]
        },
        {
         "hovertemplate": "%{x}<br>%{y:.2%}<br>RLI<extra></extra>",
         "marker": {
          "color": "#636EFA"
         },
         "name": "RLI",
         "offsetgroup": "RLI",
         "showlegend": false,
         "type": "bar",
         "x": [
          2017
         ],
         "y": [
          -0.0012255093598468574
         ]
        },
        {
         "hovertemplate": "%{x}<br>%{y:.2%}<br>BOH<extra></extra>",
         "marker": {
          "color": "rgb(153,153,153)"
         },
         "name": "BOH",
         "offsetgroup": "BOH",
         "showlegend": false,
         "type": "bar",
         "x": [
          2017
         ],
         "y": [
          -0.002182318295260952
         ]
        },
        {
         "hovertemplate": "%{x}<br>%{y:.2%}<br>CPB<extra></extra>",
         "marker": {
          "color": "rgb(117,112,179)"
         },
         "name": "CPB",
         "offsetgroup": "CPB",
         "showlegend": false,
         "type": "bar",
         "x": [
          2017
         ],
         "y": [
          -0.005800019588539035
         ]
        },
        {
         "hovertemplate": "%{x}<br>%{y:.2%}<br>AEO<extra></extra>",
         "marker": {
          "color": "#AB63FA"
         },
         "name": "AEO",
         "offsetgroup": "AEO",
         "showlegend": false,
         "type": "bar",
         "x": [
          2017
         ],
         "y": [
          -0.0060973804943022115
         ]
        },
        {
         "hovertemplate": "%{x}<br>%{y:.2%}<br>DIN<extra></extra>",
         "marker": {
          "color": "#636EFA"
         },
         "name": "DIN",
         "offsetgroup": "DIN",
         "showlegend": false,
         "type": "bar",
         "x": [
          2017
         ],
         "y": [
          -0.006410077170462566
         ]
        },
        {
         "base": 0,
         "hovertemplate": "VZ: 0.06%<extra></extra>",
         "marker": {
          "color": "rgb(246, 207, 113)"
         },
         "name": "VZ",
         "offsetgroup": "VZ",
         "type": "bar",
         "x": [
          2017
         ],
         "y": [
          0.0006038496521224997
         ]
        },
        {
         "base": 0.0006038496521224997,
         "hovertemplate": "GIS: 0.09%<extra></extra>",
         "marker": {
          "color": "rgb(255,255,51)"
         },
         "name": "GIS",
         "offsetgroup": "GIS",
         "type": "bar",
         "x": [
          2017
         ],
         "y": [
          0.0008926253770947517
         ]
        },
        {
         "base": 0.0014964750292172514,
         "hovertemplate": "MATV: 0.10%<extra></extra>",
         "marker": {
          "color": "#FECB52"
         },
         "name": "MATV",
         "offsetgroup": "MATV",
         "type": "bar",
         "x": [
          2017
         ],
         "y": [
          0.0010212765023121107
         ]
        },
        {
         "base": 0.002517751531529362,
         "hovertemplate": "GPC: 0.13%<extra></extra>",
         "marker": {
          "color": "rgb(166,86,40)"
         },
         "name": "GPC",
         "offsetgroup": "GPC",
         "type": "bar",
         "x": [
          2017
         ],
         "y": [
          0.0013294501952808753
         ]
        },
        {
         "base": 0.0038472017268102376,
         "hovertemplate": "MO: 0.16%<extra></extra>",
         "marker": {
          "color": "rgb(166,86,40)"
         },
         "name": "MO",
         "offsetgroup": "MO",
         "type": "bar",
         "x": [
          2017
         ],
         "y": [
          0.001647827557099689
         ]
        },
        {
         "base": 0.005495029283909927,
         "hovertemplate": "LMT: 0.18%<extra></extra>",
         "marker": {
          "color": "#19D3F3"
         },
         "name": "LMT",
         "offsetgroup": "LMT",
         "type": "bar",
         "x": [
          2017
         ],
         "y": [
          0.0018434918466244989
         ]
        },
        {
         "base": 0.007338521130534426,
         "hovertemplate": "MCD: 0.25%<extra></extra>",
         "marker": {
          "color": "rgb(55,126,184)"
         },
         "name": "MCD",
         "offsetgroup": "MCD",
         "type": "bar",
         "x": [
          2017
         ],
         "y": [
          0.002483756059749856
         ]
        },
        {
         "base": 0.009822277190284282,
         "hovertemplate": "WSM: 0.28%<extra></extra>",
         "marker": {
          "color": "rgb(220, 176, 242)"
         },
         "name": "WSM",
         "offsetgroup": "WSM",
         "type": "bar",
         "x": [
          2017
         ],
         "y": [
          0.0028390879307689573
         ]
        },
        {
         "base": 0.01266136512105324,
         "hovertemplate": "PG: 0.30%<extra></extra>",
         "marker": {
          "color": "rgb(117,112,179)"
         },
         "name": "PG",
         "offsetgroup": "PG",
         "type": "bar",
         "x": [
          2017
         ],
         "y": [
          0.0029707035825425943
         ]
        },
        {
         "base": 0.015632068703595833,
         "hovertemplate": "KDP: 0.34%<extra></extra>",
         "marker": {
          "color": "rgb(231,41,138)"
         },
         "name": "KDP",
         "offsetgroup": "KDP",
         "type": "bar",
         "x": [
          2017
         ],
         "y": [
          0.003410297295331841
         ]
        },
        {
         "base": 0.019042365998927675,
         "hovertemplate": "BXMT: 0.36%<extra></extra>",
         "marker": {
          "color": "rgb(246, 207, 113)"
         },
         "name": "BXMT",
         "offsetgroup": "BXMT",
         "type": "bar",
         "x": [
          2017
         ],
         "y": [
          0.0036140358547940782
         ]
        },
        {
         "base": 0.022656401853721753,
         "hovertemplate": "BAX: 0.47%<extra></extra>",
         "marker": {
          "color": "rgb(77,175,74)"
         },
         "name": "BAX",
         "offsetgroup": "BAX",
         "type": "bar",
         "x": [
          2017
         ],
         "y": [
          0.004683731317202762
         ]
        },
        {
         "base": 0.027340133170924513,
         "hovertemplate": "KKR: 0.52%<extra></extra>",
         "marker": {
          "color": "rgb(230,171,2)"
         },
         "name": "KKR",
         "offsetgroup": "KKR",
         "type": "bar",
         "x": [
          2017
         ],
         "y": [
          0.005223048547150394
         ]
        },
        {
         "base": 0.03256318171807491,
         "hovertemplate": "GEN: 0.56%<extra></extra>",
         "marker": {
          "color": "rgb(77,175,74)"
         },
         "name": "GEN",
         "offsetgroup": "GEN",
         "type": "bar",
         "x": [
          2017
         ],
         "y": [
          0.005601456994973075
         ]
        },
        {
         "base": 0.03816463871304798,
         "hovertemplate": "BBWI: 0.56%<extra></extra>",
         "marker": {
          "color": "rgb(152,78,163)"
         },
         "name": "BBWI",
         "offsetgroup": "BBWI",
         "type": "bar",
         "x": [
          2017
         ],
         "y": [
          0.005632635631156324
         ]
        },
        {
         "base": 0.04379727434420431,
         "hovertemplate": "HI: 0.60%<extra></extra>",
         "marker": {
          "color": "rgb(246, 207, 113)"
         },
         "name": "HI",
         "offsetgroup": "HI",
         "type": "bar",
         "x": [
          2017
         ],
         "y": [
          0.006040571152556784
         ]
        },
        {
         "base": 0.04983784549676109,
         "hovertemplate": "PAYX: 0.65%<extra></extra>",
         "marker": {
          "color": "rgb(201, 219, 116)"
         },
         "name": "PAYX",
         "offsetgroup": "PAYX",
         "type": "bar",
         "x": [
          2017
         ],
         "y": [
          0.006460464268694488
         ]
        },
        {
         "base": 0.05629830976545558,
         "hovertemplate": "PEP: 0.70%<extra></extra>",
         "marker": {
          "color": "rgb(27,158,119)"
         },
         "name": "PEP",
         "offsetgroup": "PEP",
         "type": "bar",
         "x": [
          2017
         ],
         "y": [
          0.007029119678460331
         ]
        },
        {
         "base": 0.06332742944391591,
         "hovertemplate": "CHRW: 0.70%<extra></extra>",
         "marker": {
          "color": "rgb(158, 185, 243)"
         },
         "name": "CHRW",
         "offsetgroup": "CHRW",
         "type": "bar",
         "x": [
          2017
         ],
         "y": [
          0.007035218250200032
         ]
        },
        {
         "base": 0.07036264769411595,
         "hovertemplate": "EMR: 0.71%<extra></extra>",
         "marker": {
          "color": "#AB63FA"
         },
         "name": "EMR",
         "offsetgroup": "EMR",
         "type": "bar",
         "x": [
          2017
         ],
         "y": [
          0.007073704203192087
         ]
        },
        {
         "base": 0.07743635189730803,
         "hovertemplate": "BKE: 0.71%<extra></extra>",
         "marker": {
          "color": "rgb(166,86,40)"
         },
         "name": "BKE",
         "offsetgroup": "BKE",
         "type": "bar",
         "x": [
          2017
         ],
         "y": [
          0.007110273028923397
         ]
        },
        {
         "base": 0.08454662492623143,
         "hovertemplate": "PM: 0.71%<extra></extra>",
         "marker": {
          "color": "rgb(230,171,2)"
         },
         "name": "PM",
         "offsetgroup": "PM",
         "type": "bar",
         "x": [
          2017
         ],
         "y": [
          0.007130506683860144
         ]
        },
        {
         "base": 0.09167713161009157,
         "hovertemplate": "LVS: 0.75%<extra></extra>",
         "marker": {
          "color": "#FF6692"
         },
         "name": "LVS",
         "offsetgroup": "LVS",
         "type": "bar",
         "x": [
          2017
         ],
         "y": [
          0.0074692515902357245
         ]
        },
        {
         "base": 0.09914638320032729,
         "hovertemplate": "HRB: 0.76%<extra></extra>",
         "marker": {
          "color": "rgb(135, 197, 95)"
         },
         "name": "HRB",
         "offsetgroup": "HRB",
         "type": "bar",
         "x": [
          2017
         ],
         "y": [
          0.007550907936413159
         ]
        },
        {
         "base": 0.10669729113674045,
         "hovertemplate": "CSCO: 0.79%<extra></extra>",
         "marker": {
          "color": "rgb(231,41,138)"
         },
         "name": "CSCO",
         "offsetgroup": "CSCO",
         "type": "bar",
         "x": [
          2017
         ],
         "y": [
          0.007948288923405138
         ]
        },
        {
         "base": 0.1146455800601456,
         "hovertemplate": "YUM: 0.80%<extra></extra>",
         "marker": {
          "color": "rgb(158, 185, 243)"
         },
         "name": "YUM",
         "offsetgroup": "YUM",
         "type": "bar",
         "x": [
          2017
         ],
         "y": [
          0.007986706304300952
         ]
        },
        {
         "base": 0.12263228636444655,
         "hovertemplate": "ADP: 0.81%<extra></extra>",
         "marker": {
          "color": "#00CC96"
         },
         "name": "ADP",
         "offsetgroup": "ADP",
         "type": "bar",
         "x": [
          2017
         ],
         "y": [
          0.00813519719280823
         ]
        },
        {
         "base": 0.1307674835572548,
         "hovertemplate": "APAM: 0.87%<extra></extra>",
         "marker": {
          "color": "#FECB52"
         },
         "name": "APAM",
         "offsetgroup": "APAM",
         "type": "bar",
         "x": [
          2017
         ],
         "y": [
          0.008692829781280402
         ]
        },
        {
         "base": 0.1394603133385352,
         "hovertemplate": "DBI: 0.94%<extra></extra>",
         "marker": {
          "color": "rgb(166,118,29)"
         },
         "name": "DBI",
         "offsetgroup": "DBI",
         "type": "bar",
         "x": [
          2017
         ],
         "y": [
          0.009419314290299683
         ]
        },
        {
         "base": 0.1488796276288349,
         "hovertemplate": "CNS: 1.27%<extra></extra>",
         "marker": {
          "color": "rgb(217,95,2)"
         },
         "name": "CNS",
         "offsetgroup": "CNS",
         "type": "bar",
         "x": [
          2017
         ],
         "y": [
          0.012718218717980671
         ]
        },
        {
         "base": 0.16159784634681557,
         "hovertemplate": "ABBV: 1.44%<extra></extra>",
         "marker": {
          "color": "#636EFA"
         },
         "name": "ABBV",
         "offsetgroup": "ABBV",
         "type": "bar",
         "x": [
          2017
         ],
         "y": [
          0.01437127749026603
         ]
        },
        {
         "hovertemplate": "%{x}<br>%{y:.2%}<br>PFE<extra></extra>",
         "marker": {
          "color": "rgb(217,95,2)"
         },
         "name": "PFE",
         "offsetgroup": "PFE",
         "showlegend": false,
         "type": "bar",
         "x": [
          2018
         ],
         "y": [
          -0.00013210991544964495
         ]
        },
        {
         "hovertemplate": "%{x}<br>%{y:.2%}<br>ABBV<extra></extra>",
         "marker": {
          "color": "#636EFA"
         },
         "name": "ABBV",
         "offsetgroup": "ABBV",
         "showlegend": false,
         "type": "bar",
         "x": [
          2018
         ],
         "y": [
          -0.0006535612286201343
         ]
        },
        {
         "hovertemplate": "%{x}<br>%{y:.2%}<br>KKR<extra></extra>",
         "marker": {
          "color": "rgb(230,171,2)"
         },
         "name": "KKR",
         "offsetgroup": "KKR",
         "showlegend": false,
         "type": "bar",
         "x": [
          2018
         ],
         "y": [
          -0.0013273227250304989
         ]
        },
        {
         "hovertemplate": "%{x}<br>%{y:.2%}<br>KHC<extra></extra>",
         "marker": {
          "color": "rgb(102,166,30)"
         },
         "name": "KHC",
         "offsetgroup": "KHC",
         "showlegend": false,
         "type": "bar",
         "x": [
          2018
         ],
         "y": [
          -0.0018817615839967286
         ]
        },
        {
         "hovertemplate": "%{x}<br>%{y:.2%}<br>TGT<extra></extra>",
         "marker": {
          "color": "rgb(55,126,184)"
         },
         "name": "TGT",
         "offsetgroup": "TGT",
         "showlegend": false,
         "type": "bar",
         "x": [
          2018
         ],
         "y": [
          -0.0020485996744483703
         ]
        },
        {
         "hovertemplate": "%{x}<br>%{y:.2%}<br>CHRW<extra></extra>",
         "marker": {
          "color": "rgb(158, 185, 243)"
         },
         "name": "CHRW",
         "offsetgroup": "CHRW",
         "showlegend": false,
         "type": "bar",
         "x": [
          2018
         ],
         "y": [
          -0.002336614717656159
         ]
        },
        {
         "hovertemplate": "%{x}<br>%{y:.2%}<br>BKE<extra></extra>",
         "marker": {
          "color": "rgb(166,86,40)"
         },
         "name": "BKE",
         "offsetgroup": "BKE",
         "showlegend": false,
         "type": "bar",
         "x": [
          2018
         ],
         "y": [
          -0.0023858469095203723
         ]
        },
        {
         "hovertemplate": "%{x}<br>%{y:.2%}<br>VZ<extra></extra>",
         "marker": {
          "color": "rgb(246, 207, 113)"
         },
         "name": "VZ",
         "offsetgroup": "VZ",
         "showlegend": false,
         "type": "bar",
         "x": [
          2018
         ],
         "y": [
          -0.0035226221424735625
         ]
        },
        {
         "hovertemplate": "%{x}<br>%{y:.2%}<br>GAP<extra></extra>",
         "marker": {
          "color": "#FF97FF"
         },
         "name": "GAP",
         "offsetgroup": "GAP",
         "showlegend": false,
         "type": "bar",
         "x": [
          2018
         ],
         "y": [
          -0.0035593861757549417
         ]
        },
        {
         "hovertemplate": "%{x}<br>%{y:.2%}<br>OEC<extra></extra>",
         "marker": {
          "color": "rgb(135, 197, 95)"
         },
         "name": "OEC",
         "offsetgroup": "OEC",
         "showlegend": false,
         "type": "bar",
         "x": [
          2018
         ],
         "y": [
          -0.0037149065845650557
         ]
        },
        {
         "hovertemplate": "%{x}<br>%{y:.2%}<br>MATV<extra></extra>",
         "marker": {
          "color": "#FECB52"
         },
         "name": "MATV",
         "offsetgroup": "MATV",
         "showlegend": false,
         "type": "bar",
         "x": [
          2018
         ],
         "y": [
          -0.003982782216459714
         ]
        },
        {
         "hovertemplate": "%{x}<br>%{y:.2%}<br>PCH<extra></extra>",
         "marker": {
          "color": "rgb(179, 179, 179)"
         },
         "name": "PCH",
         "offsetgroup": "PCH",
         "showlegend": false,
         "type": "bar",
         "x": [
          2018
         ],
         "y": [
          -0.0048709276443211
         ]
        },
        {
         "hovertemplate": "%{x}<br>%{y:.2%}<br>CNS<extra></extra>",
         "marker": {
          "color": "rgb(217,95,2)"
         },
         "name": "CNS",
         "offsetgroup": "CNS",
         "showlegend": false,
         "type": "bar",
         "x": [
          2018
         ],
         "y": [
          -0.005458463485352833
         ]
        },
        {
         "hovertemplate": "%{x}<br>%{y:.2%}<br>EMR<extra></extra>",
         "marker": {
          "color": "#AB63FA"
         },
         "name": "EMR",
         "offsetgroup": "EMR",
         "showlegend": false,
         "type": "bar",
         "x": [
          2018
         ],
         "y": [
          -0.006750596531918926
         ]
        },
        {
         "hovertemplate": "%{x}<br>%{y:.2%}<br>LEG<extra></extra>",
         "marker": {
          "color": "#AB63FA"
         },
         "name": "LEG",
         "offsetgroup": "LEG",
         "showlegend": false,
         "type": "bar",
         "x": [
          2018
         ],
         "y": [
          -0.007714548242461183
         ]
        },
        {
         "hovertemplate": "%{x}<br>%{y:.2%}<br>BOH<extra></extra>",
         "marker": {
          "color": "rgb(153,153,153)"
         },
         "name": "BOH",
         "offsetgroup": "BOH",
         "showlegend": false,
         "type": "bar",
         "x": [
          2018
         ],
         "y": [
          -0.007879188782071736
         ]
        },
        {
         "hovertemplate": "%{x}<br>%{y:.2%}<br>GIS<extra></extra>",
         "marker": {
          "color": "rgb(255,255,51)"
         },
         "name": "GIS",
         "offsetgroup": "GIS",
         "showlegend": false,
         "type": "bar",
         "x": [
          2018
         ],
         "y": [
          -0.00906308080526115
         ]
        },
        {
         "hovertemplate": "%{x}<br>%{y:.2%}<br>LVS<extra></extra>",
         "marker": {
          "color": "#FF6692"
         },
         "name": "LVS",
         "offsetgroup": "LVS",
         "showlegend": false,
         "type": "bar",
         "x": [
          2018
         ],
         "y": [
          -0.009858711143635426
         ]
        },
        {
         "hovertemplate": "%{x}<br>%{y:.2%}<br>APAM<extra></extra>",
         "marker": {
          "color": "#FECB52"
         },
         "name": "APAM",
         "offsetgroup": "APAM",
         "showlegend": false,
         "type": "bar",
         "x": [
          2018
         ],
         "y": [
          -0.010374491572618869
         ]
        },
        {
         "hovertemplate": "%{x}<br>%{y:.2%}<br>APO<extra></extra>",
         "marker": {
          "color": "rgb(228,26,28)"
         },
         "name": "APO",
         "offsetgroup": "APO",
         "showlegend": false,
         "type": "bar",
         "x": [
          2018
         ],
         "y": [
          -0.010397859510854396
         ]
        },
        {
         "hovertemplate": "%{x}<br>%{y:.2%}<br>BBWI<extra></extra>",
         "marker": {
          "color": "rgb(152,78,163)"
         },
         "name": "BBWI",
         "offsetgroup": "BBWI",
         "showlegend": false,
         "type": "bar",
         "x": [
          2018
         ],
         "y": [
          -0.017575212391039347
         ]
        },
        {
         "base": 0,
         "hovertemplate": "BXMT: 0.02%<extra></extra>",
         "marker": {
          "color": "rgb(246, 207, 113)"
         },
         "name": "BXMT",
         "offsetgroup": "BXMT",
         "type": "bar",
         "x": [
          2018
         ],
         "y": [
          0.00022995987026239715
         ]
        },
        {
         "base": 0.00022995987026239715,
         "hovertemplate": "HRB: 0.04%<extra></extra>",
         "marker": {
          "color": "rgb(135, 197, 95)"
         },
         "name": "HRB",
         "offsetgroup": "HRB",
         "type": "bar",
         "x": [
          2018
         ],
         "y": [
          0.00036706147566008
         ]
        },
        {
         "base": 0.0005970213459224772,
         "hovertemplate": "CXW: 0.07%<extra></extra>",
         "marker": {
          "color": "rgb(230,171,2)"
         },
         "name": "CXW",
         "offsetgroup": "CXW",
         "type": "bar",
         "x": [
          2018
         ],
         "y": [
          0.0007004580939034373
         ]
        },
        {
         "base": 0.0012974794398259144,
         "hovertemplate": "ALSN: 0.07%<extra></extra>",
         "marker": {
          "color": "#19D3F3"
         },
         "name": "ALSN",
         "offsetgroup": "ALSN",
         "type": "bar",
         "x": [
          2018
         ],
         "y": [
          0.0007396990064289857
         ]
        },
        {
         "base": 0.0020371784462549,
         "hovertemplate": "HI: 0.15%<extra></extra>",
         "marker": {
          "color": "rgb(246, 207, 113)"
         },
         "name": "HI",
         "offsetgroup": "HI",
         "type": "bar",
         "x": [
          2018
         ],
         "y": [
          0.0015301450700212881
         ]
        },
        {
         "base": 0.0035673235162761883,
         "hovertemplate": "WSM: 0.17%<extra></extra>",
         "marker": {
          "color": "rgb(220, 176, 242)"
         },
         "name": "WSM",
         "offsetgroup": "WSM",
         "type": "bar",
         "x": [
          2018
         ],
         "y": [
          0.0017355529754064635
         ]
        },
        {
         "base": 0.005302876491682652,
         "hovertemplate": "MSM: 0.20%<extra></extra>",
         "marker": {
          "color": "rgb(153,153,153)"
         },
         "name": "MSM",
         "offsetgroup": "MSM",
         "type": "bar",
         "x": [
          2018
         ],
         "y": [
          0.0019862441192636184
         ]
        },
        {
         "base": 0.007289120610946271,
         "hovertemplate": "DBI: 0.21%<extra></extra>",
         "marker": {
          "color": "rgb(166,118,29)"
         },
         "name": "DBI",
         "offsetgroup": "DBI",
         "type": "bar",
         "x": [
          2018
         ],
         "y": [
          0.00213644663887548
         ]
        },
        {
         "base": 0.009425567249821751,
         "hovertemplate": "K: 0.24%<extra></extra>",
         "marker": {
          "color": "rgb(217,95,2)"
         },
         "name": "K",
         "offsetgroup": "K",
         "type": "bar",
         "x": [
          2018
         ],
         "y": [
          0.0024065781967127615
         ]
        },
        {
         "base": 0.011832145446534513,
         "hovertemplate": "CBRL: 0.24%<extra></extra>",
         "marker": {
          "color": "rgb(135, 197, 95)"
         },
         "name": "CBRL",
         "offsetgroup": "CBRL",
         "type": "bar",
         "x": [
          2018
         ],
         "y": [
          0.002440909741822108
         ]
        },
        {
         "base": 0.014273055188356622,
         "hovertemplate": "YUM: 0.25%<extra></extra>",
         "marker": {
          "color": "rgb(158, 185, 243)"
         },
         "name": "YUM",
         "offsetgroup": "YUM",
         "type": "bar",
         "x": [
          2018
         ],
         "y": [
          0.0024812020759793652
         ]
        },
        {
         "base": 0.016754257264335985,
         "hovertemplate": "PAYX: 0.26%<extra></extra>",
         "marker": {
          "color": "rgb(201, 219, 116)"
         },
         "name": "PAYX",
         "offsetgroup": "PAYX",
         "type": "bar",
         "x": [
          2018
         ],
         "y": [
          0.0025566044344031043
         ]
        },
        {
         "base": 0.01931086169873909,
         "hovertemplate": "GPC: 0.31%<extra></extra>",
         "marker": {
          "color": "rgb(166,86,40)"
         },
         "name": "GPC",
         "offsetgroup": "GPC",
         "type": "bar",
         "x": [
          2018
         ],
         "y": [
          0.003051993528562808
         ]
        },
        {
         "base": 0.022362855227301897,
         "hovertemplate": "PEP: 0.32%<extra></extra>",
         "marker": {
          "color": "rgb(27,158,119)"
         },
         "name": "PEP",
         "offsetgroup": "PEP",
         "type": "bar",
         "x": [
          2018
         ],
         "y": [
          0.003151612264364962
         ]
        },
        {
         "base": 0.02551446749166686,
         "hovertemplate": "PG: 0.38%<extra></extra>",
         "marker": {
          "color": "rgb(117,112,179)"
         },
         "name": "PG",
         "offsetgroup": "PG",
         "type": "bar",
         "x": [
          2018
         ],
         "y": [
          0.003756796424871577
         ]
        },
        {
         "base": 0.029271263916538434,
         "hovertemplate": "M: 0.49%<extra></extra>",
         "marker": {
          "color": "#B6E880"
         },
         "name": "M",
         "offsetgroup": "M",
         "type": "bar",
         "x": [
          2018
         ],
         "y": [
          0.00485908649173955
         ]
        },
        {
         "base": 0.034130350408277985,
         "hovertemplate": "OMC: 0.55%<extra></extra>",
         "marker": {
          "color": "rgb(158, 185, 243)"
         },
         "name": "OMC",
         "offsetgroup": "OMC",
         "type": "bar",
         "x": [
          2018
         ],
         "y": [
          0.005502158135530986
         ]
        },
        {
         "base": 0.03963250854380897,
         "hovertemplate": "KDP: 0.82%<extra></extra>",
         "marker": {
          "color": "rgb(231,41,138)"
         },
         "name": "KDP",
         "offsetgroup": "KDP",
         "type": "bar",
         "x": [
          2018
         ],
         "y": [
          0.008187068579346292
         ]
        },
        {
         "base": 0.04781957712315526,
         "hovertemplate": "ADP: 1.05%<extra></extra>",
         "marker": {
          "color": "#00CC96"
         },
         "name": "ADP",
         "offsetgroup": "ADP",
         "type": "bar",
         "x": [
          2018
         ],
         "y": [
          0.010528159244186083
         ]
        },
        {
         "base": 0.05834773636734134,
         "hovertemplate": "DIN: 1.10%<extra></extra>",
         "marker": {
          "color": "#636EFA"
         },
         "name": "DIN",
         "offsetgroup": "DIN",
         "type": "bar",
         "x": [
          2018
         ],
         "y": [
          0.010953052234175711
         ]
        },
        {
         "base": 0.06930078860151706,
         "hovertemplate": "CSCO: 1.17%<extra></extra>",
         "marker": {
          "color": "rgb(231,41,138)"
         },
         "name": "CSCO",
         "offsetgroup": "CSCO",
         "type": "bar",
         "x": [
          2018
         ],
         "y": [
          0.011692528669119276
         ]
        },
        {
         "base": 0.08099331727063634,
         "hovertemplate": "BGS: 1.21%<extra></extra>",
         "marker": {
          "color": "rgb(255,255,51)"
         },
         "name": "BGS",
         "offsetgroup": "BGS",
         "type": "bar",
         "x": [
          2018
         ],
         "y": [
          0.012076963319568838
         ]
        },
        {
         "hovertemplate": "%{x}<br>%{y:.2%}<br>TPR<extra></extra>",
         "marker": {
          "color": "rgb(77,175,74)"
         },
         "name": "TPR",
         "offsetgroup": "TPR",
         "showlegend": false,
         "type": "bar",
         "x": [
          2019
         ],
         "y": [
          -0.00004655713329257058
         ]
        },
        {
         "hovertemplate": "%{x}<br>%{y:.2%}<br>BBWI<extra></extra>",
         "marker": {
          "color": "rgb(152,78,163)"
         },
         "name": "BBWI",
         "offsetgroup": "BBWI",
         "showlegend": false,
         "type": "bar",
         "x": [
          2019
         ],
         "y": [
          -0.0007965038808558182
         ]
        },
        {
         "hovertemplate": "%{x}<br>%{y:.2%}<br>EVR<extra></extra>",
         "marker": {
          "color": "#19D3F3"
         },
         "name": "EVR",
         "offsetgroup": "EVR",
         "showlegend": false,
         "type": "bar",
         "x": [
          2019
         ],
         "y": [
          -0.000926265964826382
         ]
        },
        {
         "hovertemplate": "%{x}<br>%{y:.2%}<br>IBM<extra></extra>",
         "marker": {
          "color": "rgb(158, 185, 243)"
         },
         "name": "IBM",
         "offsetgroup": "IBM",
         "showlegend": false,
         "type": "bar",
         "x": [
          2019
         ],
         "y": [
          -0.0010810064134496283
         ]
        },
        {
         "hovertemplate": "%{x}<br>%{y:.2%}<br>MC<extra></extra>",
         "marker": {
          "color": "rgb(228,26,28)"
         },
         "name": "MC",
         "offsetgroup": "MC",
         "showlegend": false,
         "type": "bar",
         "x": [
          2019
         ],
         "y": [
          -0.0021556578843593176
         ]
        },
        {
         "hovertemplate": "%{x}<br>%{y:.2%}<br>OEC<extra></extra>",
         "marker": {
          "color": "rgb(135, 197, 95)"
         },
         "name": "OEC",
         "offsetgroup": "OEC",
         "showlegend": false,
         "type": "bar",
         "x": [
          2019
         ],
         "y": [
          -0.0070204791171465854
         ]
        },
        {
         "hovertemplate": "%{x}<br>%{y:.2%}<br>BGS<extra></extra>",
         "marker": {
          "color": "rgb(255,255,51)"
         },
         "name": "BGS",
         "offsetgroup": "BGS",
         "showlegend": false,
         "type": "bar",
         "x": [
          2019
         ],
         "y": [
          -0.012645551066082098
         ]
        },
        {
         "hovertemplate": "%{x}<br>%{y:.2%}<br>GAP<extra></extra>",
         "marker": {
          "color": "#FF97FF"
         },
         "name": "GAP",
         "offsetgroup": "GAP",
         "showlegend": false,
         "type": "bar",
         "x": [
          2019
         ],
         "y": [
          -0.013493748865590627
         ]
        },
        {
         "base": 0,
         "hovertemplate": "CMI: 0.07%<extra></extra>",
         "marker": {
          "color": "rgb(180, 151, 231)"
         },
         "name": "CMI",
         "offsetgroup": "CMI",
         "type": "bar",
         "x": [
          2019
         ],
         "y": [
          0.0007481920776718498
         ]
        },
        {
         "base": 0.0007481920776718498,
         "hovertemplate": "CBRL: 0.18%<extra></extra>",
         "marker": {
          "color": "rgb(135, 197, 95)"
         },
         "name": "CBRL",
         "offsetgroup": "CBRL",
         "type": "bar",
         "x": [
          2019
         ],
         "y": [
          0.001763384367524376
         ]
        },
        {
         "base": 0.002511576445196226,
         "hovertemplate": "CHRW: 0.18%<extra></extra>",
         "marker": {
          "color": "rgb(158, 185, 243)"
         },
         "name": "CHRW",
         "offsetgroup": "CHRW",
         "type": "bar",
         "x": [
          2019
         ],
         "y": [
          0.0018410275376472228
         ]
        },
        {
         "base": 0.004352603982843449,
         "hovertemplate": "ABBV: 0.22%<extra></extra>",
         "marker": {
          "color": "#636EFA"
         },
         "name": "ABBV",
         "offsetgroup": "ABBV",
         "type": "bar",
         "x": [
          2019
         ],
         "y": [
          0.002223870518247679
         ]
        },
        {
         "base": 0.0065764745010911275,
         "hovertemplate": "CAH: 0.24%<extra></extra>",
         "marker": {
          "color": "rgb(220, 176, 242)"
         },
         "name": "CAH",
         "offsetgroup": "CAH",
         "type": "bar",
         "x": [
          2019
         ],
         "y": [
          0.0023799153600073796
         ]
        },
        {
         "base": 0.008956389861098507,
         "hovertemplate": "FIZZ: 0.40%<extra></extra>",
         "marker": {
          "color": "#B6E880"
         },
         "name": "FIZZ",
         "offsetgroup": "FIZZ",
         "type": "bar",
         "x": [
          2019
         ],
         "y": [
          0.003989188016944112
         ]
        },
        {
         "base": 0.01294557787804262,
         "hovertemplate": "PEP: 0.44%<extra></extra>",
         "marker": {
          "color": "rgb(27,158,119)"
         },
         "name": "PEP",
         "offsetgroup": "PEP",
         "type": "bar",
         "x": [
          2019
         ],
         "y": [
          0.0044231530435293945
         ]
        },
        {
         "base": 0.017368730921572012,
         "hovertemplate": "MMM: 0.58%<extra></extra>",
         "marker": {
          "color": "rgb(255,255,51)"
         },
         "name": "MMM",
         "offsetgroup": "MMM",
         "type": "bar",
         "x": [
          2019
         ],
         "y": [
          0.005767095854330336
         ]
        },
        {
         "base": 0.023135826775902348,
         "hovertemplate": "GPC: 0.59%<extra></extra>",
         "marker": {
          "color": "rgb(166,86,40)"
         },
         "name": "GPC",
         "offsetgroup": "GPC",
         "type": "bar",
         "x": [
          2019
         ],
         "y": [
          0.005861622441584762
         ]
        },
        {
         "base": 0.02899744921748711,
         "hovertemplate": "OMC: 0.59%<extra></extra>",
         "marker": {
          "color": "rgb(158, 185, 243)"
         },
         "name": "OMC",
         "offsetgroup": "OMC",
         "type": "bar",
         "x": [
          2019
         ],
         "y": [
          0.005895232970728721
         ]
        },
        {
         "base": 0.03489268218821583,
         "hovertemplate": "APO: 0.62%<extra></extra>",
         "marker": {
          "color": "rgb(228,26,28)"
         },
         "name": "APO",
         "offsetgroup": "APO",
         "type": "bar",
         "x": [
          2019
         ],
         "y": [
          0.006189245568884091
         ]
        },
        {
         "base": 0.04108192775709992,
         "hovertemplate": "K: 0.63%<extra></extra>",
         "marker": {
          "color": "rgb(217,95,2)"
         },
         "name": "K",
         "offsetgroup": "K",
         "type": "bar",
         "x": [
          2019
         ],
         "y": [
          0.006329435510440779
         ]
        },
        {
         "base": 0.0474113632675407,
         "hovertemplate": "RTX: 0.64%<extra></extra>",
         "marker": {
          "color": "#EF553B"
         },
         "name": "RTX",
         "offsetgroup": "RTX",
         "type": "bar",
         "x": [
          2019
         ],
         "y": [
          0.006446271581428244
         ]
        },
        {
         "base": 0.053857634848968945,
         "hovertemplate": "LAZ: 0.68%<extra></extra>",
         "marker": {
          "color": "#00CC96"
         },
         "name": "LAZ",
         "offsetgroup": "LAZ",
         "type": "bar",
         "x": [
          2019
         ],
         "y": [
          0.006800431726716709
         ]
        },
        {
         "base": 0.060658066575685655,
         "hovertemplate": "CXW: 0.71%<extra></extra>",
         "marker": {
          "color": "rgb(230,171,2)"
         },
         "name": "CXW",
         "offsetgroup": "CXW",
         "type": "bar",
         "x": [
          2019
         ],
         "y": [
          0.007059558673197103
         ]
        },
        {
         "base": 0.06771762524888275,
         "hovertemplate": "KAR: 0.73%<extra></extra>",
         "marker": {
          "color": "rgb(117,112,179)"
         },
         "name": "KAR",
         "offsetgroup": "KAR",
         "type": "bar",
         "x": [
          2019
         ],
         "y": [
          0.007301594853995514
         ]
        },
        {
         "base": 0.07501922010287826,
         "hovertemplate": "CNS: 0.76%<extra></extra>",
         "marker": {
          "color": "rgb(217,95,2)"
         },
         "name": "CNS",
         "offsetgroup": "CNS",
         "type": "bar",
         "x": [
          2019
         ],
         "y": [
          0.007636603816477547
         ]
        },
        {
         "base": 0.0826558239193558,
         "hovertemplate": "BBY: 0.77%<extra></extra>",
         "marker": {
          "color": "rgb(255,127,0)"
         },
         "name": "BBY",
         "offsetgroup": "BBY",
         "type": "bar",
         "x": [
          2019
         ],
         "y": [
          0.00769891196927118
         ]
        },
        {
         "base": 0.09035473588862698,
         "hovertemplate": "PCH: 0.78%<extra></extra>",
         "marker": {
          "color": "rgb(179, 179, 179)"
         },
         "name": "PCH",
         "offsetgroup": "PCH",
         "type": "bar",
         "x": [
          2019
         ],
         "y": [
          0.007831026832849619
         ]
        },
        {
         "base": 0.0981857627214766,
         "hovertemplate": "HI: 0.93%<extra></extra>",
         "marker": {
          "color": "rgb(246, 207, 113)"
         },
         "name": "HI",
         "offsetgroup": "HI",
         "type": "bar",
         "x": [
          2019
         ],
         "y": [
          0.00930739388581693
         ]
        },
        {
         "base": 0.10749315660729353,
         "hovertemplate": "MATV: 1.00%<extra></extra>",
         "marker": {
          "color": "#FECB52"
         },
         "name": "MATV",
         "offsetgroup": "MATV",
         "type": "bar",
         "x": [
          2019
         ],
         "y": [
          0.009982081967235617
         ]
        },
        {
         "base": 0.11747523857452914,
         "hovertemplate": "LVS: 1.09%<extra></extra>",
         "marker": {
          "color": "#FF6692"
         },
         "name": "LVS",
         "offsetgroup": "LVS",
         "type": "bar",
         "x": [
          2019
         ],
         "y": [
          0.010916734362526624
         ]
        },
        {
         "base": 0.12839197293705576,
         "hovertemplate": "PG: 1.14%<extra></extra>",
         "marker": {
          "color": "rgb(117,112,179)"
         },
         "name": "PG",
         "offsetgroup": "PG",
         "type": "bar",
         "x": [
          2019
         ],
         "y": [
          0.011436172007322568
         ]
        },
        {
         "base": 0.13982814494437834,
         "hovertemplate": "BMY: 1.15%<extra></extra>",
         "marker": {
          "color": "rgb(247,129,191)"
         },
         "name": "BMY",
         "offsetgroup": "BMY",
         "type": "bar",
         "x": [
          2019
         ],
         "y": [
          0.011533925076195058
         ]
        },
        {
         "base": 0.1513620700205734,
         "hovertemplate": "EMR: 1.16%<extra></extra>",
         "marker": {
          "color": "#AB63FA"
         },
         "name": "EMR",
         "offsetgroup": "EMR",
         "type": "bar",
         "x": [
          2019
         ],
         "y": [
          0.011583011941899089
         ]
        },
        {
         "base": 0.16294508196247248,
         "hovertemplate": "SCS: 1.16%<extra></extra>",
         "marker": {
          "color": "#19D3F3"
         },
         "name": "SCS",
         "offsetgroup": "SCS",
         "type": "bar",
         "x": [
          2019
         ],
         "y": [
          0.011594561948201871
         ]
        },
        {
         "base": 0.17453964391067436,
         "hovertemplate": "PAYX: 1.20%<extra></extra>",
         "marker": {
          "color": "rgb(201, 219, 116)"
         },
         "name": "PAYX",
         "offsetgroup": "PAYX",
         "type": "bar",
         "x": [
          2019
         ],
         "y": [
          0.012042192876932934
         ]
        },
        {
         "base": 0.18658183678760729,
         "hovertemplate": "GIS: 1.28%<extra></extra>",
         "marker": {
          "color": "rgb(255,255,51)"
         },
         "name": "GIS",
         "offsetgroup": "GIS",
         "type": "bar",
         "x": [
          2019
         ],
         "y": [
          0.012810408047572537
         ]
        },
        {
         "base": 0.1993922448351798,
         "hovertemplate": "BOH: 1.49%<extra></extra>",
         "marker": {
          "color": "rgb(153,153,153)"
         },
         "name": "BOH",
         "offsetgroup": "BOH",
         "type": "bar",
         "x": [
          2019
         ],
         "y": [
          0.014870072177550422
         ]
        },
        {
         "base": 0.21426231701273024,
         "hovertemplate": "LEG: 1.69%<extra></extra>",
         "marker": {
          "color": "#AB63FA"
         },
         "name": "LEG",
         "offsetgroup": "LEG",
         "type": "bar",
         "x": [
          2019
         ],
         "y": [
          0.01692163212954569
         ]
        },
        {
         "base": 0.23118394914227594,
         "hovertemplate": "BKE: 2.03%<extra></extra>",
         "marker": {
          "color": "rgb(166,86,40)"
         },
         "name": "BKE",
         "offsetgroup": "BKE",
         "type": "bar",
         "x": [
          2019
         ],
         "y": [
          0.020258321607454593
         ]
        },
        {
         "base": 0.2514422707497305,
         "hovertemplate": "APAM: 2.08%<extra></extra>",
         "marker": {
          "color": "#FECB52"
         },
         "name": "APAM",
         "offsetgroup": "APAM",
         "type": "bar",
         "x": [
          2019
         ],
         "y": [
          0.020776875831920217
         ]
        },
        {
         "base": 0.27221914658165075,
         "hovertemplate": "WSM: 2.13%<extra></extra>",
         "marker": {
          "color": "rgb(220, 176, 242)"
         },
         "name": "WSM",
         "offsetgroup": "WSM",
         "type": "bar",
         "x": [
          2019
         ],
         "y": [
          0.02132059591779882
         ]
        },
        {
         "base": 0.2935397424994496,
         "hovertemplate": "TGT: 2.98%<extra></extra>",
         "marker": {
          "color": "rgb(55,126,184)"
         },
         "name": "TGT",
         "offsetgroup": "TGT",
         "type": "bar",
         "x": [
          2019
         ],
         "y": [
          0.029828357679319413
         ]
        },
        {
         "hovertemplate": "%{x}<br>%{y:.2%}<br>AMSF<extra></extra>",
         "marker": {
          "color": "#FF97FF"
         },
         "name": "AMSF",
         "offsetgroup": "AMSF",
         "showlegend": false,
         "type": "bar",
         "x": [
          2020
         ],
         "y": [
          -0.000451561520629015
         ]
        },
        {
         "hovertemplate": "%{x}<br>%{y:.2%}<br>KAR<extra></extra>",
         "marker": {
          "color": "rgb(117,112,179)"
         },
         "name": "KAR",
         "offsetgroup": "KAR",
         "showlegend": false,
         "type": "bar",
         "x": [
          2020
         ],
         "y": [
          -0.0009345067329888223
         ]
        },
        {
         "hovertemplate": "%{x}<br>%{y:.2%}<br>CAH<extra></extra>",
         "marker": {
          "color": "rgb(220, 176, 242)"
         },
         "name": "CAH",
         "offsetgroup": "CAH",
         "showlegend": false,
         "type": "bar",
         "x": [
          2020
         ],
         "y": [
          -0.0018908076950317817
         ]
        },
        {
         "hovertemplate": "%{x}<br>%{y:.2%}<br>BMY<extra></extra>",
         "marker": {
          "color": "rgb(247,129,191)"
         },
         "name": "BMY",
         "offsetgroup": "BMY",
         "showlegend": false,
         "type": "bar",
         "x": [
          2020
         ],
         "y": [
          -0.0021541949714969032
         ]
        },
        {
         "hovertemplate": "%{x}<br>%{y:.2%}<br>JWN<extra></extra>",
         "marker": {
          "color": "rgb(27,158,119)"
         },
         "name": "JWN",
         "offsetgroup": "JWN",
         "showlegend": false,
         "type": "bar",
         "x": [
          2020
         ],
         "y": [
          -0.002340520039635096
         ]
        },
        {
         "hovertemplate": "%{x}<br>%{y:.2%}<br>CBRL<extra></extra>",
         "marker": {
          "color": "rgb(135, 197, 95)"
         },
         "name": "CBRL",
         "offsetgroup": "CBRL",
         "showlegend": false,
         "type": "bar",
         "x": [
          2020
         ],
         "y": [
          -0.002748528171367524
         ]
        },
        {
         "hovertemplate": "%{x}<br>%{y:.2%}<br>OMC<extra></extra>",
         "marker": {
          "color": "rgb(158, 185, 243)"
         },
         "name": "OMC",
         "offsetgroup": "OMC",
         "showlegend": false,
         "type": "bar",
         "x": [
          2020
         ],
         "y": [
          -0.002908040259216596
         ]
        },
        {
         "hovertemplate": "%{x}<br>%{y:.2%}<br>MC<extra></extra>",
         "marker": {
          "color": "rgb(228,26,28)"
         },
         "name": "MC",
         "offsetgroup": "MC",
         "showlegend": false,
         "type": "bar",
         "x": [
          2020
         ],
         "y": [
          -0.0035954760731716617
         ]
        },
        {
         "hovertemplate": "%{x}<br>%{y:.2%}<br>K<extra></extra>",
         "marker": {
          "color": "rgb(217,95,2)"
         },
         "name": "K",
         "offsetgroup": "K",
         "showlegend": false,
         "type": "bar",
         "x": [
          2020
         ],
         "y": [
          -0.005055147520805519
         ]
        },
        {
         "hovertemplate": "%{x}<br>%{y:.2%}<br>LVS<extra></extra>",
         "marker": {
          "color": "#FF6692"
         },
         "name": "LVS",
         "offsetgroup": "LVS",
         "showlegend": false,
         "type": "bar",
         "x": [
          2020
         ],
         "y": [
          -0.0070389577118183215
         ]
        },
        {
         "hovertemplate": "%{x}<br>%{y:.2%}<br>TPR<extra></extra>",
         "marker": {
          "color": "rgb(77,175,74)"
         },
         "name": "TPR",
         "offsetgroup": "TPR",
         "showlegend": false,
         "type": "bar",
         "x": [
          2020
         ],
         "y": [
          -0.008046684664515979
         ]
        },
        {
         "hovertemplate": "%{x}<br>%{y:.2%}<br>HNI<extra></extra>",
         "marker": {
          "color": "rgb(248, 156, 116)"
         },
         "name": "HNI",
         "offsetgroup": "HNI",
         "showlegend": false,
         "type": "bar",
         "x": [
          2020
         ],
         "y": [
          -0.008266105460072485
         ]
        },
        {
         "hovertemplate": "%{x}<br>%{y:.2%}<br>BKE<extra></extra>",
         "marker": {
          "color": "rgb(166,86,40)"
         },
         "name": "BKE",
         "offsetgroup": "BKE",
         "showlegend": false,
         "type": "bar",
         "x": [
          2020
         ],
         "y": [
          -0.010834637755337218
         ]
        },
        {
         "hovertemplate": "%{x}<br>%{y:.2%}<br>SCS<extra></extra>",
         "marker": {
          "color": "#19D3F3"
         },
         "name": "SCS",
         "offsetgroup": "SCS",
         "showlegend": false,
         "type": "bar",
         "x": [
          2020
         ],
         "y": [
          -0.011287801049147289
         ]
        },
        {
         "hovertemplate": "%{x}<br>%{y:.2%}<br>MATV<extra></extra>",
         "marker": {
          "color": "#FECB52"
         },
         "name": "MATV",
         "offsetgroup": "MATV",
         "showlegend": false,
         "type": "bar",
         "x": [
          2020
         ],
         "y": [
          -0.01301261509933298
         ]
        },
        {
         "hovertemplate": "%{x}<br>%{y:.2%}<br>GPC<extra></extra>",
         "marker": {
          "color": "rgb(166,86,40)"
         },
         "name": "GPC",
         "offsetgroup": "GPC",
         "showlegend": false,
         "type": "bar",
         "x": [
          2020
         ],
         "y": [
          -0.014711187518215546
         ]
        },
        {
         "hovertemplate": "%{x}<br>%{y:.2%}<br>RTX<extra></extra>",
         "marker": {
          "color": "#EF553B"
         },
         "name": "RTX",
         "offsetgroup": "RTX",
         "showlegend": false,
         "type": "bar",
         "x": [
          2020
         ],
         "y": [
          -0.015030856013119551
         ]
        },
        {
         "base": 0,
         "hovertemplate": "CPB: 0.03%<extra></extra>",
         "marker": {
          "color": "rgb(117,112,179)"
         },
         "name": "CPB",
         "offsetgroup": "CPB",
         "type": "bar",
         "x": [
          2020
         ],
         "y": [
          0.00031223392655784247
         ]
        },
        {
         "base": 0.00031223392655784247,
         "hovertemplate": "GIS: 0.06%<extra></extra>",
         "marker": {
          "color": "rgb(255,255,51)"
         },
         "name": "GIS",
         "offsetgroup": "GIS",
         "type": "bar",
         "x": [
          2020
         ],
         "y": [
          0.0005848457464102685
         ]
        },
        {
         "base": 0.000897079672968111,
         "hovertemplate": "IBM: 0.11%<extra></extra>",
         "marker": {
          "color": "rgb(158, 185, 243)"
         },
         "name": "IBM",
         "offsetgroup": "IBM",
         "type": "bar",
         "x": [
          2020
         ],
         "y": [
          0.0011126367086094558
         ]
        },
        {
         "base": 0.002009716381577567,
         "hovertemplate": "MMM: 0.18%<extra></extra>",
         "marker": {
          "color": "rgb(255,255,51)"
         },
         "name": "MMM",
         "offsetgroup": "MMM",
         "type": "bar",
         "x": [
          2020
         ],
         "y": [
          0.0017677225932580518
         ]
        },
        {
         "base": 0.0037774389748356186,
         "hovertemplate": "BOH: 0.22%<extra></extra>",
         "marker": {
          "color": "rgb(153,153,153)"
         },
         "name": "BOH",
         "offsetgroup": "BOH",
         "type": "bar",
         "x": [
          2020
         ],
         "y": [
          0.0021763859154959983
         ]
        },
        {
         "base": 0.005953824890331617,
         "hovertemplate": "LEG: 0.25%<extra></extra>",
         "marker": {
          "color": "#AB63FA"
         },
         "name": "LEG",
         "offsetgroup": "LEG",
         "type": "bar",
         "x": [
          2020
         ],
         "y": [
          0.0025079967517988733
         ]
        },
        {
         "base": 0.00846182164213049,
         "hovertemplate": "PAYX: 0.54%<extra></extra>",
         "marker": {
          "color": "rgb(201, 219, 116)"
         },
         "name": "PAYX",
         "offsetgroup": "PAYX",
         "type": "bar",
         "x": [
          2020
         ],
         "y": [
          0.005422295138477087
         ]
        },
        {
         "base": 0.013884116780607577,
         "hovertemplate": "EMR: 0.57%<extra></extra>",
         "marker": {
          "color": "#AB63FA"
         },
         "name": "EMR",
         "offsetgroup": "EMR",
         "type": "bar",
         "x": [
          2020
         ],
         "y": [
          0.0057320227674763895
         ]
        },
        {
         "base": 0.019616139548083965,
         "hovertemplate": "LAZ: 0.59%<extra></extra>",
         "marker": {
          "color": "#00CC96"
         },
         "name": "LAZ",
         "offsetgroup": "LAZ",
         "type": "bar",
         "x": [
          2020
         ],
         "y": [
          0.005917300821740079
         ]
        },
        {
         "base": 0.025533440369824044,
         "hovertemplate": "FIZZ: 0.63%<extra></extra>",
         "marker": {
          "color": "#B6E880"
         },
         "name": "FIZZ",
         "offsetgroup": "FIZZ",
         "type": "bar",
         "x": [
          2020
         ],
         "y": [
          0.006340100855922301
         ]
        },
        {
         "base": 0.031873541225746344,
         "hovertemplate": "CSCO: 0.91%<extra></extra>",
         "marker": {
          "color": "rgb(231,41,138)"
         },
         "name": "CSCO",
         "offsetgroup": "CSCO",
         "type": "bar",
         "x": [
          2020
         ],
         "y": [
          0.009136618146328745
         ]
        },
        {
         "base": 0.04101015937207509,
         "hovertemplate": "TGT: 1.04%<extra></extra>",
         "marker": {
          "color": "rgb(55,126,184)"
         },
         "name": "TGT",
         "offsetgroup": "TGT",
         "type": "bar",
         "x": [
          2020
         ],
         "y": [
          0.01038175002056192
         ]
        },
        {
         "base": 0.05139190939263701,
         "hovertemplate": "BGS: 1.10%<extra></extra>",
         "marker": {
          "color": "rgb(255,255,51)"
         },
         "name": "BGS",
         "offsetgroup": "BGS",
         "type": "bar",
         "x": [
          2020
         ],
         "y": [
          0.01097683363078516
         ]
        },
        {
         "base": 0.06236874302342217,
         "hovertemplate": "WSM: 1.28%<extra></extra>",
         "marker": {
          "color": "rgb(220, 176, 242)"
         },
         "name": "WSM",
         "offsetgroup": "WSM",
         "type": "bar",
         "x": [
          2020
         ],
         "y": [
          0.01275329783062053
         ]
        },
        {
         "base": 0.0751220408540427,
         "hovertemplate": "HI: 1.32%<extra></extra>",
         "marker": {
          "color": "rgb(246, 207, 113)"
         },
         "name": "HI",
         "offsetgroup": "HI",
         "type": "bar",
         "x": [
          2020
         ],
         "y": [
          0.013194525791973197
         ]
        },
        {
         "base": 0.08831656664601589,
         "hovertemplate": "SYY: 1.47%<extra></extra>",
         "marker": {
          "color": "rgb(228,26,28)"
         },
         "name": "SYY",
         "offsetgroup": "SYY",
         "type": "bar",
         "x": [
          2020
         ],
         "y": [
          0.014701083561110575
         ]
        },
        {
         "base": 0.10301765020712647,
         "hovertemplate": "ABBV: 1.49%<extra></extra>",
         "marker": {
          "color": "#636EFA"
         },
         "name": "ABBV",
         "offsetgroup": "ABBV",
         "type": "bar",
         "x": [
          2020
         ],
         "y": [
          0.014867167236001884
         ]
        },
        {
         "base": 0.11788481744312836,
         "hovertemplate": "HCC: 1.60%<extra></extra>",
         "marker": {
          "color": "rgb(153,153,153)"
         },
         "name": "HCC",
         "offsetgroup": "HCC",
         "type": "bar",
         "x": [
          2020
         ],
         "y": [
          0.016021656394979326
         ]
        },
        {
         "base": 0.1339064738381077,
         "hovertemplate": "HOG: 1.60%<extra></extra>",
         "marker": {
          "color": "rgb(220, 176, 242)"
         },
         "name": "HOG",
         "offsetgroup": "HOG",
         "type": "bar",
         "x": [
          2020
         ],
         "y": [
          0.01603575438738246
         ]
        },
        {
         "base": 0.14994222822549014,
         "hovertemplate": "LAMR: 2.10%<extra></extra>",
         "marker": {
          "color": "#EF553B"
         },
         "name": "LAMR",
         "offsetgroup": "LAMR",
         "type": "bar",
         "x": [
          2020
         ],
         "y": [
          0.020959156481383936
         ]
        },
        {
         "base": 0.17090138470687408,
         "hovertemplate": "APAM: 2.15%<extra></extra>",
         "marker": {
          "color": "#FECB52"
         },
         "name": "APAM",
         "offsetgroup": "APAM",
         "type": "bar",
         "x": [
          2020
         ],
         "y": [
          0.021460302239988877
         ]
        },
        {
         "base": 0.19236168694686295,
         "hovertemplate": "SPG: 2.26%<extra></extra>",
         "marker": {
          "color": "#FF97FF"
         },
         "name": "SPG",
         "offsetgroup": "SPG",
         "type": "bar",
         "x": [
          2020
         ],
         "y": [
          0.02264408896227074
         ]
        },
        {
         "base": 0.2150057759091337,
         "hovertemplate": "DRI: 2.43%<extra></extra>",
         "marker": {
          "color": "#EF553B"
         },
         "name": "DRI",
         "offsetgroup": "DRI",
         "type": "bar",
         "x": [
          2020
         ],
         "y": [
          0.02429435336542183
         ]
        },
        {
         "base": 0.23930012927455552,
         "hovertemplate": "PII: 2.51%<extra></extra>",
         "marker": {
          "color": "rgb(231,41,138)"
         },
         "name": "PII",
         "offsetgroup": "PII",
         "type": "bar",
         "x": [
          2020
         ],
         "y": [
          0.025097251190911878
         ]
        },
        {
         "base": 0.2643973804654674,
         "hovertemplate": "NUS: 3.05%<extra></extra>",
         "marker": {
          "color": "rgb(220, 176, 242)"
         },
         "name": "NUS",
         "offsetgroup": "NUS",
         "type": "bar",
         "x": [
          2020
         ],
         "y": [
          0.03054080888300429
         ]
        },
        {
         "base": 0.2949381893484717,
         "hovertemplate": "SABR: 3.83%<extra></extra>",
         "marker": {
          "color": "#AB63FA"
         },
         "name": "SABR",
         "offsetgroup": "SABR",
         "type": "bar",
         "x": [
          2020
         ],
         "y": [
          0.038299200508698845
         ]
        },
        {
         "base": 0.33323738985717055,
         "hovertemplate": "MED: 4.25%<extra></extra>",
         "marker": {
          "color": "rgb(152,78,163)"
         },
         "name": "MED",
         "offsetgroup": "MED",
         "type": "bar",
         "x": [
          2020
         ],
         "y": [
          0.04245423697400551
         ]
        },
        {
         "hovertemplate": "%{x}<br>%{y:.2%}<br>NUS<extra></extra>",
         "marker": {
          "color": "rgb(220, 176, 242)"
         },
         "name": "NUS",
         "offsetgroup": "NUS",
         "showlegend": false,
         "type": "bar",
         "x": [
          2021
         ],
         "y": [
          -0.002877906370582063
         ]
        },
        {
         "hovertemplate": "%{x}<br>%{y:.2%}<br>AMSF<extra></extra>",
         "marker": {
          "color": "#FF97FF"
         },
         "name": "AMSF",
         "offsetgroup": "AMSF",
         "showlegend": false,
         "type": "bar",
         "x": [
          2021
         ],
         "y": [
          -0.0036167710887138544
         ]
        },
        {
         "hovertemplate": "%{x}<br>%{y:.2%}<br>VZ<extra></extra>",
         "marker": {
          "color": "rgb(246, 207, 113)"
         },
         "name": "VZ",
         "offsetgroup": "VZ",
         "showlegend": false,
         "type": "bar",
         "x": [
          2021
         ],
         "y": [
          -0.005061210144708044
         ]
        },
        {
         "hovertemplate": "%{x}<br>%{y:.2%}<br>LAZ<extra></extra>",
         "marker": {
          "color": "#00CC96"
         },
         "name": "LAZ",
         "offsetgroup": "LAZ",
         "showlegend": false,
         "type": "bar",
         "x": [
          2021
         ],
         "y": [
          -0.005642007006624233
         ]
        },
        {
         "hovertemplate": "%{x}<br>%{y:.2%}<br>CPB<extra></extra>",
         "marker": {
          "color": "rgb(117,112,179)"
         },
         "name": "CPB",
         "offsetgroup": "CPB",
         "showlegend": false,
         "type": "bar",
         "x": [
          2021
         ],
         "y": [
          -0.006358475336946548
         ]
        },
        {
         "hovertemplate": "%{x}<br>%{y:.2%}<br>LEG<extra></extra>",
         "marker": {
          "color": "#AB63FA"
         },
         "name": "LEG",
         "offsetgroup": "LEG",
         "showlegend": false,
         "type": "bar",
         "x": [
          2021
         ],
         "y": [
          -0.006786732179236043
         ]
        },
        {
         "hovertemplate": "%{x}<br>%{y:.2%}<br>PII<extra></extra>",
         "marker": {
          "color": "rgb(231,41,138)"
         },
         "name": "PII",
         "offsetgroup": "PII",
         "showlegend": false,
         "type": "bar",
         "x": [
          2021
         ],
         "y": [
          -0.0071723261011643665
         ]
        },
        {
         "base": 0,
         "hovertemplate": "APAM: 0.11%<extra></extra>",
         "marker": {
          "color": "#FECB52"
         },
         "name": "APAM",
         "offsetgroup": "APAM",
         "type": "bar",
         "x": [
          2021
         ],
         "y": [
          0.001074612136171436
         ]
        },
        {
         "base": 0.001074612136171436,
         "hovertemplate": "ABBV: 0.17%<extra></extra>",
         "marker": {
          "color": "#636EFA"
         },
         "name": "ABBV",
         "offsetgroup": "ABBV",
         "type": "bar",
         "x": [
          2021
         ],
         "y": [
          0.0016662424355909618
         ]
        },
        {
         "base": 0.002740854571762398,
         "hovertemplate": "MMM: 0.17%<extra></extra>",
         "marker": {
          "color": "rgb(255,255,51)"
         },
         "name": "MMM",
         "offsetgroup": "MMM",
         "type": "bar",
         "x": [
          2021
         ],
         "y": [
          0.0017461992305771372
         ]
        },
        {
         "base": 0.004487053802339535,
         "hovertemplate": "LAMR: 0.19%<extra></extra>",
         "marker": {
          "color": "#EF553B"
         },
         "name": "LAMR",
         "offsetgroup": "LAMR",
         "type": "bar",
         "x": [
          2021
         ],
         "y": [
          0.0019207479946776842
         ]
        },
        {
         "base": 0.006407801797017219,
         "hovertemplate": "PAYX: 0.25%<extra></extra>",
         "marker": {
          "color": "rgb(201, 219, 116)"
         },
         "name": "PAYX",
         "offsetgroup": "PAYX",
         "type": "bar",
         "x": [
          2021
         ],
         "y": [
          0.0025132580081593985
         ]
        },
        {
         "base": 0.008921059805176618,
         "hovertemplate": "OMC: 0.34%<extra></extra>",
         "marker": {
          "color": "rgb(158, 185, 243)"
         },
         "name": "OMC",
         "offsetgroup": "OMC",
         "type": "bar",
         "x": [
          2021
         ],
         "y": [
          0.003389554168871323
         ]
        },
        {
         "base": 0.012310613974047941,
         "hovertemplate": "GILD: 0.36%<extra></extra>",
         "marker": {
          "color": "rgb(255,127,0)"
         },
         "name": "GILD",
         "offsetgroup": "GILD",
         "type": "bar",
         "x": [
          2021
         ],
         "y": [
          0.003559498384535336
         ]
        },
        {
         "base": 0.015870112358583276,
         "hovertemplate": "MED: 0.47%<extra></extra>",
         "marker": {
          "color": "rgb(152,78,163)"
         },
         "name": "MED",
         "offsetgroup": "MED",
         "type": "bar",
         "x": [
          2021
         ],
         "y": [
          0.004663496414990079
         ]
        },
        {
         "base": 0.020533608773573356,
         "hovertemplate": "K: 0.48%<extra></extra>",
         "marker": {
          "color": "rgb(217,95,2)"
         },
         "name": "K",
         "offsetgroup": "K",
         "type": "bar",
         "x": [
          2021
         ],
         "y": [
          0.004763545089601875
         ]
        },
        {
         "base": 0.025297153863175232,
         "hovertemplate": "BOH: 0.52%<extra></extra>",
         "marker": {
          "color": "rgb(153,153,153)"
         },
         "name": "BOH",
         "offsetgroup": "BOH",
         "type": "bar",
         "x": [
          2021
         ],
         "y": [
          0.005198236299746864
         ]
        },
        {
         "base": 0.030495390162922097,
         "hovertemplate": "IBM: 0.53%<extra></extra>",
         "marker": {
          "color": "rgb(158, 185, 243)"
         },
         "name": "IBM",
         "offsetgroup": "IBM",
         "type": "bar",
         "x": [
          2021
         ],
         "y": [
          0.005260312595784466
         ]
        },
        {
         "base": 0.03575570275870656,
         "hovertemplate": "LMT: 0.55%<extra></extra>",
         "marker": {
          "color": "#19D3F3"
         },
         "name": "LMT",
         "offsetgroup": "LMT",
         "type": "bar",
         "x": [
          2021
         ],
         "y": [
          0.005481099883380103
         ]
        },
        {
         "base": 0.041236802642086665,
         "hovertemplate": "TGT: 0.63%<extra></extra>",
         "marker": {
          "color": "rgb(55,126,184)"
         },
         "name": "TGT",
         "offsetgroup": "TGT",
         "type": "bar",
         "x": [
          2021
         ],
         "y": [
          0.006290186872760867
         ]
        },
        {
         "base": 0.04752698951484753,
         "hovertemplate": "EMR: 0.87%<extra></extra>",
         "marker": {
          "color": "#AB63FA"
         },
         "name": "EMR",
         "offsetgroup": "EMR",
         "type": "bar",
         "x": [
          2021
         ],
         "y": [
          0.008748041821930619
         ]
        },
        {
         "base": 0.05627503133677815,
         "hovertemplate": "GIS: 1.00%<extra></extra>",
         "marker": {
          "color": "rgb(255,255,51)"
         },
         "name": "GIS",
         "offsetgroup": "GIS",
         "type": "bar",
         "x": [
          2021
         ],
         "y": [
          0.01002047078813013
         ]
        },
        {
         "base": 0.06629550212490828,
         "hovertemplate": "SABR: 1.33%<extra></extra>",
         "marker": {
          "color": "#AB63FA"
         },
         "name": "SABR",
         "offsetgroup": "SABR",
         "type": "bar",
         "x": [
          2021
         ],
         "y": [
          0.013278725078250182
         ]
        },
        {
         "base": 0.07957422720315846,
         "hovertemplate": "BGS: 1.61%<extra></extra>",
         "marker": {
          "color": "rgb(255,255,51)"
         },
         "name": "BGS",
         "offsetgroup": "BGS",
         "type": "bar",
         "x": [
          2021
         ],
         "y": [
          0.01609596394621403
         ]
        },
        {
         "base": 0.09567019114937249,
         "hovertemplate": "CSCO: 1.90%<extra></extra>",
         "marker": {
          "color": "rgb(231,41,138)"
         },
         "name": "CSCO",
         "offsetgroup": "CSCO",
         "type": "bar",
         "x": [
          2021
         ],
         "y": [
          0.019018533756300575
         ]
        },
        {
         "base": 0.11468872490567306,
         "hovertemplate": "SPG: 2.07%<extra></extra>",
         "marker": {
          "color": "#FF97FF"
         },
         "name": "SPG",
         "offsetgroup": "SPG",
         "type": "bar",
         "x": [
          2021
         ],
         "y": [
          0.020676290880387534
         ]
        },
        {
         "base": 0.13536501578606058,
         "hovertemplate": "BX: 2.79%<extra></extra>",
         "marker": {
          "color": "rgb(102, 197, 204)"
         },
         "name": "BX",
         "offsetgroup": "BX",
         "type": "bar",
         "x": [
          2021
         ],
         "y": [
          0.027915536336495524
         ]
        },
        {
         "hovertemplate": "%{x}<br>%{y:.2%}<br>PII<extra></extra>",
         "marker": {
          "color": "rgb(231,41,138)"
         },
         "name": "PII",
         "offsetgroup": "PII",
         "showlegend": false,
         "type": "bar",
         "x": [
          2022
         ],
         "y": [
          -0.0002810175465860999
         ]
        },
        {
         "hovertemplate": "%{x}<br>%{y:.2%}<br>VZ<extra></extra>",
         "marker": {
          "color": "rgb(246, 207, 113)"
         },
         "name": "VZ",
         "offsetgroup": "VZ",
         "showlegend": false,
         "type": "bar",
         "x": [
          2022
         ],
         "y": [
          -0.0004723117531981241
         ]
        },
        {
         "hovertemplate": "%{x}<br>%{y:.2%}<br>KTB<extra></extra>",
         "marker": {
          "color": "#636EFA"
         },
         "name": "KTB",
         "offsetgroup": "KTB",
         "showlegend": false,
         "type": "bar",
         "x": [
          2022
         ],
         "y": [
          -0.0014720061003018663
         ]
        },
        {
         "hovertemplate": "%{x}<br>%{y:.2%}<br>PSA<extra></extra>",
         "marker": {
          "color": "rgb(102,102,102)"
         },
         "name": "PSA",
         "offsetgroup": "PSA",
         "showlegend": false,
         "type": "bar",
         "x": [
          2022
         ],
         "y": [
          -0.0018924132542182347
         ]
        },
        {
         "hovertemplate": "%{x}<br>%{y:.2%}<br>CNA<extra></extra>",
         "marker": {
          "color": "rgb(27,158,119)"
         },
         "name": "CNA",
         "offsetgroup": "CNA",
         "showlegend": false,
         "type": "bar",
         "x": [
          2022
         ],
         "y": [
          -0.003008606020612222
         ]
        },
        {
         "hovertemplate": "%{x}<br>%{y:.2%}<br>ALX<extra></extra>",
         "marker": {
          "color": "#FF6692"
         },
         "name": "ALX",
         "offsetgroup": "ALX",
         "showlegend": false,
         "type": "bar",
         "x": [
          2022
         ],
         "y": [
          -0.004933355633356103
         ]
        },
        {
         "hovertemplate": "%{x}<br>%{y:.2%}<br>EMN<extra></extra>",
         "marker": {
          "color": "#00CC96"
         },
         "name": "EMN",
         "offsetgroup": "EMN",
         "showlegend": false,
         "type": "bar",
         "x": [
          2022
         ],
         "y": [
          -0.005131013666384502
         ]
        },
        {
         "hovertemplate": "%{x}<br>%{y:.2%}<br>PCH<extra></extra>",
         "marker": {
          "color": "rgb(179, 179, 179)"
         },
         "name": "PCH",
         "offsetgroup": "PCH",
         "showlegend": false,
         "type": "bar",
         "x": [
          2022
         ],
         "y": [
          -0.006508027822089503
         ]
        },
        {
         "hovertemplate": "%{x}<br>%{y:.2%}<br>IP<extra></extra>",
         "marker": {
          "color": "rgb(201, 219, 116)"
         },
         "name": "IP",
         "offsetgroup": "IP",
         "showlegend": false,
         "type": "bar",
         "x": [
          2022
         ],
         "y": [
          -0.009121350274436736
         ]
        },
        {
         "hovertemplate": "%{x}<br>%{y:.2%}<br>LEG<extra></extra>",
         "marker": {
          "color": "#AB63FA"
         },
         "name": "LEG",
         "offsetgroup": "LEG",
         "showlegend": false,
         "type": "bar",
         "x": [
          2022
         ],
         "y": [
          -0.009673906607634567
         ]
        },
        {
         "hovertemplate": "%{x}<br>%{y:.2%}<br>APAM<extra></extra>",
         "marker": {
          "color": "#FECB52"
         },
         "name": "APAM",
         "offsetgroup": "APAM",
         "showlegend": false,
         "type": "bar",
         "x": [
          2022
         ],
         "y": [
          -0.009765741225315034
         ]
        },
        {
         "hovertemplate": "%{x}<br>%{y:.2%}<br>GIC<extra></extra>",
         "marker": {
          "color": "rgb(152,78,163)"
         },
         "name": "GIC",
         "offsetgroup": "GIC",
         "showlegend": false,
         "type": "bar",
         "x": [
          2022
         ],
         "y": [
          -0.011278709572319343
         ]
        },
        {
         "hovertemplate": "%{x}<br>%{y:.2%}<br>LAZ<extra></extra>",
         "marker": {
          "color": "#00CC96"
         },
         "name": "LAZ",
         "offsetgroup": "LAZ",
         "showlegend": false,
         "type": "bar",
         "x": [
          2022
         ],
         "y": [
          -0.012318440429300897
         ]
        },
        {
         "hovertemplate": "%{x}<br>%{y:.2%}<br>BGS<extra></extra>",
         "marker": {
          "color": "rgb(255,255,51)"
         },
         "name": "BGS",
         "offsetgroup": "BGS",
         "showlegend": false,
         "type": "bar",
         "x": [
          2022
         ],
         "y": [
          -0.012598128000806877
         ]
        },
        {
         "hovertemplate": "%{x}<br>%{y:.2%}<br>CSCO<extra></extra>",
         "marker": {
          "color": "rgb(231,41,138)"
         },
         "name": "CSCO",
         "offsetgroup": "CSCO",
         "showlegend": false,
         "type": "bar",
         "x": [
          2022
         ],
         "y": [
          -0.012809551504887115
         ]
        },
        {
         "hovertemplate": "%{x}<br>%{y:.2%}<br>MED<extra></extra>",
         "marker": {
          "color": "rgb(152,78,163)"
         },
         "name": "MED",
         "offsetgroup": "MED",
         "showlegend": false,
         "type": "bar",
         "x": [
          2022
         ],
         "y": [
          -0.013220943898910698
         ]
        },
        {
         "hovertemplate": "%{x}<br>%{y:.2%}<br>MMM<extra></extra>",
         "marker": {
          "color": "rgb(255,255,51)"
         },
         "name": "MMM",
         "offsetgroup": "MMM",
         "showlegend": false,
         "type": "bar",
         "x": [
          2022
         ],
         "y": [
          -0.015182909764770191
         ]
        },
        {
         "hovertemplate": "%{x}<br>%{y:.2%}<br>OMF<extra></extra>",
         "marker": {
          "color": "rgb(254, 136, 177)"
         },
         "name": "OMF",
         "offsetgroup": "OMF",
         "showlegend": false,
         "type": "bar",
         "x": [
          2022
         ],
         "y": [
          -0.015406683266720594
         ]
        },
        {
         "hovertemplate": "%{x}<br>%{y:.2%}<br>VFC<extra></extra>",
         "marker": {
          "color": "rgb(166,86,40)"
         },
         "name": "VFC",
         "offsetgroup": "VFC",
         "showlegend": false,
         "type": "bar",
         "x": [
          2022
         ],
         "y": [
          -0.019045288663803093
         ]
        },
        {
         "base": 0,
         "hovertemplate": "BX: 0.11%<extra></extra>",
         "marker": {
          "color": "rgb(102, 197, 204)"
         },
         "name": "BX",
         "offsetgroup": "BX",
         "type": "bar",
         "x": [
          2022
         ],
         "y": [
          0.0011208246437100565
         ]
        },
        {
         "base": 0.0011208246437100565,
         "hovertemplate": "DHIL: 0.13%<extra></extra>",
         "marker": {
          "color": "rgb(102,102,102)"
         },
         "name": "DHIL",
         "offsetgroup": "DHIL",
         "type": "bar",
         "x": [
          2022
         ],
         "y": [
          0.0013480661242675814
         ]
        },
        {
         "base": 0.0024688907679776377,
         "hovertemplate": "AMSF: 0.18%<extra></extra>",
         "marker": {
          "color": "#FF97FF"
         },
         "name": "AMSF",
         "offsetgroup": "AMSF",
         "type": "bar",
         "x": [
          2022
         ],
         "y": [
          0.0018440998895865486
         ]
        },
        {
         "base": 0.004312990657564186,
         "hovertemplate": "IBM: 0.37%<extra></extra>",
         "marker": {
          "color": "rgb(158, 185, 243)"
         },
         "name": "IBM",
         "offsetgroup": "IBM",
         "type": "bar",
         "x": [
          2022
         ],
         "y": [
          0.003716623481420936
         ]
        },
        {
         "base": 0.008029614138985123,
         "hovertemplate": "EMR: 0.49%<extra></extra>",
         "marker": {
          "color": "#AB63FA"
         },
         "name": "EMR",
         "offsetgroup": "EMR",
         "type": "bar",
         "x": [
          2022
         ],
         "y": [
          0.004920349933256681
         ]
        },
        {
         "base": 0.012949964072241804,
         "hovertemplate": "K: 0.54%<extra></extra>",
         "marker": {
          "color": "rgb(217,95,2)"
         },
         "name": "K",
         "offsetgroup": "K",
         "type": "bar",
         "x": [
          2022
         ],
         "y": [
          0.005380743870284349
         ]
        },
        {
         "base": 0.018330707942526153,
         "hovertemplate": "GILD: 0.59%<extra></extra>",
         "marker": {
          "color": "rgb(255,127,0)"
         },
         "name": "GILD",
         "offsetgroup": "GILD",
         "type": "bar",
         "x": [
          2022
         ],
         "y": [
          0.005874412687045487
         ]
        },
        {
         "base": 0.02420512062957164,
         "hovertemplate": "PFE: 0.66%<extra></extra>",
         "marker": {
          "color": "rgb(217,95,2)"
         },
         "name": "PFE",
         "offsetgroup": "PFE",
         "type": "bar",
         "x": [
          2022
         ],
         "y": [
          0.006581844873990694
         ]
        },
        {
         "base": 0.030786965503562337,
         "hovertemplate": "SCCO: 0.71%<extra></extra>",
         "marker": {
          "color": "#FFA15A"
         },
         "name": "SCCO",
         "offsetgroup": "SCCO",
         "type": "bar",
         "x": [
          2022
         ],
         "y": [
          0.007072797829531328
         ]
        },
        {
         "base": 0.03785976333309367,
         "hovertemplate": "OMC: 0.96%<extra></extra>",
         "marker": {
          "color": "rgb(158, 185, 243)"
         },
         "name": "OMC",
         "offsetgroup": "OMC",
         "type": "bar",
         "x": [
          2022
         ],
         "y": [
          0.009558593017393587
         ]
        },
        {
         "base": 0.04741835635048726,
         "hovertemplate": "GIS: 1.11%<extra></extra>",
         "marker": {
          "color": "rgb(255,255,51)"
         },
         "name": "GIS",
         "offsetgroup": "GIS",
         "type": "bar",
         "x": [
          2022
         ],
         "y": [
          0.011116843372778164
         ]
        },
        {
         "base": 0.05853519972326542,
         "hovertemplate": "LMT: 1.39%<extra></extra>",
         "marker": {
          "color": "#19D3F3"
         },
         "name": "LMT",
         "offsetgroup": "LMT",
         "type": "bar",
         "x": [
          2022
         ],
         "y": [
          0.01391120951345722
         ]
        },
        {
         "base": 0.07244640923672264,
         "hovertemplate": "CPB: 1.47%<extra></extra>",
         "marker": {
          "color": "rgb(117,112,179)"
         },
         "name": "CPB",
         "offsetgroup": "CPB",
         "type": "bar",
         "x": [
          2022
         ],
         "y": [
          0.01466705407534295
         ]
        },
        {
         "base": 0.0871134633120656,
         "hovertemplate": "BKE: 1.54%<extra></extra>",
         "marker": {
          "color": "rgb(166,86,40)"
         },
         "name": "BKE",
         "offsetgroup": "BKE",
         "type": "bar",
         "x": [
          2022
         ],
         "y": [
          0.015379329683880952
         ]
        },
        {
         "hovertemplate": "%{x}<br>%{y:.2%}<br>MMM<extra></extra>",
         "marker": {
          "color": "rgb(255,255,51)"
         },
         "name": "MMM",
         "offsetgroup": "MMM",
         "showlegend": false,
         "type": "bar",
         "x": [
          2023
         ],
         "y": [
          -0.00006198346964001941
         ]
        },
        {
         "hovertemplate": "%{x}<br>%{y:.2%}<br>JNJ<extra></extra>",
         "marker": {
          "color": "rgb(179, 179, 179)"
         },
         "name": "JNJ",
         "offsetgroup": "JNJ",
         "showlegend": false,
         "type": "bar",
         "x": [
          2023
         ],
         "y": [
          -0.0005169628432956208
         ]
        },
        {
         "hovertemplate": "%{x}<br>%{y:.2%}<br>AMSF<extra></extra>",
         "marker": {
          "color": "#FF97FF"
         },
         "name": "AMSF",
         "offsetgroup": "AMSF",
         "showlegend": false,
         "type": "bar",
         "x": [
          2023
         ],
         "y": [
          -0.0020194538666535354
         ]
        },
        {
         "hovertemplate": "%{x}<br>%{y:.2%}<br>AFG<extra></extra>",
         "marker": {
          "color": "#FFA15A"
         },
         "name": "AFG",
         "offsetgroup": "AFG",
         "showlegend": false,
         "type": "bar",
         "x": [
          2023
         ],
         "y": [
          -0.002463739767881676
         ]
        },
        {
         "hovertemplate": "%{x}<br>%{y:.2%}<br>K<extra></extra>",
         "marker": {
          "color": "rgb(217,95,2)"
         },
         "name": "K",
         "offsetgroup": "K",
         "showlegend": false,
         "type": "bar",
         "x": [
          2023
         ],
         "y": [
          -0.0033599767889549927
         ]
        },
        {
         "hovertemplate": "%{x}<br>%{y:.2%}<br>DHIL<extra></extra>",
         "marker": {
          "color": "rgb(102,102,102)"
         },
         "name": "DHIL",
         "offsetgroup": "DHIL",
         "showlegend": false,
         "type": "bar",
         "x": [
          2023
         ],
         "y": [
          -0.0033850710596068367
         ]
        },
        {
         "hovertemplate": "%{x}<br>%{y:.2%}<br>HNI<extra></extra>",
         "marker": {
          "color": "rgb(248, 156, 116)"
         },
         "name": "HNI",
         "offsetgroup": "HNI",
         "showlegend": false,
         "type": "bar",
         "x": [
          2023
         ],
         "y": [
          -0.0037481259370314825
         ]
        },
        {
         "hovertemplate": "%{x}<br>%{y:.2%}<br>LMT<extra></extra>",
         "marker": {
          "color": "#19D3F3"
         },
         "name": "LMT",
         "offsetgroup": "LMT",
         "showlegend": false,
         "type": "bar",
         "x": [
          2023
         ],
         "y": [
          -0.003955944078760717
         ]
        },
        {
         "hovertemplate": "%{x}<br>%{y:.2%}<br>GIS<extra></extra>",
         "marker": {
          "color": "rgb(255,255,51)"
         },
         "name": "GIS",
         "offsetgroup": "GIS",
         "showlegend": false,
         "type": "bar",
         "x": [
          2023
         ],
         "y": [
          -0.009711288115091981
         ]
        },
        {
         "hovertemplate": "%{x}<br>%{y:.2%}<br>CPB<extra></extra>",
         "marker": {
          "color": "rgb(117,112,179)"
         },
         "name": "CPB",
         "offsetgroup": "CPB",
         "showlegend": false,
         "type": "bar",
         "x": [
          2023
         ],
         "y": [
          -0.010054309688541464
         ]
        },
        {
         "hovertemplate": "%{x}<br>%{y:.2%}<br>LEG<extra></extra>",
         "marker": {
          "color": "#AB63FA"
         },
         "name": "LEG",
         "offsetgroup": "LEG",
         "showlegend": false,
         "type": "bar",
         "x": [
          2023
         ],
         "y": [
          -0.01180027533036308
         ]
        },
        {
         "hovertemplate": "%{x}<br>%{y:.2%}<br>VFC<extra></extra>",
         "marker": {
          "color": "rgb(166,86,40)"
         },
         "name": "VFC",
         "offsetgroup": "VFC",
         "showlegend": false,
         "type": "bar",
         "x": [
          2023
         ],
         "y": [
          -0.018148833259987812
         ]
        },
        {
         "base": 0,
         "hovertemplate": "EMN: 0.04%<extra></extra>",
         "marker": {
          "color": "#00CC96"
         },
         "name": "EMN",
         "offsetgroup": "EMN",
         "type": "bar",
         "x": [
          2023
         ],
         "y": [
          0.000395358943167029
         ]
        },
        {
         "base": 0.000395358943167029,
         "hovertemplate": "ALX: 0.06%<extra></extra>",
         "marker": {
          "color": "#FF6692"
         },
         "name": "ALX",
         "offsetgroup": "ALX",
         "type": "bar",
         "x": [
          2023
         ],
         "y": [
          0.0006012681171985029
         ]
        },
        {
         "base": 0.000996627060365532,
         "hovertemplate": "OMC: 0.17%<extra></extra>",
         "marker": {
          "color": "rgb(158, 185, 243)"
         },
         "name": "OMC",
         "offsetgroup": "OMC",
         "type": "bar",
         "x": [
          2023
         ],
         "y": [
          0.0016956780861557734
         ]
        },
        {
         "base": 0.0026923051465213054,
         "hovertemplate": "IP: 0.27%<extra></extra>",
         "marker": {
          "color": "rgb(201, 219, 116)"
         },
         "name": "IP",
         "offsetgroup": "IP",
         "type": "bar",
         "x": [
          2023
         ],
         "y": [
          0.0026913426380580506
         ]
        },
        {
         "base": 0.005383647784579356,
         "hovertemplate": "CSCO: 0.28%<extra></extra>",
         "marker": {
          "color": "rgb(231,41,138)"
         },
         "name": "CSCO",
         "offsetgroup": "CSCO",
         "type": "bar",
         "x": [
          2023
         ],
         "y": [
          0.0028080289042266564
         ]
        },
        {
         "base": 0.008191676688806012,
         "hovertemplate": "CNA: 0.36%<extra></extra>",
         "marker": {
          "color": "rgb(27,158,119)"
         },
         "name": "CNA",
         "offsetgroup": "CNA",
         "type": "bar",
         "x": [
          2023
         ],
         "y": [
          0.003621115644176953
         ]
        },
        {
         "base": 0.011812792332982965,
         "hovertemplate": "GIC: 0.49%<extra></extra>",
         "marker": {
          "color": "rgb(152,78,163)"
         },
         "name": "GIC",
         "offsetgroup": "GIC",
         "type": "bar",
         "x": [
          2023
         ],
         "y": [
          0.004920117101870964
         ]
        },
        {
         "base": 0.016732909434853928,
         "hovertemplate": "PCH: 0.54%<extra></extra>",
         "marker": {
          "color": "rgb(179, 179, 179)"
         },
         "name": "PCH",
         "offsetgroup": "PCH",
         "type": "bar",
         "x": [
          2023
         ],
         "y": [
          0.005431653800130699
         ]
        },
        {
         "base": 0.022164563234984627,
         "hovertemplate": "PSA: 0.56%<extra></extra>",
         "marker": {
          "color": "rgb(102,102,102)"
         },
         "name": "PSA",
         "offsetgroup": "PSA",
         "type": "bar",
         "x": [
          2023
         ],
         "y": [
          0.005555017970667471
         ]
        },
        {
         "base": 0.0277195812056521,
         "hovertemplate": "AMCR: 0.58%<extra></extra>",
         "marker": {
          "color": "#B6E880"
         },
         "name": "AMCR",
         "offsetgroup": "AMCR",
         "type": "bar",
         "x": [
          2023
         ],
         "y": [
          0.0058373107862892395
         ]
        },
        {
         "base": 0.03355689199194134,
         "hovertemplate": "IPG: 0.67%<extra></extra>",
         "marker": {
          "color": "rgb(139, 224, 164)"
         },
         "name": "IPG",
         "offsetgroup": "IPG",
         "type": "bar",
         "x": [
          2023
         ],
         "y": [
          0.0066524914437958785
         ]
        },
        {
         "base": 0.04020938343573722,
         "hovertemplate": "BKE: 0.74%<extra></extra>",
         "marker": {
          "color": "rgb(166,86,40)"
         },
         "name": "BKE",
         "offsetgroup": "BKE",
         "type": "bar",
         "x": [
          2023
         ],
         "y": [
          0.007414790021945272
         ]
        },
        {
         "base": 0.04762417345768249,
         "hovertemplate": "NTAP: 0.85%<extra></extra>",
         "marker": {
          "color": "rgb(248, 156, 116)"
         },
         "name": "NTAP",
         "offsetgroup": "NTAP",
         "type": "bar",
         "x": [
          2023
         ],
         "y": [
          0.008518487268704016
         ]
        },
        {
         "base": 0.056142660726386504,
         "hovertemplate": "VIRT: 0.90%<extra></extra>",
         "marker": {
          "color": "rgb(153,153,153)"
         },
         "name": "VIRT",
         "offsetgroup": "VIRT",
         "type": "bar",
         "x": [
          2023
         ],
         "y": [
          0.008976929173735982
         ]
        },
        {
         "base": 0.06511958990012248,
         "hovertemplate": "SCCO: 1.16%<extra></extra>",
         "marker": {
          "color": "#FFA15A"
         },
         "name": "SCCO",
         "offsetgroup": "SCCO",
         "type": "bar",
         "x": [
          2023
         ],
         "y": [
          0.011613732308631917
         ]
        },
        {
         "base": 0.0767333222087544,
         "hovertemplate": "OMF: 2.27%<extra></extra>",
         "marker": {
          "color": "rgb(254, 136, 177)"
         },
         "name": "OMF",
         "offsetgroup": "OMF",
         "type": "bar",
         "x": [
          2023
         ],
         "y": [
          0.022709289641716653
         ]
        },
        {
         "base": 0.09944261185047104,
         "hovertemplate": "APAM: 2.33%<extra></extra>",
         "marker": {
          "color": "#FECB52"
         },
         "name": "APAM",
         "offsetgroup": "APAM",
         "type": "bar",
         "x": [
          2023
         ],
         "y": [
          0.023273778541769256
         ]
        },
        {
         "base": 0.1227163903922403,
         "hovertemplate": "KTB: 3.00%<extra></extra>",
         "marker": {
          "color": "#636EFA"
         },
         "name": "KTB",
         "offsetgroup": "KTB",
         "type": "bar",
         "x": [
          2023
         ],
         "y": [
          0.029952189027606144
         ]
        },
        {
         "hovertemplate": "%{x}<br>%{y:.2%}<br>JNJ<extra></extra>",
         "marker": {
          "color": "rgb(179, 179, 179)"
         },
         "name": "JNJ",
         "offsetgroup": "JNJ",
         "showlegend": false,
         "type": "bar",
         "x": [
          2024
         ],
         "y": [
          -0.00020715538753741112
         ]
        },
        {
         "hovertemplate": "%{x}<br>%{y:.2%}<br>MMM<extra></extra>",
         "marker": {
          "color": "rgb(255,255,51)"
         },
         "name": "MMM",
         "offsetgroup": "MMM",
         "showlegend": false,
         "type": "bar",
         "x": [
          2024
         ],
         "y": [
          -0.0005481768092350618
         ]
        },
        {
         "hovertemplate": "%{x}<br>%{y:.2%}<br>CVI<extra></extra>",
         "marker": {
          "color": "rgb(102,166,30)"
         },
         "name": "CVI",
         "offsetgroup": "CVI",
         "showlegend": false,
         "type": "bar",
         "x": [
          2024
         ],
         "y": [
          -0.012883456220285142
         ]
        },
        {
         "hovertemplate": "%{x}<br>%{y:.2%}<br>LEG<extra></extra>",
         "marker": {
          "color": "#AB63FA"
         },
         "name": "LEG",
         "offsetgroup": "LEG",
         "showlegend": false,
         "type": "bar",
         "x": [
          2024
         ],
         "y": [
          -0.014858983354625177
         ]
        },
        {
         "base": 0,
         "hovertemplate": "VIRT: 0.12%<extra></extra>",
         "marker": {
          "color": "rgb(153,153,153)"
         },
         "name": "VIRT",
         "offsetgroup": "VIRT",
         "type": "bar",
         "x": [
          2024
         ],
         "y": [
          0.0011717611471375022
         ]
        },
        {
         "base": 0.0011717611471375022,
         "hovertemplate": "CPB: 0.23%<extra></extra>",
         "marker": {
          "color": "rgb(117,112,179)"
         },
         "name": "CPB",
         "offsetgroup": "CPB",
         "type": "bar",
         "x": [
          2024
         ],
         "y": [
          0.0023123961392992596
         ]
        },
        {
         "base": 0.0034841572864367618,
         "hovertemplate": "BKE: 0.46%<extra></extra>",
         "marker": {
          "color": "rgb(166,86,40)"
         },
         "name": "BKE",
         "offsetgroup": "BKE",
         "type": "bar",
         "x": [
          2024
         ],
         "y": [
          0.004644741347269614
         ]
        },
        {
         "base": 0.008128898633706376,
         "hovertemplate": "IPG: 0.52%<extra></extra>",
         "marker": {
          "color": "rgb(139, 224, 164)"
         },
         "name": "IPG",
         "offsetgroup": "IPG",
         "type": "bar",
         "x": [
          2024
         ],
         "y": [
          0.005179629298514367
         ]
        },
        {
         "base": 0.013308527932220742,
         "hovertemplate": "GIS: 0.53%<extra></extra>",
         "marker": {
          "color": "rgb(255,255,51)"
         },
         "name": "GIS",
         "offsetgroup": "GIS",
         "type": "bar",
         "x": [
          2024
         ],
         "y": [
          0.00534114244375344
         ]
        },
        {
         "base": 0.018649670375974182,
         "hovertemplate": "APAM: 0.62%<extra></extra>",
         "marker": {
          "color": "#FECB52"
         },
         "name": "APAM",
         "offsetgroup": "APAM",
         "type": "bar",
         "x": [
          2024
         ],
         "y": [
          0.006226601072786797
         ]
        },
        {
         "base": 0.024876271448760978,
         "hovertemplate": "AMCR: 0.67%<extra></extra>",
         "marker": {
          "color": "#B6E880"
         },
         "name": "AMCR",
         "offsetgroup": "AMCR",
         "type": "bar",
         "x": [
          2024
         ],
         "y": [
          0.006687847545706433
         ]
        },
        {
         "base": 0.03156411899446741,
         "hovertemplate": "EOG: 0.73%<extra></extra>",
         "marker": {
          "color": "#FFA15A"
         },
         "name": "EOG",
         "offsetgroup": "EOG",
         "type": "bar",
         "x": [
          2024
         ],
         "y": [
          0.007286047790277132
         ]
        },
        {
         "base": 0.038850166784744546,
         "hovertemplate": "OMF: 0.74%<extra></extra>",
         "marker": {
          "color": "rgb(254, 136, 177)"
         },
         "name": "OMF",
         "offsetgroup": "OMF",
         "type": "bar",
         "x": [
          2024
         ],
         "y": [
          0.0074278827074621126
         ]
        },
        {
         "base": 0.04627804949220666,
         "hovertemplate": "CSCO: 0.81%<extra></extra>",
         "marker": {
          "color": "rgb(231,41,138)"
         },
         "name": "CSCO",
         "offsetgroup": "CSCO",
         "type": "bar",
         "x": [
          2024
         ],
         "y": [
          0.008121421472202756
         ]
        },
        {
         "base": 0.05439947096440942,
         "hovertemplate": "PSA: 0.83%<extra></extra>",
         "marker": {
          "color": "rgb(102,102,102)"
         },
         "name": "PSA",
         "offsetgroup": "PSA",
         "type": "bar",
         "x": [
          2024
         ],
         "y": [
          0.008287189220266968
         ]
        },
        {
         "base": 0.06268666018467639,
         "hovertemplate": "ALX: 0.85%<extra></extra>",
         "marker": {
          "color": "#FF6692"
         },
         "name": "ALX",
         "offsetgroup": "ALX",
         "type": "bar",
         "x": [
          2024
         ],
         "y": [
          0.008516069413638092
         ]
        },
        {
         "base": 0.07120272959831449,
         "hovertemplate": "AFG: 1.22%<extra></extra>",
         "marker": {
          "color": "#FFA15A"
         },
         "name": "AFG",
         "offsetgroup": "AFG",
         "type": "bar",
         "x": [
          2024
         ],
         "y": [
          0.012222560013628463
         ]
        },
        {
         "base": 0.08342528961194295,
         "hovertemplate": "SCCO: 1.33%<extra></extra>",
         "marker": {
          "color": "#FFA15A"
         },
         "name": "SCCO",
         "offsetgroup": "SCCO",
         "type": "bar",
         "x": [
          2024
         ],
         "y": [
          0.013261794572665674
         ]
        },
        {
         "base": 0.09668708418460863,
         "hovertemplate": "CNA: 1.35%<extra></extra>",
         "marker": {
          "color": "rgb(27,158,119)"
         },
         "name": "CNA",
         "offsetgroup": "CNA",
         "type": "bar",
         "x": [
          2024
         ],
         "y": [
          0.013488380400946446
         ]
        },
        {
         "base": 0.11017546458555508,
         "hovertemplate": "LMT: 1.50%<extra></extra>",
         "marker": {
          "color": "#19D3F3"
         },
         "name": "LMT",
         "offsetgroup": "LMT",
         "type": "bar",
         "x": [
          2024
         ],
         "y": [
          0.015043076743014111
         ]
        },
        {
         "base": 0.1252185413285692,
         "hovertemplate": "OMC: 1.58%<extra></extra>",
         "marker": {
          "color": "rgb(158, 185, 243)"
         },
         "name": "OMC",
         "offsetgroup": "OMC",
         "type": "bar",
         "x": [
          2024
         ],
         "y": [
          0.015820124721328037
         ]
        },
        {
         "base": 0.14103866604989723,
         "hovertemplate": "KTB: 1.69%<extra></extra>",
         "marker": {
          "color": "#636EFA"
         },
         "name": "KTB",
         "offsetgroup": "KTB",
         "type": "bar",
         "x": [
          2024
         ],
         "y": [
          0.016914170860651334
         ]
        },
        {
         "base": 0.15795283691054857,
         "hovertemplate": "K: 1.97%<extra></extra>",
         "marker": {
          "color": "rgb(217,95,2)"
         },
         "name": "K",
         "offsetgroup": "K",
         "type": "bar",
         "x": [
          2024
         ],
         "y": [
          0.01974864493359212
         ]
        }
       ],
       "layout": {
        "barmode": "relative",
        "legend": {
         "title": {
          "text": "股票代號"
         }
        },
        "shapes": [
         {
          "line": {
           "color": "black",
           "width": 1.5
          },
          "type": "line",
          "x0": 0,
          "x1": 1,
          "xref": "paper",
          "y0": 0,
          "y1": 0,
          "yref": "y"
         }
        ],
        "template": {
         "data": {
          "bar": [
           {
            "error_x": {
             "color": "#2a3f5f"
            },
            "error_y": {
             "color": "#2a3f5f"
            },
            "marker": {
             "line": {
              "color": "#E5ECF6",
              "width": 0.5
             },
             "pattern": {
              "fillmode": "overlay",
              "size": 10,
              "solidity": 0.2
             }
            },
            "type": "bar"
           }
          ],
          "barpolar": [
           {
            "marker": {
             "line": {
              "color": "#E5ECF6",
              "width": 0.5
             },
             "pattern": {
              "fillmode": "overlay",
              "size": 10,
              "solidity": 0.2
             }
            },
            "type": "barpolar"
           }
          ],
          "carpet": [
           {
            "aaxis": {
             "endlinecolor": "#2a3f5f",
             "gridcolor": "white",
             "linecolor": "white",
             "minorgridcolor": "white",
             "startlinecolor": "#2a3f5f"
            },
            "baxis": {
             "endlinecolor": "#2a3f5f",
             "gridcolor": "white",
             "linecolor": "white",
             "minorgridcolor": "white",
             "startlinecolor": "#2a3f5f"
            },
            "type": "carpet"
           }
          ],
          "choropleth": [
           {
            "colorbar": {
             "outlinewidth": 0,
             "ticks": ""
            },
            "type": "choropleth"
           }
          ],
          "contour": [
           {
            "colorbar": {
             "outlinewidth": 0,
             "ticks": ""
            },
            "colorscale": [
             [
              0,
              "#0d0887"
             ],
             [
              0.1111111111111111,
              "#46039f"
             ],
             [
              0.2222222222222222,
              "#7201a8"
             ],
             [
              0.3333333333333333,
              "#9c179e"
             ],
             [
              0.4444444444444444,
              "#bd3786"
             ],
             [
              0.5555555555555556,
              "#d8576b"
             ],
             [
              0.6666666666666666,
              "#ed7953"
             ],
             [
              0.7777777777777778,
              "#fb9f3a"
             ],
             [
              0.8888888888888888,
              "#fdca26"
             ],
             [
              1,
              "#f0f921"
             ]
            ],
            "type": "contour"
           }
          ],
          "contourcarpet": [
           {
            "colorbar": {
             "outlinewidth": 0,
             "ticks": ""
            },
            "type": "contourcarpet"
           }
          ],
          "heatmap": [
           {
            "colorbar": {
             "outlinewidth": 0,
             "ticks": ""
            },
            "colorscale": [
             [
              0,
              "#0d0887"
             ],
             [
              0.1111111111111111,
              "#46039f"
             ],
             [
              0.2222222222222222,
              "#7201a8"
             ],
             [
              0.3333333333333333,
              "#9c179e"
             ],
             [
              0.4444444444444444,
              "#bd3786"
             ],
             [
              0.5555555555555556,
              "#d8576b"
             ],
             [
              0.6666666666666666,
              "#ed7953"
             ],
             [
              0.7777777777777778,
              "#fb9f3a"
             ],
             [
              0.8888888888888888,
              "#fdca26"
             ],
             [
              1,
              "#f0f921"
             ]
            ],
            "type": "heatmap"
           }
          ],
          "heatmapgl": [
           {
            "colorbar": {
             "outlinewidth": 0,
             "ticks": ""
            },
            "colorscale": [
             [
              0,
              "#0d0887"
             ],
             [
              0.1111111111111111,
              "#46039f"
             ],
             [
              0.2222222222222222,
              "#7201a8"
             ],
             [
              0.3333333333333333,
              "#9c179e"
             ],
             [
              0.4444444444444444,
              "#bd3786"
             ],
             [
              0.5555555555555556,
              "#d8576b"
             ],
             [
              0.6666666666666666,
              "#ed7953"
             ],
             [
              0.7777777777777778,
              "#fb9f3a"
             ],
             [
              0.8888888888888888,
              "#fdca26"
             ],
             [
              1,
              "#f0f921"
             ]
            ],
            "type": "heatmapgl"
           }
          ],
          "histogram": [
           {
            "marker": {
             "pattern": {
              "fillmode": "overlay",
              "size": 10,
              "solidity": 0.2
             }
            },
            "type": "histogram"
           }
          ],
          "histogram2d": [
           {
            "colorbar": {
             "outlinewidth": 0,
             "ticks": ""
            },
            "colorscale": [
             [
              0,
              "#0d0887"
             ],
             [
              0.1111111111111111,
              "#46039f"
             ],
             [
              0.2222222222222222,
              "#7201a8"
             ],
             [
              0.3333333333333333,
              "#9c179e"
             ],
             [
              0.4444444444444444,
              "#bd3786"
             ],
             [
              0.5555555555555556,
              "#d8576b"
             ],
             [
              0.6666666666666666,
              "#ed7953"
             ],
             [
              0.7777777777777778,
              "#fb9f3a"
             ],
             [
              0.8888888888888888,
              "#fdca26"
             ],
             [
              1,
              "#f0f921"
             ]
            ],
            "type": "histogram2d"
           }
          ],
          "histogram2dcontour": [
           {
            "colorbar": {
             "outlinewidth": 0,
             "ticks": ""
            },
            "colorscale": [
             [
              0,
              "#0d0887"
             ],
             [
              0.1111111111111111,
              "#46039f"
             ],
             [
              0.2222222222222222,
              "#7201a8"
             ],
             [
              0.3333333333333333,
              "#9c179e"
             ],
             [
              0.4444444444444444,
              "#bd3786"
             ],
             [
              0.5555555555555556,
              "#d8576b"
             ],
             [
              0.6666666666666666,
              "#ed7953"
             ],
             [
              0.7777777777777778,
              "#fb9f3a"
             ],
             [
              0.8888888888888888,
              "#fdca26"
             ],
             [
              1,
              "#f0f921"
             ]
            ],
            "type": "histogram2dcontour"
           }
          ],
          "mesh3d": [
           {
            "colorbar": {
             "outlinewidth": 0,
             "ticks": ""
            },
            "type": "mesh3d"
           }
          ],
          "parcoords": [
           {
            "line": {
             "colorbar": {
              "outlinewidth": 0,
              "ticks": ""
             }
            },
            "type": "parcoords"
           }
          ],
          "pie": [
           {
            "automargin": true,
            "type": "pie"
           }
          ],
          "scatter": [
           {
            "fillpattern": {
             "fillmode": "overlay",
             "size": 10,
             "solidity": 0.2
            },
            "type": "scatter"
           }
          ],
          "scatter3d": [
           {
            "line": {
             "colorbar": {
              "outlinewidth": 0,
              "ticks": ""
             }
            },
            "marker": {
             "colorbar": {
              "outlinewidth": 0,
              "ticks": ""
             }
            },
            "type": "scatter3d"
           }
          ],
          "scattercarpet": [
           {
            "marker": {
             "colorbar": {
              "outlinewidth": 0,
              "ticks": ""
             }
            },
            "type": "scattercarpet"
           }
          ],
          "scattergeo": [
           {
            "marker": {
             "colorbar": {
              "outlinewidth": 0,
              "ticks": ""
             }
            },
            "type": "scattergeo"
           }
          ],
          "scattergl": [
           {
            "marker": {
             "colorbar": {
              "outlinewidth": 0,
              "ticks": ""
             }
            },
            "type": "scattergl"
           }
          ],
          "scattermapbox": [
           {
            "marker": {
             "colorbar": {
              "outlinewidth": 0,
              "ticks": ""
             }
            },
            "type": "scattermapbox"
           }
          ],
          "scatterpolar": [
           {
            "marker": {
             "colorbar": {
              "outlinewidth": 0,
              "ticks": ""
             }
            },
            "type": "scatterpolar"
           }
          ],
          "scatterpolargl": [
           {
            "marker": {
             "colorbar": {
              "outlinewidth": 0,
              "ticks": ""
             }
            },
            "type": "scatterpolargl"
           }
          ],
          "scatterternary": [
           {
            "marker": {
             "colorbar": {
              "outlinewidth": 0,
              "ticks": ""
             }
            },
            "type": "scatterternary"
           }
          ],
          "surface": [
           {
            "colorbar": {
             "outlinewidth": 0,
             "ticks": ""
            },
            "colorscale": [
             [
              0,
              "#0d0887"
             ],
             [
              0.1111111111111111,
              "#46039f"
             ],
             [
              0.2222222222222222,
              "#7201a8"
             ],
             [
              0.3333333333333333,
              "#9c179e"
             ],
             [
              0.4444444444444444,
              "#bd3786"
             ],
             [
              0.5555555555555556,
              "#d8576b"
             ],
             [
              0.6666666666666666,
              "#ed7953"
             ],
             [
              0.7777777777777778,
              "#fb9f3a"
             ],
             [
              0.8888888888888888,
              "#fdca26"
             ],
             [
              1,
              "#f0f921"
             ]
            ],
            "type": "surface"
           }
          ],
          "table": [
           {
            "cells": {
             "fill": {
              "color": "#EBF0F8"
             },
             "line": {
              "color": "white"
             }
            },
            "header": {
             "fill": {
              "color": "#C8D4E3"
             },
             "line": {
              "color": "white"
             }
            },
            "type": "table"
           }
          ]
         },
         "layout": {
          "annotationdefaults": {
           "arrowcolor": "#2a3f5f",
           "arrowhead": 0,
           "arrowwidth": 1
          },
          "autotypenumbers": "strict",
          "coloraxis": {
           "colorbar": {
            "outlinewidth": 0,
            "ticks": ""
           }
          },
          "colorscale": {
           "diverging": [
            [
             0,
             "#8e0152"
            ],
            [
             0.1,
             "#c51b7d"
            ],
            [
             0.2,
             "#de77ae"
            ],
            [
             0.3,
             "#f1b6da"
            ],
            [
             0.4,
             "#fde0ef"
            ],
            [
             0.5,
             "#f7f7f7"
            ],
            [
             0.6,
             "#e6f5d0"
            ],
            [
             0.7,
             "#b8e186"
            ],
            [
             0.8,
             "#7fbc41"
            ],
            [
             0.9,
             "#4d9221"
            ],
            [
             1,
             "#276419"
            ]
           ],
           "sequential": [
            [
             0,
             "#0d0887"
            ],
            [
             0.1111111111111111,
             "#46039f"
            ],
            [
             0.2222222222222222,
             "#7201a8"
            ],
            [
             0.3333333333333333,
             "#9c179e"
            ],
            [
             0.4444444444444444,
             "#bd3786"
            ],
            [
             0.5555555555555556,
             "#d8576b"
            ],
            [
             0.6666666666666666,
             "#ed7953"
            ],
            [
             0.7777777777777778,
             "#fb9f3a"
            ],
            [
             0.8888888888888888,
             "#fdca26"
            ],
            [
             1,
             "#f0f921"
            ]
           ],
           "sequentialminus": [
            [
             0,
             "#0d0887"
            ],
            [
             0.1111111111111111,
             "#46039f"
            ],
            [
             0.2222222222222222,
             "#7201a8"
            ],
            [
             0.3333333333333333,
             "#9c179e"
            ],
            [
             0.4444444444444444,
             "#bd3786"
            ],
            [
             0.5555555555555556,
             "#d8576b"
            ],
            [
             0.6666666666666666,
             "#ed7953"
            ],
            [
             0.7777777777777778,
             "#fb9f3a"
            ],
            [
             0.8888888888888888,
             "#fdca26"
            ],
            [
             1,
             "#f0f921"
            ]
           ]
          },
          "colorway": [
           "#636efa",
           "#EF553B",
           "#00cc96",
           "#ab63fa",
           "#FFA15A",
           "#19d3f3",
           "#FF6692",
           "#B6E880",
           "#FF97FF",
           "#FECB52"
          ],
          "font": {
           "color": "#2a3f5f"
          },
          "geo": {
           "bgcolor": "white",
           "lakecolor": "white",
           "landcolor": "#E5ECF6",
           "showlakes": true,
           "showland": true,
           "subunitcolor": "white"
          },
          "hoverlabel": {
           "align": "left"
          },
          "hovermode": "closest",
          "mapbox": {
           "style": "light"
          },
          "paper_bgcolor": "white",
          "plot_bgcolor": "#E5ECF6",
          "polar": {
           "angularaxis": {
            "gridcolor": "white",
            "linecolor": "white",
            "ticks": ""
           },
           "bgcolor": "#E5ECF6",
           "radialaxis": {
            "gridcolor": "white",
            "linecolor": "white",
            "ticks": ""
           }
          },
          "scene": {
           "xaxis": {
            "backgroundcolor": "#E5ECF6",
            "gridcolor": "white",
            "gridwidth": 2,
            "linecolor": "white",
            "showbackground": true,
            "ticks": "",
            "zerolinecolor": "white"
           },
           "yaxis": {
            "backgroundcolor": "#E5ECF6",
            "gridcolor": "white",
            "gridwidth": 2,
            "linecolor": "white",
            "showbackground": true,
            "ticks": "",
            "zerolinecolor": "white"
           },
           "zaxis": {
            "backgroundcolor": "#E5ECF6",
            "gridcolor": "white",
            "gridwidth": 2,
            "linecolor": "white",
            "showbackground": true,
            "ticks": "",
            "zerolinecolor": "white"
           }
          },
          "shapedefaults": {
           "line": {
            "color": "#2a3f5f"
           }
          },
          "ternary": {
           "aaxis": {
            "gridcolor": "white",
            "linecolor": "white",
            "ticks": ""
           },
           "baxis": {
            "gridcolor": "white",
            "linecolor": "white",
            "ticks": ""
           },
           "bgcolor": "#E5ECF6",
           "caxis": {
            "gridcolor": "white",
            "linecolor": "white",
            "ticks": ""
           }
          },
          "title": {
           "x": 0.05
          },
          "xaxis": {
           "automargin": true,
           "gridcolor": "white",
           "linecolor": "white",
           "ticks": "",
           "title": {
            "standoff": 15
           },
           "zerolinecolor": "white",
           "zerolinewidth": 2
          },
          "yaxis": {
           "automargin": true,
           "gridcolor": "white",
           "linecolor": "white",
           "ticks": "",
           "title": {
            "standoff": 15
           },
           "zerolinecolor": "white",
           "zerolinewidth": 2
          }
         }
        },
        "title": {
         "text": "個別股票每年報酬率獲利貢獻度"
        },
        "xaxis": {
         "title": {
          "text": "年份"
         }
        },
        "yaxis": {
         "title": {
          "text": "每年報酬率加總"
         }
        }
       }
      }
     },
     "metadata": {},
     "output_type": "display_data"
    }
   ],
   "source": [
    "opt_rep_pe_pos, opt_rep_pe_neg = opt_rep_pe.calc_returns_contrib()"
   ]
  },
  {
   "cell_type": "code",
   "execution_count": 37,
   "metadata": {},
   "outputs": [],
   "source": [
    "# opt_rep_pe.trades.to_csv(f'./performance_file/US/00美股_原始條件_交易明細_{START_DATE}_{END_DATE}.csv', encoding='cp950')"
   ]
  },
  {
   "cell_type": "markdown",
   "metadata": {},
   "source": [
    "### 不包含配息率"
   ]
  },
  {
   "cell_type": "markdown",
   "metadata": {},
   "source": [
    "### 盈再率 < 40%"
   ]
  },
  {
   "cell_type": "code",
   "execution_count": 38,
   "metadata": {},
   "outputs": [],
   "source": [
    "opt_noDPR_pe = (nodpr_cond_opt & pe_cond_entry).hold_until((~nodpr_cond_opt) | pe_cond_exit)"
   ]
  },
  {
   "cell_type": "code",
   "execution_count": 39,
   "metadata": {},
   "outputs": [
    {
     "data": {
      "text/plain": [
       "{'CAGR': 0.18472889036319806,\n",
       " 'daily_sharpe': 28.23,\n",
       " 'max_drawdown': -0.4258971187190842,\n",
       " 'avg_drawdown': -0.041635349510193674,\n",
       " 'win_ratio': 0.7303851640513552,\n",
       " 'ytd': 0.08904376808110914}"
      ]
     },
     "execution_count": 39,
     "metadata": {},
     "output_type": "execute_result"
    }
   ],
   "source": [
    "rep_opt_noDPR_pe = backtest.sim(opt_noDPR_pe, resample='M', data=data)\n",
    "rep_opt_noDPR_pe.get_stats()"
   ]
  },
  {
   "cell_type": "markdown",
   "metadata": {},
   "source": [
    "---"
   ]
  },
  {
   "cell_type": "markdown",
   "metadata": {},
   "source": [
    "## 上面的入選股數比較"
   ]
  },
  {
   "cell_type": "code",
   "execution_count": 40,
   "metadata": {},
   "outputs": [],
   "source": [
    "daily_pe_lower = daily_pe_resample < 10"
   ]
  },
  {
   "cell_type": "code",
   "execution_count": 68,
   "metadata": {},
   "outputs": [
    {
     "name": "stderr",
     "output_type": "stream",
     "text": [
      "Backtesting progress: 100%|██████████| 7/7 [00:38<00:00,  5.53s/condition]\n"
     ]
    },
    {
     "data": {
      "text/html": [
       "<div>\n",
       "<style scoped>\n",
       "    .dataframe tbody tr th:only-of-type {\n",
       "        vertical-align: middle;\n",
       "    }\n",
       "\n",
       "    .dataframe tbody tr th {\n",
       "        vertical-align: top;\n",
       "    }\n",
       "\n",
       "    .dataframe thead th {\n",
       "        text-align: right;\n",
       "    }\n",
       "</style>\n",
       "<table border=\"1\" class=\"dataframe\">\n",
       "  <thead>\n",
       "    <tr style=\"text-align: right;\">\n",
       "      <th></th>\n",
       "      <th>CAGR</th>\n",
       "      <th>MDD</th>\n",
       "      <th>入選股數平均</th>\n",
       "      <th>中位數</th>\n",
       "      <th>25%</th>\n",
       "      <th>75%</th>\n",
       "      <th>Min</th>\n",
       "      <th>Max</th>\n",
       "    </tr>\n",
       "    <tr>\n",
       "      <th>Strategy</th>\n",
       "      <th></th>\n",
       "      <th></th>\n",
       "      <th></th>\n",
       "      <th></th>\n",
       "      <th></th>\n",
       "      <th></th>\n",
       "      <th></th>\n",
       "      <th></th>\n",
       "    </tr>\n",
       "  </thead>\n",
       "  <tbody>\n",
       "    <tr>\n",
       "      <th>去掉配息盈再率&lt;40_無本益比</th>\n",
       "      <td>0.185954</td>\n",
       "      <td>-0.393343</td>\n",
       "      <td>279.204545</td>\n",
       "      <td>280.0</td>\n",
       "      <td>228.00</td>\n",
       "      <td>322.00</td>\n",
       "      <td>208.0</td>\n",
       "      <td>399.0</td>\n",
       "    </tr>\n",
       "    <tr>\n",
       "      <th>去掉配息_盈再率&lt;40_本益比</th>\n",
       "      <td>0.184729</td>\n",
       "      <td>-0.425897</td>\n",
       "      <td>154.310606</td>\n",
       "      <td>158.0</td>\n",
       "      <td>151.00</td>\n",
       "      <td>166.00</td>\n",
       "      <td>83.0</td>\n",
       "      <td>210.0</td>\n",
       "    </tr>\n",
       "    <tr>\n",
       "      <th>所有條件_盈再率&lt;80_無本益比</th>\n",
       "      <td>0.167718</td>\n",
       "      <td>-0.385299</td>\n",
       "      <td>58.424242</td>\n",
       "      <td>67.0</td>\n",
       "      <td>41.00</td>\n",
       "      <td>76.00</td>\n",
       "      <td>30.0</td>\n",
       "      <td>84.0</td>\n",
       "    </tr>\n",
       "    <tr>\n",
       "      <th>所有條件_盈再率&lt;40_本益比_ROE出場條件</th>\n",
       "      <td>0.165584</td>\n",
       "      <td>-0.378914</td>\n",
       "      <td>22.075758</td>\n",
       "      <td>22.0</td>\n",
       "      <td>20.00</td>\n",
       "      <td>25.00</td>\n",
       "      <td>15.0</td>\n",
       "      <td>31.0</td>\n",
       "    </tr>\n",
       "    <tr>\n",
       "      <th>所有條件_盈再率&lt;40_無本益比</th>\n",
       "      <td>0.165409</td>\n",
       "      <td>-0.382597</td>\n",
       "      <td>52.196970</td>\n",
       "      <td>57.0</td>\n",
       "      <td>37.00</td>\n",
       "      <td>65.25</td>\n",
       "      <td>27.0</td>\n",
       "      <td>77.0</td>\n",
       "    </tr>\n",
       "    <tr>\n",
       "      <th>所有條件_盈再率&lt;40_本益比&lt;10</th>\n",
       "      <td>0.164904</td>\n",
       "      <td>-0.375034</td>\n",
       "      <td>18.803030</td>\n",
       "      <td>19.0</td>\n",
       "      <td>15.75</td>\n",
       "      <td>21.00</td>\n",
       "      <td>10.0</td>\n",
       "      <td>28.0</td>\n",
       "    </tr>\n",
       "    <tr>\n",
       "      <th>所有條件_盈再率&lt;40_本益比</th>\n",
       "      <td>0.162831</td>\n",
       "      <td>-0.393510</td>\n",
       "      <td>25.689394</td>\n",
       "      <td>26.0</td>\n",
       "      <td>23.00</td>\n",
       "      <td>29.00</td>\n",
       "      <td>15.0</td>\n",
       "      <td>37.0</td>\n",
       "    </tr>\n",
       "  </tbody>\n",
       "</table>\n",
       "</div>"
      ],
      "text/plain": [
       "                             CAGR       MDD      入選股數平均    中位數     25%  \\\n",
       "Strategy                                                                 \n",
       "去掉配息盈再率<40_無本益比          0.185954 -0.393343  279.204545  280.0  228.00   \n",
       "去掉配息_盈再率<40_本益比          0.184729 -0.425897  154.310606  158.0  151.00   \n",
       "所有條件_盈再率<80_無本益比         0.167718 -0.385299   58.424242   67.0   41.00   \n",
       "所有條件_盈再率<40_本益比_ROE出場條件  0.165584 -0.378914   22.075758   22.0   20.00   \n",
       "所有條件_盈再率<40_無本益比         0.165409 -0.382597   52.196970   57.0   37.00   \n",
       "所有條件_盈再率<40_本益比<10       0.164904 -0.375034   18.803030   19.0   15.75   \n",
       "所有條件_盈再率<40_本益比          0.162831 -0.393510   25.689394   26.0   23.00   \n",
       "\n",
       "                            75%    Min    Max  \n",
       "Strategy                                       \n",
       "去掉配息盈再率<40_無本益比          322.00  208.0  399.0  \n",
       "去掉配息_盈再率<40_本益比          166.00   83.0  210.0  \n",
       "所有條件_盈再率<80_無本益比          76.00   30.0   84.0  \n",
       "所有條件_盈再率<40_本益比_ROE出場條件   25.00   15.0   31.0  \n",
       "所有條件_盈再率<40_無本益比          65.25   27.0   77.0  \n",
       "所有條件_盈再率<40_本益比<10        21.00   10.0   28.0  \n",
       "所有條件_盈再率<40_本益比           29.00   15.0   37.0  "
      ]
     },
     "execution_count": 68,
     "metadata": {},
     "output_type": "execute_result"
    }
   ],
   "source": [
    "overall_conds = {}\n",
    "\n",
    "# overall_conds['所有條件_盈再率<80_本益比'] = (orig_cond & pe_cond_entry).hold_until((~orig_cond) | pe_cond_exit)\n",
    "# overall_conds['所有條件_盈再率<80_本益比_ROE出場條件'] = (orig_cond & pe_cond_entry).hold_until((~orig_cond) | pe_cond_exit | (roe < 0.15))\n",
    "overall_conds['所有條件_盈再率<40_本益比_ROE出場條件'] = (orig_cond_opt & pe_cond_entry).hold_until((~orig_cond_opt) | pe_cond_exit | (roe < 0.15))\n",
    "overall_conds['所有條件_盈再率<80_無本益比'] = orig_cond.copy()\n",
    "overall_conds['所有條件_盈再率<40_無本益比'] = orig_cond_opt.copy()\n",
    "overall_conds['所有條件_盈再率<40_本益比'] = opt_orig_pe.copy()\n",
    "overall_conds['去掉配息盈再率<40_無本益比'] = nodpr_cond_opt.copy()\n",
    "overall_conds['去掉配息_盈再率<40_本益比'] = opt_noDPR_pe.copy()\n",
    "overall_conds['所有條件_盈再率<40_本益比<10'] = (orig_cond_opt & daily_pe_lower).hold_until((~orig_cond_opt) | pe_cond_exit)\n",
    "# overall_conds['只看盈再率<40'] = rr_cond.copy()\n",
    "# overall_conds['只看ROE五年平均>15'] = roe_cond.copy()\n",
    "\n",
    "\n",
    "\n",
    "overall_conds_collecs = sim_conditions(overall_conds, resample='M', data=data)\n",
    "overall_conds_collecs.selected_stock_count_analysis()"
   ]
  },
  {
   "cell_type": "code",
   "execution_count": 69,
   "metadata": {},
   "outputs": [
    {
     "data": {
      "text/html": [
       "<div>\n",
       "<style scoped>\n",
       "    .dataframe tbody tr th:only-of-type {\n",
       "        vertical-align: middle;\n",
       "    }\n",
       "\n",
       "    .dataframe tbody tr th {\n",
       "        vertical-align: top;\n",
       "    }\n",
       "\n",
       "    .dataframe thead th {\n",
       "        text-align: right;\n",
       "    }\n",
       "</style>\n",
       "<table border=\"1\" class=\"dataframe\">\n",
       "  <thead>\n",
       "    <tr style=\"text-align: right;\">\n",
       "      <th></th>\n",
       "      <th>CAGR</th>\n",
       "      <th>MDD</th>\n",
       "      <th>持有期間平均</th>\n",
       "      <th>25%</th>\n",
       "      <th>中位數</th>\n",
       "      <th>75%</th>\n",
       "      <th>最大值</th>\n",
       "      <th>最小值</th>\n",
       "    </tr>\n",
       "    <tr>\n",
       "      <th>Strategy</th>\n",
       "      <th></th>\n",
       "      <th></th>\n",
       "      <th></th>\n",
       "      <th></th>\n",
       "      <th></th>\n",
       "      <th></th>\n",
       "      <th></th>\n",
       "      <th></th>\n",
       "    </tr>\n",
       "  </thead>\n",
       "  <tbody>\n",
       "    <tr>\n",
       "      <th>去掉配息盈再率&lt;40_無本益比</th>\n",
       "      <td>0.185954</td>\n",
       "      <td>-0.393343</td>\n",
       "      <td>1267.782123</td>\n",
       "      <td>365.0</td>\n",
       "      <td>731.0</td>\n",
       "      <td>1796.00</td>\n",
       "      <td>5701</td>\n",
       "      <td>9</td>\n",
       "    </tr>\n",
       "    <tr>\n",
       "      <th>去掉配息_盈再率&lt;40_本益比</th>\n",
       "      <td>0.184729</td>\n",
       "      <td>-0.425897</td>\n",
       "      <td>1019.553364</td>\n",
       "      <td>336.0</td>\n",
       "      <td>556.0</td>\n",
       "      <td>1365.00</td>\n",
       "      <td>5701</td>\n",
       "      <td>9</td>\n",
       "    </tr>\n",
       "    <tr>\n",
       "      <th>所有條件_盈再率&lt;80_無本益比</th>\n",
       "      <td>0.167718</td>\n",
       "      <td>-0.385299</td>\n",
       "      <td>1101.707641</td>\n",
       "      <td>365.0</td>\n",
       "      <td>730.0</td>\n",
       "      <td>1460.00</td>\n",
       "      <td>5701</td>\n",
       "      <td>9</td>\n",
       "    </tr>\n",
       "    <tr>\n",
       "      <th>所有條件_盈再率&lt;40_本益比_ROE出場條件</th>\n",
       "      <td>0.165584</td>\n",
       "      <td>-0.378914</td>\n",
       "      <td>868.613793</td>\n",
       "      <td>303.0</td>\n",
       "      <td>395.0</td>\n",
       "      <td>1096.00</td>\n",
       "      <td>5701</td>\n",
       "      <td>28</td>\n",
       "    </tr>\n",
       "    <tr>\n",
       "      <th>所有條件_盈再率&lt;40_無本益比</th>\n",
       "      <td>0.165409</td>\n",
       "      <td>-0.382597</td>\n",
       "      <td>1035.541958</td>\n",
       "      <td>364.0</td>\n",
       "      <td>728.5</td>\n",
       "      <td>1453.75</td>\n",
       "      <td>5701</td>\n",
       "      <td>9</td>\n",
       "    </tr>\n",
       "    <tr>\n",
       "      <th>所有條件_盈再率&lt;40_本益比&lt;10</th>\n",
       "      <td>0.164904</td>\n",
       "      <td>-0.375034</td>\n",
       "      <td>837.437500</td>\n",
       "      <td>244.0</td>\n",
       "      <td>366.0</td>\n",
       "      <td>1096.25</td>\n",
       "      <td>5701</td>\n",
       "      <td>28</td>\n",
       "    </tr>\n",
       "    <tr>\n",
       "      <th>所有條件_盈再率&lt;40_本益比</th>\n",
       "      <td>0.162831</td>\n",
       "      <td>-0.393510</td>\n",
       "      <td>844.606936</td>\n",
       "      <td>304.0</td>\n",
       "      <td>374.0</td>\n",
       "      <td>1097.00</td>\n",
       "      <td>5701</td>\n",
       "      <td>28</td>\n",
       "    </tr>\n",
       "  </tbody>\n",
       "</table>\n",
       "</div>"
      ],
      "text/plain": [
       "                             CAGR       MDD       持有期間平均    25%    中位數  \\\n",
       "Strategy                                                                 \n",
       "去掉配息盈再率<40_無本益比          0.185954 -0.393343  1267.782123  365.0  731.0   \n",
       "去掉配息_盈再率<40_本益比          0.184729 -0.425897  1019.553364  336.0  556.0   \n",
       "所有條件_盈再率<80_無本益比         0.167718 -0.385299  1101.707641  365.0  730.0   \n",
       "所有條件_盈再率<40_本益比_ROE出場條件  0.165584 -0.378914   868.613793  303.0  395.0   \n",
       "所有條件_盈再率<40_無本益比         0.165409 -0.382597  1035.541958  364.0  728.5   \n",
       "所有條件_盈再率<40_本益比<10       0.164904 -0.375034   837.437500  244.0  366.0   \n",
       "所有條件_盈再率<40_本益比          0.162831 -0.393510   844.606936  304.0  374.0   \n",
       "\n",
       "                             75%   最大值  最小值  \n",
       "Strategy                                     \n",
       "去掉配息盈再率<40_無本益比          1796.00  5701    9  \n",
       "去掉配息_盈再率<40_本益比          1365.00  5701    9  \n",
       "所有條件_盈再率<80_無本益比         1460.00  5701    9  \n",
       "所有條件_盈再率<40_本益比_ROE出場條件  1096.00  5701   28  \n",
       "所有條件_盈再率<40_無本益比         1453.75  5701    9  \n",
       "所有條件_盈再率<40_本益比<10       1096.25  5701   28  \n",
       "所有條件_盈再率<40_本益比          1097.00  5701   28  "
      ]
     },
     "execution_count": 69,
     "metadata": {},
     "output_type": "execute_result"
    }
   ],
   "source": [
    "overall_conds_collecs.holding_period_analysis()"
   ]
  },
  {
   "cell_type": "code",
   "execution_count": 74,
   "metadata": {},
   "outputs": [
    {
     "data": {
      "text/html": [
       "<div>\n",
       "<style scoped>\n",
       "    .dataframe tbody tr th:only-of-type {\n",
       "        vertical-align: middle;\n",
       "    }\n",
       "\n",
       "    .dataframe tbody tr th {\n",
       "        vertical-align: top;\n",
       "    }\n",
       "\n",
       "    .dataframe thead th {\n",
       "        text-align: right;\n",
       "    }\n",
       "</style>\n",
       "<table border=\"1\" class=\"dataframe\">\n",
       "  <thead>\n",
       "    <tr style=\"text-align: right;\">\n",
       "      <th></th>\n",
       "      <th>stock_id</th>\n",
       "      <th>entry_date</th>\n",
       "      <th>exit_date</th>\n",
       "      <th>entry_sig_date</th>\n",
       "      <th>exit_sig_date</th>\n",
       "      <th>position</th>\n",
       "      <th>period</th>\n",
       "      <th>return</th>\n",
       "      <th>mae</th>\n",
       "      <th>gmfe</th>\n",
       "      <th>bmfe</th>\n",
       "      <th>mdd</th>\n",
       "      <th>pdays</th>\n",
       "    </tr>\n",
       "    <tr>\n",
       "      <th>trade_index</th>\n",
       "      <th></th>\n",
       "      <th></th>\n",
       "      <th></th>\n",
       "      <th></th>\n",
       "      <th></th>\n",
       "      <th></th>\n",
       "      <th></th>\n",
       "      <th></th>\n",
       "      <th></th>\n",
       "      <th></th>\n",
       "      <th></th>\n",
       "      <th></th>\n",
       "      <th></th>\n",
       "    </tr>\n",
       "  </thead>\n",
       "  <tbody>\n",
       "    <tr>\n",
       "      <th>244</th>\n",
       "      <td>ETD</td>\n",
       "      <td>2024-10-01</td>\n",
       "      <td>NaT</td>\n",
       "      <td>2024-09-30</td>\n",
       "      <td>NaT</td>\n",
       "      <td>0.014925</td>\n",
       "      <td>8</td>\n",
       "      <td>-0.081719</td>\n",
       "      <td>-0.071719</td>\n",
       "      <td>0.000000</td>\n",
       "      <td>0.000000</td>\n",
       "      <td>-0.071719</td>\n",
       "      <td>0.0</td>\n",
       "    </tr>\n",
       "    <tr>\n",
       "      <th>204</th>\n",
       "      <td>HNI</td>\n",
       "      <td>2023-04-03</td>\n",
       "      <td>2023-05-01</td>\n",
       "      <td>2023-03-31</td>\n",
       "      <td>2023-04-28</td>\n",
       "      <td>0.016393</td>\n",
       "      <td>19</td>\n",
       "      <td>-0.084963</td>\n",
       "      <td>-0.104948</td>\n",
       "      <td>0.000000</td>\n",
       "      <td>0.000000</td>\n",
       "      <td>-0.104948</td>\n",
       "      <td>0.0</td>\n",
       "    </tr>\n",
       "    <tr>\n",
       "      <th>148</th>\n",
       "      <td>JWN</td>\n",
       "      <td>2020-05-01</td>\n",
       "      <td>2020-06-01</td>\n",
       "      <td>2020-04-30</td>\n",
       "      <td>2020-05-29</td>\n",
       "      <td>0.014925</td>\n",
       "      <td>20</td>\n",
       "      <td>-0.070683</td>\n",
       "      <td>-0.144753</td>\n",
       "      <td>0.112516</td>\n",
       "      <td>0.020860</td>\n",
       "      <td>-0.178977</td>\n",
       "      <td>4.0</td>\n",
       "    </tr>\n",
       "    <tr>\n",
       "      <th>172</th>\n",
       "      <td>HNI</td>\n",
       "      <td>2021-04-01</td>\n",
       "      <td>2021-05-03</td>\n",
       "      <td>2021-03-31</td>\n",
       "      <td>2021-04-30</td>\n",
       "      <td>0.018182</td>\n",
       "      <td>21</td>\n",
       "      <td>0.076015</td>\n",
       "      <td>0.000000</td>\n",
       "      <td>0.086015</td>\n",
       "      <td>0.000000</td>\n",
       "      <td>-0.019486</td>\n",
       "      <td>21.0</td>\n",
       "    </tr>\n",
       "    <tr>\n",
       "      <th>46</th>\n",
       "      <td>DBI</td>\n",
       "      <td>2014-05-01</td>\n",
       "      <td>2014-06-02</td>\n",
       "      <td>2014-04-30</td>\n",
       "      <td>2014-05-30</td>\n",
       "      <td>0.023810</td>\n",
       "      <td>21</td>\n",
       "      <td>-0.259507</td>\n",
       "      <td>-0.297596</td>\n",
       "      <td>0.032322</td>\n",
       "      <td>0.032322</td>\n",
       "      <td>-0.319588</td>\n",
       "      <td>7.0</td>\n",
       "    </tr>\n",
       "    <tr>\n",
       "      <th>...</th>\n",
       "      <td>...</td>\n",
       "      <td>...</td>\n",
       "      <td>...</td>\n",
       "      <td>...</td>\n",
       "      <td>...</td>\n",
       "      <td>...</td>\n",
       "      <td>...</td>\n",
       "      <td>...</td>\n",
       "      <td>...</td>\n",
       "      <td>...</td>\n",
       "      <td>...</td>\n",
       "      <td>...</td>\n",
       "      <td>...</td>\n",
       "    </tr>\n",
       "    <tr>\n",
       "      <th>221</th>\n",
       "      <td>ADP</td>\n",
       "      <td>2009-10-01</td>\n",
       "      <td>NaT</td>\n",
       "      <td>2009-09-30</td>\n",
       "      <td>NaT</td>\n",
       "      <td>0.032258</td>\n",
       "      <td>3782</td>\n",
       "      <td>11.024815</td>\n",
       "      <td>-0.004614</td>\n",
       "      <td>11.070889</td>\n",
       "      <td>0.000000</td>\n",
       "      <td>-0.394496</td>\n",
       "      <td>3778.0</td>\n",
       "    </tr>\n",
       "    <tr>\n",
       "      <th>218</th>\n",
       "      <td>SYY</td>\n",
       "      <td>2009-03-02</td>\n",
       "      <td>2024-10-01</td>\n",
       "      <td>2009-02-27</td>\n",
       "      <td>2024-09-30</td>\n",
       "      <td>0.031250</td>\n",
       "      <td>3923</td>\n",
       "      <td>4.889160</td>\n",
       "      <td>-0.066463</td>\n",
       "      <td>5.414820</td>\n",
       "      <td>0.016043</td>\n",
       "      <td>-0.634003</td>\n",
       "      <td>3916.0</td>\n",
       "    </tr>\n",
       "    <tr>\n",
       "      <th>272</th>\n",
       "      <td>PAYX</td>\n",
       "      <td>2009-03-02</td>\n",
       "      <td>NaT</td>\n",
       "      <td>2009-02-27</td>\n",
       "      <td>NaT</td>\n",
       "      <td>0.031250</td>\n",
       "      <td>3931</td>\n",
       "      <td>10.379207</td>\n",
       "      <td>-0.013900</td>\n",
       "      <td>10.511856</td>\n",
       "      <td>0.038430</td>\n",
       "      <td>-0.441514</td>\n",
       "      <td>3929.0</td>\n",
       "    </tr>\n",
       "    <tr>\n",
       "      <th>250</th>\n",
       "      <td>GIS</td>\n",
       "      <td>2009-03-02</td>\n",
       "      <td>NaT</td>\n",
       "      <td>2009-02-27</td>\n",
       "      <td>NaT</td>\n",
       "      <td>0.031250</td>\n",
       "      <td>3931</td>\n",
       "      <td>3.519860</td>\n",
       "      <td>-0.097205</td>\n",
       "      <td>4.506353</td>\n",
       "      <td>0.025413</td>\n",
       "      <td>-0.450980</td>\n",
       "      <td>3885.0</td>\n",
       "    </tr>\n",
       "    <tr>\n",
       "      <th>256</th>\n",
       "      <td>HSY</td>\n",
       "      <td>2009-03-02</td>\n",
       "      <td>NaT</td>\n",
       "      <td>2009-02-27</td>\n",
       "      <td>NaT</td>\n",
       "      <td>0.031250</td>\n",
       "      <td>3931</td>\n",
       "      <td>7.043671</td>\n",
       "      <td>-0.082439</td>\n",
       "      <td>10.443109</td>\n",
       "      <td>0.000000</td>\n",
       "      <td>-0.340287</td>\n",
       "      <td>3920.0</td>\n",
       "    </tr>\n",
       "  </tbody>\n",
       "</table>\n",
       "<p>286 rows × 13 columns</p>\n",
       "</div>"
      ],
      "text/plain": [
       "            stock_id entry_date  exit_date entry_sig_date exit_sig_date  \\\n",
       "trade_index                                                               \n",
       "244              ETD 2024-10-01        NaT     2024-09-30           NaT   \n",
       "204              HNI 2023-04-03 2023-05-01     2023-03-31    2023-04-28   \n",
       "148              JWN 2020-05-01 2020-06-01     2020-04-30    2020-05-29   \n",
       "172              HNI 2021-04-01 2021-05-03     2021-03-31    2021-04-30   \n",
       "46               DBI 2014-05-01 2014-06-02     2014-04-30    2014-05-30   \n",
       "...              ...        ...        ...            ...           ...   \n",
       "221              ADP 2009-10-01        NaT     2009-09-30           NaT   \n",
       "218              SYY 2009-03-02 2024-10-01     2009-02-27    2024-09-30   \n",
       "272             PAYX 2009-03-02        NaT     2009-02-27           NaT   \n",
       "250              GIS 2009-03-02        NaT     2009-02-27           NaT   \n",
       "256              HSY 2009-03-02        NaT     2009-02-27           NaT   \n",
       "\n",
       "             position  period     return       mae       gmfe      bmfe  \\\n",
       "trade_index                                                               \n",
       "244          0.014925       8  -0.081719 -0.071719   0.000000  0.000000   \n",
       "204          0.016393      19  -0.084963 -0.104948   0.000000  0.000000   \n",
       "148          0.014925      20  -0.070683 -0.144753   0.112516  0.020860   \n",
       "172          0.018182      21   0.076015  0.000000   0.086015  0.000000   \n",
       "46           0.023810      21  -0.259507 -0.297596   0.032322  0.032322   \n",
       "...               ...     ...        ...       ...        ...       ...   \n",
       "221          0.032258    3782  11.024815 -0.004614  11.070889  0.000000   \n",
       "218          0.031250    3923   4.889160 -0.066463   5.414820  0.016043   \n",
       "272          0.031250    3931  10.379207 -0.013900  10.511856  0.038430   \n",
       "250          0.031250    3931   3.519860 -0.097205   4.506353  0.025413   \n",
       "256          0.031250    3931   7.043671 -0.082439  10.443109  0.000000   \n",
       "\n",
       "                  mdd   pdays  \n",
       "trade_index                    \n",
       "244         -0.071719     0.0  \n",
       "204         -0.104948     0.0  \n",
       "148         -0.178977     4.0  \n",
       "172         -0.019486    21.0  \n",
       "46          -0.319588     7.0  \n",
       "...               ...     ...  \n",
       "221         -0.394496  3778.0  \n",
       "218         -0.634003  3916.0  \n",
       "272         -0.441514  3929.0  \n",
       "250         -0.450980  3885.0  \n",
       "256         -0.340287  3920.0  \n",
       "\n",
       "[286 rows x 13 columns]"
      ]
     },
     "execution_count": 74,
     "metadata": {},
     "output_type": "execute_result"
    }
   ],
   "source": [
    "overall_conds_collecs.reports['所有條件_盈再率<40_無本益比'].trades.sort_values('period')"
   ]
  },
  {
   "cell_type": "code",
   "execution_count": 42,
   "metadata": {},
   "outputs": [
    {
     "data": {
      "image/png": "[encoded data removed]",
      "text/plain": [
       "<Figure size 2000x800 with 1 Axes>"
      ]
     },
     "metadata": {},
     "output_type": "display_data"
    }
   ],
   "source": [
    "overall_conds_collecs.plot_reps_stock_counts(['所有條件_盈再率<40_無本益比', '所有條件_盈再率<40_本益比', '所有條件_盈再率<40_本益比<10'])"
   ]
  },
  {
   "cell_type": "code",
   "execution_count": 43,
   "metadata": {},
   "outputs": [],
   "source": [
    "# overall_conds_collecs.selected_stock_count_analysis().to_csv(f'./performance_file/US/00美股_原始條件比較_{START_DATE}_{END_DATE}.csv', encoding='cp950')"
   ]
  },
  {
   "cell_type": "markdown",
   "metadata": {},
   "source": [
    "---"
   ]
  },
  {
   "cell_type": "markdown",
   "metadata": {},
   "source": [
    "---"
   ]
  },
  {
   "cell_type": "markdown",
   "metadata": {},
   "source": [
    "## 本益比更低、當年度ROE<15%出場"
   ]
  },
  {
   "cell_type": "markdown",
   "metadata": {},
   "source": [
    "### 有配息率"
   ]
  },
  {
   "cell_type": "code",
   "execution_count": 44,
   "metadata": {},
   "outputs": [
    {
     "name": "stderr",
     "output_type": "stream",
     "text": [
      "Backtesting progress: 100%|██████████| 6/6 [00:03<00:00,  1.76condition/s]\n"
     ]
    },
    {
     "data": {
      "text/html": [
       "<div>\n",
       "<style scoped>\n",
       "    .dataframe tbody tr th:only-of-type {\n",
       "        vertical-align: middle;\n",
       "    }\n",
       "\n",
       "    .dataframe tbody tr th {\n",
       "        vertical-align: top;\n",
       "    }\n",
       "\n",
       "    .dataframe thead th {\n",
       "        text-align: right;\n",
       "    }\n",
       "</style>\n",
       "<table border=\"1\" class=\"dataframe\">\n",
       "  <thead>\n",
       "    <tr style=\"text-align: right;\">\n",
       "      <th></th>\n",
       "      <th>CAGR</th>\n",
       "      <th>MDD</th>\n",
       "      <th>入選股數平均</th>\n",
       "      <th>中位數</th>\n",
       "      <th>25%</th>\n",
       "      <th>75%</th>\n",
       "      <th>Min</th>\n",
       "      <th>Max</th>\n",
       "    </tr>\n",
       "    <tr>\n",
       "      <th>Strategy</th>\n",
       "      <th></th>\n",
       "      <th></th>\n",
       "      <th></th>\n",
       "      <th></th>\n",
       "      <th></th>\n",
       "      <th></th>\n",
       "      <th></th>\n",
       "      <th></th>\n",
       "    </tr>\n",
       "  </thead>\n",
       "  <tbody>\n",
       "    <tr>\n",
       "      <th>盈再率&lt;40+PE&lt;8進場+ROE&lt;15出場條件</th>\n",
       "      <td>0.179680</td>\n",
       "      <td>-0.357332</td>\n",
       "      <td>10.946970</td>\n",
       "      <td>10.0</td>\n",
       "      <td>8.00</td>\n",
       "      <td>13.0</td>\n",
       "      <td>4.0</td>\n",
       "      <td>21.0</td>\n",
       "    </tr>\n",
       "    <tr>\n",
       "      <th>盈再率&lt;40+PE&lt;8進場</th>\n",
       "      <td>0.174824</td>\n",
       "      <td>-0.357332</td>\n",
       "      <td>12.916667</td>\n",
       "      <td>13.0</td>\n",
       "      <td>9.00</td>\n",
       "      <td>16.0</td>\n",
       "      <td>4.0</td>\n",
       "      <td>26.0</td>\n",
       "    </tr>\n",
       "    <tr>\n",
       "      <th>盈再率&lt;40+PE&lt;10進場+ROE&lt;15出場條件</th>\n",
       "      <td>0.169262</td>\n",
       "      <td>-0.350065</td>\n",
       "      <td>16.136364</td>\n",
       "      <td>16.0</td>\n",
       "      <td>13.00</td>\n",
       "      <td>18.0</td>\n",
       "      <td>10.0</td>\n",
       "      <td>26.0</td>\n",
       "    </tr>\n",
       "    <tr>\n",
       "      <th>盈再率&lt;40+PE&lt;12進場+ROE&lt;15出場條件</th>\n",
       "      <td>0.165584</td>\n",
       "      <td>-0.378914</td>\n",
       "      <td>22.075758</td>\n",
       "      <td>22.0</td>\n",
       "      <td>20.00</td>\n",
       "      <td>25.0</td>\n",
       "      <td>15.0</td>\n",
       "      <td>31.0</td>\n",
       "    </tr>\n",
       "    <tr>\n",
       "      <th>盈再率&lt;40+PE&lt;10進場</th>\n",
       "      <td>0.164904</td>\n",
       "      <td>-0.375034</td>\n",
       "      <td>18.803030</td>\n",
       "      <td>19.0</td>\n",
       "      <td>15.75</td>\n",
       "      <td>21.0</td>\n",
       "      <td>10.0</td>\n",
       "      <td>28.0</td>\n",
       "    </tr>\n",
       "    <tr>\n",
       "      <th>盈再率&lt;40+PE&lt;12進場</th>\n",
       "      <td>0.162831</td>\n",
       "      <td>-0.393510</td>\n",
       "      <td>25.689394</td>\n",
       "      <td>26.0</td>\n",
       "      <td>23.00</td>\n",
       "      <td>29.0</td>\n",
       "      <td>15.0</td>\n",
       "      <td>37.0</td>\n",
       "    </tr>\n",
       "  </tbody>\n",
       "</table>\n",
       "</div>"
      ],
      "text/plain": [
       "                               CAGR       MDD     入選股數平均   中位數    25%   75%  \\\n",
       "Strategy                                                                      \n",
       "盈再率<40+PE<8進場+ROE<15出場條件   0.179680 -0.357332  10.946970  10.0   8.00  13.0   \n",
       "盈再率<40+PE<8進場              0.174824 -0.357332  12.916667  13.0   9.00  16.0   \n",
       "盈再率<40+PE<10進場+ROE<15出場條件  0.169262 -0.350065  16.136364  16.0  13.00  18.0   \n",
       "盈再率<40+PE<12進場+ROE<15出場條件  0.165584 -0.378914  22.075758  22.0  20.00  25.0   \n",
       "盈再率<40+PE<10進場             0.164904 -0.375034  18.803030  19.0  15.75  21.0   \n",
       "盈再率<40+PE<12進場             0.162831 -0.393510  25.689394  26.0  23.00  29.0   \n",
       "\n",
       "                            Min   Max  \n",
       "Strategy                               \n",
       "盈再率<40+PE<8進場+ROE<15出場條件    4.0  21.0  \n",
       "盈再率<40+PE<8進場               4.0  26.0  \n",
       "盈再率<40+PE<10進場+ROE<15出場條件  10.0  26.0  \n",
       "盈再率<40+PE<12進場+ROE<15出場條件  15.0  31.0  \n",
       "盈再率<40+PE<10進場             10.0  28.0  \n",
       "盈再率<40+PE<12進場             15.0  37.0  "
      ]
     },
     "execution_count": 44,
     "metadata": {},
     "output_type": "execute_result"
    }
   ],
   "source": [
    "pe_opts = {}\n",
    "\n",
    "for i in range(8, 13, 2):\n",
    "    # pe_opts[f'原始條件_盈再率80_PE_{i}'] = (orig_cond & (daily_pe_resample < i)).hold_until((~orig_cond) | pe_cond_exit)\n",
    "    pe_opts[f'盈再率<40+PE<{i}進場'] = (orig_cond_opt & (daily_pe_resample < i)).hold_until((~orig_cond_opt) | pe_cond_exit)\n",
    "\n",
    "    # pe_opts[f'原始條件_盈再率80_PE_{i}_ROE<15出場'] = (orig_cond & (daily_pe_resample < i)).hold_until((~orig_cond) | pe_cond_exit | (roe < 0.15))\n",
    "    pe_opts[f'盈再率<40+PE<{i}進場+ROE<15出場條件'] = (orig_cond_opt & (daily_pe_resample < i)).hold_until((~orig_cond_opt) | pe_cond_exit | (roe < 0.15))\n",
    "\n",
    "\n",
    "\n",
    "pe_opts_collecs = sim_conditions(pe_opts, resample='M', data=data)\n",
    "pe_opts_collecs.selected_stock_count_analysis()"
   ]
  },
  {
   "cell_type": "code",
   "execution_count": 45,
   "metadata": {},
   "outputs": [
    {
     "data": {
      "image/png": "[encoded data removed]",
      "text/plain": [
       "<Figure size 2000x800 with 1 Axes>"
      ]
     },
     "metadata": {},
     "output_type": "display_data"
    }
   ],
   "source": [
    "pe_opts_collecs.plot_reps_stock_counts(['盈再率<40+PE<12進場', '盈再率<40+PE<12進場+ROE<15出場條件', '盈再率<40+PE<10進場+ROE<15出場條件', '盈再率<40+PE<8進場+ROE<15出場條件'])"
   ]
  },
  {
   "cell_type": "code",
   "execution_count": 46,
   "metadata": {},
   "outputs": [],
   "source": [
    "# pe_opts_collecs.selected_stock_count_analysis().to_csv(f'./performance_file/US/01美股_原始條件_盈再率小於40_本益比小於N進場_ROE出場條件_{START_DATE}_{END_DATE}.csv', encoding='cp950')"
   ]
  },
  {
   "cell_type": "markdown",
   "metadata": {},
   "source": [
    "### 無配息率"
   ]
  },
  {
   "cell_type": "code",
   "execution_count": 47,
   "metadata": {},
   "outputs": [],
   "source": [
    "# pe_opts_nodpr = {}\n",
    "\n",
    "# for i in range(8, 13, 2):\n",
    "#     # pe_opts_nodpr[f'去掉配息_盈再率80_PE_{i}'] = (nodpr_cond & (daily_pe_resample < i)).hold_until((~nodpr_cond) | pe_cond_exit)\n",
    "#     pe_opts_nodpr[f'去掉配息_盈再率40_PE_{i}'] = (nodpr_cond_opt & (daily_pe_resample < i)).hold_until((~nodpr_cond_opt) | pe_cond_exit)\n",
    "\n",
    "#     # pe_opts_nodpr[f'去掉配息_盈再率80_PE_{i}_ROE<15出場'] = (nodpr_cond & (daily_pe_resample < i)).hold_until((~nodpr_cond) | (roe < 0.15))\n",
    "#     pe_opts_nodpr[f'去掉配息_盈再率40_PE_{i}_ROE<15出場'] = (nodpr_cond_opt & (daily_pe_resample < i)).hold_until((~nodpr_cond_opt) | (roe < 0.15))\n",
    "\n",
    "# pe_opts_nodpr_combs = sim_conditions(pe_opts_nodpr, resample='M', data=data)\n",
    "# pe_opts_nodpr_combs.selected_stock_count_analysis()"
   ]
  },
  {
   "cell_type": "code",
   "execution_count": 48,
   "metadata": {},
   "outputs": [],
   "source": [
    "# pe_opts_nodpr_combs.selected_stock_count_analysis().to_csv(f'./performance_file/US/02美股_無配息_盈再率小於40_本益比小於N進場_ROE出場條件_{START_DATE}_{END_DATE}.csv', encoding='cp950')"
   ]
  },
  {
   "cell_type": "markdown",
   "metadata": {},
   "source": [
    "---"
   ]
  },
  {
   "cell_type": "markdown",
   "metadata": {},
   "source": [
    "## ROE 參數最佳化"
   ]
  },
  {
   "cell_type": "markdown",
   "metadata": {},
   "source": [
    "### 有配息率"
   ]
  },
  {
   "cell_type": "code",
   "execution_count": 49,
   "metadata": {},
   "outputs": [
    {
     "name": "stderr",
     "output_type": "stream",
     "text": [
      "Backtesting progress: 100%|██████████| 30/30 [00:15<00:00,  1.99condition/s]\n"
     ]
    },
    {
     "data": {
      "text/html": [
       "<div>\n",
       "<style scoped>\n",
       "    .dataframe tbody tr th:only-of-type {\n",
       "        vertical-align: middle;\n",
       "    }\n",
       "\n",
       "    .dataframe tbody tr th {\n",
       "        vertical-align: top;\n",
       "    }\n",
       "\n",
       "    .dataframe thead th {\n",
       "        text-align: right;\n",
       "    }\n",
       "</style>\n",
       "<table border=\"1\" class=\"dataframe\">\n",
       "  <thead>\n",
       "    <tr style=\"text-align: right;\">\n",
       "      <th></th>\n",
       "      <th>CAGR</th>\n",
       "      <th>MDD</th>\n",
       "      <th>入選股數平均</th>\n",
       "      <th>中位數</th>\n",
       "      <th>25%</th>\n",
       "      <th>75%</th>\n",
       "      <th>Min</th>\n",
       "      <th>Max</th>\n",
       "    </tr>\n",
       "    <tr>\n",
       "      <th>Strategy</th>\n",
       "      <th></th>\n",
       "      <th></th>\n",
       "      <th></th>\n",
       "      <th></th>\n",
       "      <th></th>\n",
       "      <th></th>\n",
       "      <th></th>\n",
       "      <th></th>\n",
       "    </tr>\n",
       "  </thead>\n",
       "  <tbody>\n",
       "    <tr>\n",
       "      <th>ROE_5y_15_本益比&lt;8進場_ROE出場條件</th>\n",
       "      <td>0.179680</td>\n",
       "      <td>-0.357332</td>\n",
       "      <td>10.946970</td>\n",
       "      <td>10.0</td>\n",
       "      <td>8.00</td>\n",
       "      <td>13.00</td>\n",
       "      <td>4.0</td>\n",
       "      <td>21.0</td>\n",
       "    </tr>\n",
       "    <tr>\n",
       "      <th>ROE_5y_20_本益比&lt;8進場_ROE出場條件</th>\n",
       "      <td>0.178957</td>\n",
       "      <td>-0.395002</td>\n",
       "      <td>8.795455</td>\n",
       "      <td>9.0</td>\n",
       "      <td>7.00</td>\n",
       "      <td>11.00</td>\n",
       "      <td>4.0</td>\n",
       "      <td>13.0</td>\n",
       "    </tr>\n",
       "    <tr>\n",
       "      <th>ROE_5y_25_本益比&lt;8進場_ROE出場條件</th>\n",
       "      <td>0.174982</td>\n",
       "      <td>-0.506585</td>\n",
       "      <td>6.068182</td>\n",
       "      <td>6.0</td>\n",
       "      <td>5.00</td>\n",
       "      <td>7.00</td>\n",
       "      <td>3.0</td>\n",
       "      <td>9.0</td>\n",
       "    </tr>\n",
       "    <tr>\n",
       "      <th>ROE_5y_15+本益比&lt;8進場</th>\n",
       "      <td>0.174824</td>\n",
       "      <td>-0.357332</td>\n",
       "      <td>12.916667</td>\n",
       "      <td>13.0</td>\n",
       "      <td>9.00</td>\n",
       "      <td>16.00</td>\n",
       "      <td>4.0</td>\n",
       "      <td>26.0</td>\n",
       "    </tr>\n",
       "    <tr>\n",
       "      <th>ROE_5y_20+本益比&lt;8進場</th>\n",
       "      <td>0.170845</td>\n",
       "      <td>-0.395002</td>\n",
       "      <td>9.522727</td>\n",
       "      <td>10.0</td>\n",
       "      <td>7.75</td>\n",
       "      <td>12.00</td>\n",
       "      <td>4.0</td>\n",
       "      <td>15.0</td>\n",
       "    </tr>\n",
       "    <tr>\n",
       "      <th>ROE_5y_15_本益比&lt;10進場_ROE出場條件</th>\n",
       "      <td>0.169262</td>\n",
       "      <td>-0.350065</td>\n",
       "      <td>16.136364</td>\n",
       "      <td>16.0</td>\n",
       "      <td>13.00</td>\n",
       "      <td>18.00</td>\n",
       "      <td>10.0</td>\n",
       "      <td>26.0</td>\n",
       "    </tr>\n",
       "    <tr>\n",
       "      <th>ROE_5y_25_本益比&lt;10進場_ROE出場條件</th>\n",
       "      <td>0.168710</td>\n",
       "      <td>-0.373310</td>\n",
       "      <td>9.310606</td>\n",
       "      <td>9.0</td>\n",
       "      <td>8.00</td>\n",
       "      <td>10.00</td>\n",
       "      <td>6.0</td>\n",
       "      <td>18.0</td>\n",
       "    </tr>\n",
       "    <tr>\n",
       "      <th>ROE_5y_35_本益比&lt;12進場_ROE出場條件</th>\n",
       "      <td>0.167292</td>\n",
       "      <td>-0.352079</td>\n",
       "      <td>6.507576</td>\n",
       "      <td>7.0</td>\n",
       "      <td>5.00</td>\n",
       "      <td>8.00</td>\n",
       "      <td>3.0</td>\n",
       "      <td>15.0</td>\n",
       "    </tr>\n",
       "    <tr>\n",
       "      <th>ROE_5y_30_本益比&lt;10進場_ROE出場條件</th>\n",
       "      <td>0.166584</td>\n",
       "      <td>-0.373310</td>\n",
       "      <td>7.522727</td>\n",
       "      <td>7.0</td>\n",
       "      <td>6.00</td>\n",
       "      <td>8.00</td>\n",
       "      <td>5.0</td>\n",
       "      <td>15.0</td>\n",
       "    </tr>\n",
       "    <tr>\n",
       "      <th>ROE_5y_30_本益比&lt;12進場_ROE出場條件</th>\n",
       "      <td>0.166489</td>\n",
       "      <td>-0.358173</td>\n",
       "      <td>10.204545</td>\n",
       "      <td>10.0</td>\n",
       "      <td>9.00</td>\n",
       "      <td>11.00</td>\n",
       "      <td>6.0</td>\n",
       "      <td>19.0</td>\n",
       "    </tr>\n",
       "    <tr>\n",
       "      <th>ROE_5y_30_本益比&lt;8進場_ROE出場條件</th>\n",
       "      <td>0.165923</td>\n",
       "      <td>-0.506585</td>\n",
       "      <td>4.734848</td>\n",
       "      <td>5.0</td>\n",
       "      <td>4.00</td>\n",
       "      <td>6.00</td>\n",
       "      <td>2.0</td>\n",
       "      <td>8.0</td>\n",
       "    </tr>\n",
       "    <tr>\n",
       "      <th>ROE_5y_25+本益比&lt;8進場</th>\n",
       "      <td>0.165586</td>\n",
       "      <td>-0.506585</td>\n",
       "      <td>6.643939</td>\n",
       "      <td>7.0</td>\n",
       "      <td>5.00</td>\n",
       "      <td>8.00</td>\n",
       "      <td>3.0</td>\n",
       "      <td>10.0</td>\n",
       "    </tr>\n",
       "    <tr>\n",
       "      <th>ROE_5y_15_本益比&lt;12進場_ROE出場條件</th>\n",
       "      <td>0.165584</td>\n",
       "      <td>-0.378914</td>\n",
       "      <td>22.075758</td>\n",
       "      <td>22.0</td>\n",
       "      <td>20.00</td>\n",
       "      <td>25.00</td>\n",
       "      <td>15.0</td>\n",
       "      <td>31.0</td>\n",
       "    </tr>\n",
       "    <tr>\n",
       "      <th>ROE_5y_15+本益比&lt;10進場</th>\n",
       "      <td>0.164904</td>\n",
       "      <td>-0.375034</td>\n",
       "      <td>18.803030</td>\n",
       "      <td>19.0</td>\n",
       "      <td>15.75</td>\n",
       "      <td>21.00</td>\n",
       "      <td>10.0</td>\n",
       "      <td>28.0</td>\n",
       "    </tr>\n",
       "    <tr>\n",
       "      <th>ROE_5y_20_本益比&lt;10進場_ROE出場條件</th>\n",
       "      <td>0.164594</td>\n",
       "      <td>-0.385165</td>\n",
       "      <td>13.219697</td>\n",
       "      <td>13.5</td>\n",
       "      <td>11.00</td>\n",
       "      <td>15.00</td>\n",
       "      <td>8.0</td>\n",
       "      <td>20.0</td>\n",
       "    </tr>\n",
       "    <tr>\n",
       "      <th>ROE_5y_25_本益比&lt;12進場_ROE出場條件</th>\n",
       "      <td>0.163818</td>\n",
       "      <td>-0.358173</td>\n",
       "      <td>13.007576</td>\n",
       "      <td>13.0</td>\n",
       "      <td>11.00</td>\n",
       "      <td>15.00</td>\n",
       "      <td>8.0</td>\n",
       "      <td>23.0</td>\n",
       "    </tr>\n",
       "    <tr>\n",
       "      <th>ROE_5y_15+本益比&lt;12進場</th>\n",
       "      <td>0.162831</td>\n",
       "      <td>-0.393510</td>\n",
       "      <td>25.689394</td>\n",
       "      <td>26.0</td>\n",
       "      <td>23.00</td>\n",
       "      <td>29.00</td>\n",
       "      <td>15.0</td>\n",
       "      <td>37.0</td>\n",
       "    </tr>\n",
       "    <tr>\n",
       "      <th>ROE_5y_20_本益比&lt;12進場_ROE出場條件</th>\n",
       "      <td>0.162278</td>\n",
       "      <td>-0.380615</td>\n",
       "      <td>17.628788</td>\n",
       "      <td>17.0</td>\n",
       "      <td>16.00</td>\n",
       "      <td>20.00</td>\n",
       "      <td>11.0</td>\n",
       "      <td>25.0</td>\n",
       "    </tr>\n",
       "    <tr>\n",
       "      <th>ROE_5y_30+本益比&lt;8進場</th>\n",
       "      <td>0.160088</td>\n",
       "      <td>-0.506585</td>\n",
       "      <td>5.242424</td>\n",
       "      <td>5.0</td>\n",
       "      <td>4.00</td>\n",
       "      <td>6.00</td>\n",
       "      <td>2.0</td>\n",
       "      <td>8.0</td>\n",
       "    </tr>\n",
       "    <tr>\n",
       "      <th>ROE_5y_35_本益比&lt;8進場_ROE出場條件</th>\n",
       "      <td>0.159900</td>\n",
       "      <td>-0.510017</td>\n",
       "      <td>3.265152</td>\n",
       "      <td>3.0</td>\n",
       "      <td>2.00</td>\n",
       "      <td>4.00</td>\n",
       "      <td>0.0</td>\n",
       "      <td>7.0</td>\n",
       "    </tr>\n",
       "    <tr>\n",
       "      <th>ROE_5y_30+本益比&lt;12進場</th>\n",
       "      <td>0.159692</td>\n",
       "      <td>-0.358173</td>\n",
       "      <td>11.098485</td>\n",
       "      <td>11.0</td>\n",
       "      <td>9.75</td>\n",
       "      <td>13.00</td>\n",
       "      <td>7.0</td>\n",
       "      <td>20.0</td>\n",
       "    </tr>\n",
       "    <tr>\n",
       "      <th>ROE_5y_35_本益比&lt;10進場_ROE出場條件</th>\n",
       "      <td>0.159634</td>\n",
       "      <td>-0.409338</td>\n",
       "      <td>4.742424</td>\n",
       "      <td>5.0</td>\n",
       "      <td>3.00</td>\n",
       "      <td>6.00</td>\n",
       "      <td>1.0</td>\n",
       "      <td>10.0</td>\n",
       "    </tr>\n",
       "    <tr>\n",
       "      <th>ROE_5y_25+本益比&lt;10進場</th>\n",
       "      <td>0.158696</td>\n",
       "      <td>-0.373310</td>\n",
       "      <td>10.113636</td>\n",
       "      <td>10.0</td>\n",
       "      <td>9.00</td>\n",
       "      <td>11.00</td>\n",
       "      <td>7.0</td>\n",
       "      <td>18.0</td>\n",
       "    </tr>\n",
       "    <tr>\n",
       "      <th>ROE_5y_35+本益比&lt;12進場</th>\n",
       "      <td>0.158610</td>\n",
       "      <td>-0.352079</td>\n",
       "      <td>7.401515</td>\n",
       "      <td>7.0</td>\n",
       "      <td>6.00</td>\n",
       "      <td>8.00</td>\n",
       "      <td>4.0</td>\n",
       "      <td>16.0</td>\n",
       "    </tr>\n",
       "    <tr>\n",
       "      <th>ROE_5y_20+本益比&lt;10進場</th>\n",
       "      <td>0.157896</td>\n",
       "      <td>-0.385165</td>\n",
       "      <td>14.174242</td>\n",
       "      <td>15.0</td>\n",
       "      <td>12.00</td>\n",
       "      <td>16.00</td>\n",
       "      <td>9.0</td>\n",
       "      <td>20.0</td>\n",
       "    </tr>\n",
       "    <tr>\n",
       "      <th>ROE_5y_25+本益比&lt;12進場</th>\n",
       "      <td>0.157544</td>\n",
       "      <td>-0.358173</td>\n",
       "      <td>14.000000</td>\n",
       "      <td>14.0</td>\n",
       "      <td>12.00</td>\n",
       "      <td>16.00</td>\n",
       "      <td>8.0</td>\n",
       "      <td>24.0</td>\n",
       "    </tr>\n",
       "    <tr>\n",
       "      <th>ROE_5y_30+本益比&lt;10進場</th>\n",
       "      <td>0.157067</td>\n",
       "      <td>-0.373310</td>\n",
       "      <td>8.257576</td>\n",
       "      <td>8.0</td>\n",
       "      <td>7.00</td>\n",
       "      <td>9.00</td>\n",
       "      <td>6.0</td>\n",
       "      <td>15.0</td>\n",
       "    </tr>\n",
       "    <tr>\n",
       "      <th>ROE_5y_20+本益比&lt;12進場</th>\n",
       "      <td>0.156344</td>\n",
       "      <td>-0.380615</td>\n",
       "      <td>18.818182</td>\n",
       "      <td>19.0</td>\n",
       "      <td>16.00</td>\n",
       "      <td>21.00</td>\n",
       "      <td>12.0</td>\n",
       "      <td>26.0</td>\n",
       "    </tr>\n",
       "    <tr>\n",
       "      <th>ROE_5y_35+本益比&lt;10進場</th>\n",
       "      <td>0.152393</td>\n",
       "      <td>-0.421051</td>\n",
       "      <td>5.477273</td>\n",
       "      <td>6.0</td>\n",
       "      <td>4.00</td>\n",
       "      <td>6.25</td>\n",
       "      <td>2.0</td>\n",
       "      <td>10.0</td>\n",
       "    </tr>\n",
       "    <tr>\n",
       "      <th>ROE_5y_35+本益比&lt;8進場</th>\n",
       "      <td>0.144272</td>\n",
       "      <td>-0.512303</td>\n",
       "      <td>3.772727</td>\n",
       "      <td>4.0</td>\n",
       "      <td>3.00</td>\n",
       "      <td>5.00</td>\n",
       "      <td>1.0</td>\n",
       "      <td>7.0</td>\n",
       "    </tr>\n",
       "  </tbody>\n",
       "</table>\n",
       "</div>"
      ],
      "text/plain": [
       "                                CAGR       MDD     入選股數平均   中位數    25%    75%  \\\n",
       "Strategy                                                                        \n",
       "ROE_5y_15_本益比<8進場_ROE出場條件   0.179680 -0.357332  10.946970  10.0   8.00  13.00   \n",
       "ROE_5y_20_本益比<8進場_ROE出場條件   0.178957 -0.395002   8.795455   9.0   7.00  11.00   \n",
       "ROE_5y_25_本益比<8進場_ROE出場條件   0.174982 -0.506585   6.068182   6.0   5.00   7.00   \n",
       "ROE_5y_15+本益比<8進場           0.174824 -0.357332  12.916667  13.0   9.00  16.00   \n",
       "ROE_5y_20+本益比<8進場           0.170845 -0.395002   9.522727  10.0   7.75  12.00   \n",
       "ROE_5y_15_本益比<10進場_ROE出場條件  0.169262 -0.350065  16.136364  16.0  13.00  18.00   \n",
       "ROE_5y_25_本益比<10進場_ROE出場條件  0.168710 -0.373310   9.310606   9.0   8.00  10.00   \n",
       "ROE_5y_35_本益比<12進場_ROE出場條件  0.167292 -0.352079   6.507576   7.0   5.00   8.00   \n",
       "ROE_5y_30_本益比<10進場_ROE出場條件  0.166584 -0.373310   7.522727   7.0   6.00   8.00   \n",
       "ROE_5y_30_本益比<12進場_ROE出場條件  0.166489 -0.358173  10.204545  10.0   9.00  11.00   \n",
       "ROE_5y_30_本益比<8進場_ROE出場條件   0.165923 -0.506585   4.734848   5.0   4.00   6.00   \n",
       "ROE_5y_25+本益比<8進場           0.165586 -0.506585   6.643939   7.0   5.00   8.00   \n",
       "ROE_5y_15_本益比<12進場_ROE出場條件  0.165584 -0.378914  22.075758  22.0  20.00  25.00   \n",
       "ROE_5y_15+本益比<10進場          0.164904 -0.375034  18.803030  19.0  15.75  21.00   \n",
       "ROE_5y_20_本益比<10進場_ROE出場條件  0.164594 -0.385165  13.219697  13.5  11.00  15.00   \n",
       "ROE_5y_25_本益比<12進場_ROE出場條件  0.163818 -0.358173  13.007576  13.0  11.00  15.00   \n",
       "ROE_5y_15+本益比<12進場          0.162831 -0.393510  25.689394  26.0  23.00  29.00   \n",
       "ROE_5y_20_本益比<12進場_ROE出場條件  0.162278 -0.380615  17.628788  17.0  16.00  20.00   \n",
       "ROE_5y_30+本益比<8進場           0.160088 -0.506585   5.242424   5.0   4.00   6.00   \n",
       "ROE_5y_35_本益比<8進場_ROE出場條件   0.159900 -0.510017   3.265152   3.0   2.00   4.00   \n",
       "ROE_5y_30+本益比<12進場          0.159692 -0.358173  11.098485  11.0   9.75  13.00   \n",
       "ROE_5y_35_本益比<10進場_ROE出場條件  0.159634 -0.409338   4.742424   5.0   3.00   6.00   \n",
       "ROE_5y_25+本益比<10進場          0.158696 -0.373310  10.113636  10.0   9.00  11.00   \n",
       "ROE_5y_35+本益比<12進場          0.158610 -0.352079   7.401515   7.0   6.00   8.00   \n",
       "ROE_5y_20+本益比<10進場          0.157896 -0.385165  14.174242  15.0  12.00  16.00   \n",
       "ROE_5y_25+本益比<12進場          0.157544 -0.358173  14.000000  14.0  12.00  16.00   \n",
       "ROE_5y_30+本益比<10進場          0.157067 -0.373310   8.257576   8.0   7.00   9.00   \n",
       "ROE_5y_20+本益比<12進場          0.156344 -0.380615  18.818182  19.0  16.00  21.00   \n",
       "ROE_5y_35+本益比<10進場          0.152393 -0.421051   5.477273   6.0   4.00   6.25   \n",
       "ROE_5y_35+本益比<8進場           0.144272 -0.512303   3.772727   4.0   3.00   5.00   \n",
       "\n",
       "                             Min   Max  \n",
       "Strategy                                \n",
       "ROE_5y_15_本益比<8進場_ROE出場條件    4.0  21.0  \n",
       "ROE_5y_20_本益比<8進場_ROE出場條件    4.0  13.0  \n",
       "ROE_5y_25_本益比<8進場_ROE出場條件    3.0   9.0  \n",
       "ROE_5y_15+本益比<8進場            4.0  26.0  \n",
       "ROE_5y_20+本益比<8進場            4.0  15.0  \n",
       "ROE_5y_15_本益比<10進場_ROE出場條件  10.0  26.0  \n",
       "ROE_5y_25_本益比<10進場_ROE出場條件   6.0  18.0  \n",
       "ROE_5y_35_本益比<12進場_ROE出場條件   3.0  15.0  \n",
       "ROE_5y_30_本益比<10進場_ROE出場條件   5.0  15.0  \n",
       "ROE_5y_30_本益比<12進場_ROE出場條件   6.0  19.0  \n",
       "ROE_5y_30_本益比<8進場_ROE出場條件    2.0   8.0  \n",
       "ROE_5y_25+本益比<8進場            3.0  10.0  \n",
       "ROE_5y_15_本益比<12進場_ROE出場條件  15.0  31.0  \n",
       "ROE_5y_15+本益比<10進場          10.0  28.0  \n",
       "ROE_5y_20_本益比<10進場_ROE出場條件   8.0  20.0  \n",
       "ROE_5y_25_本益比<12進場_ROE出場條件   8.0  23.0  \n",
       "ROE_5y_15+本益比<12進場          15.0  37.0  \n",
       "ROE_5y_20_本益比<12進場_ROE出場條件  11.0  25.0  \n",
       "ROE_5y_30+本益比<8進場            2.0   8.0  \n",
       "ROE_5y_35_本益比<8進場_ROE出場條件    0.0   7.0  \n",
       "ROE_5y_30+本益比<12進場           7.0  20.0  \n",
       "ROE_5y_35_本益比<10進場_ROE出場條件   1.0  10.0  \n",
       "ROE_5y_25+本益比<10進場           7.0  18.0  \n",
       "ROE_5y_35+本益比<12進場           4.0  16.0  \n",
       "ROE_5y_20+本益比<10進場           9.0  20.0  \n",
       "ROE_5y_25+本益比<12進場           8.0  24.0  \n",
       "ROE_5y_30+本益比<10進場           6.0  15.0  \n",
       "ROE_5y_20+本益比<12進場          12.0  26.0  \n",
       "ROE_5y_35+本益比<10進場           2.0  10.0  \n",
       "ROE_5y_35+本益比<8進場            1.0   7.0  "
      ]
     },
     "execution_count": 49,
     "metadata": {},
     "output_type": "execute_result"
    }
   ],
   "source": [
    "roe_opts = {}\n",
    "roe_opt_base = rr_cond & netprofit_cond & payout_cond & listed_cond\n",
    "\n",
    "# for n in range(3, 6):\n",
    "for i in range(15, 36, 5):\n",
    "    for j in range(8, 13, 2):\n",
    "        # ROE N年平均 > 10%、15%、20%、25%、30%\n",
    "        df = roe.copy()\n",
    "        df['month'] = df.index.month\n",
    "        result = df.groupby('month', group_keys=False).apply(lambda group: group.rolling(5, min_periods=5).mean())\n",
    "        roe_rol_opt = result.drop(columns='month')\n",
    "\n",
    "        roe_cond_opt = (roe_rol_opt > (i/100))[START_DATE:END_DATE]\n",
    "        roe_opt_all = roe_opt_base & roe_cond_opt\n",
    "\n",
    "        pe_opt_entry_cond = daily_pe_resample < j\n",
    "\n",
    "\n",
    "        roe_opts[f'ROE_5y_{i}+本益比<{j}進場'] = (roe_opt_all & pe_opt_entry_cond).hold_until((~roe_opt_all) | pe_cond_exit)\n",
    "\n",
    "        \n",
    "        roe_opts[f'ROE_5y_{i}_本益比<{j}進場_ROE出場條件'] = (roe_opt_all & pe_opt_entry_cond).hold_until((~roe_opt_all) | pe_cond_exit | (roe < 0.15))\n",
    "\n",
    "\n",
    "\n",
    "\n",
    "roe_opt_combs = sim_conditions(roe_opts, resample='M', data=data)\n",
    "roe_opt_combs.selected_stock_count_analysis()"
   ]
  },
  {
   "cell_type": "code",
   "execution_count": 50,
   "metadata": {},
   "outputs": [],
   "source": [
    "# roe_opt_combs.selected_stock_count_analysis().to_csv(f'./performance_file/US/03美股_原始條件_ROE五年平均大於N_本益比小於N進場_有無ROE出場條件_{START_DATE}_{END_DATE}.csv', encoding='cp950')"
   ]
  },
  {
   "cell_type": "markdown",
   "metadata": {},
   "source": [
    "### 無配息率"
   ]
  },
  {
   "cell_type": "code",
   "execution_count": 51,
   "metadata": {},
   "outputs": [],
   "source": [
    "# roe_opts_nodpr = {}\n",
    "# roe_opt_base_nodpr = rr_cond & netprofit_cond & listed_cond\n",
    "\n",
    "# # for n in range(3, 6):\n",
    "# for i in range(15, 71, 5):\n",
    "#     for j in range(8, 13, 2): # 本益比 < 8, 10, 12 進場\n",
    "#         # ROE N年平均 > 10%、15%、20%、25%、30%\n",
    "#         df = roe.copy()\n",
    "#         df['month'] = df.index.month\n",
    "#         result = df.groupby('month', group_keys=False).apply(lambda group: group.rolling(5, min_periods=5).mean())\n",
    "#         roe_rol_opt = result.drop(columns='month')\n",
    "\n",
    "#         roe_cond_opt = (roe_rol_opt > (i/100))[START_DATE:END_DATE]\n",
    "#         roe_nodpr_opt_all = roe_opt_base_nodpr & roe_cond_opt\n",
    "\n",
    "#         pe_opt_entry_cond = daily_pe_resample < j\n",
    "\n",
    "#         # roe_opts_nodpr[f'ROE_5y_{i}+PE<{j}進場'] = (roe_nodpr_opt_all & pe_opt_entry_cond).hold_until((~roe_nodpr_opt_all) | pe_cond_exit)\n",
    "\n",
    "#         roe_opts_nodpr[f'ROE_5y_{i}_本益比<{j}進場'] = (roe_nodpr_opt_all & pe_opt_entry_cond).hold_until((~roe_nodpr_opt_all) | pe_cond_exit | (roe < 0.15))\n",
    "\n",
    "\n",
    "\n",
    "\n",
    "# roe_opt_combs_nodpr = sim_conditions(roe_opts_nodpr, resample='M', data=data)\n",
    "# # roe_opt_combs_nodpr.selected_stock_count_analysis()"
   ]
  },
  {
   "cell_type": "code",
   "execution_count": 52,
   "metadata": {},
   "outputs": [],
   "source": [
    "# roe_opt_combs_nodpr_df = roe_opt_combs_nodpr.selected_stock_count_analysis()\n",
    "# roe_opt_combs_nodpr_df[(roe_opt_combs_nodpr_df.loc[:, 'Min']>0) & (roe_opt_combs_nodpr_df.loc[:, 'Max']<=25)]"
   ]
  },
  {
   "cell_type": "code",
   "execution_count": 53,
   "metadata": {},
   "outputs": [],
   "source": [
    "# roe_opt_combs_nodpr.selected_stock_count_analysis().to_csv(f'./performance_file/US/04美股_無配息率_ROE五年平均大於N_本益比小於N進場_ROE出場條件_{START_DATE}_{END_DATE}.csv', encoding='cp950')"
   ]
  },
  {
   "cell_type": "code",
   "execution_count": 54,
   "metadata": {},
   "outputs": [],
   "source": [
    "# plot_diff_PER_cagr(roe_opt_combs_nodpr, title=\"ROE參數最佳化 CAGR (無配息率條件)\")"
   ]
  },
  {
   "cell_type": "markdown",
   "metadata": {},
   "source": [
    "---"
   ]
  },
  {
   "cell_type": "markdown",
   "metadata": {},
   "source": [
    "## 盈餘再投資率、本益比條件設更小"
   ]
  },
  {
   "cell_type": "markdown",
   "metadata": {},
   "source": [
    "### 有配息率"
   ]
  },
  {
   "cell_type": "code",
   "execution_count": 55,
   "metadata": {},
   "outputs": [
    {
     "name": "stderr",
     "output_type": "stream",
     "text": [
      "Backtesting progress: 100%|██████████| 15/15 [00:09<00:00,  1.51condition/s]\n"
     ]
    },
    {
     "data": {
      "text/html": [
       "<div>\n",
       "<style scoped>\n",
       "    .dataframe tbody tr th:only-of-type {\n",
       "        vertical-align: middle;\n",
       "    }\n",
       "\n",
       "    .dataframe tbody tr th {\n",
       "        vertical-align: top;\n",
       "    }\n",
       "\n",
       "    .dataframe thead th {\n",
       "        text-align: right;\n",
       "    }\n",
       "</style>\n",
       "<table border=\"1\" class=\"dataframe\">\n",
       "  <thead>\n",
       "    <tr style=\"text-align: right;\">\n",
       "      <th></th>\n",
       "      <th>CAGR</th>\n",
       "      <th>MDD</th>\n",
       "      <th>入選股數平均</th>\n",
       "      <th>中位數</th>\n",
       "      <th>25%</th>\n",
       "      <th>75%</th>\n",
       "      <th>Min</th>\n",
       "      <th>Max</th>\n",
       "    </tr>\n",
       "    <tr>\n",
       "      <th>Strategy</th>\n",
       "      <th></th>\n",
       "      <th></th>\n",
       "      <th></th>\n",
       "      <th></th>\n",
       "      <th></th>\n",
       "      <th></th>\n",
       "      <th></th>\n",
       "      <th></th>\n",
       "    </tr>\n",
       "  </thead>\n",
       "  <tbody>\n",
       "    <tr>\n",
       "      <th>盈再率&lt;0.4_本益比&lt;8進場</th>\n",
       "      <td>0.174824</td>\n",
       "      <td>-0.357332</td>\n",
       "      <td>12.916667</td>\n",
       "      <td>13.0</td>\n",
       "      <td>9.00</td>\n",
       "      <td>16.0</td>\n",
       "      <td>4.0</td>\n",
       "      <td>26.0</td>\n",
       "    </tr>\n",
       "    <tr>\n",
       "      <th>盈再率&lt;0.8_本益比&lt;8進場</th>\n",
       "      <td>0.172793</td>\n",
       "      <td>-0.408089</td>\n",
       "      <td>14.696970</td>\n",
       "      <td>14.5</td>\n",
       "      <td>11.00</td>\n",
       "      <td>17.0</td>\n",
       "      <td>8.0</td>\n",
       "      <td>27.0</td>\n",
       "    </tr>\n",
       "    <tr>\n",
       "      <th>盈再率&lt;0.2_本益比&lt;12進場</th>\n",
       "      <td>0.172472</td>\n",
       "      <td>-0.404734</td>\n",
       "      <td>19.651515</td>\n",
       "      <td>20.0</td>\n",
       "      <td>18.00</td>\n",
       "      <td>23.0</td>\n",
       "      <td>9.0</td>\n",
       "      <td>28.0</td>\n",
       "    </tr>\n",
       "    <tr>\n",
       "      <th>盈再率&lt;0.2_本益比&lt;10進場</th>\n",
       "      <td>0.171255</td>\n",
       "      <td>-0.391227</td>\n",
       "      <td>13.916667</td>\n",
       "      <td>15.0</td>\n",
       "      <td>9.00</td>\n",
       "      <td>17.0</td>\n",
       "      <td>6.0</td>\n",
       "      <td>25.0</td>\n",
       "    </tr>\n",
       "    <tr>\n",
       "      <th>盈再率&lt;0.6_本益比&lt;8進場</th>\n",
       "      <td>0.171155</td>\n",
       "      <td>-0.388459</td>\n",
       "      <td>14.424242</td>\n",
       "      <td>14.5</td>\n",
       "      <td>11.00</td>\n",
       "      <td>17.0</td>\n",
       "      <td>7.0</td>\n",
       "      <td>27.0</td>\n",
       "    </tr>\n",
       "    <tr>\n",
       "      <th>盈再率&lt;0.2_本益比&lt;8進場</th>\n",
       "      <td>0.168761</td>\n",
       "      <td>-0.447022</td>\n",
       "      <td>9.060606</td>\n",
       "      <td>10.0</td>\n",
       "      <td>5.00</td>\n",
       "      <td>12.0</td>\n",
       "      <td>1.0</td>\n",
       "      <td>24.0</td>\n",
       "    </tr>\n",
       "    <tr>\n",
       "      <th>盈再率&lt;0.8_本益比&lt;10進場</th>\n",
       "      <td>0.165997</td>\n",
       "      <td>-0.393940</td>\n",
       "      <td>21.378788</td>\n",
       "      <td>21.0</td>\n",
       "      <td>18.00</td>\n",
       "      <td>24.0</td>\n",
       "      <td>13.0</td>\n",
       "      <td>36.0</td>\n",
       "    </tr>\n",
       "    <tr>\n",
       "      <th>盈再率&lt;0.4_本益比&lt;10進場</th>\n",
       "      <td>0.164904</td>\n",
       "      <td>-0.375034</td>\n",
       "      <td>18.803030</td>\n",
       "      <td>19.0</td>\n",
       "      <td>15.75</td>\n",
       "      <td>21.0</td>\n",
       "      <td>10.0</td>\n",
       "      <td>28.0</td>\n",
       "    </tr>\n",
       "    <tr>\n",
       "      <th>盈再率&lt;0.8_本益比&lt;12進場</th>\n",
       "      <td>0.164627</td>\n",
       "      <td>-0.406829</td>\n",
       "      <td>28.393939</td>\n",
       "      <td>29.0</td>\n",
       "      <td>26.00</td>\n",
       "      <td>31.0</td>\n",
       "      <td>18.0</td>\n",
       "      <td>46.0</td>\n",
       "    </tr>\n",
       "    <tr>\n",
       "      <th>盈再率&lt;0.6_本益比&lt;10進場</th>\n",
       "      <td>0.164447</td>\n",
       "      <td>-0.388202</td>\n",
       "      <td>20.893939</td>\n",
       "      <td>21.0</td>\n",
       "      <td>18.00</td>\n",
       "      <td>24.0</td>\n",
       "      <td>13.0</td>\n",
       "      <td>35.0</td>\n",
       "    </tr>\n",
       "    <tr>\n",
       "      <th>盈再率&lt;0.6_本益比&lt;12進場</th>\n",
       "      <td>0.163383</td>\n",
       "      <td>-0.401763</td>\n",
       "      <td>27.946970</td>\n",
       "      <td>29.0</td>\n",
       "      <td>26.00</td>\n",
       "      <td>31.0</td>\n",
       "      <td>18.0</td>\n",
       "      <td>45.0</td>\n",
       "    </tr>\n",
       "    <tr>\n",
       "      <th>盈再率&lt;0.4_本益比&lt;12進場</th>\n",
       "      <td>0.162831</td>\n",
       "      <td>-0.393510</td>\n",
       "      <td>25.689394</td>\n",
       "      <td>26.0</td>\n",
       "      <td>23.00</td>\n",
       "      <td>29.0</td>\n",
       "      <td>15.0</td>\n",
       "      <td>37.0</td>\n",
       "    </tr>\n",
       "    <tr>\n",
       "      <th>盈再率&lt;0_本益比&lt;12進場</th>\n",
       "      <td>0.162457</td>\n",
       "      <td>-0.412431</td>\n",
       "      <td>8.068182</td>\n",
       "      <td>8.0</td>\n",
       "      <td>5.00</td>\n",
       "      <td>10.0</td>\n",
       "      <td>2.0</td>\n",
       "      <td>16.0</td>\n",
       "    </tr>\n",
       "    <tr>\n",
       "      <th>盈再率&lt;0_本益比&lt;8進場</th>\n",
       "      <td>0.140663</td>\n",
       "      <td>-0.487538</td>\n",
       "      <td>3.924242</td>\n",
       "      <td>3.0</td>\n",
       "      <td>2.00</td>\n",
       "      <td>4.0</td>\n",
       "      <td>1.0</td>\n",
       "      <td>13.0</td>\n",
       "    </tr>\n",
       "    <tr>\n",
       "      <th>盈再率&lt;0_本益比&lt;10進場</th>\n",
       "      <td>0.139242</td>\n",
       "      <td>-0.425453</td>\n",
       "      <td>5.598485</td>\n",
       "      <td>5.0</td>\n",
       "      <td>4.00</td>\n",
       "      <td>7.0</td>\n",
       "      <td>1.0</td>\n",
       "      <td>13.0</td>\n",
       "    </tr>\n",
       "  </tbody>\n",
       "</table>\n",
       "</div>"
      ],
      "text/plain": [
       "                      CAGR       MDD     入選股數平均   中位數    25%   75%   Min   Max\n",
       "Strategy                                                                      \n",
       "盈再率<0.4_本益比<8進場   0.174824 -0.357332  12.916667  13.0   9.00  16.0   4.0  26.0\n",
       "盈再率<0.8_本益比<8進場   0.172793 -0.408089  14.696970  14.5  11.00  17.0   8.0  27.0\n",
       "盈再率<0.2_本益比<12進場  0.172472 -0.404734  19.651515  20.0  18.00  23.0   9.0  28.0\n",
       "盈再率<0.2_本益比<10進場  0.171255 -0.391227  13.916667  15.0   9.00  17.0   6.0  25.0\n",
       "盈再率<0.6_本益比<8進場   0.171155 -0.388459  14.424242  14.5  11.00  17.0   7.0  27.0\n",
       "盈再率<0.2_本益比<8進場   0.168761 -0.447022   9.060606  10.0   5.00  12.0   1.0  24.0\n",
       "盈再率<0.8_本益比<10進場  0.165997 -0.393940  21.378788  21.0  18.00  24.0  13.0  36.0\n",
       "盈再率<0.4_本益比<10進場  0.164904 -0.375034  18.803030  19.0  15.75  21.0  10.0  28.0\n",
       "盈再率<0.8_本益比<12進場  0.164627 -0.406829  28.393939  29.0  26.00  31.0  18.0  46.0\n",
       "盈再率<0.6_本益比<10進場  0.164447 -0.388202  20.893939  21.0  18.00  24.0  13.0  35.0\n",
       "盈再率<0.6_本益比<12進場  0.163383 -0.401763  27.946970  29.0  26.00  31.0  18.0  45.0\n",
       "盈再率<0.4_本益比<12進場  0.162831 -0.393510  25.689394  26.0  23.00  29.0  15.0  37.0\n",
       "盈再率<0_本益比<12進場    0.162457 -0.412431   8.068182   8.0   5.00  10.0   2.0  16.0\n",
       "盈再率<0_本益比<8進場     0.140663 -0.487538   3.924242   3.0   2.00   4.0   1.0  13.0\n",
       "盈再率<0_本益比<10進場    0.139242 -0.425453   5.598485   5.0   4.00   7.0   1.0  13.0"
      ]
     },
     "execution_count": 55,
     "metadata": {},
     "output_type": "execute_result"
    }
   ],
   "source": [
    "rr_opts = {}\n",
    "rr_opt_base = roe_cond & netprofit_cond & payout_cond & listed_cond\n",
    "\n",
    "for i in [0, 0.2, 0.4, 0.6, 0.8]: # 盈再率\n",
    "    for n in range(8, 13, 2): # 本益比\n",
    "        rr_cond_opt = (rr < i)[START_DATE:END_DATE]\n",
    "        rr_opt_all = rr_opt_base & rr_cond_opt\n",
    "        pe_opt_cond = (daily_pe_resample < n)\n",
    "\n",
    "        rr_opts[f'盈再率<{i}_本益比<{n}進場'] = (rr_opt_all & pe_opt_cond).hold_until((~rr_opt_all) | pe_cond_exit)\n",
    "        # rr_opts[f'盈再率<{i}_本益比<{n}進場_ROE出場條件'] = (rr_opt_all & pe_opt_cond).hold_until((~rr_opt_all) | pe_cond_exit | (roe < 0.15))\n",
    "\n",
    "        \n",
    "\n",
    "# rr_opts['盈再率>0.8_本益比<12進場'] = (((rr > 0.8) & rr_opt_base) & pe_cond_entry).hold_until((~((rr > 0.8) & rr_opt_base)) | pe_cond_exit)\n",
    "\n",
    "\n",
    "\n",
    "rr_opt_combs = sim_conditions(rr_opts, resample='M', data=data)\n",
    "rr_opt_combs.selected_stock_count_analysis()"
   ]
  },
  {
   "cell_type": "code",
   "execution_count": 56,
   "metadata": {},
   "outputs": [
    {
     "data": {
      "image/png": "[encoded data removed]",
      "text/plain": [
       "<Figure size 1000x600 with 1 Axes>"
      ]
     },
     "metadata": {},
     "output_type": "display_data"
    }
   ],
   "source": [
    "plot_diff_PER_cagr(rr_opt_combs, title='盈再率條件設更小、本益比<8、10、12進場')"
   ]
  },
  {
   "cell_type": "markdown",
   "metadata": {},
   "source": [
    "### 無配息率"
   ]
  },
  {
   "cell_type": "code",
   "execution_count": 57,
   "metadata": {},
   "outputs": [],
   "source": [
    "# rr_opts_nodpr = {}\n",
    "# rr_opt_base_nodpr = roe_cond & netprofit_cond & listed_cond\n",
    "\n",
    "# for i in [0, 0.2, 0.4, 0.6, 0.8]:\n",
    "#     for n in range(8, 13, 2):\n",
    "#         rr_cond_opt = (rr < i)[START_DATE:END_DATE]\n",
    "#         rr_nodpr_opt_all = rr_opt_base_nodpr & rr_cond_opt\n",
    "#         nodpr_pe_cond = (daily_pe_resample < n)\n",
    "\n",
    "#         rr_opts_nodpr[f'盈再率<{i}_本益比<{n}進場'] = (rr_nodpr_opt_all & nodpr_pe_cond).hold_until((~rr_nodpr_opt_all) | pe_cond_exit)\n",
    "\n",
    "\n",
    "\n",
    "# rr_opt_combs_nodpr = sim_conditions(rr_opts_nodpr, resample='M', data=data)\n",
    "# rr_opt_combs_nodpr.selected_stock_count_analysis()"
   ]
  },
  {
   "cell_type": "code",
   "execution_count": 58,
   "metadata": {},
   "outputs": [],
   "source": [
    "# rr_opt_combs_nodpr.selected_stock_count_analysis().to_csv(f'./performance_file/US/05美股_原始條件_盈再率小於N_本益比小於N進場_{START_DATE}_{END_DATE}.csv', encoding='cp950')"
   ]
  },
  {
   "cell_type": "markdown",
   "metadata": {},
   "source": [
    "## 盈再率 + 配息率"
   ]
  },
  {
   "cell_type": "code",
   "execution_count": 59,
   "metadata": {},
   "outputs": [
    {
     "name": "stderr",
     "output_type": "stream",
     "text": [
      "Backtesting progress: 100%|██████████| 81/81 [01:20<00:00,  1.01condition/s]\n"
     ]
    },
    {
     "data": {
      "text/html": [
       "<div>\n",
       "<style scoped>\n",
       "    .dataframe tbody tr th:only-of-type {\n",
       "        vertical-align: middle;\n",
       "    }\n",
       "\n",
       "    .dataframe tbody tr th {\n",
       "        vertical-align: top;\n",
       "    }\n",
       "\n",
       "    .dataframe thead th {\n",
       "        text-align: right;\n",
       "    }\n",
       "</style>\n",
       "<table border=\"1\" class=\"dataframe\">\n",
       "  <thead>\n",
       "    <tr style=\"text-align: right;\">\n",
       "      <th></th>\n",
       "      <th>CAGR</th>\n",
       "      <th>MDD</th>\n",
       "      <th>入選股數平均</th>\n",
       "      <th>中位數</th>\n",
       "      <th>25%</th>\n",
       "      <th>75%</th>\n",
       "      <th>Min</th>\n",
       "      <th>Max</th>\n",
       "    </tr>\n",
       "    <tr>\n",
       "      <th>Strategy</th>\n",
       "      <th></th>\n",
       "      <th></th>\n",
       "      <th></th>\n",
       "      <th></th>\n",
       "      <th></th>\n",
       "      <th></th>\n",
       "      <th></th>\n",
       "      <th></th>\n",
       "    </tr>\n",
       "  </thead>\n",
       "  <tbody>\n",
       "    <tr>\n",
       "      <th>盈再率&lt;0.2_配息率5_本益比&lt;12進場</th>\n",
       "      <td>0.184101</td>\n",
       "      <td>-0.428766</td>\n",
       "      <td>83.333333</td>\n",
       "      <td>87.0</td>\n",
       "      <td>72.00</td>\n",
       "      <td>95.00</td>\n",
       "      <td>40.0</td>\n",
       "      <td>116.0</td>\n",
       "    </tr>\n",
       "    <tr>\n",
       "      <th>盈再率&lt;0.2_配息率10_本益比&lt;12進場</th>\n",
       "      <td>0.181974</td>\n",
       "      <td>-0.419669</td>\n",
       "      <td>77.219697</td>\n",
       "      <td>83.0</td>\n",
       "      <td>60.75</td>\n",
       "      <td>90.00</td>\n",
       "      <td>36.0</td>\n",
       "      <td>105.0</td>\n",
       "    </tr>\n",
       "    <tr>\n",
       "      <th>盈再率&lt;0.2_配息率5_本益比&lt;10進場</th>\n",
       "      <td>0.177984</td>\n",
       "      <td>-0.452338</td>\n",
       "      <td>66.166667</td>\n",
       "      <td>67.0</td>\n",
       "      <td>53.00</td>\n",
       "      <td>78.50</td>\n",
       "      <td>29.0</td>\n",
       "      <td>106.0</td>\n",
       "    </tr>\n",
       "    <tr>\n",
       "      <th>盈再率&lt;0.2_配息率5_本益比&lt;8進場</th>\n",
       "      <td>0.177513</td>\n",
       "      <td>-0.473360</td>\n",
       "      <td>48.719697</td>\n",
       "      <td>49.0</td>\n",
       "      <td>39.00</td>\n",
       "      <td>58.25</td>\n",
       "      <td>20.0</td>\n",
       "      <td>89.0</td>\n",
       "    </tr>\n",
       "    <tr>\n",
       "      <th>盈再率&lt;0.2_配息率15_本益比&lt;12進場</th>\n",
       "      <td>0.177023</td>\n",
       "      <td>-0.417834</td>\n",
       "      <td>67.901515</td>\n",
       "      <td>76.0</td>\n",
       "      <td>50.00</td>\n",
       "      <td>82.00</td>\n",
       "      <td>28.0</td>\n",
       "      <td>92.0</td>\n",
       "    </tr>\n",
       "    <tr>\n",
       "      <th>...</th>\n",
       "      <td>...</td>\n",
       "      <td>...</td>\n",
       "      <td>...</td>\n",
       "      <td>...</td>\n",
       "      <td>...</td>\n",
       "      <td>...</td>\n",
       "      <td>...</td>\n",
       "      <td>...</td>\n",
       "    </tr>\n",
       "    <tr>\n",
       "      <th>盈再率&lt;0_配息率45_本益比&lt;12進場</th>\n",
       "      <td>0.123482</td>\n",
       "      <td>-0.423936</td>\n",
       "      <td>5.613636</td>\n",
       "      <td>5.0</td>\n",
       "      <td>3.75</td>\n",
       "      <td>7.25</td>\n",
       "      <td>2.0</td>\n",
       "      <td>13.0</td>\n",
       "    </tr>\n",
       "    <tr>\n",
       "      <th>盈再率&lt;0_配息率25_本益比&lt;8進場</th>\n",
       "      <td>0.123159</td>\n",
       "      <td>-0.473284</td>\n",
       "      <td>8.212121</td>\n",
       "      <td>8.0</td>\n",
       "      <td>4.75</td>\n",
       "      <td>11.00</td>\n",
       "      <td>1.0</td>\n",
       "      <td>20.0</td>\n",
       "    </tr>\n",
       "    <tr>\n",
       "      <th>盈再率&lt;0_配息率25_本益比&lt;10進場</th>\n",
       "      <td>0.120656</td>\n",
       "      <td>-0.441131</td>\n",
       "      <td>11.696970</td>\n",
       "      <td>12.0</td>\n",
       "      <td>7.00</td>\n",
       "      <td>15.00</td>\n",
       "      <td>3.0</td>\n",
       "      <td>25.0</td>\n",
       "    </tr>\n",
       "    <tr>\n",
       "      <th>盈再率&lt;0_配息率45_本益比&lt;10進場</th>\n",
       "      <td>0.087002</td>\n",
       "      <td>-0.465186</td>\n",
       "      <td>3.810606</td>\n",
       "      <td>3.0</td>\n",
       "      <td>2.00</td>\n",
       "      <td>5.00</td>\n",
       "      <td>0.0</td>\n",
       "      <td>11.0</td>\n",
       "    </tr>\n",
       "    <tr>\n",
       "      <th>盈再率&lt;0_配息率45_本益比&lt;8進場</th>\n",
       "      <td>0.081275</td>\n",
       "      <td>-0.487538</td>\n",
       "      <td>2.590909</td>\n",
       "      <td>2.0</td>\n",
       "      <td>1.00</td>\n",
       "      <td>3.00</td>\n",
       "      <td>0.0</td>\n",
       "      <td>10.0</td>\n",
       "    </tr>\n",
       "  </tbody>\n",
       "</table>\n",
       "<p>81 rows × 8 columns</p>\n",
       "</div>"
      ],
      "text/plain": [
       "                            CAGR       MDD     入選股數平均   中位數    25%    75%  \\\n",
       "Strategy                                                                    \n",
       "盈再率<0.2_配息率5_本益比<12進場   0.184101 -0.428766  83.333333  87.0  72.00  95.00   \n",
       "盈再率<0.2_配息率10_本益比<12進場  0.181974 -0.419669  77.219697  83.0  60.75  90.00   \n",
       "盈再率<0.2_配息率5_本益比<10進場   0.177984 -0.452338  66.166667  67.0  53.00  78.50   \n",
       "盈再率<0.2_配息率5_本益比<8進場    0.177513 -0.473360  48.719697  49.0  39.00  58.25   \n",
       "盈再率<0.2_配息率15_本益比<12進場  0.177023 -0.417834  67.901515  76.0  50.00  82.00   \n",
       "...                          ...       ...        ...   ...    ...    ...   \n",
       "盈再率<0_配息率45_本益比<12進場    0.123482 -0.423936   5.613636   5.0   3.75   7.25   \n",
       "盈再率<0_配息率25_本益比<8進場     0.123159 -0.473284   8.212121   8.0   4.75  11.00   \n",
       "盈再率<0_配息率25_本益比<10進場    0.120656 -0.441131  11.696970  12.0   7.00  15.00   \n",
       "盈再率<0_配息率45_本益比<10進場    0.087002 -0.465186   3.810606   3.0   2.00   5.00   \n",
       "盈再率<0_配息率45_本益比<8進場     0.081275 -0.487538   2.590909   2.0   1.00   3.00   \n",
       "\n",
       "                         Min    Max  \n",
       "Strategy                             \n",
       "盈再率<0.2_配息率5_本益比<12進場   40.0  116.0  \n",
       "盈再率<0.2_配息率10_本益比<12進場  36.0  105.0  \n",
       "盈再率<0.2_配息率5_本益比<10進場   29.0  106.0  \n",
       "盈再率<0.2_配息率5_本益比<8進場    20.0   89.0  \n",
       "盈再率<0.2_配息率15_本益比<12進場  28.0   92.0  \n",
       "...                      ...    ...  \n",
       "盈再率<0_配息率45_本益比<12進場     2.0   13.0  \n",
       "盈再率<0_配息率25_本益比<8進場      1.0   20.0  \n",
       "盈再率<0_配息率25_本益比<10進場     3.0   25.0  \n",
       "盈再率<0_配息率45_本益比<10進場     0.0   11.0  \n",
       "盈再率<0_配息率45_本益比<8進場      0.0   10.0  \n",
       "\n",
       "[81 rows x 8 columns]"
      ]
     },
     "execution_count": 59,
     "metadata": {},
     "output_type": "execute_result"
    }
   ],
   "source": [
    "rr_dpr_opts = {}\n",
    "rr_dpr_opt_base = roe_cond & netprofit_cond & listed_cond\n",
    "\n",
    "for i in [0, 0.2, 0.4]: #, 0.6, 0.8]: # 盈再率\n",
    "    for n in range(8, 13, 2): # 本益比\n",
    "        for j in range(5, 46, 5): # 配息率\n",
    "            \n",
    "            payout_df = payout_ratio.copy()\n",
    "            payout_df['month'] = payout_df.index.month\n",
    "            payout_result = payout_df.groupby('month', group_keys=False).apply(lambda group: group.rolling(3, min_periods=3).min())\n",
    "            payout_ratio_rol = payout_result.drop(columns='month')\n",
    "            payout_cond_opt = (payout_ratio_rol >= (j/100))[START_DATE:END_DATE]\n",
    "            \n",
    "\n",
    "            rr_cond_opt = (rr < i)[START_DATE:END_DATE]\n",
    "\n",
    "            rr_nodpr_opt_all = rr_dpr_opt_base & rr_cond_opt & payout_cond_opt\n",
    "            nodpr_pe_cond = (daily_pe_resample < n)\n",
    "\n",
    "            rr_dpr_opts[f'盈再率<{i}_配息率{j}_本益比<{n}進場'] = (rr_nodpr_opt_all & nodpr_pe_cond).hold_until((~rr_nodpr_opt_all) | pe_cond_exit)\n",
    "\n",
    "\n",
    "\n",
    "rr_dpr_opts_combs_nodpr = sim_conditions(rr_dpr_opts, resample='M', data=data)\n",
    "rr_dpr_opts_combs_nodpr.selected_stock_count_analysis()"
   ]
  },
  {
   "cell_type": "code",
   "execution_count": 60,
   "metadata": {},
   "outputs": [],
   "source": [
    "# rr_dpr_opts_combs_nodpr.selected_stock_count_analysis().to_csv(f'./performance_file/US/06美股_無配息條件_盈再率小於N_配息率三年至少大於N_本益比小於N進場_{START_DATE}_{END_DATE}.csv', encoding='cp950')"
   ]
  },
  {
   "cell_type": "code",
   "execution_count": 61,
   "metadata": {},
   "outputs": [],
   "source": [
    "# rr_dpr_opts_combs_nodpr_df = rr_dpr_opts_combs_nodpr.selected_stock_count_analysis()\n",
    "# rr_dpr_opts_combs_nodpr_df[(rr_dpr_opts_combs_nodpr_df.loc[:, 'Min']>0)].iloc[:21, :]"
   ]
  },
  {
   "cell_type": "markdown",
   "metadata": {},
   "source": [
    "---"
   ]
  },
  {
   "cell_type": "markdown",
   "metadata": {},
   "source": [
    "## ROE5年平均 + 配息率"
   ]
  },
  {
   "cell_type": "code",
   "execution_count": 63,
   "metadata": {},
   "outputs": [
    {
     "name": "stderr",
     "output_type": "stream",
     "text": [
      "Backtesting progress: 100%|██████████| 264/264 [06:56<00:00,  1.58s/condition]\n"
     ]
    },
    {
     "data": {
      "text/html": [
       "<div>\n",
       "<style scoped>\n",
       "    .dataframe tbody tr th:only-of-type {\n",
       "        vertical-align: middle;\n",
       "    }\n",
       "\n",
       "    .dataframe tbody tr th {\n",
       "        vertical-align: top;\n",
       "    }\n",
       "\n",
       "    .dataframe thead th {\n",
       "        text-align: right;\n",
       "    }\n",
       "</style>\n",
       "<table border=\"1\" class=\"dataframe\">\n",
       "  <thead>\n",
       "    <tr style=\"text-align: right;\">\n",
       "      <th></th>\n",
       "      <th>CAGR</th>\n",
       "      <th>MDD</th>\n",
       "      <th>入選股數平均</th>\n",
       "      <th>中位數</th>\n",
       "      <th>25%</th>\n",
       "      <th>75%</th>\n",
       "      <th>Min</th>\n",
       "      <th>Max</th>\n",
       "    </tr>\n",
       "    <tr>\n",
       "      <th>Strategy</th>\n",
       "      <th></th>\n",
       "      <th></th>\n",
       "      <th></th>\n",
       "      <th></th>\n",
       "      <th></th>\n",
       "      <th></th>\n",
       "      <th></th>\n",
       "      <th></th>\n",
       "    </tr>\n",
       "  </thead>\n",
       "  <tbody>\n",
       "    <tr>\n",
       "      <th>ROE_5y_30+盈再率&lt;0.4+配息率三年至少35%+PE&lt;8進場+ROE&lt;15出場條件</th>\n",
       "      <td>0.230355</td>\n",
       "      <td>-0.489373</td>\n",
       "      <td>5.628788</td>\n",
       "      <td>5.0</td>\n",
       "      <td>5.0</td>\n",
       "      <td>7.0</td>\n",
       "      <td>3.0</td>\n",
       "      <td>11.0</td>\n",
       "    </tr>\n",
       "    <tr>\n",
       "      <th>ROE_5y_30+盈再率&lt;0.4+配息率三年至少35%+PE&lt;8進場</th>\n",
       "      <td>0.199518</td>\n",
       "      <td>-0.489373</td>\n",
       "      <td>6.325758</td>\n",
       "      <td>7.0</td>\n",
       "      <td>5.0</td>\n",
       "      <td>7.0</td>\n",
       "      <td>3.0</td>\n",
       "      <td>11.0</td>\n",
       "    </tr>\n",
       "    <tr>\n",
       "      <th>ROE_5y_30+盈再率&lt;0.4+配息率三年至少10%+PE&lt;8進場+ROE&lt;15出場條件</th>\n",
       "      <td>0.198772</td>\n",
       "      <td>-0.421788</td>\n",
       "      <td>17.757576</td>\n",
       "      <td>19.0</td>\n",
       "      <td>15.0</td>\n",
       "      <td>20.0</td>\n",
       "      <td>8.0</td>\n",
       "      <td>25.0</td>\n",
       "    </tr>\n",
       "    <tr>\n",
       "      <th>ROE_5y_30+盈再率&lt;0.4+配息率三年至少30%+PE&lt;8進場+ROE&lt;15出場條件</th>\n",
       "      <td>0.198634</td>\n",
       "      <td>-0.437500</td>\n",
       "      <td>7.606061</td>\n",
       "      <td>8.0</td>\n",
       "      <td>6.0</td>\n",
       "      <td>9.0</td>\n",
       "      <td>4.0</td>\n",
       "      <td>13.0</td>\n",
       "    </tr>\n",
       "    <tr>\n",
       "      <th>ROE_5y_25+盈再率&lt;0.4+配息率三年至少35%+PE&lt;8進場+ROE&lt;15出場條件</th>\n",
       "      <td>0.193358</td>\n",
       "      <td>-0.449124</td>\n",
       "      <td>8.181818</td>\n",
       "      <td>8.0</td>\n",
       "      <td>7.0</td>\n",
       "      <td>10.0</td>\n",
       "      <td>5.0</td>\n",
       "      <td>13.0</td>\n",
       "    </tr>\n",
       "    <tr>\n",
       "      <th>...</th>\n",
       "      <td>...</td>\n",
       "      <td>...</td>\n",
       "      <td>...</td>\n",
       "      <td>...</td>\n",
       "      <td>...</td>\n",
       "      <td>...</td>\n",
       "      <td>...</td>\n",
       "      <td>...</td>\n",
       "    </tr>\n",
       "    <tr>\n",
       "      <th>ROE_5y_30+盈再率&lt;0.4+配息率三年至少45%+PE&lt;8進場+ROE&lt;15出場條件</th>\n",
       "      <td>0.137373</td>\n",
       "      <td>-0.505217</td>\n",
       "      <td>3.515152</td>\n",
       "      <td>3.0</td>\n",
       "      <td>3.0</td>\n",
       "      <td>4.0</td>\n",
       "      <td>1.0</td>\n",
       "      <td>7.0</td>\n",
       "    </tr>\n",
       "    <tr>\n",
       "      <th>ROE_5y_30+盈再率&lt;0.4+配息率三年至少50%+PE&lt;10進場</th>\n",
       "      <td>0.137361</td>\n",
       "      <td>-0.358987</td>\n",
       "      <td>4.462121</td>\n",
       "      <td>4.0</td>\n",
       "      <td>3.0</td>\n",
       "      <td>5.0</td>\n",
       "      <td>2.0</td>\n",
       "      <td>10.0</td>\n",
       "    </tr>\n",
       "    <tr>\n",
       "      <th>ROE_5y_30+盈再率&lt;0.4+配息率三年至少50%+PE&lt;12進場</th>\n",
       "      <td>0.137239</td>\n",
       "      <td>-0.377810</td>\n",
       "      <td>6.075758</td>\n",
       "      <td>6.0</td>\n",
       "      <td>5.0</td>\n",
       "      <td>7.0</td>\n",
       "      <td>3.0</td>\n",
       "      <td>13.0</td>\n",
       "    </tr>\n",
       "    <tr>\n",
       "      <th>ROE_5y_30+盈再率&lt;0.4+配息率三年至少50%+PE&lt;8進場</th>\n",
       "      <td>0.131648</td>\n",
       "      <td>-0.495769</td>\n",
       "      <td>3.083333</td>\n",
       "      <td>3.0</td>\n",
       "      <td>3.0</td>\n",
       "      <td>4.0</td>\n",
       "      <td>1.0</td>\n",
       "      <td>6.0</td>\n",
       "    </tr>\n",
       "    <tr>\n",
       "      <th>ROE_5y_30+盈再率&lt;0.4+配息率三年至少45%+PE&lt;8進場</th>\n",
       "      <td>0.129579</td>\n",
       "      <td>-0.505217</td>\n",
       "      <td>3.954545</td>\n",
       "      <td>4.0</td>\n",
       "      <td>3.0</td>\n",
       "      <td>5.0</td>\n",
       "      <td>1.0</td>\n",
       "      <td>7.0</td>\n",
       "    </tr>\n",
       "  </tbody>\n",
       "</table>\n",
       "<p>264 rows × 8 columns</p>\n",
       "</div>"
      ],
      "text/plain": [
       "                                                    CAGR       MDD     入選股數平均  \\\n",
       "Strategy                                                                        \n",
       "ROE_5y_30+盈再率<0.4+配息率三年至少35%+PE<8進場+ROE<15出場條件  0.230355 -0.489373   5.628788   \n",
       "ROE_5y_30+盈再率<0.4+配息率三年至少35%+PE<8進場             0.199518 -0.489373   6.325758   \n",
       "ROE_5y_30+盈再率<0.4+配息率三年至少10%+PE<8進場+ROE<15出場條件  0.198772 -0.421788  17.757576   \n",
       "ROE_5y_30+盈再率<0.4+配息率三年至少30%+PE<8進場+ROE<15出場條件  0.198634 -0.437500   7.606061   \n",
       "ROE_5y_25+盈再率<0.4+配息率三年至少35%+PE<8進場+ROE<15出場條件  0.193358 -0.449124   8.181818   \n",
       "...                                                  ...       ...        ...   \n",
       "ROE_5y_30+盈再率<0.4+配息率三年至少45%+PE<8進場+ROE<15出場條件  0.137373 -0.505217   3.515152   \n",
       "ROE_5y_30+盈再率<0.4+配息率三年至少50%+PE<10進場            0.137361 -0.358987   4.462121   \n",
       "ROE_5y_30+盈再率<0.4+配息率三年至少50%+PE<12進場            0.137239 -0.377810   6.075758   \n",
       "ROE_5y_30+盈再率<0.4+配息率三年至少50%+PE<8進場             0.131648 -0.495769   3.083333   \n",
       "ROE_5y_30+盈再率<0.4+配息率三年至少45%+PE<8進場             0.129579 -0.505217   3.954545   \n",
       "\n",
       "                                                 中位數   25%   75%  Min   Max  \n",
       "Strategy                                                                     \n",
       "ROE_5y_30+盈再率<0.4+配息率三年至少35%+PE<8進場+ROE<15出場條件   5.0   5.0   7.0  3.0  11.0  \n",
       "ROE_5y_30+盈再率<0.4+配息率三年至少35%+PE<8進場              7.0   5.0   7.0  3.0  11.0  \n",
       "ROE_5y_30+盈再率<0.4+配息率三年至少10%+PE<8進場+ROE<15出場條件  19.0  15.0  20.0  8.0  25.0  \n",
       "ROE_5y_30+盈再率<0.4+配息率三年至少30%+PE<8進場+ROE<15出場條件   8.0   6.0   9.0  4.0  13.0  \n",
       "ROE_5y_25+盈再率<0.4+配息率三年至少35%+PE<8進場+ROE<15出場條件   8.0   7.0  10.0  5.0  13.0  \n",
       "...                                              ...   ...   ...  ...   ...  \n",
       "ROE_5y_30+盈再率<0.4+配息率三年至少45%+PE<8進場+ROE<15出場條件   3.0   3.0   4.0  1.0   7.0  \n",
       "ROE_5y_30+盈再率<0.4+配息率三年至少50%+PE<10進場             4.0   3.0   5.0  2.0  10.0  \n",
       "ROE_5y_30+盈再率<0.4+配息率三年至少50%+PE<12進場             6.0   5.0   7.0  3.0  13.0  \n",
       "ROE_5y_30+盈再率<0.4+配息率三年至少50%+PE<8進場              3.0   3.0   4.0  1.0   6.0  \n",
       "ROE_5y_30+盈再率<0.4+配息率三年至少45%+PE<8進場              4.0   3.0   5.0  1.0   7.0  \n",
       "\n",
       "[264 rows x 8 columns]"
      ]
     },
     "execution_count": 63,
     "metadata": {},
     "output_type": "execute_result"
    }
   ],
   "source": [
    "roe_dpr_opts = {}\n",
    "roe_dpr_opts_base = netprofit_cond & listed_cond\n",
    "\n",
    "\n",
    "# for k in [0.4, 0.8]: # 盈再率\n",
    "k=0.4\n",
    "\n",
    "for n in range(8, 13, 2): # 本益比\n",
    "    for i in range(15, 31, 5): # ROE\n",
    "        for j in range(0, 51, 5): # 配息率\n",
    "            # 3 年至少 > 0-40%\n",
    "            payout_df = payout_ratio.copy()\n",
    "            payout_df['month'] = payout_df.index.month\n",
    "            payout_result = payout_df.groupby('month', group_keys=False).apply(lambda group: group.rolling(3, min_periods=3).min())\n",
    "            payout_ratio_rol = payout_result.drop(columns='month')\n",
    "            payout_cond_opt = (payout_ratio_rol >= (j/100))[START_DATE:END_DATE]\n",
    "\n",
    "\n",
    "            # ROE 5年平均 > 10%、15%、20%、25%、30%\n",
    "            roe_df = roe.copy()\n",
    "            roe_df['month'] = roe_df.index.month\n",
    "            roe_result = roe_df.groupby('month', group_keys=False).apply(lambda group: group.rolling(5, min_periods=5).mean())\n",
    "            roe_rol_opt = roe_result.drop(columns='month')\n",
    "            roe_cond_opt = (roe_rol_opt > (i/100))[START_DATE:END_DATE]\n",
    "\n",
    "            rr_opt_conds = (rr < 0.4)[START_DATE:END_DATE]\n",
    "\n",
    "\n",
    "            roe_dpr_opt_all = rr_opt_conds & roe_dpr_opts_base & roe_cond_opt & payout_cond_opt\n",
    "\n",
    "            pe_opt_entry_cond = daily_pe_resample < n\n",
    "\n",
    "            roe_dpr_opts[f'ROE_5y_{i}+盈再率<{k}+配息率三年至少{j}%+PE<{n}進場'] = (roe_dpr_opt_all & pe_opt_entry_cond).hold_until((~roe_dpr_opt_all) | pe_cond_exit)\n",
    "\n",
    "            roe_dpr_opts[f'ROE_5y_{i}+盈再率<{k}+配息率三年至少{j}%+PE<{n}進場+ROE<15出場條件'] = (roe_dpr_opt_all & pe_opt_entry_cond).hold_until((~roe_dpr_opt_all) | pe_cond_exit | (roe < 0.15))\n",
    "\n",
    "\n",
    "\n",
    "\n",
    "roe_dpr_opt_combs = sim_conditions(roe_dpr_opts, resample='M', data=data)\n",
    "roe_dpr_opt_combs.selected_stock_count_analysis()"
   ]
  },
  {
   "cell_type": "code",
   "execution_count": 63,
   "metadata": {},
   "outputs": [],
   "source": [
    "# roe_dpr_opt_combs.selected_stock_count_analysis()[roe_dpr_opt_combs.selected_stock_count_analysis().loc[:,'Max']<20].head(20)"
   ]
  },
  {
   "cell_type": "code",
   "execution_count": 64,
   "metadata": {},
   "outputs": [],
   "source": [
    "# roe_dpr_opt_combs.selected_stock_count_analysis().to_csv(f'./performance_file/US/07美股_ROE五年平均_配息率三年至少大於N_有無ROE出場條件_{START_DATE}_{END_DATE}.csv', encoding='cp950')"
   ]
  },
  {
   "cell_type": "markdown",
   "metadata": {},
   "source": [
    "### ROE五年平均設高、本益比進場條件設低、配息率條件放寬、+ROE當年<15%出場，盈再率<80%"
   ]
  },
  {
   "cell_type": "code",
   "execution_count": 64,
   "metadata": {},
   "outputs": [
    {
     "name": "stderr",
     "output_type": "stream",
     "text": [
      "Backtesting progress: 100%|██████████| 64/64 [01:53<00:00,  1.77s/condition]\n"
     ]
    },
    {
     "data": {
      "text/html": [
       "<div>\n",
       "<style scoped>\n",
       "    .dataframe tbody tr th:only-of-type {\n",
       "        vertical-align: middle;\n",
       "    }\n",
       "\n",
       "    .dataframe tbody tr th {\n",
       "        vertical-align: top;\n",
       "    }\n",
       "\n",
       "    .dataframe thead th {\n",
       "        text-align: right;\n",
       "    }\n",
       "</style>\n",
       "<table border=\"1\" class=\"dataframe\">\n",
       "  <thead>\n",
       "    <tr style=\"text-align: right;\">\n",
       "      <th></th>\n",
       "      <th>CAGR</th>\n",
       "      <th>MDD</th>\n",
       "      <th>入選股數平均</th>\n",
       "      <th>中位數</th>\n",
       "      <th>25%</th>\n",
       "      <th>75%</th>\n",
       "      <th>Min</th>\n",
       "      <th>Max</th>\n",
       "    </tr>\n",
       "    <tr>\n",
       "      <th>Strategy</th>\n",
       "      <th></th>\n",
       "      <th></th>\n",
       "      <th></th>\n",
       "      <th></th>\n",
       "      <th></th>\n",
       "      <th></th>\n",
       "      <th></th>\n",
       "      <th></th>\n",
       "    </tr>\n",
       "  </thead>\n",
       "  <tbody>\n",
       "    <tr>\n",
       "      <th>ROE_5y_30+盈再率&lt;0.4+配息率三年至少35%+PE&lt;8進場</th>\n",
       "      <td>0.230355</td>\n",
       "      <td>-0.489373</td>\n",
       "      <td>5.628788</td>\n",
       "      <td>5.0</td>\n",
       "      <td>5.00</td>\n",
       "      <td>7.0</td>\n",
       "      <td>3.0</td>\n",
       "      <td>11.0</td>\n",
       "    </tr>\n",
       "    <tr>\n",
       "      <th>ROE_5y_30+盈再率&lt;0.4+配息率三年至少10%+PE&lt;8進場</th>\n",
       "      <td>0.198772</td>\n",
       "      <td>-0.421788</td>\n",
       "      <td>17.757576</td>\n",
       "      <td>19.0</td>\n",
       "      <td>15.00</td>\n",
       "      <td>20.0</td>\n",
       "      <td>8.0</td>\n",
       "      <td>25.0</td>\n",
       "    </tr>\n",
       "    <tr>\n",
       "      <th>ROE_5y_30+盈再率&lt;0.4+配息率三年至少30%+PE&lt;8進場</th>\n",
       "      <td>0.198634</td>\n",
       "      <td>-0.437500</td>\n",
       "      <td>7.606061</td>\n",
       "      <td>8.0</td>\n",
       "      <td>6.00</td>\n",
       "      <td>9.0</td>\n",
       "      <td>4.0</td>\n",
       "      <td>13.0</td>\n",
       "    </tr>\n",
       "    <tr>\n",
       "      <th>ROE_5y_25+盈再率&lt;0.4+配息率三年至少35%+PE&lt;8進場</th>\n",
       "      <td>0.193358</td>\n",
       "      <td>-0.449124</td>\n",
       "      <td>8.181818</td>\n",
       "      <td>8.0</td>\n",
       "      <td>7.00</td>\n",
       "      <td>10.0</td>\n",
       "      <td>5.0</td>\n",
       "      <td>13.0</td>\n",
       "    </tr>\n",
       "    <tr>\n",
       "      <th>ROE_5y_20+盈再率&lt;0.4+配息率三年至少35%+PE&lt;8進場</th>\n",
       "      <td>0.189228</td>\n",
       "      <td>-0.415261</td>\n",
       "      <td>12.287879</td>\n",
       "      <td>13.0</td>\n",
       "      <td>9.00</td>\n",
       "      <td>15.0</td>\n",
       "      <td>7.0</td>\n",
       "      <td>17.0</td>\n",
       "    </tr>\n",
       "    <tr>\n",
       "      <th>...</th>\n",
       "      <td>...</td>\n",
       "      <td>...</td>\n",
       "      <td>...</td>\n",
       "      <td>...</td>\n",
       "      <td>...</td>\n",
       "      <td>...</td>\n",
       "      <td>...</td>\n",
       "      <td>...</td>\n",
       "    </tr>\n",
       "    <tr>\n",
       "      <th>ROE_5y_15+盈再率&lt;0.4+配息率三年至少20%+PE&lt;10進場</th>\n",
       "      <td>0.150412</td>\n",
       "      <td>-0.422817</td>\n",
       "      <td>49.772727</td>\n",
       "      <td>54.0</td>\n",
       "      <td>37.00</td>\n",
       "      <td>59.0</td>\n",
       "      <td>21.0</td>\n",
       "      <td>75.0</td>\n",
       "    </tr>\n",
       "    <tr>\n",
       "      <th>ROE_5y_20+盈再率&lt;0.4+配息率三年至少25%+PE&lt;8進場</th>\n",
       "      <td>0.149926</td>\n",
       "      <td>-0.461864</td>\n",
       "      <td>20.856061</td>\n",
       "      <td>21.0</td>\n",
       "      <td>18.00</td>\n",
       "      <td>24.0</td>\n",
       "      <td>10.0</td>\n",
       "      <td>29.0</td>\n",
       "    </tr>\n",
       "    <tr>\n",
       "      <th>ROE_5y_15+盈再率&lt;0.4+配息率三年至少20%+PE&lt;8進場</th>\n",
       "      <td>0.148515</td>\n",
       "      <td>-0.446265</td>\n",
       "      <td>35.090909</td>\n",
       "      <td>36.5</td>\n",
       "      <td>26.75</td>\n",
       "      <td>42.0</td>\n",
       "      <td>13.0</td>\n",
       "      <td>60.0</td>\n",
       "    </tr>\n",
       "    <tr>\n",
       "      <th>ROE_5y_20+盈再率&lt;0.4+配息率三年至少20%+PE&lt;10進場</th>\n",
       "      <td>0.148379</td>\n",
       "      <td>-0.447646</td>\n",
       "      <td>38.575758</td>\n",
       "      <td>41.0</td>\n",
       "      <td>28.75</td>\n",
       "      <td>46.0</td>\n",
       "      <td>17.0</td>\n",
       "      <td>54.0</td>\n",
       "    </tr>\n",
       "    <tr>\n",
       "      <th>ROE_5y_20+盈再率&lt;0.4+配息率三年至少20%+PE&lt;8進場</th>\n",
       "      <td>0.146712</td>\n",
       "      <td>-0.469041</td>\n",
       "      <td>26.303030</td>\n",
       "      <td>29.0</td>\n",
       "      <td>20.00</td>\n",
       "      <td>32.0</td>\n",
       "      <td>11.0</td>\n",
       "      <td>39.0</td>\n",
       "    </tr>\n",
       "  </tbody>\n",
       "</table>\n",
       "<p>64 rows × 8 columns</p>\n",
       "</div>"
      ],
      "text/plain": [
       "                                          CAGR       MDD     入選股數平均   中位數  \\\n",
       "Strategy                                                                    \n",
       "ROE_5y_30+盈再率<0.4+配息率三年至少35%+PE<8進場   0.230355 -0.489373   5.628788   5.0   \n",
       "ROE_5y_30+盈再率<0.4+配息率三年至少10%+PE<8進場   0.198772 -0.421788  17.757576  19.0   \n",
       "ROE_5y_30+盈再率<0.4+配息率三年至少30%+PE<8進場   0.198634 -0.437500   7.606061   8.0   \n",
       "ROE_5y_25+盈再率<0.4+配息率三年至少35%+PE<8進場   0.193358 -0.449124   8.181818   8.0   \n",
       "ROE_5y_20+盈再率<0.4+配息率三年至少35%+PE<8進場   0.189228 -0.415261  12.287879  13.0   \n",
       "...                                        ...       ...        ...   ...   \n",
       "ROE_5y_15+盈再率<0.4+配息率三年至少20%+PE<10進場  0.150412 -0.422817  49.772727  54.0   \n",
       "ROE_5y_20+盈再率<0.4+配息率三年至少25%+PE<8進場   0.149926 -0.461864  20.856061  21.0   \n",
       "ROE_5y_15+盈再率<0.4+配息率三年至少20%+PE<8進場   0.148515 -0.446265  35.090909  36.5   \n",
       "ROE_5y_20+盈再率<0.4+配息率三年至少20%+PE<10進場  0.148379 -0.447646  38.575758  41.0   \n",
       "ROE_5y_20+盈再率<0.4+配息率三年至少20%+PE<8進場   0.146712 -0.469041  26.303030  29.0   \n",
       "\n",
       "                                        25%   75%   Min   Max  \n",
       "Strategy                                                       \n",
       "ROE_5y_30+盈再率<0.4+配息率三年至少35%+PE<8進場    5.00   7.0   3.0  11.0  \n",
       "ROE_5y_30+盈再率<0.4+配息率三年至少10%+PE<8進場   15.00  20.0   8.0  25.0  \n",
       "ROE_5y_30+盈再率<0.4+配息率三年至少30%+PE<8進場    6.00   9.0   4.0  13.0  \n",
       "ROE_5y_25+盈再率<0.4+配息率三年至少35%+PE<8進場    7.00  10.0   5.0  13.0  \n",
       "ROE_5y_20+盈再率<0.4+配息率三年至少35%+PE<8進場    9.00  15.0   7.0  17.0  \n",
       "...                                     ...   ...   ...   ...  \n",
       "ROE_5y_15+盈再率<0.4+配息率三年至少20%+PE<10進場  37.00  59.0  21.0  75.0  \n",
       "ROE_5y_20+盈再率<0.4+配息率三年至少25%+PE<8進場   18.00  24.0  10.0  29.0  \n",
       "ROE_5y_15+盈再率<0.4+配息率三年至少20%+PE<8進場   26.75  42.0  13.0  60.0  \n",
       "ROE_5y_20+盈再率<0.4+配息率三年至少20%+PE<10進場  28.75  46.0  17.0  54.0  \n",
       "ROE_5y_20+盈再率<0.4+配息率三年至少20%+PE<8進場   20.00  32.0  11.0  39.0  \n",
       "\n",
       "[64 rows x 8 columns]"
      ]
     },
     "execution_count": 64,
     "metadata": {},
     "output_type": "execute_result"
    }
   ],
   "source": [
    "roe_dpr_opts = {}\n",
    "roe_dpr_opts_base = netprofit_cond & listed_cond\n",
    "\n",
    "\n",
    "# for k in [0.4, 0.8]: # 盈再率\n",
    "k=0.4\n",
    "for n in range(8, 11, 2): # 本益比\n",
    "    for i in range(15, 31, 5): # ROE\n",
    "        for j in range(5, 41, 5): # 配息率\n",
    "            # 3 年至少 > 0-40%\n",
    "            payout_df = payout_ratio.copy()\n",
    "            payout_df['month'] = payout_df.index.month\n",
    "            payout_result = payout_df.groupby('month', group_keys=False).apply(lambda group: group.rolling(3, min_periods=3).min())\n",
    "            payout_ratio_rol = payout_result.drop(columns='month')\n",
    "            payout_cond_opt = (payout_ratio_rol >= (j/100))[START_DATE:END_DATE]\n",
    "\n",
    "\n",
    "            # ROE 5年平均 > 10%、15%、20%、25%、30%\n",
    "            roe_df = roe.copy()\n",
    "            roe_df['month'] = roe_df.index.month\n",
    "            roe_result = roe_df.groupby('month', group_keys=False).apply(lambda group: group.rolling(5, min_periods=5).mean())\n",
    "            roe_rol_opt = roe_result.drop(columns='month')\n",
    "            roe_cond_opt = (roe_rol_opt > (i/100))[START_DATE:END_DATE]\n",
    "\n",
    "            rr_opt_conds = (rr < k)[START_DATE:END_DATE]\n",
    "\n",
    "\n",
    "            roe_dpr_opt_all = rr_opt_conds & roe_dpr_opts_base & roe_cond_opt & payout_cond_opt\n",
    "\n",
    "            pe_opt_entry_cond = daily_pe_resample < n\n",
    "\n",
    "            # roe_dpr_opts[f'ROE_5y_{i}+盈再率<{k}+配息率三年至少{j}%+PE<{n}進場'] = (roe_dpr_opt_all & pe_opt_entry_cond).hold_until((~roe_dpr_opt_all) | pe_cond_exit)\n",
    "\n",
    "            roe_dpr_opts[f'ROE_5y_{i}+盈再率<{k}+配息率三年至少{j}%+PE<{n}進場'] = (roe_dpr_opt_all & pe_opt_entry_cond).hold_until((~roe_dpr_opt_all) | pe_cond_exit | (roe < 0.15))\n",
    "\n",
    "\n",
    "\n",
    "\n",
    "roe_dpr_opt_combs = sim_conditions(roe_dpr_opts, resample='M', data=data)\n",
    "roe_dpr_opt_combs.selected_stock_count_analysis()"
   ]
  },
  {
   "cell_type": "code",
   "execution_count": 65,
   "metadata": {},
   "outputs": [
    {
     "data": {
      "text/html": [
       "<div>\n",
       "<style scoped>\n",
       "    .dataframe tbody tr th:only-of-type {\n",
       "        vertical-align: middle;\n",
       "    }\n",
       "\n",
       "    .dataframe tbody tr th {\n",
       "        vertical-align: top;\n",
       "    }\n",
       "\n",
       "    .dataframe thead th {\n",
       "        text-align: right;\n",
       "    }\n",
       "</style>\n",
       "<table border=\"1\" class=\"dataframe\">\n",
       "  <thead>\n",
       "    <tr style=\"text-align: right;\">\n",
       "      <th></th>\n",
       "      <th>CAGR</th>\n",
       "      <th>MDD</th>\n",
       "      <th>入選股數平均</th>\n",
       "      <th>中位數</th>\n",
       "      <th>25%</th>\n",
       "      <th>75%</th>\n",
       "      <th>Min</th>\n",
       "      <th>Max</th>\n",
       "    </tr>\n",
       "    <tr>\n",
       "      <th>Strategy</th>\n",
       "      <th></th>\n",
       "      <th></th>\n",
       "      <th></th>\n",
       "      <th></th>\n",
       "      <th></th>\n",
       "      <th></th>\n",
       "      <th></th>\n",
       "      <th></th>\n",
       "    </tr>\n",
       "  </thead>\n",
       "  <tbody>\n",
       "    <tr>\n",
       "      <th>ROE_5y_30+盈再率&lt;0.4+配息率三年至少35%+PE&lt;8進場</th>\n",
       "      <td>0.230355</td>\n",
       "      <td>-0.489373</td>\n",
       "      <td>5.628788</td>\n",
       "      <td>5.0</td>\n",
       "      <td>5.00</td>\n",
       "      <td>7.0</td>\n",
       "      <td>3.0</td>\n",
       "      <td>11.0</td>\n",
       "    </tr>\n",
       "    <tr>\n",
       "      <th>ROE_5y_30+盈再率&lt;0.4+配息率三年至少30%+PE&lt;8進場</th>\n",
       "      <td>0.198634</td>\n",
       "      <td>-0.437500</td>\n",
       "      <td>7.606061</td>\n",
       "      <td>8.0</td>\n",
       "      <td>6.00</td>\n",
       "      <td>9.0</td>\n",
       "      <td>4.0</td>\n",
       "      <td>13.0</td>\n",
       "    </tr>\n",
       "    <tr>\n",
       "      <th>ROE_5y_25+盈再率&lt;0.4+配息率三年至少35%+PE&lt;8進場</th>\n",
       "      <td>0.193358</td>\n",
       "      <td>-0.449124</td>\n",
       "      <td>8.181818</td>\n",
       "      <td>8.0</td>\n",
       "      <td>7.00</td>\n",
       "      <td>10.0</td>\n",
       "      <td>5.0</td>\n",
       "      <td>13.0</td>\n",
       "    </tr>\n",
       "    <tr>\n",
       "      <th>ROE_5y_20+盈再率&lt;0.4+配息率三年至少35%+PE&lt;8進場</th>\n",
       "      <td>0.189228</td>\n",
       "      <td>-0.415261</td>\n",
       "      <td>12.287879</td>\n",
       "      <td>13.0</td>\n",
       "      <td>9.00</td>\n",
       "      <td>15.0</td>\n",
       "      <td>7.0</td>\n",
       "      <td>17.0</td>\n",
       "    </tr>\n",
       "    <tr>\n",
       "      <th>ROE_5y_30+盈再率&lt;0.4+配息率三年至少35%+PE&lt;10進場</th>\n",
       "      <td>0.182808</td>\n",
       "      <td>-0.410011</td>\n",
       "      <td>8.825758</td>\n",
       "      <td>8.0</td>\n",
       "      <td>7.00</td>\n",
       "      <td>10.0</td>\n",
       "      <td>6.0</td>\n",
       "      <td>19.0</td>\n",
       "    </tr>\n",
       "    <tr>\n",
       "      <th>ROE_5y_20+盈再率&lt;0.4+配息率三年至少40%+PE&lt;8進場</th>\n",
       "      <td>0.178957</td>\n",
       "      <td>-0.395002</td>\n",
       "      <td>8.795455</td>\n",
       "      <td>9.0</td>\n",
       "      <td>7.00</td>\n",
       "      <td>11.0</td>\n",
       "      <td>4.0</td>\n",
       "      <td>13.0</td>\n",
       "    </tr>\n",
       "    <tr>\n",
       "      <th>ROE_5y_30+盈再率&lt;0.4+配息率三年至少25%+PE&lt;8進場</th>\n",
       "      <td>0.178283</td>\n",
       "      <td>-0.439786</td>\n",
       "      <td>9.833333</td>\n",
       "      <td>10.0</td>\n",
       "      <td>9.00</td>\n",
       "      <td>11.0</td>\n",
       "      <td>4.0</td>\n",
       "      <td>14.0</td>\n",
       "    </tr>\n",
       "    <tr>\n",
       "      <th>ROE_5y_25+盈再率&lt;0.4+配息率三年至少30%+PE&lt;8進場</th>\n",
       "      <td>0.176566</td>\n",
       "      <td>-0.423858</td>\n",
       "      <td>10.318182</td>\n",
       "      <td>10.0</td>\n",
       "      <td>9.00</td>\n",
       "      <td>12.0</td>\n",
       "      <td>6.0</td>\n",
       "      <td>15.0</td>\n",
       "    </tr>\n",
       "    <tr>\n",
       "      <th>ROE_5y_30+盈再率&lt;0.4+配息率三年至少20%+PE&lt;8進場</th>\n",
       "      <td>0.175569</td>\n",
       "      <td>-0.455395</td>\n",
       "      <td>12.803030</td>\n",
       "      <td>14.0</td>\n",
       "      <td>11.00</td>\n",
       "      <td>15.0</td>\n",
       "      <td>5.0</td>\n",
       "      <td>18.0</td>\n",
       "    </tr>\n",
       "    <tr>\n",
       "      <th>ROE_5y_20+盈再率&lt;0.4+配息率三年至少30%+PE&lt;8進場</th>\n",
       "      <td>0.174984</td>\n",
       "      <td>-0.407367</td>\n",
       "      <td>15.227273</td>\n",
       "      <td>15.0</td>\n",
       "      <td>12.75</td>\n",
       "      <td>18.0</td>\n",
       "      <td>9.0</td>\n",
       "      <td>20.0</td>\n",
       "    </tr>\n",
       "    <tr>\n",
       "      <th>ROE_5y_25+盈再率&lt;0.4+配息率三年至少40%+PE&lt;8進場</th>\n",
       "      <td>0.174982</td>\n",
       "      <td>-0.506585</td>\n",
       "      <td>6.068182</td>\n",
       "      <td>6.0</td>\n",
       "      <td>5.00</td>\n",
       "      <td>7.0</td>\n",
       "      <td>3.0</td>\n",
       "      <td>9.0</td>\n",
       "    </tr>\n",
       "    <tr>\n",
       "      <th>ROE_5y_25+盈再率&lt;0.4+配息率三年至少40%+PE&lt;10進場</th>\n",
       "      <td>0.168710</td>\n",
       "      <td>-0.373310</td>\n",
       "      <td>9.310606</td>\n",
       "      <td>9.0</td>\n",
       "      <td>8.00</td>\n",
       "      <td>10.0</td>\n",
       "      <td>6.0</td>\n",
       "      <td>18.0</td>\n",
       "    </tr>\n",
       "    <tr>\n",
       "      <th>ROE_5y_30+盈再率&lt;0.4+配息率三年至少40%+PE&lt;10進場</th>\n",
       "      <td>0.166584</td>\n",
       "      <td>-0.373310</td>\n",
       "      <td>7.522727</td>\n",
       "      <td>7.0</td>\n",
       "      <td>6.00</td>\n",
       "      <td>8.0</td>\n",
       "      <td>5.0</td>\n",
       "      <td>15.0</td>\n",
       "    </tr>\n",
       "    <tr>\n",
       "      <th>ROE_5y_30+盈再率&lt;0.4+配息率三年至少40%+PE&lt;8進場</th>\n",
       "      <td>0.165923</td>\n",
       "      <td>-0.506585</td>\n",
       "      <td>4.734848</td>\n",
       "      <td>5.0</td>\n",
       "      <td>4.00</td>\n",
       "      <td>6.0</td>\n",
       "      <td>2.0</td>\n",
       "      <td>8.0</td>\n",
       "    </tr>\n",
       "    <tr>\n",
       "      <th>ROE_5y_20+盈再率&lt;0.4+配息率三年至少40%+PE&lt;10進場</th>\n",
       "      <td>0.164594</td>\n",
       "      <td>-0.385165</td>\n",
       "      <td>13.219697</td>\n",
       "      <td>13.5</td>\n",
       "      <td>11.00</td>\n",
       "      <td>15.0</td>\n",
       "      <td>8.0</td>\n",
       "      <td>20.0</td>\n",
       "    </tr>\n",
       "    <tr>\n",
       "      <th>ROE_5y_25+盈再率&lt;0.4+配息率三年至少25%+PE&lt;8進場</th>\n",
       "      <td>0.158026</td>\n",
       "      <td>-0.440572</td>\n",
       "      <td>13.257576</td>\n",
       "      <td>14.0</td>\n",
       "      <td>12.00</td>\n",
       "      <td>15.0</td>\n",
       "      <td>6.0</td>\n",
       "      <td>18.0</td>\n",
       "    </tr>\n",
       "  </tbody>\n",
       "</table>\n",
       "</div>"
      ],
      "text/plain": [
       "                                          CAGR       MDD     入選股數平均   中位數  \\\n",
       "Strategy                                                                    \n",
       "ROE_5y_30+盈再率<0.4+配息率三年至少35%+PE<8進場   0.230355 -0.489373   5.628788   5.0   \n",
       "ROE_5y_30+盈再率<0.4+配息率三年至少30%+PE<8進場   0.198634 -0.437500   7.606061   8.0   \n",
       "ROE_5y_25+盈再率<0.4+配息率三年至少35%+PE<8進場   0.193358 -0.449124   8.181818   8.0   \n",
       "ROE_5y_20+盈再率<0.4+配息率三年至少35%+PE<8進場   0.189228 -0.415261  12.287879  13.0   \n",
       "ROE_5y_30+盈再率<0.4+配息率三年至少35%+PE<10進場  0.182808 -0.410011   8.825758   8.0   \n",
       "ROE_5y_20+盈再率<0.4+配息率三年至少40%+PE<8進場   0.178957 -0.395002   8.795455   9.0   \n",
       "ROE_5y_30+盈再率<0.4+配息率三年至少25%+PE<8進場   0.178283 -0.439786   9.833333  10.0   \n",
       "ROE_5y_25+盈再率<0.4+配息率三年至少30%+PE<8進場   0.176566 -0.423858  10.318182  10.0   \n",
       "ROE_5y_30+盈再率<0.4+配息率三年至少20%+PE<8進場   0.175569 -0.455395  12.803030  14.0   \n",
       "ROE_5y_20+盈再率<0.4+配息率三年至少30%+PE<8進場   0.174984 -0.407367  15.227273  15.0   \n",
       "ROE_5y_25+盈再率<0.4+配息率三年至少40%+PE<8進場   0.174982 -0.506585   6.068182   6.0   \n",
       "ROE_5y_25+盈再率<0.4+配息率三年至少40%+PE<10進場  0.168710 -0.373310   9.310606   9.0   \n",
       "ROE_5y_30+盈再率<0.4+配息率三年至少40%+PE<10進場  0.166584 -0.373310   7.522727   7.0   \n",
       "ROE_5y_30+盈再率<0.4+配息率三年至少40%+PE<8進場   0.165923 -0.506585   4.734848   5.0   \n",
       "ROE_5y_20+盈再率<0.4+配息率三年至少40%+PE<10進場  0.164594 -0.385165  13.219697  13.5   \n",
       "ROE_5y_25+盈再率<0.4+配息率三年至少25%+PE<8進場   0.158026 -0.440572  13.257576  14.0   \n",
       "\n",
       "                                        25%   75%  Min   Max  \n",
       "Strategy                                                      \n",
       "ROE_5y_30+盈再率<0.4+配息率三年至少35%+PE<8進場    5.00   7.0  3.0  11.0  \n",
       "ROE_5y_30+盈再率<0.4+配息率三年至少30%+PE<8進場    6.00   9.0  4.0  13.0  \n",
       "ROE_5y_25+盈再率<0.4+配息率三年至少35%+PE<8進場    7.00  10.0  5.0  13.0  \n",
       "ROE_5y_20+盈再率<0.4+配息率三年至少35%+PE<8進場    9.00  15.0  7.0  17.0  \n",
       "ROE_5y_30+盈再率<0.4+配息率三年至少35%+PE<10進場   7.00  10.0  6.0  19.0  \n",
       "ROE_5y_20+盈再率<0.4+配息率三年至少40%+PE<8進場    7.00  11.0  4.0  13.0  \n",
       "ROE_5y_30+盈再率<0.4+配息率三年至少25%+PE<8進場    9.00  11.0  4.0  14.0  \n",
       "ROE_5y_25+盈再率<0.4+配息率三年至少30%+PE<8進場    9.00  12.0  6.0  15.0  \n",
       "ROE_5y_30+盈再率<0.4+配息率三年至少20%+PE<8進場   11.00  15.0  5.0  18.0  \n",
       "ROE_5y_20+盈再率<0.4+配息率三年至少30%+PE<8進場   12.75  18.0  9.0  20.0  \n",
       "ROE_5y_25+盈再率<0.4+配息率三年至少40%+PE<8進場    5.00   7.0  3.0   9.0  \n",
       "ROE_5y_25+盈再率<0.4+配息率三年至少40%+PE<10進場   8.00  10.0  6.0  18.0  \n",
       "ROE_5y_30+盈再率<0.4+配息率三年至少40%+PE<10進場   6.00   8.0  5.0  15.0  \n",
       "ROE_5y_30+盈再率<0.4+配息率三年至少40%+PE<8進場    4.00   6.0  2.0   8.0  \n",
       "ROE_5y_20+盈再率<0.4+配息率三年至少40%+PE<10進場  11.00  15.0  8.0  20.0  \n",
       "ROE_5y_25+盈再率<0.4+配息率三年至少25%+PE<8進場   12.00  15.0  6.0  18.0  "
      ]
     },
     "execution_count": 65,
     "metadata": {},
     "output_type": "execute_result"
    }
   ],
   "source": [
    "roe_dpr_opt_combs.selected_stock_count_analysis()[roe_dpr_opt_combs.selected_stock_count_analysis().loc[:,'Max']<=20]"
   ]
  },
  {
   "cell_type": "code",
   "execution_count": 67,
   "metadata": {},
   "outputs": [],
   "source": [
    "# roe_dpr_opt_combs.selected_stock_count_analysis().to_csv(f'./performance_file/US/07-1美股_ROE五年平均_本益比小於N進場_配息率三年至少大於N_有無ROE出場條件_盈再率80_{START_DATE}_{END_DATE}.csv', encoding='cp950')"
   ]
  },
  {
   "cell_type": "code",
   "execution_count": 67,
   "metadata": {},
   "outputs": [
    {
     "data": {
      "text/html": [
       "<div>\n",
       "<style scoped>\n",
       "    .dataframe tbody tr th:only-of-type {\n",
       "        vertical-align: middle;\n",
       "    }\n",
       "\n",
       "    .dataframe tbody tr th {\n",
       "        vertical-align: top;\n",
       "    }\n",
       "\n",
       "    .dataframe thead th {\n",
       "        text-align: right;\n",
       "    }\n",
       "</style>\n",
       "<table border=\"1\" class=\"dataframe\">\n",
       "  <thead>\n",
       "    <tr style=\"text-align: right;\">\n",
       "      <th></th>\n",
       "      <th>CAGR</th>\n",
       "      <th>MDD</th>\n",
       "      <th>持有期間平均</th>\n",
       "      <th>25%</th>\n",
       "      <th>中位數</th>\n",
       "      <th>75%</th>\n",
       "      <th>最大值</th>\n",
       "      <th>最小值</th>\n",
       "    </tr>\n",
       "    <tr>\n",
       "      <th>Strategy</th>\n",
       "      <th></th>\n",
       "      <th></th>\n",
       "      <th></th>\n",
       "      <th></th>\n",
       "      <th></th>\n",
       "      <th></th>\n",
       "      <th></th>\n",
       "      <th></th>\n",
       "    </tr>\n",
       "  </thead>\n",
       "  <tbody>\n",
       "    <tr>\n",
       "      <th>ROE_5y_30+盈再率&lt;0.4+配息率三年至少35%+PE&lt;8進場</th>\n",
       "      <td>0.230355</td>\n",
       "      <td>-0.489373</td>\n",
       "      <td>795.125000</td>\n",
       "      <td>183.00</td>\n",
       "      <td>455.0</td>\n",
       "      <td>928.50</td>\n",
       "      <td>4291</td>\n",
       "      <td>30</td>\n",
       "    </tr>\n",
       "    <tr>\n",
       "      <th>ROE_5y_30+盈再率&lt;0.4+配息率三年至少10%+PE&lt;8進場</th>\n",
       "      <td>0.198772</td>\n",
       "      <td>-0.421788</td>\n",
       "      <td>1045.103093</td>\n",
       "      <td>344.00</td>\n",
       "      <td>669.0</td>\n",
       "      <td>1319.00</td>\n",
       "      <td>4992</td>\n",
       "      <td>29</td>\n",
       "    </tr>\n",
       "    <tr>\n",
       "      <th>ROE_5y_30+盈再率&lt;0.4+配息率三年至少30%+PE&lt;8進場</th>\n",
       "      <td>0.198634</td>\n",
       "      <td>-0.437500</td>\n",
       "      <td>813.301887</td>\n",
       "      <td>241.00</td>\n",
       "      <td>646.0</td>\n",
       "      <td>945.00</td>\n",
       "      <td>4291</td>\n",
       "      <td>30</td>\n",
       "    </tr>\n",
       "    <tr>\n",
       "      <th>ROE_5y_25+盈再率&lt;0.4+配息率三年至少35%+PE&lt;8進場</th>\n",
       "      <td>0.193358</td>\n",
       "      <td>-0.449124</td>\n",
       "      <td>923.800000</td>\n",
       "      <td>220.75</td>\n",
       "      <td>487.5</td>\n",
       "      <td>1096.75</td>\n",
       "      <td>4596</td>\n",
       "      <td>30</td>\n",
       "    </tr>\n",
       "    <tr>\n",
       "      <th>ROE_5y_20+盈再率&lt;0.4+配息率三年至少35%+PE&lt;8進場</th>\n",
       "      <td>0.189228</td>\n",
       "      <td>-0.415261</td>\n",
       "      <td>1057.409091</td>\n",
       "      <td>341.50</td>\n",
       "      <td>486.0</td>\n",
       "      <td>1140.50</td>\n",
       "      <td>5671</td>\n",
       "      <td>30</td>\n",
       "    </tr>\n",
       "    <tr>\n",
       "      <th>...</th>\n",
       "      <td>...</td>\n",
       "      <td>...</td>\n",
       "      <td>...</td>\n",
       "      <td>...</td>\n",
       "      <td>...</td>\n",
       "      <td>...</td>\n",
       "      <td>...</td>\n",
       "      <td>...</td>\n",
       "    </tr>\n",
       "    <tr>\n",
       "      <th>ROE_5y_15+盈再率&lt;0.4+配息率三年至少20%+PE&lt;10進場</th>\n",
       "      <td>0.150412</td>\n",
       "      <td>-0.422817</td>\n",
       "      <td>1036.908759</td>\n",
       "      <td>333.25</td>\n",
       "      <td>395.0</td>\n",
       "      <td>1461.00</td>\n",
       "      <td>5701</td>\n",
       "      <td>28</td>\n",
       "    </tr>\n",
       "    <tr>\n",
       "      <th>ROE_5y_20+盈再率&lt;0.4+配息率三年至少25%+PE&lt;8進場</th>\n",
       "      <td>0.149926</td>\n",
       "      <td>-0.461864</td>\n",
       "      <td>1107.420561</td>\n",
       "      <td>334.50</td>\n",
       "      <td>578.0</td>\n",
       "      <td>1626.00</td>\n",
       "      <td>5671</td>\n",
       "      <td>30</td>\n",
       "    </tr>\n",
       "    <tr>\n",
       "      <th>ROE_5y_15+盈再率&lt;0.4+配息率三年至少20%+PE&lt;8進場</th>\n",
       "      <td>0.148515</td>\n",
       "      <td>-0.446265</td>\n",
       "      <td>986.571429</td>\n",
       "      <td>334.00</td>\n",
       "      <td>395.0</td>\n",
       "      <td>1141.00</td>\n",
       "      <td>5701</td>\n",
       "      <td>29</td>\n",
       "    </tr>\n",
       "    <tr>\n",
       "      <th>ROE_5y_20+盈再率&lt;0.4+配息率三年至少20%+PE&lt;10進場</th>\n",
       "      <td>0.148379</td>\n",
       "      <td>-0.447646</td>\n",
       "      <td>1186.421622</td>\n",
       "      <td>364.00</td>\n",
       "      <td>700.0</td>\n",
       "      <td>1767.00</td>\n",
       "      <td>5701</td>\n",
       "      <td>29</td>\n",
       "    </tr>\n",
       "    <tr>\n",
       "      <th>ROE_5y_20+盈再率&lt;0.4+配息率三年至少20%+PE&lt;8進場</th>\n",
       "      <td>0.146712</td>\n",
       "      <td>-0.469041</td>\n",
       "      <td>1084.681159</td>\n",
       "      <td>344.00</td>\n",
       "      <td>518.0</td>\n",
       "      <td>1514.25</td>\n",
       "      <td>5671</td>\n",
       "      <td>29</td>\n",
       "    </tr>\n",
       "  </tbody>\n",
       "</table>\n",
       "<p>64 rows × 8 columns</p>\n",
       "</div>"
      ],
      "text/plain": [
       "                                          CAGR       MDD       持有期間平均     25%  \\\n",
       "Strategy                                                                        \n",
       "ROE_5y_30+盈再率<0.4+配息率三年至少35%+PE<8進場   0.230355 -0.489373   795.125000  183.00   \n",
       "ROE_5y_30+盈再率<0.4+配息率三年至少10%+PE<8進場   0.198772 -0.421788  1045.103093  344.00   \n",
       "ROE_5y_30+盈再率<0.4+配息率三年至少30%+PE<8進場   0.198634 -0.437500   813.301887  241.00   \n",
       "ROE_5y_25+盈再率<0.4+配息率三年至少35%+PE<8進場   0.193358 -0.449124   923.800000  220.75   \n",
       "ROE_5y_20+盈再率<0.4+配息率三年至少35%+PE<8進場   0.189228 -0.415261  1057.409091  341.50   \n",
       "...                                        ...       ...          ...     ...   \n",
       "ROE_5y_15+盈再率<0.4+配息率三年至少20%+PE<10進場  0.150412 -0.422817  1036.908759  333.25   \n",
       "ROE_5y_20+盈再率<0.4+配息率三年至少25%+PE<8進場   0.149926 -0.461864  1107.420561  334.50   \n",
       "ROE_5y_15+盈再率<0.4+配息率三年至少20%+PE<8進場   0.148515 -0.446265   986.571429  334.00   \n",
       "ROE_5y_20+盈再率<0.4+配息率三年至少20%+PE<10進場  0.148379 -0.447646  1186.421622  364.00   \n",
       "ROE_5y_20+盈再率<0.4+配息率三年至少20%+PE<8進場   0.146712 -0.469041  1084.681159  344.00   \n",
       "\n",
       "                                        中位數      75%   最大值  最小值  \n",
       "Strategy                                                         \n",
       "ROE_5y_30+盈再率<0.4+配息率三年至少35%+PE<8進場   455.0   928.50  4291   30  \n",
       "ROE_5y_30+盈再率<0.4+配息率三年至少10%+PE<8進場   669.0  1319.00  4992   29  \n",
       "ROE_5y_30+盈再率<0.4+配息率三年至少30%+PE<8進場   646.0   945.00  4291   30  \n",
       "ROE_5y_25+盈再率<0.4+配息率三年至少35%+PE<8進場   487.5  1096.75  4596   30  \n",
       "ROE_5y_20+盈再率<0.4+配息率三年至少35%+PE<8進場   486.0  1140.50  5671   30  \n",
       "...                                     ...      ...   ...  ...  \n",
       "ROE_5y_15+盈再率<0.4+配息率三年至少20%+PE<10進場  395.0  1461.00  5701   28  \n",
       "ROE_5y_20+盈再率<0.4+配息率三年至少25%+PE<8進場   578.0  1626.00  5671   30  \n",
       "ROE_5y_15+盈再率<0.4+配息率三年至少20%+PE<8進場   395.0  1141.00  5701   29  \n",
       "ROE_5y_20+盈再率<0.4+配息率三年至少20%+PE<10進場  700.0  1767.00  5701   29  \n",
       "ROE_5y_20+盈再率<0.4+配息率三年至少20%+PE<8進場   518.0  1514.25  5671   29  \n",
       "\n",
       "[64 rows x 8 columns]"
      ]
     },
     "execution_count": 67,
     "metadata": {},
     "output_type": "execute_result"
    }
   ],
   "source": [
    "roe_dpr_opt_combs.holding_period_analysis()"
   ]
  },
  {
   "cell_type": "markdown",
   "metadata": {},
   "source": [
    "---"
   ]
  },
  {
   "cell_type": "markdown",
   "metadata": {},
   "source": [
    "## 本益比進場條件取三年平均"
   ]
  },
  {
   "cell_type": "code",
   "execution_count": 66,
   "metadata": {},
   "outputs": [
    {
     "name": "stderr",
     "output_type": "stream",
     "text": [
      "Backtesting progress: 100%|██████████| 6/6 [00:21<00:00,  3.60s/condition]\n"
     ]
    },
    {
     "data": {
      "text/html": [
       "<div>\n",
       "<style scoped>\n",
       "    .dataframe tbody tr th:only-of-type {\n",
       "        vertical-align: middle;\n",
       "    }\n",
       "\n",
       "    .dataframe tbody tr th {\n",
       "        vertical-align: top;\n",
       "    }\n",
       "\n",
       "    .dataframe thead th {\n",
       "        text-align: right;\n",
       "    }\n",
       "</style>\n",
       "<table border=\"1\" class=\"dataframe\">\n",
       "  <thead>\n",
       "    <tr style=\"text-align: right;\">\n",
       "      <th></th>\n",
       "      <th>CAGR</th>\n",
       "      <th>MDD</th>\n",
       "      <th>入選股數平均</th>\n",
       "      <th>中位數</th>\n",
       "      <th>25%</th>\n",
       "      <th>75%</th>\n",
       "      <th>Min</th>\n",
       "      <th>Max</th>\n",
       "    </tr>\n",
       "    <tr>\n",
       "      <th>Strategy</th>\n",
       "      <th></th>\n",
       "      <th></th>\n",
       "      <th></th>\n",
       "      <th></th>\n",
       "      <th></th>\n",
       "      <th></th>\n",
       "      <th></th>\n",
       "      <th></th>\n",
       "    </tr>\n",
       "  </thead>\n",
       "  <tbody>\n",
       "    <tr>\n",
       "      <th>不含配息_盈再率&lt;40_本益比三年平均&lt;8</th>\n",
       "      <td>0.204629</td>\n",
       "      <td>-0.462965</td>\n",
       "      <td>30.393939</td>\n",
       "      <td>33.0</td>\n",
       "      <td>24.00</td>\n",
       "      <td>37.00</td>\n",
       "      <td>13.0</td>\n",
       "      <td>50.0</td>\n",
       "    </tr>\n",
       "    <tr>\n",
       "      <th>不含配息_盈再率&lt;40_本益比三年平均&lt;10</th>\n",
       "      <td>0.193256</td>\n",
       "      <td>-0.437378</td>\n",
       "      <td>63.962121</td>\n",
       "      <td>71.0</td>\n",
       "      <td>53.00</td>\n",
       "      <td>75.25</td>\n",
       "      <td>27.0</td>\n",
       "      <td>86.0</td>\n",
       "    </tr>\n",
       "    <tr>\n",
       "      <th>不含配息_盈再率&lt;40_本益比三年平均&lt;12</th>\n",
       "      <td>0.187763</td>\n",
       "      <td>-0.432388</td>\n",
       "      <td>92.090909</td>\n",
       "      <td>102.5</td>\n",
       "      <td>78.75</td>\n",
       "      <td>109.00</td>\n",
       "      <td>43.0</td>\n",
       "      <td>119.0</td>\n",
       "    </tr>\n",
       "    <tr>\n",
       "      <th>盈再率&lt;40_本益比三年平均&lt;8</th>\n",
       "      <td>0.179577</td>\n",
       "      <td>-0.444592</td>\n",
       "      <td>4.606061</td>\n",
       "      <td>4.0</td>\n",
       "      <td>2.00</td>\n",
       "      <td>7.00</td>\n",
       "      <td>1.0</td>\n",
       "      <td>10.0</td>\n",
       "    </tr>\n",
       "    <tr>\n",
       "      <th>盈再率&lt;40_本益比三年平均&lt;12</th>\n",
       "      <td>0.163808</td>\n",
       "      <td>-0.384363</td>\n",
       "      <td>17.295455</td>\n",
       "      <td>18.0</td>\n",
       "      <td>11.75</td>\n",
       "      <td>23.00</td>\n",
       "      <td>7.0</td>\n",
       "      <td>26.0</td>\n",
       "    </tr>\n",
       "    <tr>\n",
       "      <th>盈再率&lt;40_本益比三年平均&lt;10</th>\n",
       "      <td>0.160898</td>\n",
       "      <td>-0.382553</td>\n",
       "      <td>12.840909</td>\n",
       "      <td>15.0</td>\n",
       "      <td>7.00</td>\n",
       "      <td>18.00</td>\n",
       "      <td>4.0</td>\n",
       "      <td>22.0</td>\n",
       "    </tr>\n",
       "  </tbody>\n",
       "</table>\n",
       "</div>"
      ],
      "text/plain": [
       "                            CAGR       MDD     入選股數平均    中位數    25%     75%  \\\n",
       "Strategy                                                                      \n",
       "不含配息_盈再率<40_本益比三年平均<8   0.204629 -0.462965  30.393939   33.0  24.00   37.00   \n",
       "不含配息_盈再率<40_本益比三年平均<10  0.193256 -0.437378  63.962121   71.0  53.00   75.25   \n",
       "不含配息_盈再率<40_本益比三年平均<12  0.187763 -0.432388  92.090909  102.5  78.75  109.00   \n",
       "盈再率<40_本益比三年平均<8        0.179577 -0.444592   4.606061    4.0   2.00    7.00   \n",
       "盈再率<40_本益比三年平均<12       0.163808 -0.384363  17.295455   18.0  11.75   23.00   \n",
       "盈再率<40_本益比三年平均<10       0.160898 -0.382553  12.840909   15.0   7.00   18.00   \n",
       "\n",
       "                         Min    Max  \n",
       "Strategy                             \n",
       "不含配息_盈再率<40_本益比三年平均<8   13.0   50.0  \n",
       "不含配息_盈再率<40_本益比三年平均<10  27.0   86.0  \n",
       "不含配息_盈再率<40_本益比三年平均<12  43.0  119.0  \n",
       "盈再率<40_本益比三年平均<8         1.0   10.0  \n",
       "盈再率<40_本益比三年平均<12        7.0   26.0  \n",
       "盈再率<40_本益比三年平均<10        4.0   22.0  "
      ]
     },
     "execution_count": 66,
     "metadata": {},
     "output_type": "execute_result"
    }
   ],
   "source": [
    "pe_rol_opts = {}\n",
    "pe_rol_mean = (pe_daily.resample('M').mean()).rolling(36).mean()\n",
    "\n",
    "\n",
    "for n in range(8, 13, 2):\n",
    "   \n",
    "    pe_rol_opt_cond = (pe_rol_mean < n)[START_DATE:END_DATE]\n",
    "\n",
    "    # pe_rol_opts[f'盈再率<80_本益比三年平均<{n}'] = (orig_cond & pe_rol_opt_cond).hold_until((~orig_cond) | pe_cond_exit)\n",
    "    pe_rol_opts[f'盈再率<40_本益比三年平均<{n}'] = (orig_cond_opt & pe_rol_opt_cond).hold_until((~orig_cond_opt) | pe_cond_exit)\n",
    "\n",
    "    # pe_rol_opts[f'不含配息_盈再率<80_本益比三年平均<{n}'] = (nodpr_cond & pe_rol_opt_cond).hold_until((~nodpr_cond) | pe_cond_exit)\n",
    "    pe_rol_opts[f'不含配息_盈再率<40_本益比三年平均<{n}'] = (nodpr_cond_opt & pe_rol_opt_cond).hold_until((~nodpr_cond_opt) | pe_cond_exit)\n",
    "\n",
    "\n",
    "\n",
    "pe_rol_opts_combs = sim_conditions(pe_rol_opts, resample='M', data=data)\n",
    "pe_rol_opts_combs.selected_stock_count_analysis()"
   ]
  },
  {
   "cell_type": "code",
   "execution_count": 69,
   "metadata": {},
   "outputs": [],
   "source": [
    "# pe_rol_opts_combs.selected_stock_count_analysis().to_csv(f'./performance_file/US/08美股_本益比三年平均小於N_{START_DATE}_{END_DATE}.csv', encoding='cp950')"
   ]
  },
  {
   "cell_type": "code",
   "execution_count": 70,
   "metadata": {},
   "outputs": [],
   "source": [
    "# rr['KO']['2009':'2013'].plot(figsize=(14, 6))"
   ]
  }
 ],
 "metadata": {
  "kernelspec": {
   "display_name": "lab_exp",
   "language": "python",
   "name": "python3"
  },
  "language_info": {
   "codemirror_mode": {
    "name": "ipython",
    "version": 3
   },
   "file_extension": ".py",
   "mimetype": "text/x-python",
   "name": "python",
   "nbconvert_exporter": "python",
   "pygments_lexer": "ipython3",
   "version": "3.11.10"
  }
 },
 "nbformat": 4,
 "nbformat_minor": 2
}
