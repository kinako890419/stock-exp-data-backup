{
 "cells": [
  {
   "cell_type": "code",
   "execution_count": 1,
   "metadata": {},
   "outputs": [],
   "source": [
    "import sys\n",
    "sys.path.insert(0, '../../stock_factor_lab/')"
   ]
  },
  {
   "cell_type": "markdown",
   "metadata": {},
   "source": [
    "# 美股"
   ]
  },
  {
   "cell_type": "markdown",
   "metadata": {},
   "source": [
    "## 2003~2009實驗\n",
    "- **稅前** OR **稅後** 5000萬或7500萬\n",
    "- +當年度ROE出場\n",
    "- 本益比進場條件\n",
    "- 盈再率單獨調整\n",
    "- 盈再率+ROE\n",
    "- 盈再率+配息"
   ]
  },
  {
   "cell_type": "markdown",
   "metadata": {},
   "source": [
    "## import"
   ]
  },
  {
   "cell_type": "code",
   "execution_count": 2,
   "metadata": {},
   "outputs": [],
   "source": [
    "from get_data import Data\n",
    "import backtest\n",
    "from combinations import sim_conditions\n",
    "import pandas as pd\n",
    "import numpy as np\n",
    "import matplotlib.pyplot as plt\n",
    "import plotly.graph_objects as go\n",
    "import plotly.express as px\n",
    "from itertools import cycle\n",
    "from plotly.subplots import make_subplots\n",
    "from matplotlib import rcParams\n",
    "rcParams['font.sans-serif'] = ['Microsoft JhengHei']\n",
    "import matplotlib as mpl\n",
    "mpl.rcParams['axes.unicode_minus'] = False\n",
    "from matplotlib.ticker import FuncFormatter\n",
    "import matplotlib.dates as mdates\n",
    "from datetime import datetime\n",
    "import seaborn as sns\n",
    "from matplotlib.colors import ListedColormap\n",
    "\n",
    "from dataframe import CustomDataFrame\n",
    "\n",
    "import plot_data"
   ]
  },
  {
   "cell_type": "code",
   "execution_count": 3,
   "metadata": {},
   "outputs": [],
   "source": [
    "# pd.options.display.float_format = '{:.4f}'.format # 禁用科學數字"
   ]
  },
  {
   "cell_type": "markdown",
   "metadata": {},
   "source": [
    "## 日期設定"
   ]
  },
  {
   "cell_type": "code",
   "execution_count": 4,
   "metadata": {},
   "outputs": [],
   "source": [
    "START_DATE = '2003-3-31'\n",
    "END_DATE = '2009-3-31'"
   ]
  },
  {
   "cell_type": "markdown",
   "metadata": {},
   "source": [
    "## 成分股比較"
   ]
  },
  {
   "cell_type": "code",
   "execution_count": 5,
   "metadata": {},
   "outputs": [
    {
     "name": "stdout",
     "output_type": "stream",
     "text": [
      "['QUAD', 'UNTY', 'NNBR', 'QRHC', 'MAMA', 'ZURA', 'LVWR', 'CTNM', 'CBNK', 'HBB', 'KRO', 'NKTR', 'LCTX', 'SGC', 'MLP', 'GEOS', 'QIPT', 'TRVI', 'ORN', 'RMBL', 'AVAH', 'PLBC', 'OPFI', 'OPAD', 'AISP', 'LXEO', 'RGTI', 'WEYS', 'TLYS', 'PVBC', 'NAUT', 'EP', 'BDTX', 'SST', 'LCUT', 'INBK', 'NODK', 'NL', 'VRA', 'ANRO', 'PINE', 'MAPS', 'LCNB', 'REAL', 'PCB', 'TSQ', 'AMTX', 'UP', 'AVBP', 'AKYA', 'WLFC', 'INFU', 'CLPR', 'GRPN', 'FBLG', 'DTI', 'GCTS', 'AQST', 'BWFG', 'MPX', 'INMB', 'BELFA', 'DIBS', 'VIRC', 'PKOH', 'LNZA', 'ADCT', 'CBUS', 'VRCA', 'LEGH', 'GOCO', 'AAOI', 'GCBC', 'QTTB', 'BBCP', 'SKYE', 'ITIC', 'OVLY', 'METCB', 'BBAI', 'FENC', 'SMHI', 'ULBI', 'RDW', 'FSP', 'CDZI', 'QBTS', 'PYXS', 'MDWD', 'ILPT', 'RSVR', 'PROP', 'IBEX', 'HQI', 'RNGR', 'ITI', 'TALK', 'CRML', 'KFS', 'AOMR', 'AILE', 'NPCE', 'AEVA', 'HG', 'JILL', 'PRLD', 'BTMD', 'RDZN', 'FFNW', 'ATOS', 'MFIN', 'SGHT', 'DC', 'HRTG', 'ALCO', 'VLGEA', 'BARK', 'RGLS', 'MKTW', 'BPRN', 'EGAN', 'NWFL', 'HPK', 'URG', 'BYRN', 'BOLD', 'FHTX', 'STRS', 'AFRI', 'CAPR', 'ACIC', 'FLXS', 'CTGO', 'AEYE', 'PCYO', 'PNRG', 'ZVRA', 'SWIM', 'DSP', 'SMTI', 'ALTI', 'SMLR', 'QUIK', 'MRAM', 'GLSI', 'CADL', 'MTRX', 'EVI', 'NOTE', 'PEBK', 'FLL', 'SEVN', 'RGCO', 'ASPI', 'KLTR', 'VHI', 'CRVO', 'HNST', 'CTRI', 'ELYM', 'ISPR', 'SCWO', 'MG', 'ARL', 'HFFG', 'NC', 'RELL', 'GAMB', 'BRT', 'CDXC', 'SBT', 'BVS', 'VTSI', 'LWAY', 'NTIC', 'KRT', 'VCSA', 'EML', 'PRCH', 'STTK', 'LFMD', 'VSTM', 'TTSH', 'ABOS', 'UHG', 'SWKH', 'NREF', 'RLGT', 'PBI', 'PESI', 'ATNM', 'LUNR', 'INNV', 'FF', 'PRPL', 'GYRE', 'SMID', 'STRW', 'EEX', 'PBYI', 'CLAR', 'ARQ', 'TCI', 'SEZL', 'CSTE', 'AMPX', 'GWRS', 'SLND', 'ESSA', 'MHLD', 'EVEX', 'GALT', 'STKS', 'JSPR', 'BH', 'LLAP', 'GMGI', 'HOWL', 'SPIR', 'KYTX', 'LE', 'ATLC', 'MYFW', 'CTV', 'SAMG', 'PRTH', 'USCB', 'FVCB', 'CRD.A', 'CPSS', 'MGX', 'MITT', 'NATR', 'SERA', 'SNDA', 'SKYH', 'COFS', 'HBIO', 'PDLB', 'JYNT', 'BKSY', 'HSHP', 'NGVC', 'FSTR', 'RENB', 'SKYT', 'CURV', 'CRDF', 'ISTR', 'NRDY', 'USAP', 'SSBK', 'LNKB', 'XBIT', 'FET', 'III', 'LYRA', 'REKR', 'TRAK', 'PKBK', 'VALU', 'LZM', 'OBIO', 'MEC', 'DAVE', 'RCKY', 'TUSK', 'NGS', 'XOMA', 'LVO', 'OVID', 'PTSI', 'AIP', 'PPTA', 'VERU', 'DTC', 'ACHV', 'APEI', 'AIRS', 'FREY', 'GOEV', 'VABK', 'CTRN', 'IVVD', 'PMTS', 'NATH', 'GUTS', 'PBFS', 'BSVN', 'BLZE', 'CHMG', 'ACRV', 'COOK', 'ESCA', 'GENC', 'ATLO', 'TWIN', 'RXT', 'NKSH', 'ELEV', 'STXS', 'NPWR', 'ADVM', 'TLS', 'RNAC', 'FSBW', 'SLDB', 'VGAS', 'TAYD', 'PSTX', 'CMPO', 'DLHC', 'LFCR', 'CIX']\n",
      "314\n"
     ]
    }
   ],
   "source": [
    "russell_1000_df = pd.read_csv('./russell_component_lists/russell_1000_company.csv')\n",
    "russell_2000_df = pd.read_csv('./russell_component_lists/russell_2000_company.csv')\n",
    "russell_3000_df = pd.read_csv('./russell_component_lists/russell_3000_company.csv')\n",
    "\n",
    "russell_1000_symbol = russell_1000_df['Symbol'].to_list()\n",
    "russell_2000_symbol = russell_2000_df['Symbol'].to_list()\n",
    "russell_3000_symbol = russell_3000_df['Symbol'].to_list()\n",
    "\n",
    "# Find elements only in russell_1000, or russell_2000, but not in russell_3000\n",
    "only_russell_1000 = list(set(russell_1000_symbol) - set(russell_3000_symbol))\n",
    "only_russell_2000 = list(set(russell_2000_symbol) - set(russell_3000_symbol))\n",
    "\n",
    "print(only_russell_2000)\n",
    "print(len(only_russell_2000))\n",
    "\n",
    "# 結論 - 在羅素2000當中的公司不一定會在羅素3000"
   ]
  },
  {
   "cell_type": "markdown",
   "metadata": {},
   "source": [
    "## get data"
   ]
  },
  {
   "cell_type": "code",
   "execution_count": 6,
   "metadata": {},
   "outputs": [],
   "source": [
    "data=Data(market='US')"
   ]
  },
  {
   "cell_type": "markdown",
   "metadata": {},
   "source": [
    "---"
   ]
  },
  {
   "cell_type": "markdown",
   "metadata": {},
   "source": [
    "---"
   ]
  },
  {
   "cell_type": "markdown",
   "metadata": {},
   "source": [
    "## 資料下載"
   ]
  },
  {
   "cell_type": "code",
   "execution_count": 7,
   "metadata": {},
   "outputs": [],
   "source": [
    "close = data.get('price:close')"
   ]
  },
  {
   "cell_type": "markdown",
   "metadata": {},
   "source": [
    "### **盈餘再投資率**"
   ]
  },
  {
   "cell_type": "code",
   "execution_count": 8,
   "metadata": {},
   "outputs": [],
   "source": [
    "netIncome = data.get('annual_report_fundamentals:netIncome')\n",
    "\n",
    "# 4 年加總 #\n",
    "df = netIncome.copy()\n",
    "# 提取index的月份\n",
    "df['month'] = df.index.month\n",
    "# 依據月份分組，對每個月份的每四年進行加總\n",
    "result = df.groupby('month', group_keys=False).apply(lambda group: group.rolling(4, min_periods=4).sum())\n",
    "# result\n",
    "\n",
    "# 刪除用來group的欄位\n",
    "netprofit_rol = result.drop(columns='month')"
   ]
  },
  {
   "cell_type": "code",
   "execution_count": 9,
   "metadata": {},
   "outputs": [],
   "source": [
    "# 去除稅後淨利為負 (計算盈再率)\n",
    "adj_netprofit = netprofit_rol[(netprofit_rol > 0) & (netIncome > 0)]"
   ]
  },
  {
   "cell_type": "code",
   "execution_count": 10,
   "metadata": {},
   "outputs": [],
   "source": [
    "# 長期投資\n",
    "longTermInvestments = data.get('annual_report_fundamentals:longTermInvestments')\n",
    "# 固定資產\n",
    "propertyPlantEquipmentNet = data.get('annual_report_fundamentals:propertyPlantEquipmentNet')\n",
    "\n",
    "\n",
    "capex = longTermInvestments + propertyPlantEquipmentNet\n",
    "# 以月份為單位，所以要減掉 48 個月前的資料 (第四年 - 第0年)\n",
    "capex_rol = capex.diff(48)\n",
    "\n",
    "\n",
    "rr = capex_rol / adj_netprofit"
   ]
  },
  {
   "cell_type": "code",
   "execution_count": 11,
   "metadata": {},
   "outputs": [],
   "source": [
    "# plot_data.numeric_bins(rr.resample(\"A-MAY\").last(), '美股盈再率')"
   ]
  },
  {
   "cell_type": "markdown",
   "metadata": {},
   "source": [
    "---"
   ]
  },
  {
   "cell_type": "markdown",
   "metadata": {},
   "source": [
    "### **本益比 (P/E)**"
   ]
  },
  {
   "cell_type": "code",
   "execution_count": 12,
   "metadata": {},
   "outputs": [],
   "source": [
    "pe = data.get('quarter_report:PE')"
   ]
  },
  {
   "cell_type": "code",
   "execution_count": 13,
   "metadata": {},
   "outputs": [],
   "source": [
    "eps = data.get('quarter_report:EPS')"
   ]
  },
  {
   "cell_type": "markdown",
   "metadata": {},
   "source": [
    "#### 每日本益比"
   ]
  },
  {
   "cell_type": "code",
   "execution_count": 14,
   "metadata": {},
   "outputs": [],
   "source": [
    "eps_rol = eps + eps.shift(3) + eps.shift(6) + eps.shift(9) # 近四季加總\n",
    "pe_daily = (close / eps_rol)\n",
    "pe_daily = pe_daily[eps_rol > 0]"
   ]
  },
  {
   "cell_type": "markdown",
   "metadata": {},
   "source": [
    "### **其他因子**"
   ]
  },
  {
   "cell_type": "markdown",
   "metadata": {},
   "source": [
    "- ROE\n",
    "- 股利支付率 (只有年資料) ＝〈現金股利總額〈元〉／ 股利分配年度之稅後淨利〉x 100\n",
    "- ~~董監持股~~\n",
    "- 上市上櫃滿兩年"
   ]
  },
  {
   "cell_type": "code",
   "execution_count": 15,
   "metadata": {},
   "outputs": [],
   "source": [
    "roe = data.get('annual_report:ROE')"
   ]
  },
  {
   "cell_type": "code",
   "execution_count": 16,
   "metadata": {},
   "outputs": [],
   "source": [
    "dpr = data.get('annual_report_fundamentals:dividendPayoutRatio')\n",
    "# dpr"
   ]
  },
  {
   "cell_type": "code",
   "execution_count": 17,
   "metadata": {},
   "outputs": [],
   "source": [
    "income_bf_tax = data.get('annual_report_fundamentals:incomeBeforeTax')"
   ]
  },
  {
   "cell_type": "code",
   "execution_count": 18,
   "metadata": {},
   "outputs": [
    {
     "data": {
      "text/html": [
       "<div>\n",
       "<style scoped>\n",
       "    .dataframe tbody tr th:only-of-type {\n",
       "        vertical-align: middle;\n",
       "    }\n",
       "\n",
       "    .dataframe tbody tr th {\n",
       "        vertical-align: top;\n",
       "    }\n",
       "\n",
       "    .dataframe thead th {\n",
       "        text-align: right;\n",
       "    }\n",
       "</style>\n",
       "<table border=\"1\" class=\"dataframe\">\n",
       "  <thead>\n",
       "    <tr style=\"text-align: right;\">\n",
       "      <th></th>\n",
       "      <th>company_symbol</th>\n",
       "      <th>name</th>\n",
       "      <th>ipo_date</th>\n",
       "      <th>industry</th>\n",
       "    </tr>\n",
       "  </thead>\n",
       "  <tbody>\n",
       "    <tr>\n",
       "      <th>0</th>\n",
       "      <td>A</td>\n",
       "      <td>Agilent Technologies, Inc.</td>\n",
       "      <td>1999-11-18</td>\n",
       "      <td>Medical - Diagnostics &amp; Research</td>\n",
       "    </tr>\n",
       "    <tr>\n",
       "      <th>1</th>\n",
       "      <td>AA</td>\n",
       "      <td>Alcoa Corporation</td>\n",
       "      <td>2016-11-01</td>\n",
       "      <td>Aluminum</td>\n",
       "    </tr>\n",
       "    <tr>\n",
       "      <th>2</th>\n",
       "      <td>AAL</td>\n",
       "      <td>American Airlines Group Inc.</td>\n",
       "      <td>2005-09-27</td>\n",
       "      <td>Airlines, Airports &amp; Air Services</td>\n",
       "    </tr>\n",
       "    <tr>\n",
       "      <th>3</th>\n",
       "      <td>AAN</td>\n",
       "      <td>The Aaron's Company, Inc.</td>\n",
       "      <td>2020-11-25</td>\n",
       "      <td>Rental &amp; Leasing Services</td>\n",
       "    </tr>\n",
       "    <tr>\n",
       "      <th>4</th>\n",
       "      <td>AAON</td>\n",
       "      <td>AAON, Inc.</td>\n",
       "      <td>1992-12-16</td>\n",
       "      <td>Construction</td>\n",
       "    </tr>\n",
       "    <tr>\n",
       "      <th>...</th>\n",
       "      <td>...</td>\n",
       "      <td>...</td>\n",
       "      <td>...</td>\n",
       "      <td>...</td>\n",
       "    </tr>\n",
       "    <tr>\n",
       "      <th>2634</th>\n",
       "      <td>ZUMZ</td>\n",
       "      <td>Zumiez Inc.</td>\n",
       "      <td>2005-05-06</td>\n",
       "      <td>Apparel - Retail</td>\n",
       "    </tr>\n",
       "    <tr>\n",
       "      <th>2635</th>\n",
       "      <td>ZUO</td>\n",
       "      <td>Zuora, Inc.</td>\n",
       "      <td>2018-04-12</td>\n",
       "      <td>Software - Infrastructure</td>\n",
       "    </tr>\n",
       "    <tr>\n",
       "      <th>2636</th>\n",
       "      <td>ZWS</td>\n",
       "      <td>Zurn Elkay Water Solutions Corporation</td>\n",
       "      <td>2012-03-29</td>\n",
       "      <td>Industrial - Pollution &amp; Treatment Controls</td>\n",
       "    </tr>\n",
       "    <tr>\n",
       "      <th>2637</th>\n",
       "      <td>ZYME</td>\n",
       "      <td>Zymeworks Inc.</td>\n",
       "      <td>2017-04-28</td>\n",
       "      <td>Biotechnology</td>\n",
       "    </tr>\n",
       "    <tr>\n",
       "      <th>2638</th>\n",
       "      <td>ZYXI</td>\n",
       "      <td>Zynex, Inc.</td>\n",
       "      <td>2004-02-25</td>\n",
       "      <td>Medical - Distribution</td>\n",
       "    </tr>\n",
       "  </tbody>\n",
       "</table>\n",
       "<p>2639 rows × 4 columns</p>\n",
       "</div>"
      ],
      "text/plain": [
       "     company_symbol                                    name   ipo_date  \\\n",
       "0                 A              Agilent Technologies, Inc. 1999-11-18   \n",
       "1                AA                       Alcoa Corporation 2016-11-01   \n",
       "2               AAL            American Airlines Group Inc. 2005-09-27   \n",
       "3               AAN               The Aaron's Company, Inc. 2020-11-25   \n",
       "4              AAON                              AAON, Inc. 1992-12-16   \n",
       "...             ...                                     ...        ...   \n",
       "2634           ZUMZ                             Zumiez Inc. 2005-05-06   \n",
       "2635            ZUO                             Zuora, Inc. 2018-04-12   \n",
       "2636            ZWS  Zurn Elkay Water Solutions Corporation 2012-03-29   \n",
       "2637           ZYME                          Zymeworks Inc. 2017-04-28   \n",
       "2638           ZYXI                             Zynex, Inc. 2004-02-25   \n",
       "\n",
       "                                         industry  \n",
       "0                Medical - Diagnostics & Research  \n",
       "1                                        Aluminum  \n",
       "2               Airlines, Airports & Air Services  \n",
       "3                       Rental & Leasing Services  \n",
       "4                                    Construction  \n",
       "...                                           ...  \n",
       "2634                             Apparel - Retail  \n",
       "2635                    Software - Infrastructure  \n",
       "2636  Industrial - Pollution & Treatment Controls  \n",
       "2637                                Biotechnology  \n",
       "2638                       Medical - Distribution  \n",
       "\n",
       "[2639 rows x 4 columns]"
      ]
     },
     "execution_count": 18,
     "metadata": {},
     "output_type": "execute_result"
    }
   ],
   "source": [
    "comp_profile = data.get('company_profile')\n",
    "comp_profile"
   ]
  },
  {
   "cell_type": "code",
   "execution_count": 19,
   "metadata": {},
   "outputs": [],
   "source": [
    "stock_data = {}\n",
    "\n",
    "for index, row in comp_profile.iterrows():\n",
    "    stock_code = row['company_symbol']\n",
    "    listed_date = row['ipo_date']\n",
    "    end_date = listed_date + pd.DateOffset(years=2)\n",
    "    \n",
    "    # 創建一個全為 True 的 series\n",
    "    series = pd.Series(True, index=close.index)\n",
    "    # 在上市日之前和之後兩年內設置為 False\n",
    "    series.loc[:end_date] = False\n",
    "    \n",
    "    stock_data[stock_code] = series\n",
    "\n",
    "listed_df = pd.concat(stock_data, axis=1)"
   ]
  },
  {
   "cell_type": "markdown",
   "metadata": {},
   "source": [
    "---"
   ]
  },
  {
   "cell_type": "markdown",
   "metadata": {},
   "source": [
    "## 選股條件\n",
    "- ROE 五年平均 > 15%\n",
    "- 盈再率 < 40%\n",
    "- 稅後淨利 > 五億\n",
    "- 配息 > 40%\n",
    "- 董監持股 > 10%\n",
    "- 上市上櫃滿兩年\n",
    "- PE < 12買入，>30賣出"
   ]
  },
  {
   "cell_type": "code",
   "execution_count": 20,
   "metadata": {},
   "outputs": [],
   "source": [
    "# ROE 5年平均 > 15%\n",
    "df = roe.copy()\n",
    "# 提取index的月份\n",
    "df['month'] = df.index.month\n",
    "# 依據月份分組，對每個月份的每5年計算平均\n",
    "result = df.groupby('month', group_keys=False).apply(lambda group: group.rolling(5, min_periods=5).mean())\n",
    "# 刪除用來group的欄位\n",
    "roe_rol = result.drop(columns='month')"
   ]
  },
  {
   "cell_type": "code",
   "execution_count": 21,
   "metadata": {},
   "outputs": [],
   "source": [
    "roe_cond = roe_rol > 0.15"
   ]
  },
  {
   "cell_type": "code",
   "execution_count": 22,
   "metadata": {},
   "outputs": [],
   "source": [
    "rr_cond = rr < 0.4"
   ]
  },
  {
   "cell_type": "code",
   "execution_count": 23,
   "metadata": {},
   "outputs": [],
   "source": [
    "netprofit_cond = netIncome > 75000000"
   ]
  },
  {
   "cell_type": "code",
   "execution_count": 24,
   "metadata": {},
   "outputs": [],
   "source": [
    "bf_tax_cond = income_bf_tax > 75000000"
   ]
  },
  {
   "cell_type": "code",
   "execution_count": 25,
   "metadata": {},
   "outputs": [],
   "source": [
    "payout_ratio = dpr[(netIncome > 0) & (dpr > 0)]\n",
    "\n",
    "\n",
    "# 3 年至少 > 40%\n",
    "df = payout_ratio.copy()\n",
    "# 提取index的月份\n",
    "df['month'] = df.index.month\n",
    "# 依據月份分組\n",
    "result = df.groupby('month', group_keys=False).apply(lambda group: group.rolling(3, min_periods=3).min())\n",
    "# 刪除用來group的欄位\n",
    "payout_ratio_rol = result.drop(columns='month')"
   ]
  },
  {
   "cell_type": "code",
   "execution_count": 26,
   "metadata": {},
   "outputs": [],
   "source": [
    "payout_cond = payout_ratio_rol >= 0.4"
   ]
  },
  {
   "cell_type": "code",
   "execution_count": 27,
   "metadata": {},
   "outputs": [],
   "source": [
    "pe_cond_entry = pe < 12\n",
    "pe_cond_exit = pe > 30"
   ]
  },
  {
   "cell_type": "code",
   "execution_count": 28,
   "metadata": {},
   "outputs": [],
   "source": [
    "daily_pe_entry = (pe_daily.resample('M').last() < 12)[START_DATE:END_DATE]\n",
    "daily_pe_exit = (pe_daily.resample('M').last() > 30)[START_DATE:END_DATE]"
   ]
  },
  {
   "cell_type": "code",
   "execution_count": 29,
   "metadata": {},
   "outputs": [],
   "source": [
    "listed_cond = listed_df.resample('M').last()"
   ]
  },
  {
   "cell_type": "markdown",
   "metadata": {},
   "source": [
    "---"
   ]
  },
  {
   "cell_type": "markdown",
   "metadata": {},
   "source": [
    "## 單一條件"
   ]
  },
  {
   "cell_type": "code",
   "execution_count": 30,
   "metadata": {},
   "outputs": [
    {
     "data": {
      "text/plain": [
       "{'CAGR': 0.07803381090431727,\n",
       " 'daily_sharpe': 71.41,\n",
       " 'max_drawdown': -0.5388225214816141,\n",
       " 'avg_drawdown': -0.06887772642492536,\n",
       " 'win_ratio': 0.6270096463022508,\n",
       " 'ytd': -0.08925884328250411}"
      ]
     },
     "execution_count": 30,
     "metadata": {},
     "output_type": "execute_result"
    }
   ],
   "source": [
    "roe_cond_rep = backtest.sim(roe_cond[START_DATE:END_DATE], resample='M' , data=data)\n",
    "roe_cond_rep.get_stats()"
   ]
  },
  {
   "cell_type": "code",
   "execution_count": 31,
   "metadata": {},
   "outputs": [
    {
     "data": {
      "text/plain": [
       "{'CAGR': 0.08528867670584894,\n",
       " 'daily_sharpe': 67.71,\n",
       " 'max_drawdown': -0.5417528559386732,\n",
       " 'avg_drawdown': -0.07048718199480712,\n",
       " 'win_ratio': 0.5861423220973783,\n",
       " 'ytd': -0.10686763158007695}"
      ]
     },
     "execution_count": 31,
     "metadata": {},
     "output_type": "execute_result"
    }
   ],
   "source": [
    "rr_cond_rep = backtest.sim(rr_cond[START_DATE:END_DATE], resample='M', data=data)\n",
    "rr_cond_rep.get_stats()"
   ]
  },
  {
   "cell_type": "code",
   "execution_count": 32,
   "metadata": {},
   "outputs": [],
   "source": [
    "# rr_cond_rep.calc_returns_contrib()"
   ]
  },
  {
   "cell_type": "markdown",
   "metadata": {},
   "source": [
    "## 所有條件不含本益比進出場"
   ]
  },
  {
   "cell_type": "code",
   "execution_count": 33,
   "metadata": {},
   "outputs": [],
   "source": [
    "orig_cond_opt = (rr_cond & roe_cond & netprofit_cond & payout_cond & listed_cond)[START_DATE:END_DATE]\n",
    "orig_cond = ((rr < 0.8) & roe_cond & netprofit_cond & payout_cond & listed_cond)[START_DATE:END_DATE]"
   ]
  },
  {
   "cell_type": "code",
   "execution_count": 34,
   "metadata": {},
   "outputs": [
    {
     "data": {
      "text/plain": [
       "999"
      ]
     },
     "execution_count": 34,
     "metadata": {},
     "output_type": "execute_result"
    }
   ],
   "source": [
    "filtered_russell_1000_symbol = [symbol for symbol in russell_1000_symbol if symbol in close.columns]\n",
    "len(filtered_russell_1000_symbol)"
   ]
  },
  {
   "cell_type": "markdown",
   "metadata": {},
   "source": [
    "### 盈再率 < 40%"
   ]
  },
  {
   "cell_type": "code",
   "execution_count": 35,
   "metadata": {},
   "outputs": [
    {
     "data": {
      "text/plain": [
       "{'CAGR': 0.005257880924365299,\n",
       " 'daily_sharpe': 111.73,\n",
       " 'max_drawdown': -0.5253640334887554,\n",
       " 'avg_drawdown': -0.05914298973626555,\n",
       " 'win_ratio': 0.5,\n",
       " 'ytd': -0.132695365660921}"
      ]
     },
     "execution_count": 35,
     "metadata": {},
     "output_type": "execute_result"
    }
   ],
   "source": [
    "rep_orig_opt = backtest.sim(orig_cond_opt, resample='M', data=data)\n",
    "rep_orig_opt.get_stats()"
   ]
  },
  {
   "cell_type": "code",
   "execution_count": 36,
   "metadata": {},
   "outputs": [],
   "source": [
    "filtered_russell_1000_symbol = [symbol for symbol in filtered_russell_1000_symbol if symbol not in ['ALAB', 'LOAR']]\n",
    "# filtered_russell_1000_symbol"
   ]
  },
  {
   "cell_type": "code",
   "execution_count": 37,
   "metadata": {},
   "outputs": [
    {
     "data": {
      "text/plain": [
       "{'CAGR': 0.02133829899920814,\n",
       " 'daily_sharpe': 101.06,\n",
       " 'max_drawdown': -0.49979826807217664,\n",
       " 'avg_drawdown': -0.05743387944384181,\n",
       " 'win_ratio': 0.5833333333333334,\n",
       " 'ytd': -0.1448333237292746}"
      ]
     },
     "execution_count": 37,
     "metadata": {},
     "output_type": "execute_result"
    }
   ],
   "source": [
    "rep_orig_filter = backtest.sim(orig_cond_opt[filtered_russell_1000_symbol], resample='M', data=data)\n",
    "rep_orig_filter.get_stats()"
   ]
  },
  {
   "cell_type": "markdown",
   "metadata": {},
   "source": [
    "### 不看配息率"
   ]
  },
  {
   "cell_type": "markdown",
   "metadata": {},
   "source": [
    "#### 盈再率 < 40%"
   ]
  },
  {
   "cell_type": "code",
   "execution_count": 38,
   "metadata": {},
   "outputs": [],
   "source": [
    "nodpr_cond_opt = (rr_cond & roe_cond & netprofit_cond & listed_cond)[START_DATE:END_DATE]\n",
    "nodpr_cond_opt_filter = (rr_cond & roe_cond & netprofit_cond & listed_cond)[filtered_russell_1000_symbol][START_DATE:END_DATE]"
   ]
  },
  {
   "cell_type": "code",
   "execution_count": 39,
   "metadata": {},
   "outputs": [
    {
     "data": {
      "text/plain": [
       "{'CAGR': 0.02666955381930536,\n",
       " 'daily_sharpe': 99.21,\n",
       " 'max_drawdown': -0.5278689833601402,\n",
       " 'avg_drawdown': -0.07188647586278854,\n",
       " 'win_ratio': 0.4713375796178344,\n",
       " 'ytd': -0.07460378383424615}"
      ]
     },
     "execution_count": 39,
     "metadata": {},
     "output_type": "execute_result"
    }
   ],
   "source": [
    "noDPRrep_opt = backtest.sim(nodpr_cond_opt, resample='M', data=data)\n",
    "noDPRrep_opt.get_stats()"
   ]
  },
  {
   "cell_type": "code",
   "execution_count": 40,
   "metadata": {},
   "outputs": [
    {
     "data": {
      "text/plain": [
       "{'CAGR': 0.04184243506990204,\n",
       " 'daily_sharpe': 90.9,\n",
       " 'max_drawdown': -0.5070386985129747,\n",
       " 'avg_drawdown': -0.06596617785316225,\n",
       " 'win_ratio': 0.5045871559633027,\n",
       " 'ytd': -0.06907195295884727}"
      ]
     },
     "execution_count": 40,
     "metadata": {},
     "output_type": "execute_result"
    }
   ],
   "source": [
    "noDPRrep_opt_filt = backtest.sim(nodpr_cond_opt_filter, resample='M', data=data)\n",
    "noDPRrep_opt_filt.get_stats()"
   ]
  },
  {
   "cell_type": "markdown",
   "metadata": {},
   "source": [
    "## 所有條件包含本益比進出場"
   ]
  },
  {
   "cell_type": "markdown",
   "metadata": {},
   "source": [
    "### 盈再率 < 40%"
   ]
  },
  {
   "cell_type": "code",
   "execution_count": 41,
   "metadata": {},
   "outputs": [],
   "source": [
    "opt_orig_pe = (orig_cond_opt & daily_pe_entry[START_DATE:END_DATE]).hold_until((~orig_cond_opt) | daily_pe_exit[START_DATE:END_DATE])\n",
    "\n",
    "opt_orig_pe_filt = (orig_cond_opt& daily_pe_entry[START_DATE:END_DATE]).hold_until((~orig_cond_opt) | daily_pe_exit[START_DATE:END_DATE])[filtered_russell_1000_symbol] "
   ]
  },
  {
   "cell_type": "code",
   "execution_count": 42,
   "metadata": {},
   "outputs": [
    {
     "data": {
      "text/plain": [
       "{'CAGR': 0.00816676261249416,\n",
       " 'daily_sharpe': 107.4,\n",
       " 'max_drawdown': -0.5310888459021046,\n",
       " 'avg_drawdown': -0.06310726767441621,\n",
       " 'win_ratio': 0.5333333333333333,\n",
       " 'ytd': -0.1296826658404363}"
      ]
     },
     "execution_count": 42,
     "metadata": {},
     "output_type": "execute_result"
    }
   ],
   "source": [
    "opt_rep_pe = backtest.sim(opt_orig_pe, resample='M', data=data)\n",
    "opt_rep_pe.get_stats()"
   ]
  },
  {
   "cell_type": "code",
   "execution_count": 43,
   "metadata": {},
   "outputs": [
    {
     "data": {
      "application/vnd.plotly.v1+json": {
       "config": {
        "plotlyServerURL": "https://plot.ly"
       },
       "data": [
        {
         "hovertemplate": "%{x}<br>%{y:.2%}<br>MRK<extra></extra>",
         "marker": {
          "color": "rgb(230,171,2)"
         },
         "name": "MRK",
         "offsetgroup": "MRK",
         "showlegend": false,
         "type": "bar",
         "x": [
          2003
         ],
         "y": [
          -0.011824687848601113
         ]
        },
        {
         "base": 0,
         "hovertemplate": "%{x}<br>其他: %{y:.2%}<extra></extra>",
         "marker": {
          "color": "white",
          "pattern": {
           "shape": "/"
          }
         },
         "name": "其他 (2003)",
         "offsetgroup": "其他",
         "showlegend": false,
         "type": "bar",
         "x": [
          2003
         ],
         "y": [
          0.10016017613280968
         ]
        },
        {
         "base": 0.10016017613280968,
         "hovertemplate": "BMY: 1.73%<extra></extra>",
         "marker": {
          "color": "#FFA15A"
         },
         "name": "BMY",
         "offsetgroup": "BMY",
         "type": "bar",
         "x": [
          2003
         ],
         "y": [
          0.01733524774499364
         ]
        },
        {
         "base": 0.11749542387780332,
         "hovertemplate": "CAG: 1.81%<extra></extra>",
         "marker": {
          "color": "#B6E880"
         },
         "name": "CAG",
         "offsetgroup": "CAG",
         "type": "bar",
         "x": [
          2003
         ],
         "y": [
          0.01807610548162582
         ]
        },
        {
         "base": 0.13557152935942915,
         "hovertemplate": "EMR: 2.12%<extra></extra>",
         "marker": {
          "color": "rgb(255,255,51)"
         },
         "name": "EMR",
         "offsetgroup": "EMR",
         "type": "bar",
         "x": [
          2003
         ],
         "y": [
          0.021225390921857448
         ]
        },
        {
         "base": 0.1567969202812866,
         "hovertemplate": "SWK: 3.10%<extra></extra>",
         "marker": {
          "color": "#B6E880"
         },
         "name": "SWK",
         "offsetgroup": "SWK",
         "type": "bar",
         "x": [
          2003
         ],
         "y": [
          0.031018624895427185
         ]
        },
        {
         "base": 0.18781554517671378,
         "hovertemplate": "MO: 4.64%<extra></extra>",
         "marker": {
          "color": "rgb(102,166,30)"
         },
         "name": "MO",
         "offsetgroup": "MO",
         "type": "bar",
         "x": [
          2003
         ],
         "y": [
          0.046372423391330395
         ]
        },
        {
         "hovertemplate": "%{x}<br>%{y:.2%}<br>ABT<extra></extra>",
         "marker": {
          "color": "#636EFA"
         },
         "name": "ABT",
         "offsetgroup": "ABT",
         "showlegend": false,
         "type": "bar",
         "x": [
          2004
         ],
         "y": [
          -0.0008529433376370825
         ]
        },
        {
         "hovertemplate": "%{x}<br>%{y:.2%}<br>VTR<extra></extra>",
         "marker": {
          "color": "rgb(152,78,163)"
         },
         "name": "VTR",
         "offsetgroup": "VTR",
         "showlegend": false,
         "type": "bar",
         "x": [
          2004
         ],
         "y": [
          -0.001988476298261403
         ]
        },
        {
         "hovertemplate": "%{x}<br>%{y:.2%}<br>DLX<extra></extra>",
         "marker": {
          "color": "rgb(255,127,0)"
         },
         "name": "DLX",
         "offsetgroup": "DLX",
         "showlegend": false,
         "type": "bar",
         "x": [
          2004
         ],
         "y": [
          -0.003899710209298511
         ]
        },
        {
         "hovertemplate": "%{x}<br>%{y:.2%}<br>BMY<extra></extra>",
         "marker": {
          "color": "#FFA15A"
         },
         "name": "BMY",
         "offsetgroup": "BMY",
         "showlegend": false,
         "type": "bar",
         "x": [
          2004
         ],
         "y": [
          -0.010582767155900728
         ]
        },
        {
         "hovertemplate": "%{x}<br>%{y:.2%}<br>MMC<extra></extra>",
         "marker": {
          "color": "rgb(117,112,179)"
         },
         "name": "MMC",
         "offsetgroup": "MMC",
         "showlegend": false,
         "type": "bar",
         "x": [
          2004
         ],
         "y": [
          -0.013822118855343195
         ]
        },
        {
         "hovertemplate": "%{x}<br>%{y:.2%}<br>MRK<extra></extra>",
         "marker": {
          "color": "rgb(230,171,2)"
         },
         "name": "MRK",
         "offsetgroup": "MRK",
         "showlegend": false,
         "type": "bar",
         "x": [
          2004
         ],
         "y": [
          -0.014420358398997867
         ]
        },
        {
         "base": 0,
         "hovertemplate": "%{x}<br>其他: %{y:.2%}<extra></extra>",
         "marker": {
          "color": "white",
          "pattern": {
           "shape": "/"
          }
         },
         "name": "其他 (2004)",
         "offsetgroup": "其他",
         "showlegend": false,
         "type": "bar",
         "x": [
          2004
         ],
         "y": [
          0.0330969545590502
         ]
        },
        {
         "base": 0.0330969545590502,
         "hovertemplate": "AVY: 0.83%<extra></extra>",
         "marker": {
          "color": "#00CC96"
         },
         "name": "AVY",
         "offsetgroup": "AVY",
         "type": "bar",
         "x": [
          2004
         ],
         "y": [
          0.00834405130410217
         ]
        },
        {
         "base": 0.04144100586315237,
         "hovertemplate": "UBSI: 1.11%<extra></extra>",
         "marker": {
          "color": "#FECB52"
         },
         "name": "UBSI",
         "offsetgroup": "UBSI",
         "type": "bar",
         "x": [
          2004
         ],
         "y": [
          0.011052012222575952
         ]
        },
        {
         "base": 0.05249301808572832,
         "hovertemplate": "K: 1.16%<extra></extra>",
         "marker": {
          "color": "rgb(254, 136, 177)"
         },
         "name": "K",
         "offsetgroup": "K",
         "type": "bar",
         "x": [
          2004
         ],
         "y": [
          0.01162041648880513
         ]
        },
        {
         "base": 0.06411343457453345,
         "hovertemplate": "SWK: 1.75%<extra></extra>",
         "marker": {
          "color": "#B6E880"
         },
         "name": "SWK",
         "offsetgroup": "SWK",
         "type": "bar",
         "x": [
          2004
         ],
         "y": [
          0.017516282634113704
         ]
        },
        {
         "base": 0.08162971720864715,
         "hovertemplate": "HSY: 1.84%<extra></extra>",
         "marker": {
          "color": "rgb(158, 185, 243)"
         },
         "name": "HSY",
         "offsetgroup": "HSY",
         "type": "bar",
         "x": [
          2004
         ],
         "y": [
          0.018392197015613773
         ]
        },
        {
         "hovertemplate": "%{x}<br>%{y:.2%}<br>MMC<extra></extra>",
         "marker": {
          "color": "rgb(117,112,179)"
         },
         "name": "MMC",
         "offsetgroup": "MMC",
         "showlegend": false,
         "type": "bar",
         "x": [
          2005
         ],
         "y": [
          -0.00129635139013858
         ]
        },
        {
         "hovertemplate": "%{x}<br>%{y:.2%}<br>K<extra></extra>",
         "marker": {
          "color": "rgb(254, 136, 177)"
         },
         "name": "K",
         "offsetgroup": "K",
         "showlegend": false,
         "type": "bar",
         "x": [
          2005
         ],
         "y": [
          -0.00174089078773923
         ]
        },
        {
         "hovertemplate": "%{x}<br>%{y:.2%}<br>KO<extra></extra>",
         "marker": {
          "color": "rgb(139, 224, 164)"
         },
         "name": "KO",
         "offsetgroup": "KO",
         "showlegend": false,
         "type": "bar",
         "x": [
          2005
         ],
         "y": [
          -0.0018000788461500212
         ]
        },
        {
         "hovertemplate": "%{x}<br>%{y:.2%}<br>SON<extra></extra>",
         "marker": {
          "color": "#FF6692"
         },
         "name": "SON",
         "offsetgroup": "SON",
         "showlegend": false,
         "type": "bar",
         "x": [
          2005
         ],
         "y": [
          -0.0019732321010062074
         ]
        },
        {
         "hovertemplate": "%{x}<br>%{y:.2%}<br>FUN<extra></extra>",
         "marker": {
          "color": "rgb(102, 197, 204)"
         },
         "name": "FUN",
         "offsetgroup": "FUN",
         "showlegend": false,
         "type": "bar",
         "x": [
          2005
         ],
         "y": [
          -0.002216475954719796
         ]
        },
        {
         "hovertemplate": "%{x}<br>%{y:.2%}<br>SWK<extra></extra>",
         "marker": {
          "color": "#B6E880"
         },
         "name": "SWK",
         "offsetgroup": "SWK",
         "showlegend": false,
         "type": "bar",
         "x": [
          2005
         ],
         "y": [
          -0.0024542458733028353
         ]
        },
        {
         "hovertemplate": "%{x}<br>%{y:.2%}<br>AVY<extra></extra>",
         "marker": {
          "color": "#00CC96"
         },
         "name": "AVY",
         "offsetgroup": "AVY",
         "showlegend": false,
         "type": "bar",
         "x": [
          2005
         ],
         "y": [
          -0.0034588634396894857
         ]
        },
        {
         "hovertemplate": "%{x}<br>%{y:.2%}<br>BMY<extra></extra>",
         "marker": {
          "color": "#FFA15A"
         },
         "name": "BMY",
         "offsetgroup": "BMY",
         "showlegend": false,
         "type": "bar",
         "x": [
          2005
         ],
         "y": [
          -0.004277062570629559
         ]
        },
        {
         "hovertemplate": "%{x}<br>%{y:.2%}<br>VTR<extra></extra>",
         "marker": {
          "color": "rgb(152,78,163)"
         },
         "name": "VTR",
         "offsetgroup": "VTR",
         "showlegend": false,
         "type": "bar",
         "x": [
          2005
         ],
         "y": [
          -0.006425705296066614
         ]
        },
        {
         "hovertemplate": "%{x}<br>%{y:.2%}<br>UBSI<extra></extra>",
         "marker": {
          "color": "#FECB52"
         },
         "name": "UBSI",
         "offsetgroup": "UBSI",
         "showlegend": false,
         "type": "bar",
         "x": [
          2005
         ],
         "y": [
          -0.008605761578613013
         ]
        },
        {
         "hovertemplate": "%{x}<br>%{y:.2%}<br>ABT<extra></extra>",
         "marker": {
          "color": "#636EFA"
         },
         "name": "ABT",
         "offsetgroup": "ABT",
         "showlegend": false,
         "type": "bar",
         "x": [
          2005
         ],
         "y": [
          -0.011752734604960355
         ]
        },
        {
         "hovertemplate": "%{x}<br>%{y:.2%}<br>CAG<extra></extra>",
         "marker": {
          "color": "#B6E880"
         },
         "name": "CAG",
         "offsetgroup": "CAG",
         "showlegend": false,
         "type": "bar",
         "x": [
          2005
         ],
         "y": [
          -0.024037157644080674
         ]
        },
        {
         "hovertemplate": "%{x}<br>%{y:.2%}<br>GOGL<extra></extra>",
         "marker": {
          "color": "rgb(220, 176, 242)"
         },
         "name": "GOGL",
         "offsetgroup": "GOGL",
         "showlegend": false,
         "type": "bar",
         "x": [
          2005
         ],
         "y": [
          -0.027448452452157195
         ]
        },
        {
         "base": 0,
         "hovertemplate": "%{x}<br>其他: %{y:.2%}<extra></extra>",
         "marker": {
          "color": "white",
          "pattern": {
           "shape": "/"
          }
         },
         "name": "其他 (2005)",
         "offsetgroup": "其他",
         "showlegend": false,
         "type": "bar",
         "x": [
          2005
         ],
         "y": [
          0.008716517393318654
         ]
        },
        {
         "base": 0.008716517393318654,
         "hovertemplate": "DLX: 0.40%<extra></extra>",
         "marker": {
          "color": "rgb(255,127,0)"
         },
         "name": "DLX",
         "offsetgroup": "DLX",
         "type": "bar",
         "x": [
          2005
         ],
         "y": [
          0.004046501293309566
         ]
        },
        {
         "base": 0.01276301868662822,
         "hovertemplate": "HSY: 0.49%<extra></extra>",
         "marker": {
          "color": "rgb(158, 185, 243)"
         },
         "name": "HSY",
         "offsetgroup": "HSY",
         "type": "bar",
         "x": [
          2005
         ],
         "y": [
          0.0048607483146398435
         ]
        },
        {
         "base": 0.017623767001268064,
         "hovertemplate": "EMR: 0.64%<extra></extra>",
         "marker": {
          "color": "rgb(255,255,51)"
         },
         "name": "EMR",
         "offsetgroup": "EMR",
         "type": "bar",
         "x": [
          2005
         ],
         "y": [
          0.006439912189720181
         ]
        },
        {
         "base": 0.024063679190988244,
         "hovertemplate": "CUZ: 1.21%<extra></extra>",
         "marker": {
          "color": "rgb(152,78,163)"
         },
         "name": "CUZ",
         "offsetgroup": "CUZ",
         "type": "bar",
         "x": [
          2005
         ],
         "y": [
          0.012148560613011923
         ]
        },
        {
         "base": 0.036212239804000165,
         "hovertemplate": "MO: 1.96%<extra></extra>",
         "marker": {
          "color": "rgb(102,166,30)"
         },
         "name": "MO",
         "offsetgroup": "MO",
         "type": "bar",
         "x": [
          2005
         ],
         "y": [
          0.019626711418437998
         ]
        },
        {
         "hovertemplate": "%{x}<br>%{y:.2%}<br>FCX<extra></extra>",
         "marker": {
          "color": "rgb(247,129,191)"
         },
         "name": "FCX",
         "offsetgroup": "FCX",
         "showlegend": false,
         "type": "bar",
         "x": [
          2006
         ],
         "y": [
          -0.004450027709747108
         ]
        },
        {
         "base": 0,
         "hovertemplate": "%{x}<br>其他: %{y:.2%}<extra></extra>",
         "marker": {
          "color": "white",
          "pattern": {
           "shape": "/"
          }
         },
         "name": "其他 (2006)",
         "offsetgroup": "其他",
         "showlegend": false,
         "type": "bar",
         "x": [
          2006
         ],
         "y": [
          0.07645390859657136
         ]
        },
        {
         "base": 0.07645390859657136,
         "hovertemplate": "KO: 1.60%<extra></extra>",
         "marker": {
          "color": "rgb(139, 224, 164)"
         },
         "name": "KO",
         "offsetgroup": "KO",
         "type": "bar",
         "x": [
          2006
         ],
         "y": [
          0.01595581379536007
         ]
        },
        {
         "base": 0.09240972239193143,
         "hovertemplate": "AVY: 1.66%<extra></extra>",
         "marker": {
          "color": "#00CC96"
         },
         "name": "AVY",
         "offsetgroup": "AVY",
         "type": "bar",
         "x": [
          2006
         ],
         "y": [
          0.01662955918996616
         ]
        },
        {
         "base": 0.10903928158189759,
         "hovertemplate": "ABT: 2.18%<extra></extra>",
         "marker": {
          "color": "#636EFA"
         },
         "name": "ABT",
         "offsetgroup": "ABT",
         "type": "bar",
         "x": [
          2006
         ],
         "y": [
          0.0218458763888049
         ]
        },
        {
         "base": 0.1308851579707025,
         "hovertemplate": "MRK: 2.34%<extra></extra>",
         "marker": {
          "color": "rgb(230,171,2)"
         },
         "name": "MRK",
         "offsetgroup": "MRK",
         "type": "bar",
         "x": [
          2006
         ],
         "y": [
          0.023359974312383507
         ]
        },
        {
         "base": 0.154245132283086,
         "hovertemplate": "CAG: 2.35%<extra></extra>",
         "marker": {
          "color": "#B6E880"
         },
         "name": "CAG",
         "offsetgroup": "CAG",
         "type": "bar",
         "x": [
          2006
         ],
         "y": [
          0.02347516579685126
         ]
        },
        {
         "hovertemplate": "%{x}<br>%{y:.2%}<br>PFE<extra></extra>",
         "marker": {
          "color": "#636EFA"
         },
         "name": "PFE",
         "offsetgroup": "PFE",
         "showlegend": false,
         "type": "bar",
         "x": [
          2007
         ],
         "y": [
          -0.00044006097305946497
         ]
        },
        {
         "hovertemplate": "%{x}<br>%{y:.2%}<br>AJG<extra></extra>",
         "marker": {
          "color": "#EF553B"
         },
         "name": "AJG",
         "offsetgroup": "AJG",
         "showlegend": false,
         "type": "bar",
         "x": [
          2007
         ],
         "y": [
          -0.005662010429369503
         ]
        },
        {
         "hovertemplate": "%{x}<br>%{y:.2%}<br>CAG<extra></extra>",
         "marker": {
          "color": "#B6E880"
         },
         "name": "CAG",
         "offsetgroup": "CAG",
         "showlegend": false,
         "type": "bar",
         "x": [
          2007
         ],
         "y": [
          -0.010029910261499148
         ]
        },
        {
         "hovertemplate": "%{x}<br>%{y:.2%}<br>UBSI<extra></extra>",
         "marker": {
          "color": "#FECB52"
         },
         "name": "UBSI",
         "offsetgroup": "UBSI",
         "showlegend": false,
         "type": "bar",
         "x": [
          2007
         ],
         "y": [
          -0.012352720306155997
         ]
        },
        {
         "hovertemplate": "%{x}<br>%{y:.2%}<br>VLY<extra></extra>",
         "marker": {
          "color": "rgb(77,175,74)"
         },
         "name": "VLY",
         "offsetgroup": "VLY",
         "showlegend": false,
         "type": "bar",
         "x": [
          2007
         ],
         "y": [
          -0.013782897176358956
         ]
        },
        {
         "hovertemplate": "%{x}<br>%{y:.2%}<br>BXP<extra></extra>",
         "marker": {
          "color": "#FF6692"
         },
         "name": "BXP",
         "offsetgroup": "BXP",
         "showlegend": false,
         "type": "bar",
         "x": [
          2007
         ],
         "y": [
          -0.013855913596308942
         ]
        },
        {
         "hovertemplate": "%{x}<br>%{y:.2%}<br>AVY<extra></extra>",
         "marker": {
          "color": "#00CC96"
         },
         "name": "AVY",
         "offsetgroup": "AVY",
         "showlegend": false,
         "type": "bar",
         "x": [
          2007
         ],
         "y": [
          -0.01632468752325343
         ]
        },
        {
         "hovertemplate": "%{x}<br>%{y:.2%}<br>FITB<extra></extra>",
         "marker": {
          "color": "rgb(153,153,153)"
         },
         "name": "FITB",
         "offsetgroup": "FITB",
         "showlegend": false,
         "type": "bar",
         "x": [
          2007
         ],
         "y": [
          -0.031069426712927076
         ]
        },
        {
         "base": 0,
         "hovertemplate": "%{x}<br>其他: %{y:.2%}<extra></extra>",
         "marker": {
          "color": "white",
          "pattern": {
           "shape": "/"
          }
         },
         "name": "其他 (2007)",
         "offsetgroup": "其他",
         "showlegend": false,
         "type": "bar",
         "x": [
          2007
         ],
         "y": [
          0.01758961808704456
         ]
        },
        {
         "base": 0.01758961808704456,
         "hovertemplate": "MO: 1.13%<extra></extra>",
         "marker": {
          "color": "rgb(102,166,30)"
         },
         "name": "MO",
         "offsetgroup": "MO",
         "type": "bar",
         "x": [
          2007
         ],
         "y": [
          0.011265100769811838
         ]
        },
        {
         "base": 0.0288547188568564,
         "hovertemplate": "ABT: 1.30%<extra></extra>",
         "marker": {
          "color": "#636EFA"
         },
         "name": "ABT",
         "offsetgroup": "ABT",
         "type": "bar",
         "x": [
          2007
         ],
         "y": [
          0.012962146341304657
         ]
        },
        {
         "base": 0.04181686519816106,
         "hovertemplate": "KO: 1.64%<extra></extra>",
         "marker": {
          "color": "rgb(139, 224, 164)"
         },
         "name": "KO",
         "offsetgroup": "KO",
         "type": "bar",
         "x": [
          2007
         ],
         "y": [
          0.01641963549659231
         ]
        },
        {
         "base": 0.05823650069475337,
         "hovertemplate": "MRK: 2.36%<extra></extra>",
         "marker": {
          "color": "rgb(230,171,2)"
         },
         "name": "MRK",
         "offsetgroup": "MRK",
         "type": "bar",
         "x": [
          2007
         ],
         "y": [
          0.023576387303362582
         ]
        },
        {
         "base": 0.08181288799811595,
         "hovertemplate": "FCX: 6.24%<extra></extra>",
         "marker": {
          "color": "rgb(247,129,191)"
         },
         "name": "FCX",
         "offsetgroup": "FCX",
         "type": "bar",
         "x": [
          2007
         ],
         "y": [
          0.06235404588878356
         ]
        },
        {
         "hovertemplate": "%{x}<br>%{y:.2%}<br>GPC<extra></extra>",
         "marker": {
          "color": "rgb(135, 197, 95)"
         },
         "name": "GPC",
         "offsetgroup": "GPC",
         "showlegend": false,
         "type": "bar",
         "x": [
          2008
         ],
         "y": [
          -0.0007376710388640136
         ]
        },
        {
         "hovertemplate": "%{x}<br>%{y:.2%}<br>ABT<extra></extra>",
         "marker": {
          "color": "#636EFA"
         },
         "name": "ABT",
         "offsetgroup": "ABT",
         "showlegend": false,
         "type": "bar",
         "x": [
          2008
         ],
         "y": [
          -0.002862431642184195
         ]
        },
        {
         "hovertemplate": "%{x}<br>%{y:.2%}<br>MCHP<extra></extra>",
         "marker": {
          "color": "rgb(27,158,119)"
         },
         "name": "MCHP",
         "offsetgroup": "MCHP",
         "showlegend": false,
         "type": "bar",
         "x": [
          2008
         ],
         "y": [
          -0.0034309768192826466
         ]
        },
        {
         "hovertemplate": "%{x}<br>%{y:.2%}<br>GIS<extra></extra>",
         "marker": {
          "color": "rgb(248, 156, 116)"
         },
         "name": "GIS",
         "offsetgroup": "GIS",
         "showlegend": false,
         "type": "bar",
         "x": [
          2008
         ],
         "y": [
          -0.003654871796616039
         ]
        },
        {
         "hovertemplate": "%{x}<br>%{y:.2%}<br>PAYX<extra></extra>",
         "marker": {
          "color": "rgb(166,118,29)"
         },
         "name": "PAYX",
         "offsetgroup": "PAYX",
         "showlegend": false,
         "type": "bar",
         "x": [
          2008
         ],
         "y": [
          -0.003707984718563701
         ]
        },
        {
         "hovertemplate": "%{x}<br>%{y:.2%}<br>LLY<extra></extra>",
         "marker": {
          "color": "rgb(180, 151, 231)"
         },
         "name": "LLY",
         "offsetgroup": "LLY",
         "showlegend": false,
         "type": "bar",
         "x": [
          2008
         ],
         "y": [
          -0.004199759207794421
         ]
        },
        {
         "hovertemplate": "%{x}<br>%{y:.2%}<br>MAT<extra></extra>",
         "marker": {
          "color": "rgb(179, 179, 179)"
         },
         "name": "MAT",
         "offsetgroup": "MAT",
         "showlegend": false,
         "type": "bar",
         "x": [
          2008
         ],
         "y": [
          -0.004204267448525268
         ]
        },
        {
         "hovertemplate": "%{x}<br>%{y:.2%}<br>SYY<extra></extra>",
         "marker": {
          "color": "#FF97FF"
         },
         "name": "SYY",
         "offsetgroup": "SYY",
         "showlegend": false,
         "type": "bar",
         "x": [
          2008
         ],
         "y": [
          -0.005530536860090229
         ]
        },
        {
         "hovertemplate": "%{x}<br>%{y:.2%}<br>K<extra></extra>",
         "marker": {
          "color": "rgb(254, 136, 177)"
         },
         "name": "K",
         "offsetgroup": "K",
         "showlegend": false,
         "type": "bar",
         "x": [
          2008
         ],
         "y": [
          -0.006039631372165601
         ]
        },
        {
         "hovertemplate": "%{x}<br>%{y:.2%}<br>EXC<extra></extra>",
         "marker": {
          "color": "rgb(166,86,40)"
         },
         "name": "EXC",
         "offsetgroup": "EXC",
         "showlegend": false,
         "type": "bar",
         "x": [
          2008
         ],
         "y": [
          -0.006716728368619055
         ]
        },
        {
         "hovertemplate": "%{x}<br>%{y:.2%}<br>USB<extra></extra>",
         "marker": {
          "color": "rgb(228,26,28)"
         },
         "name": "USB",
         "offsetgroup": "USB",
         "showlegend": false,
         "type": "bar",
         "x": [
          2008
         ],
         "y": [
          -0.006887331055642333
         ]
        },
        {
         "hovertemplate": "%{x}<br>%{y:.2%}<br>FCX<extra></extra>",
         "marker": {
          "color": "rgb(247,129,191)"
         },
         "name": "FCX",
         "offsetgroup": "FCX",
         "showlegend": false,
         "type": "bar",
         "x": [
          2008
         ],
         "y": [
          -0.0073965340836019905
         ]
        },
        {
         "hovertemplate": "%{x}<br>%{y:.2%}<br>CAG<extra></extra>",
         "marker": {
          "color": "#B6E880"
         },
         "name": "CAG",
         "offsetgroup": "CAG",
         "showlegend": false,
         "type": "bar",
         "x": [
          2008
         ],
         "y": [
          -0.007707392602256304
         ]
        },
        {
         "hovertemplate": "%{x}<br>%{y:.2%}<br>GOGL<extra></extra>",
         "marker": {
          "color": "rgb(220, 176, 242)"
         },
         "name": "GOGL",
         "offsetgroup": "GOGL",
         "showlegend": false,
         "type": "bar",
         "x": [
          2008
         ],
         "y": [
          -0.009390590418706473
         ]
        },
        {
         "hovertemplate": "%{x}<br>%{y:.2%}<br>PPG<extra></extra>",
         "marker": {
          "color": "#AB63FA"
         },
         "name": "PPG",
         "offsetgroup": "PPG",
         "showlegend": false,
         "type": "bar",
         "x": [
          2008
         ],
         "y": [
          -0.009431264965796425
         ]
        },
        {
         "hovertemplate": "%{x}<br>%{y:.2%}<br>BMY<extra></extra>",
         "marker": {
          "color": "#FFA15A"
         },
         "name": "BMY",
         "offsetgroup": "BMY",
         "showlegend": false,
         "type": "bar",
         "x": [
          2008
         ],
         "y": [
          -0.010184973175766436
         ]
        },
        {
         "hovertemplate": "%{x}<br>%{y:.2%}<br>SIG<extra></extra>",
         "marker": {
          "color": "#19D3F3"
         },
         "name": "SIG",
         "offsetgroup": "SIG",
         "showlegend": false,
         "type": "bar",
         "x": [
          2008
         ],
         "y": [
          -0.010687802051267844
         ]
        },
        {
         "hovertemplate": "%{x}<br>%{y:.2%}<br>KMB<extra></extra>",
         "marker": {
          "color": "rgb(201, 219, 116)"
         },
         "name": "KMB",
         "offsetgroup": "KMB",
         "showlegend": false,
         "type": "bar",
         "x": [
          2008
         ],
         "y": [
          -0.01095089603918417
         ]
        },
        {
         "hovertemplate": "%{x}<br>%{y:.2%}<br>KO<extra></extra>",
         "marker": {
          "color": "rgb(139, 224, 164)"
         },
         "name": "KO",
         "offsetgroup": "KO",
         "showlegend": false,
         "type": "bar",
         "x": [
          2008
         ],
         "y": [
          -0.011318995087583139
         ]
        },
        {
         "hovertemplate": "%{x}<br>%{y:.2%}<br>BXP<extra></extra>",
         "marker": {
          "color": "#FF6692"
         },
         "name": "BXP",
         "offsetgroup": "BXP",
         "showlegend": false,
         "type": "bar",
         "x": [
          2008
         ],
         "y": [
          -0.011636597026334518
         ]
        },
        {
         "hovertemplate": "%{x}<br>%{y:.2%}<br>MO<extra></extra>",
         "marker": {
          "color": "rgb(102,166,30)"
         },
         "name": "MO",
         "offsetgroup": "MO",
         "showlegend": false,
         "type": "bar",
         "x": [
          2008
         ],
         "y": [
          -0.013507485863515904
         ]
        },
        {
         "hovertemplate": "%{x}<br>%{y:.2%}<br>AVY<extra></extra>",
         "marker": {
          "color": "#00CC96"
         },
         "name": "AVY",
         "offsetgroup": "AVY",
         "showlegend": false,
         "type": "bar",
         "x": [
          2008
         ],
         "y": [
          -0.016155947725223743
         ]
        },
        {
         "hovertemplate": "%{x}<br>%{y:.2%}<br>SFL<extra></extra>",
         "marker": {
          "color": "#FFA15A"
         },
         "name": "SFL",
         "offsetgroup": "SFL",
         "showlegend": false,
         "type": "bar",
         "x": [
          2008
         ],
         "y": [
          -0.019494903279171673
         ]
        },
        {
         "hovertemplate": "%{x}<br>%{y:.2%}<br>CMA<extra></extra>",
         "marker": {
          "color": "rgb(228,26,28)"
         },
         "name": "CMA",
         "offsetgroup": "CMA",
         "showlegend": false,
         "type": "bar",
         "x": [
          2008
         ],
         "y": [
          -0.02006720405443719
         ]
        },
        {
         "hovertemplate": "%{x}<br>%{y:.2%}<br>CNS<extra></extra>",
         "marker": {
          "color": "rgb(55,126,184)"
         },
         "name": "CNS",
         "offsetgroup": "CNS",
         "showlegend": false,
         "type": "bar",
         "x": [
          2008
         ],
         "y": [
          -0.022899878975153307
         ]
        },
        {
         "hovertemplate": "%{x}<br>%{y:.2%}<br>GE<extra></extra>",
         "marker": {
          "color": "rgb(246, 207, 113)"
         },
         "name": "GE",
         "offsetgroup": "GE",
         "showlegend": false,
         "type": "bar",
         "x": [
          2008
         ],
         "y": [
          -0.025489334888551565
         ]
        },
        {
         "hovertemplate": "%{x}<br>%{y:.2%}<br>MRK<extra></extra>",
         "marker": {
          "color": "rgb(230,171,2)"
         },
         "name": "MRK",
         "offsetgroup": "MRK",
         "showlegend": false,
         "type": "bar",
         "x": [
          2008
         ],
         "y": [
          -0.02734205987913269
         ]
        },
        {
         "hovertemplate": "%{x}<br>%{y:.2%}<br>FITB<extra></extra>",
         "marker": {
          "color": "rgb(153,153,153)"
         },
         "name": "FITB",
         "offsetgroup": "FITB",
         "showlegend": false,
         "type": "bar",
         "x": [
          2008
         ],
         "y": [
          -0.04244936805969029
         ]
        },
        {
         "base": 0,
         "hovertemplate": "MKC: 0.03%<extra></extra>",
         "marker": {
          "color": "rgb(217,95,2)"
         },
         "name": "MKC",
         "offsetgroup": "MKC",
         "type": "bar",
         "x": [
          2008
         ],
         "y": [
          0.0002503178797916032
         ]
        },
        {
         "base": 0.0002503178797916032,
         "hovertemplate": "AJG: 0.41%<extra></extra>",
         "marker": {
          "color": "#EF553B"
         },
         "name": "AJG",
         "offsetgroup": "AJG",
         "type": "bar",
         "x": [
          2008
         ],
         "y": [
          0.00412161872825296
         ]
        },
        {
         "base": 0.004371936608044563,
         "hovertemplate": "VLY: 0.99%<extra></extra>",
         "marker": {
          "color": "rgb(77,175,74)"
         },
         "name": "VLY",
         "offsetgroup": "VLY",
         "type": "bar",
         "x": [
          2008
         ],
         "y": [
          0.009918366174835333
         ]
        },
        {
         "hovertemplate": "%{x}<br>%{y:.2%}<br>BMY<extra></extra>",
         "marker": {
          "color": "#FFA15A"
         },
         "name": "BMY",
         "offsetgroup": "BMY",
         "showlegend": false,
         "type": "bar",
         "x": [
          2009
         ],
         "y": [
          -0.001112724548956846
         ]
        },
        {
         "hovertemplate": "%{x}<br>%{y:.2%}<br>CMA<extra></extra>",
         "marker": {
          "color": "rgb(228,26,28)"
         },
         "name": "CMA",
         "offsetgroup": "CMA",
         "showlegend": false,
         "type": "bar",
         "x": [
          2009
         ],
         "y": [
          -0.0019028663827768098
         ]
        },
        {
         "hovertemplate": "%{x}<br>%{y:.2%}<br>SYY<extra></extra>",
         "marker": {
          "color": "#FF97FF"
         },
         "name": "SYY",
         "offsetgroup": "SYY",
         "showlegend": false,
         "type": "bar",
         "x": [
          2009
         ],
         "y": [
          -0.002175684008385014
         ]
        },
        {
         "hovertemplate": "%{x}<br>%{y:.2%}<br>MRK<extra></extra>",
         "marker": {
          "color": "rgb(230,171,2)"
         },
         "name": "MRK",
         "offsetgroup": "MRK",
         "showlegend": false,
         "type": "bar",
         "x": [
          2009
         ],
         "y": [
          -0.0023984943052932396
         ]
        },
        {
         "hovertemplate": "%{x}<br>%{y:.2%}<br>PPG<extra></extra>",
         "marker": {
          "color": "#AB63FA"
         },
         "name": "PPG",
         "offsetgroup": "PPG",
         "showlegend": false,
         "type": "bar",
         "x": [
          2009
         ],
         "y": [
          -0.0024342118092118385
         ]
        },
        {
         "hovertemplate": "%{x}<br>%{y:.2%}<br>MKC<extra></extra>",
         "marker": {
          "color": "rgb(217,95,2)"
         },
         "name": "MKC",
         "offsetgroup": "MKC",
         "showlegend": false,
         "type": "bar",
         "x": [
          2009
         ],
         "y": [
          -0.0027730627695752774
         ]
        },
        {
         "hovertemplate": "%{x}<br>%{y:.2%}<br>LLY<extra></extra>",
         "marker": {
          "color": "rgb(180, 151, 231)"
         },
         "name": "LLY",
         "offsetgroup": "LLY",
         "showlegend": false,
         "type": "bar",
         "x": [
          2009
         ],
         "y": [
          -0.0032155786707615897
         ]
        },
        {
         "hovertemplate": "%{x}<br>%{y:.2%}<br>ABT<extra></extra>",
         "marker": {
          "color": "#636EFA"
         },
         "name": "ABT",
         "offsetgroup": "ABT",
         "showlegend": false,
         "type": "bar",
         "x": [
          2009
         ],
         "y": [
          -0.003278412759638246
         ]
        },
        {
         "hovertemplate": "%{x}<br>%{y:.2%}<br>KMB<extra></extra>",
         "marker": {
          "color": "rgb(201, 219, 116)"
         },
         "name": "KMB",
         "offsetgroup": "KMB",
         "showlegend": false,
         "type": "bar",
         "x": [
          2009
         ],
         "y": [
          -0.003500456341190612
         ]
        },
        {
         "hovertemplate": "%{x}<br>%{y:.2%}<br>MAT<extra></extra>",
         "marker": {
          "color": "rgb(179, 179, 179)"
         },
         "name": "MAT",
         "offsetgroup": "MAT",
         "showlegend": false,
         "type": "bar",
         "x": [
          2009
         ],
         "y": [
          -0.004697569969626506
         ]
        },
        {
         "hovertemplate": "%{x}<br>%{y:.2%}<br>GIS<extra></extra>",
         "marker": {
          "color": "rgb(248, 156, 116)"
         },
         "name": "GIS",
         "offsetgroup": "GIS",
         "showlegend": false,
         "type": "bar",
         "x": [
          2009
         ],
         "y": [
          -0.006235718396462697
         ]
        },
        {
         "hovertemplate": "%{x}<br>%{y:.2%}<br>K<extra></extra>",
         "marker": {
          "color": "rgb(254, 136, 177)"
         },
         "name": "K",
         "offsetgroup": "K",
         "showlegend": false,
         "type": "bar",
         "x": [
          2009
         ],
         "y": [
          -0.006295624250371549
         ]
        },
        {
         "hovertemplate": "%{x}<br>%{y:.2%}<br>GPC<extra></extra>",
         "marker": {
          "color": "rgb(135, 197, 95)"
         },
         "name": "GPC",
         "offsetgroup": "GPC",
         "showlegend": false,
         "type": "bar",
         "x": [
          2009
         ],
         "y": [
          -0.006307534840723852
         ]
        },
        {
         "hovertemplate": "%{x}<br>%{y:.2%}<br>SFL<extra></extra>",
         "marker": {
          "color": "#FFA15A"
         },
         "name": "SFL",
         "offsetgroup": "SFL",
         "showlegend": false,
         "type": "bar",
         "x": [
          2009
         ],
         "y": [
          -0.006937057861198645
         ]
        },
        {
         "hovertemplate": "%{x}<br>%{y:.2%}<br>GE<extra></extra>",
         "marker": {
          "color": "rgb(246, 207, 113)"
         },
         "name": "GE",
         "offsetgroup": "GE",
         "showlegend": false,
         "type": "bar",
         "x": [
          2009
         ],
         "y": [
          -0.007342982675704749
         ]
        },
        {
         "hovertemplate": "%{x}<br>%{y:.2%}<br>EXC<extra></extra>",
         "marker": {
          "color": "rgb(166,86,40)"
         },
         "name": "EXC",
         "offsetgroup": "EXC",
         "showlegend": false,
         "type": "bar",
         "x": [
          2009
         ],
         "y": [
          -0.007611666474937649
         ]
        },
        {
         "hovertemplate": "%{x}<br>%{y:.2%}<br>AVY<extra></extra>",
         "marker": {
          "color": "#00CC96"
         },
         "name": "AVY",
         "offsetgroup": "AVY",
         "showlegend": false,
         "type": "bar",
         "x": [
          2009
         ],
         "y": [
          -0.008902600146577339
         ]
        },
        {
         "hovertemplate": "%{x}<br>%{y:.2%}<br>VLY<extra></extra>",
         "marker": {
          "color": "rgb(77,175,74)"
         },
         "name": "VLY",
         "offsetgroup": "VLY",
         "showlegend": false,
         "type": "bar",
         "x": [
          2009
         ],
         "y": [
          -0.010253759111451457
         ]
        },
        {
         "hovertemplate": "%{x}<br>%{y:.2%}<br>AJG<extra></extra>",
         "marker": {
          "color": "#EF553B"
         },
         "name": "AJG",
         "offsetgroup": "AJG",
         "showlegend": false,
         "type": "bar",
         "x": [
          2009
         ],
         "y": [
          -0.011193066860095096
         ]
        },
        {
         "hovertemplate": "%{x}<br>%{y:.2%}<br>BXP<extra></extra>",
         "marker": {
          "color": "#FF6692"
         },
         "name": "BXP",
         "offsetgroup": "BXP",
         "showlegend": false,
         "type": "bar",
         "x": [
          2009
         ],
         "y": [
          -0.011201836055408011
         ]
        },
        {
         "hovertemplate": "%{x}<br>%{y:.2%}<br>USB<extra></extra>",
         "marker": {
          "color": "rgb(228,26,28)"
         },
         "name": "USB",
         "offsetgroup": "USB",
         "showlegend": false,
         "type": "bar",
         "x": [
          2009
         ],
         "y": [
          -0.012741284219329154
         ]
        },
        {
         "base": 0,
         "hovertemplate": "%{x}<br>其他: %{y:.2%}<extra></extra>",
         "marker": {
          "color": "white",
          "pattern": {
           "shape": "/"
          }
         },
         "name": "其他 (2009)",
         "offsetgroup": "其他",
         "showlegend": false,
         "type": "bar",
         "x": [
          2009
         ],
         "y": [
          0.0025899881206414644
         ]
        },
        {
         "base": 0.0025899881206414644,
         "hovertemplate": "MO: 0.34%<extra></extra>",
         "marker": {
          "color": "rgb(102,166,30)"
         },
         "name": "MO",
         "offsetgroup": "MO",
         "type": "bar",
         "x": [
          2009
         ],
         "y": [
          0.0034498042728911427
         ]
        },
        {
         "base": 0.006039792393532607,
         "hovertemplate": "GOGL: 0.41%<extra></extra>",
         "marker": {
          "color": "rgb(220, 176, 242)"
         },
         "name": "GOGL",
         "offsetgroup": "GOGL",
         "type": "bar",
         "x": [
          2009
         ],
         "y": [
          0.004114202128629064
         ]
        },
        {
         "base": 0.010153994522161671,
         "hovertemplate": "CNS: 0.51%<extra></extra>",
         "marker": {
          "color": "rgb(55,126,184)"
         },
         "name": "CNS",
         "offsetgroup": "CNS",
         "type": "bar",
         "x": [
          2009
         ],
         "y": [
          0.005095749410875488
         ]
        },
        {
         "base": 0.01524974393303716,
         "hovertemplate": "MCHP: 0.55%<extra></extra>",
         "marker": {
          "color": "rgb(27,158,119)"
         },
         "name": "MCHP",
         "offsetgroup": "MCHP",
         "type": "bar",
         "x": [
          2009
         ],
         "y": [
          0.00552896936038482
         ]
        },
        {
         "base": 0.02077871329342198,
         "hovertemplate": "SIG: 2.12%<extra></extra>",
         "marker": {
          "color": "#19D3F3"
         },
         "name": "SIG",
         "offsetgroup": "SIG",
         "type": "bar",
         "x": [
          2009
         ],
         "y": [
          0.0211764198640172
         ]
        }
       ],
       "layout": {
        "barmode": "relative",
        "legend": {
         "title": {
          "text": "股票代號"
         }
        },
        "shapes": [
         {
          "line": {
           "color": "black",
           "width": 1.5
          },
          "type": "line",
          "x0": 0,
          "x1": 1,
          "xref": "paper",
          "y0": 0,
          "y1": 0,
          "yref": "y"
         }
        ],
        "template": {
         "data": {
          "bar": [
           {
            "error_x": {
             "color": "#2a3f5f"
            },
            "error_y": {
             "color": "#2a3f5f"
            },
            "marker": {
             "line": {
              "color": "#E5ECF6",
              "width": 0.5
             },
             "pattern": {
              "fillmode": "overlay",
              "size": 10,
              "solidity": 0.2
             }
            },
            "type": "bar"
           }
          ],
          "barpolar": [
           {
            "marker": {
             "line": {
              "color": "#E5ECF6",
              "width": 0.5
             },
             "pattern": {
              "fillmode": "overlay",
              "size": 10,
              "solidity": 0.2
             }
            },
            "type": "barpolar"
           }
          ],
          "carpet": [
           {
            "aaxis": {
             "endlinecolor": "#2a3f5f",
             "gridcolor": "white",
             "linecolor": "white",
             "minorgridcolor": "white",
             "startlinecolor": "#2a3f5f"
            },
            "baxis": {
             "endlinecolor": "#2a3f5f",
             "gridcolor": "white",
             "linecolor": "white",
             "minorgridcolor": "white",
             "startlinecolor": "#2a3f5f"
            },
            "type": "carpet"
           }
          ],
          "choropleth": [
           {
            "colorbar": {
             "outlinewidth": 0,
             "ticks": ""
            },
            "type": "choropleth"
           }
          ],
          "contour": [
           {
            "colorbar": {
             "outlinewidth": 0,
             "ticks": ""
            },
            "colorscale": [
             [
              0,
              "#0d0887"
             ],
             [
              0.1111111111111111,
              "#46039f"
             ],
             [
              0.2222222222222222,
              "#7201a8"
             ],
             [
              0.3333333333333333,
              "#9c179e"
             ],
             [
              0.4444444444444444,
              "#bd3786"
             ],
             [
              0.5555555555555556,
              "#d8576b"
             ],
             [
              0.6666666666666666,
              "#ed7953"
             ],
             [
              0.7777777777777778,
              "#fb9f3a"
             ],
             [
              0.8888888888888888,
              "#fdca26"
             ],
             [
              1,
              "#f0f921"
             ]
            ],
            "type": "contour"
           }
          ],
          "contourcarpet": [
           {
            "colorbar": {
             "outlinewidth": 0,
             "ticks": ""
            },
            "type": "contourcarpet"
           }
          ],
          "heatmap": [
           {
            "colorbar": {
             "outlinewidth": 0,
             "ticks": ""
            },
            "colorscale": [
             [
              0,
              "#0d0887"
             ],
             [
              0.1111111111111111,
              "#46039f"
             ],
             [
              0.2222222222222222,
              "#7201a8"
             ],
             [
              0.3333333333333333,
              "#9c179e"
             ],
             [
              0.4444444444444444,
              "#bd3786"
             ],
             [
              0.5555555555555556,
              "#d8576b"
             ],
             [
              0.6666666666666666,
              "#ed7953"
             ],
             [
              0.7777777777777778,
              "#fb9f3a"
             ],
             [
              0.8888888888888888,
              "#fdca26"
             ],
             [
              1,
              "#f0f921"
             ]
            ],
            "type": "heatmap"
           }
          ],
          "heatmapgl": [
           {
            "colorbar": {
             "outlinewidth": 0,
             "ticks": ""
            },
            "colorscale": [
             [
              0,
              "#0d0887"
             ],
             [
              0.1111111111111111,
              "#46039f"
             ],
             [
              0.2222222222222222,
              "#7201a8"
             ],
             [
              0.3333333333333333,
              "#9c179e"
             ],
             [
              0.4444444444444444,
              "#bd3786"
             ],
             [
              0.5555555555555556,
              "#d8576b"
             ],
             [
              0.6666666666666666,
              "#ed7953"
             ],
             [
              0.7777777777777778,
              "#fb9f3a"
             ],
             [
              0.8888888888888888,
              "#fdca26"
             ],
             [
              1,
              "#f0f921"
             ]
            ],
            "type": "heatmapgl"
           }
          ],
          "histogram": [
           {
            "marker": {
             "pattern": {
              "fillmode": "overlay",
              "size": 10,
              "solidity": 0.2
             }
            },
            "type": "histogram"
           }
          ],
          "histogram2d": [
           {
            "colorbar": {
             "outlinewidth": 0,
             "ticks": ""
            },
            "colorscale": [
             [
              0,
              "#0d0887"
             ],
             [
              0.1111111111111111,
              "#46039f"
             ],
             [
              0.2222222222222222,
              "#7201a8"
             ],
             [
              0.3333333333333333,
              "#9c179e"
             ],
             [
              0.4444444444444444,
              "#bd3786"
             ],
             [
              0.5555555555555556,
              "#d8576b"
             ],
             [
              0.6666666666666666,
              "#ed7953"
             ],
             [
              0.7777777777777778,
              "#fb9f3a"
             ],
             [
              0.8888888888888888,
              "#fdca26"
             ],
             [
              1,
              "#f0f921"
             ]
            ],
            "type": "histogram2d"
           }
          ],
          "histogram2dcontour": [
           {
            "colorbar": {
             "outlinewidth": 0,
             "ticks": ""
            },
            "colorscale": [
             [
              0,
              "#0d0887"
             ],
             [
              0.1111111111111111,
              "#46039f"
             ],
             [
              0.2222222222222222,
              "#7201a8"
             ],
             [
              0.3333333333333333,
              "#9c179e"
             ],
             [
              0.4444444444444444,
              "#bd3786"
             ],
             [
              0.5555555555555556,
              "#d8576b"
             ],
             [
              0.6666666666666666,
              "#ed7953"
             ],
             [
              0.7777777777777778,
              "#fb9f3a"
             ],
             [
              0.8888888888888888,
              "#fdca26"
             ],
             [
              1,
              "#f0f921"
             ]
            ],
            "type": "histogram2dcontour"
           }
          ],
          "mesh3d": [
           {
            "colorbar": {
             "outlinewidth": 0,
             "ticks": ""
            },
            "type": "mesh3d"
           }
          ],
          "parcoords": [
           {
            "line": {
             "colorbar": {
              "outlinewidth": 0,
              "ticks": ""
             }
            },
            "type": "parcoords"
           }
          ],
          "pie": [
           {
            "automargin": true,
            "type": "pie"
           }
          ],
          "scatter": [
           {
            "fillpattern": {
             "fillmode": "overlay",
             "size": 10,
             "solidity": 0.2
            },
            "type": "scatter"
           }
          ],
          "scatter3d": [
           {
            "line": {
             "colorbar": {
              "outlinewidth": 0,
              "ticks": ""
             }
            },
            "marker": {
             "colorbar": {
              "outlinewidth": 0,
              "ticks": ""
             }
            },
            "type": "scatter3d"
           }
          ],
          "scattercarpet": [
           {
            "marker": {
             "colorbar": {
              "outlinewidth": 0,
              "ticks": ""
             }
            },
            "type": "scattercarpet"
           }
          ],
          "scattergeo": [
           {
            "marker": {
             "colorbar": {
              "outlinewidth": 0,
              "ticks": ""
             }
            },
            "type": "scattergeo"
           }
          ],
          "scattergl": [
           {
            "marker": {
             "colorbar": {
              "outlinewidth": 0,
              "ticks": ""
             }
            },
            "type": "scattergl"
           }
          ],
          "scattermapbox": [
           {
            "marker": {
             "colorbar": {
              "outlinewidth": 0,
              "ticks": ""
             }
            },
            "type": "scattermapbox"
           }
          ],
          "scatterpolar": [
           {
            "marker": {
             "colorbar": {
              "outlinewidth": 0,
              "ticks": ""
             }
            },
            "type": "scatterpolar"
           }
          ],
          "scatterpolargl": [
           {
            "marker": {
             "colorbar": {
              "outlinewidth": 0,
              "ticks": ""
             }
            },
            "type": "scatterpolargl"
           }
          ],
          "scatterternary": [
           {
            "marker": {
             "colorbar": {
              "outlinewidth": 0,
              "ticks": ""
             }
            },
            "type": "scatterternary"
           }
          ],
          "surface": [
           {
            "colorbar": {
             "outlinewidth": 0,
             "ticks": ""
            },
            "colorscale": [
             [
              0,
              "#0d0887"
             ],
             [
              0.1111111111111111,
              "#46039f"
             ],
             [
              0.2222222222222222,
              "#7201a8"
             ],
             [
              0.3333333333333333,
              "#9c179e"
             ],
             [
              0.4444444444444444,
              "#bd3786"
             ],
             [
              0.5555555555555556,
              "#d8576b"
             ],
             [
              0.6666666666666666,
              "#ed7953"
             ],
             [
              0.7777777777777778,
              "#fb9f3a"
             ],
             [
              0.8888888888888888,
              "#fdca26"
             ],
             [
              1,
              "#f0f921"
             ]
            ],
            "type": "surface"
           }
          ],
          "table": [
           {
            "cells": {
             "fill": {
              "color": "#EBF0F8"
             },
             "line": {
              "color": "white"
             }
            },
            "header": {
             "fill": {
              "color": "#C8D4E3"
             },
             "line": {
              "color": "white"
             }
            },
            "type": "table"
           }
          ]
         },
         "layout": {
          "annotationdefaults": {
           "arrowcolor": "#2a3f5f",
           "arrowhead": 0,
           "arrowwidth": 1
          },
          "autotypenumbers": "strict",
          "coloraxis": {
           "colorbar": {
            "outlinewidth": 0,
            "ticks": ""
           }
          },
          "colorscale": {
           "diverging": [
            [
             0,
             "#8e0152"
            ],
            [
             0.1,
             "#c51b7d"
            ],
            [
             0.2,
             "#de77ae"
            ],
            [
             0.3,
             "#f1b6da"
            ],
            [
             0.4,
             "#fde0ef"
            ],
            [
             0.5,
             "#f7f7f7"
            ],
            [
             0.6,
             "#e6f5d0"
            ],
            [
             0.7,
             "#b8e186"
            ],
            [
             0.8,
             "#7fbc41"
            ],
            [
             0.9,
             "#4d9221"
            ],
            [
             1,
             "#276419"
            ]
           ],
           "sequential": [
            [
             0,
             "#0d0887"
            ],
            [
             0.1111111111111111,
             "#46039f"
            ],
            [
             0.2222222222222222,
             "#7201a8"
            ],
            [
             0.3333333333333333,
             "#9c179e"
            ],
            [
             0.4444444444444444,
             "#bd3786"
            ],
            [
             0.5555555555555556,
             "#d8576b"
            ],
            [
             0.6666666666666666,
             "#ed7953"
            ],
            [
             0.7777777777777778,
             "#fb9f3a"
            ],
            [
             0.8888888888888888,
             "#fdca26"
            ],
            [
             1,
             "#f0f921"
            ]
           ],
           "sequentialminus": [
            [
             0,
             "#0d0887"
            ],
            [
             0.1111111111111111,
             "#46039f"
            ],
            [
             0.2222222222222222,
             "#7201a8"
            ],
            [
             0.3333333333333333,
             "#9c179e"
            ],
            [
             0.4444444444444444,
             "#bd3786"
            ],
            [
             0.5555555555555556,
             "#d8576b"
            ],
            [
             0.6666666666666666,
             "#ed7953"
            ],
            [
             0.7777777777777778,
             "#fb9f3a"
            ],
            [
             0.8888888888888888,
             "#fdca26"
            ],
            [
             1,
             "#f0f921"
            ]
           ]
          },
          "colorway": [
           "#636efa",
           "#EF553B",
           "#00cc96",
           "#ab63fa",
           "#FFA15A",
           "#19d3f3",
           "#FF6692",
           "#B6E880",
           "#FF97FF",
           "#FECB52"
          ],
          "font": {
           "color": "#2a3f5f"
          },
          "geo": {
           "bgcolor": "white",
           "lakecolor": "white",
           "landcolor": "#E5ECF6",
           "showlakes": true,
           "showland": true,
           "subunitcolor": "white"
          },
          "hoverlabel": {
           "align": "left"
          },
          "hovermode": "closest",
          "mapbox": {
           "style": "light"
          },
          "paper_bgcolor": "white",
          "plot_bgcolor": "#E5ECF6",
          "polar": {
           "angularaxis": {
            "gridcolor": "white",
            "linecolor": "white",
            "ticks": ""
           },
           "bgcolor": "#E5ECF6",
           "radialaxis": {
            "gridcolor": "white",
            "linecolor": "white",
            "ticks": ""
           }
          },
          "scene": {
           "xaxis": {
            "backgroundcolor": "#E5ECF6",
            "gridcolor": "white",
            "gridwidth": 2,
            "linecolor": "white",
            "showbackground": true,
            "ticks": "",
            "zerolinecolor": "white"
           },
           "yaxis": {
            "backgroundcolor": "#E5ECF6",
            "gridcolor": "white",
            "gridwidth": 2,
            "linecolor": "white",
            "showbackground": true,
            "ticks": "",
            "zerolinecolor": "white"
           },
           "zaxis": {
            "backgroundcolor": "#E5ECF6",
            "gridcolor": "white",
            "gridwidth": 2,
            "linecolor": "white",
            "showbackground": true,
            "ticks": "",
            "zerolinecolor": "white"
           }
          },
          "shapedefaults": {
           "line": {
            "color": "#2a3f5f"
           }
          },
          "ternary": {
           "aaxis": {
            "gridcolor": "white",
            "linecolor": "white",
            "ticks": ""
           },
           "baxis": {
            "gridcolor": "white",
            "linecolor": "white",
            "ticks": ""
           },
           "bgcolor": "#E5ECF6",
           "caxis": {
            "gridcolor": "white",
            "linecolor": "white",
            "ticks": ""
           }
          },
          "title": {
           "x": 0.05
          },
          "xaxis": {
           "automargin": true,
           "gridcolor": "white",
           "linecolor": "white",
           "ticks": "",
           "title": {
            "standoff": 15
           },
           "zerolinecolor": "white",
           "zerolinewidth": 2
          },
          "yaxis": {
           "automargin": true,
           "gridcolor": "white",
           "linecolor": "white",
           "ticks": "",
           "title": {
            "standoff": 15
           },
           "zerolinecolor": "white",
           "zerolinewidth": 2
          }
         }
        },
        "title": {
         "text": "個別股票每年報酬率獲利貢獻度"
        },
        "xaxis": {
         "title": {
          "text": "年份"
         }
        },
        "yaxis": {
         "title": {
          "text": "每年報酬率加總"
         }
        }
       }
      }
     },
     "metadata": {},
     "output_type": "display_data"
    }
   ],
   "source": [
    "_, _ = opt_rep_pe.calc_returns_contrib(5)"
   ]
  },
  {
   "cell_type": "code",
   "execution_count": 53,
   "metadata": {},
   "outputs": [
    {
     "data": {
      "text/plain": [
       "{'CAGR': 0.15117486782120104,\n",
       " 'daily_sharpe': 130.43,\n",
       " 'max_drawdown': -0.06948614100169703,\n",
       " 'avg_drawdown': -0.019084514297109903,\n",
       " 'win_ratio': 0.7333333333333333,\n",
       " 'ytd': 0.02439485790689866}"
      ]
     },
     "execution_count": 53,
     "metadata": {},
     "output_type": "execute_result"
    }
   ],
   "source": [
    "annual_pe_entry = (pe_daily.resample('A-MAR').last() < 12)[START_DATE:'2007-3']\n",
    "annual_pe_exit = (pe_daily.resample('A-MAR').last() > 30)[START_DATE:'2007-3']\n",
    "\n",
    "opt_orig_pe_annual = (orig_cond_opt[START_DATE:'2007-3'] & annual_pe_entry[START_DATE:'2007-3']).hold_until((~orig_cond_opt[START_DATE:'2007-3']) | annual_pe_exit[START_DATE:'2007-3'])\n",
    "\n",
    "opt_rep_pe_annual = backtest.sim(opt_orig_pe_annual, resample='A-MAR', data=data)\n",
    "opt_rep_pe_annual.get_stats()"
   ]
  },
  {
   "cell_type": "code",
   "execution_count": 54,
   "metadata": {},
   "outputs": [
    {
     "data": {
      "application/vnd.plotly.v1+json": {
       "config": {
        "plotlyServerURL": "https://plot.ly"
       },
       "data": [
        {
         "hovertemplate": "%{x}<br>%{y:.2%}<br>DLX<extra></extra>",
         "marker": {
          "color": "#FF6692"
         },
         "name": "DLX",
         "offsetgroup": "DLX",
         "showlegend": false,
         "type": "bar",
         "x": [
          2003
         ],
         "y": [
          -0.0007021096715864154
         ]
        },
        {
         "hovertemplate": "%{x}<br>%{y:.2%}<br>MRK<extra></extra>",
         "marker": {
          "color": "rgb(153,153,153)"
         },
         "name": "MRK",
         "offsetgroup": "MRK",
         "showlegend": false,
         "type": "bar",
         "x": [
          2003
         ],
         "y": [
          -0.013569523023638333
         ]
        },
        {
         "base": 0,
         "hovertemplate": "%{x}<br>其他: %{y:.2%}<extra></extra>",
         "marker": {
          "color": "white",
          "pattern": {
           "shape": "/"
          }
         },
         "name": "其他 (2003)",
         "offsetgroup": "其他",
         "showlegend": false,
         "type": "bar",
         "x": [
          2003
         ],
         "y": [
          0.09759046762759412
         ]
        },
        {
         "base": 0.09759046762759412,
         "hovertemplate": "CAG: 1.84%<extra></extra>",
         "marker": {
          "color": "#AB63FA"
         },
         "name": "CAG",
         "offsetgroup": "CAG",
         "type": "bar",
         "x": [
          2003
         ],
         "y": [
          0.01835583409192604
         ]
        },
        {
         "base": 0.11594630171952015,
         "hovertemplate": "MMM: 1.85%<extra></extra>",
         "marker": {
          "color": "rgb(166,86,40)"
         },
         "name": "MMM",
         "offsetgroup": "MMM",
         "type": "bar",
         "x": [
          2003
         ],
         "y": [
          0.018495000384158737
         ]
        },
        {
         "base": 0.13444130210367888,
         "hovertemplate": "EMR: 2.18%<extra></extra>",
         "marker": {
          "color": "#B6E880"
         },
         "name": "EMR",
         "offsetgroup": "EMR",
         "type": "bar",
         "x": [
          2003
         ],
         "y": [
          0.021821106654691724
         ]
        },
        {
         "base": 0.1562624087583706,
         "hovertemplate": "SWK: 3.29%<extra></extra>",
         "marker": {
          "color": "rgb(220, 176, 242)"
         },
         "name": "SWK",
         "offsetgroup": "SWK",
         "type": "bar",
         "x": [
          2003
         ],
         "y": [
          0.03286627857810649
         ]
        },
        {
         "base": 0.18912868733647709,
         "hovertemplate": "MO: 4.81%<extra></extra>",
         "marker": {
          "color": "rgb(247,129,191)"
         },
         "name": "MO",
         "offsetgroup": "MO",
         "type": "bar",
         "x": [
          2003
         ],
         "y": [
          0.04811440224646734
         ]
        },
        {
         "hovertemplate": "%{x}<br>%{y:.2%}<br>ABT<extra></extra>",
         "marker": {
          "color": "#636EFA"
         },
         "name": "ABT",
         "offsetgroup": "ABT",
         "showlegend": false,
         "type": "bar",
         "x": [
          2004
         ],
         "y": [
          -0.0014477017342610097
         ]
        },
        {
         "hovertemplate": "%{x}<br>%{y:.2%}<br>VTR<extra></extra>",
         "marker": {
          "color": "rgb(158, 185, 243)"
         },
         "name": "VTR",
         "offsetgroup": "VTR",
         "showlegend": false,
         "type": "bar",
         "x": [
          2004
         ],
         "y": [
          -0.0019653216601558327
         ]
        },
        {
         "hovertemplate": "%{x}<br>%{y:.2%}<br>DLX<extra></extra>",
         "marker": {
          "color": "#FF6692"
         },
         "name": "DLX",
         "offsetgroup": "DLX",
         "showlegend": false,
         "type": "bar",
         "x": [
          2004
         ],
         "y": [
          -0.004016164142962223
         ]
        },
        {
         "hovertemplate": "%{x}<br>%{y:.2%}<br>BMY<extra></extra>",
         "marker": {
          "color": "#00CC96"
         },
         "name": "BMY",
         "offsetgroup": "BMY",
         "showlegend": false,
         "type": "bar",
         "x": [
          2004
         ],
         "y": [
          -0.011495200802290013
         ]
        },
        {
         "hovertemplate": "%{x}<br>%{y:.2%}<br>MRK<extra></extra>",
         "marker": {
          "color": "rgb(153,153,153)"
         },
         "name": "MRK",
         "offsetgroup": "MRK",
         "showlegend": false,
         "type": "bar",
         "x": [
          2004
         ],
         "y": [
          -0.014910015345520035
         ]
        },
        {
         "hovertemplate": "%{x}<br>%{y:.2%}<br>MMC<extra></extra>",
         "marker": {
          "color": "rgb(255,255,51)"
         },
         "name": "MMC",
         "offsetgroup": "MMC",
         "showlegend": false,
         "type": "bar",
         "x": [
          2004
         ],
         "y": [
          -0.015104271355863971
         ]
        },
        {
         "base": 0,
         "hovertemplate": "%{x}<br>其他: %{y:.2%}<extra></extra>",
         "marker": {
          "color": "white",
          "pattern": {
           "shape": "/"
          }
         },
         "name": "其他 (2004)",
         "offsetgroup": "其他",
         "showlegend": false,
         "type": "bar",
         "x": [
          2004
         ],
         "y": [
          0.03414098258103541
         ]
        },
        {
         "base": 0.03414098258103541,
         "hovertemplate": "UBSI: 1.13%<extra></extra>",
         "marker": {
          "color": "rgb(135, 197, 95)"
         },
         "name": "UBSI",
         "offsetgroup": "UBSI",
         "type": "bar",
         "x": [
          2004
         ],
         "y": [
          0.011269332481177539
         ]
        },
        {
         "base": 0.04541031506221295,
         "hovertemplate": "K: 1.19%<extra></extra>",
         "marker": {
          "color": "rgb(152,78,163)"
         },
         "name": "K",
         "offsetgroup": "K",
         "type": "bar",
         "x": [
          2004
         ],
         "y": [
          0.01191430472252248
         ]
        },
        {
         "base": 0.05732461978473543,
         "hovertemplate": "SWK: 1.84%<extra></extra>",
         "marker": {
          "color": "rgb(220, 176, 242)"
         },
         "name": "SWK",
         "offsetgroup": "SWK",
         "type": "bar",
         "x": [
          2004
         ],
         "y": [
          0.018427111294320342
         ]
        },
        {
         "base": 0.07575173107905578,
         "hovertemplate": "HSY: 1.89%<extra></extra>",
         "marker": {
          "color": "rgb(77,175,74)"
         },
         "name": "HSY",
         "offsetgroup": "HSY",
         "type": "bar",
         "x": [
          2004
         ],
         "y": [
          0.018943663243719752
         ]
        },
        {
         "base": 0.09469539432277553,
         "hovertemplate": "ROK: 2.03%<extra></extra>",
         "marker": {
          "color": "rgb(246, 207, 113)"
         },
         "name": "ROK",
         "offsetgroup": "ROK",
         "type": "bar",
         "x": [
          2004
         ],
         "y": [
          0.02033903491317503
         ]
        },
        {
         "hovertemplate": "%{x}<br>%{y:.2%}<br>K<extra></extra>",
         "marker": {
          "color": "rgb(152,78,163)"
         },
         "name": "K",
         "offsetgroup": "K",
         "showlegend": false,
         "type": "bar",
         "x": [
          2005
         ],
         "y": [
          -0.0012001352554771218
         ]
        },
        {
         "hovertemplate": "%{x}<br>%{y:.2%}<br>KO<extra></extra>",
         "marker": {
          "color": "rgb(255,127,0)"
         },
         "name": "KO",
         "offsetgroup": "KO",
         "showlegend": false,
         "type": "bar",
         "x": [
          2005
         ],
         "y": [
          -0.001298517283527774
         ]
        },
        {
         "hovertemplate": "%{x}<br>%{y:.2%}<br>SON<extra></extra>",
         "marker": {
          "color": "rgb(248, 156, 116)"
         },
         "name": "SON",
         "offsetgroup": "SON",
         "showlegend": false,
         "type": "bar",
         "x": [
          2005
         ],
         "y": [
          -0.0018910056620435071
         ]
        },
        {
         "hovertemplate": "%{x}<br>%{y:.2%}<br>FUN<extra></extra>",
         "marker": {
          "color": "#FECB52"
         },
         "name": "FUN",
         "offsetgroup": "FUN",
         "showlegend": false,
         "type": "bar",
         "x": [
          2005
         ],
         "y": [
          -0.002095040097139733
         ]
        },
        {
         "hovertemplate": "%{x}<br>%{y:.2%}<br>CPB<extra></extra>",
         "marker": {
          "color": "#FFA15A"
         },
         "name": "CPB",
         "offsetgroup": "CPB",
         "showlegend": false,
         "type": "bar",
         "x": [
          2005
         ],
         "y": [
          -0.00222850410251448
         ]
        },
        {
         "hovertemplate": "%{x}<br>%{y:.2%}<br>BMY<extra></extra>",
         "marker": {
          "color": "#00CC96"
         },
         "name": "BMY",
         "offsetgroup": "BMY",
         "showlegend": false,
         "type": "bar",
         "x": [
          2005
         ],
         "y": [
          -0.004243266611169983
         ]
        },
        {
         "hovertemplate": "%{x}<br>%{y:.2%}<br>MMC<extra></extra>",
         "marker": {
          "color": "rgb(255,255,51)"
         },
         "name": "MMC",
         "offsetgroup": "MMC",
         "showlegend": false,
         "type": "bar",
         "x": [
          2005
         ],
         "y": [
          -0.005364613660968588
         ]
        },
        {
         "hovertemplate": "%{x}<br>%{y:.2%}<br>VTR<extra></extra>",
         "marker": {
          "color": "rgb(158, 185, 243)"
         },
         "name": "VTR",
         "offsetgroup": "VTR",
         "showlegend": false,
         "type": "bar",
         "x": [
          2005
         ],
         "y": [
          -0.006241250967654358
         ]
        },
        {
         "hovertemplate": "%{x}<br>%{y:.2%}<br>UBSI<extra></extra>",
         "marker": {
          "color": "rgb(135, 197, 95)"
         },
         "name": "UBSI",
         "offsetgroup": "UBSI",
         "showlegend": false,
         "type": "bar",
         "x": [
          2005
         ],
         "y": [
          -0.008501441891997875
         ]
        },
        {
         "hovertemplate": "%{x}<br>%{y:.2%}<br>ABT<extra></extra>",
         "marker": {
          "color": "#636EFA"
         },
         "name": "ABT",
         "offsetgroup": "ABT",
         "showlegend": false,
         "type": "bar",
         "x": [
          2005
         ],
         "y": [
          -0.011496097043138077
         ]
        },
        {
         "hovertemplate": "%{x}<br>%{y:.2%}<br>CAG<extra></extra>",
         "marker": {
          "color": "#AB63FA"
         },
         "name": "CAG",
         "offsetgroup": "CAG",
         "showlegend": false,
         "type": "bar",
         "x": [
          2005
         ],
         "y": [
          -0.024016356454133966
         ]
        },
        {
         "hovertemplate": "%{x}<br>%{y:.2%}<br>GOGL<extra></extra>",
         "marker": {
          "color": "rgb(55,126,184)"
         },
         "name": "GOGL",
         "offsetgroup": "GOGL",
         "showlegend": false,
         "type": "bar",
         "x": [
          2005
         ],
         "y": [
          -0.027303392834910956
         ]
        },
        {
         "base": 0,
         "hovertemplate": "%{x}<br>其他: %{y:.2%}<extra></extra>",
         "marker": {
          "color": "white",
          "pattern": {
           "shape": "/"
          }
         },
         "name": "其他 (2005)",
         "offsetgroup": "其他",
         "showlegend": false,
         "type": "bar",
         "x": [
          2005
         ],
         "y": [
          0.013830895194555472
         ]
        },
        {
         "base": 0.013830895194555472,
         "hovertemplate": "HSY: 0.50%<extra></extra>",
         "marker": {
          "color": "rgb(77,175,74)"
         },
         "name": "HSY",
         "offsetgroup": "HSY",
         "type": "bar",
         "x": [
          2005
         ],
         "y": [
          0.005032875136383027
         ]
        },
        {
         "base": 0.0188637703309385,
         "hovertemplate": "EMR: 0.67%<extra></extra>",
         "marker": {
          "color": "#B6E880"
         },
         "name": "EMR",
         "offsetgroup": "EMR",
         "type": "bar",
         "x": [
          2005
         ],
         "y": [
          0.006656445989528631
         ]
        },
        {
         "base": 0.02552021632046713,
         "hovertemplate": "ROK: 0.97%<extra></extra>",
         "marker": {
          "color": "rgb(246, 207, 113)"
         },
         "name": "ROK",
         "offsetgroup": "ROK",
         "type": "bar",
         "x": [
          2005
         ],
         "y": [
          0.009724650451134496
         ]
        },
        {
         "base": 0.03524486677160163,
         "hovertemplate": "CUZ: 1.30%<extra></extra>",
         "marker": {
          "color": "#19D3F3"
         },
         "name": "CUZ",
         "offsetgroup": "CUZ",
         "type": "bar",
         "x": [
          2005
         ],
         "y": [
          0.01295870317854761
         ]
        },
        {
         "base": 0.04820356995014924,
         "hovertemplate": "MO: 1.98%<extra></extra>",
         "marker": {
          "color": "rgb(247,129,191)"
         },
         "name": "MO",
         "offsetgroup": "MO",
         "type": "bar",
         "x": [
          2005
         ],
         "y": [
          0.019778085020633933
         ]
        },
        {
         "hovertemplate": "%{x}<br>%{y:.2%}<br>FCX<extra></extra>",
         "marker": {
          "color": "#FF97FF"
         },
         "name": "FCX",
         "offsetgroup": "FCX",
         "showlegend": false,
         "type": "bar",
         "x": [
          2006
         ],
         "y": [
          -0.004854575683360531
         ]
        },
        {
         "base": 0,
         "hovertemplate": "%{x}<br>其他: %{y:.2%}<extra></extra>",
         "marker": {
          "color": "white",
          "pattern": {
           "shape": "/"
          }
         },
         "name": "其他 (2006)",
         "offsetgroup": "其他",
         "showlegend": false,
         "type": "bar",
         "x": [
          2006
         ],
         "y": [
          0.07242000287849376
         ]
        },
        {
         "base": 0.07242000287849376,
         "hovertemplate": "MO: 1.54%<extra></extra>",
         "marker": {
          "color": "rgb(247,129,191)"
         },
         "name": "MO",
         "offsetgroup": "MO",
         "type": "bar",
         "x": [
          2006
         ],
         "y": [
          0.015386720313034199
         ]
        },
        {
         "base": 0.08780672319152796,
         "hovertemplate": "KO: 1.72%<extra></extra>",
         "marker": {
          "color": "rgb(255,127,0)"
         },
         "name": "KO",
         "offsetgroup": "KO",
         "type": "bar",
         "x": [
          2006
         ],
         "y": [
          0.01718517150057825
         ]
        },
        {
         "base": 0.10499189469210621,
         "hovertemplate": "ABT: 2.33%<extra></extra>",
         "marker": {
          "color": "#636EFA"
         },
         "name": "ABT",
         "offsetgroup": "ABT",
         "type": "bar",
         "x": [
          2006
         ],
         "y": [
          0.023254501256969713
         ]
        },
        {
         "base": 0.12824639594907591,
         "hovertemplate": "MRK: 2.47%<extra></extra>",
         "marker": {
          "color": "rgb(153,153,153)"
         },
         "name": "MRK",
         "offsetgroup": "MRK",
         "type": "bar",
         "x": [
          2006
         ],
         "y": [
          0.02468333928419604
         ]
        },
        {
         "base": 0.15292973523327197,
         "hovertemplate": "CAG: 2.53%<extra></extra>",
         "marker": {
          "color": "#AB63FA"
         },
         "name": "CAG",
         "offsetgroup": "CAG",
         "type": "bar",
         "x": [
          2006
         ],
         "y": [
          0.025327999096900658
         ]
        },
        {
         "hovertemplate": "%{x}<br>%{y:.2%}<br>KO<extra></extra>",
         "marker": {
          "color": "rgb(255,127,0)"
         },
         "name": "KO",
         "offsetgroup": "KO",
         "showlegend": false,
         "type": "bar",
         "x": [
          2007
         ],
         "y": [
          -0.00045623827966996674
         ]
        },
        {
         "hovertemplate": "%{x}<br>%{y:.2%}<br>PFE<extra></extra>",
         "marker": {
          "color": "rgb(102, 197, 204)"
         },
         "name": "PFE",
         "offsetgroup": "PFE",
         "showlegend": false,
         "type": "bar",
         "x": [
          2007
         ],
         "y": [
          -0.004142917072759732
         ]
        },
        {
         "hovertemplate": "%{x}<br>%{y:.2%}<br>GE<extra></extra>",
         "marker": {
          "color": "rgb(228,26,28)"
         },
         "name": "GE",
         "offsetgroup": "GE",
         "showlegend": false,
         "type": "bar",
         "x": [
          2007
         ],
         "y": [
          -0.006285972095869986
         ]
        },
        {
         "hovertemplate": "%{x}<br>%{y:.2%}<br>CAG<extra></extra>",
         "marker": {
          "color": "#AB63FA"
         },
         "name": "CAG",
         "offsetgroup": "CAG",
         "showlegend": false,
         "type": "bar",
         "x": [
          2007
         ],
         "y": [
          -0.0068668699041141545
         ]
        },
        {
         "hovertemplate": "%{x}<br>%{y:.2%}<br>UBSI<extra></extra>",
         "marker": {
          "color": "rgb(135, 197, 95)"
         },
         "name": "UBSI",
         "offsetgroup": "UBSI",
         "showlegend": false,
         "type": "bar",
         "x": [
          2007
         ],
         "y": [
          -0.010465619678564984
         ]
        },
        {
         "base": 0,
         "hovertemplate": "%{x}<br>其他: %{y:.2%}<extra></extra>",
         "marker": {
          "color": "white",
          "pattern": {
           "shape": "/"
          }
         },
         "name": "其他 (2007)",
         "offsetgroup": "其他",
         "showlegend": false,
         "type": "bar",
         "x": [
          2007
         ],
         "y": [
          0.0006945682072953894
         ]
        },
        {
         "base": 0.0006945682072953894,
         "hovertemplate": "MO: 0.23%<extra></extra>",
         "marker": {
          "color": "rgb(247,129,191)"
         },
         "name": "MO",
         "offsetgroup": "MO",
         "type": "bar",
         "x": [
          2007
         ],
         "y": [
          0.002293470859930086
         ]
        },
        {
         "base": 0.0029880390672254757,
         "hovertemplate": "K: 0.24%<extra></extra>",
         "marker": {
          "color": "rgb(152,78,163)"
         },
         "name": "K",
         "offsetgroup": "K",
         "type": "bar",
         "x": [
          2007
         ],
         "y": [
          0.002422563861772823
         ]
        },
        {
         "base": 0.005410602928998299,
         "hovertemplate": "BMY: 0.45%<extra></extra>",
         "marker": {
          "color": "#00CC96"
         },
         "name": "BMY",
         "offsetgroup": "BMY",
         "type": "bar",
         "x": [
          2007
         ],
         "y": [
          0.004497937000817314
         ]
        },
        {
         "base": 0.009908539929815613,
         "hovertemplate": "ABT: 1.45%<extra></extra>",
         "marker": {
          "color": "#636EFA"
         },
         "name": "ABT",
         "offsetgroup": "ABT",
         "type": "bar",
         "x": [
          2007
         ],
         "y": [
          0.014512520225610852
         ]
        },
        {
         "base": 0.024421060155426465,
         "hovertemplate": "FCX: 3.04%<extra></extra>",
         "marker": {
          "color": "#FF97FF"
         },
         "name": "FCX",
         "offsetgroup": "FCX",
         "type": "bar",
         "x": [
          2007
         ],
         "y": [
          0.030410938714369354
         ]
        }
       ],
       "layout": {
        "barmode": "relative",
        "legend": {
         "title": {
          "text": "股票代號"
         }
        },
        "shapes": [
         {
          "line": {
           "color": "black",
           "width": 1.5
          },
          "type": "line",
          "x0": 0,
          "x1": 1,
          "xref": "paper",
          "y0": 0,
          "y1": 0,
          "yref": "y"
         }
        ],
        "template": {
         "data": {
          "bar": [
           {
            "error_x": {
             "color": "#2a3f5f"
            },
            "error_y": {
             "color": "#2a3f5f"
            },
            "marker": {
             "line": {
              "color": "#E5ECF6",
              "width": 0.5
             },
             "pattern": {
              "fillmode": "overlay",
              "size": 10,
              "solidity": 0.2
             }
            },
            "type": "bar"
           }
          ],
          "barpolar": [
           {
            "marker": {
             "line": {
              "color": "#E5ECF6",
              "width": 0.5
             },
             "pattern": {
              "fillmode": "overlay",
              "size": 10,
              "solidity": 0.2
             }
            },
            "type": "barpolar"
           }
          ],
          "carpet": [
           {
            "aaxis": {
             "endlinecolor": "#2a3f5f",
             "gridcolor": "white",
             "linecolor": "white",
             "minorgridcolor": "white",
             "startlinecolor": "#2a3f5f"
            },
            "baxis": {
             "endlinecolor": "#2a3f5f",
             "gridcolor": "white",
             "linecolor": "white",
             "minorgridcolor": "white",
             "startlinecolor": "#2a3f5f"
            },
            "type": "carpet"
           }
          ],
          "choropleth": [
           {
            "colorbar": {
             "outlinewidth": 0,
             "ticks": ""
            },
            "type": "choropleth"
           }
          ],
          "contour": [
           {
            "colorbar": {
             "outlinewidth": 0,
             "ticks": ""
            },
            "colorscale": [
             [
              0,
              "#0d0887"
             ],
             [
              0.1111111111111111,
              "#46039f"
             ],
             [
              0.2222222222222222,
              "#7201a8"
             ],
             [
              0.3333333333333333,
              "#9c179e"
             ],
             [
              0.4444444444444444,
              "#bd3786"
             ],
             [
              0.5555555555555556,
              "#d8576b"
             ],
             [
              0.6666666666666666,
              "#ed7953"
             ],
             [
              0.7777777777777778,
              "#fb9f3a"
             ],
             [
              0.8888888888888888,
              "#fdca26"
             ],
             [
              1,
              "#f0f921"
             ]
            ],
            "type": "contour"
           }
          ],
          "contourcarpet": [
           {
            "colorbar": {
             "outlinewidth": 0,
             "ticks": ""
            },
            "type": "contourcarpet"
           }
          ],
          "heatmap": [
           {
            "colorbar": {
             "outlinewidth": 0,
             "ticks": ""
            },
            "colorscale": [
             [
              0,
              "#0d0887"
             ],
             [
              0.1111111111111111,
              "#46039f"
             ],
             [
              0.2222222222222222,
              "#7201a8"
             ],
             [
              0.3333333333333333,
              "#9c179e"
             ],
             [
              0.4444444444444444,
              "#bd3786"
             ],
             [
              0.5555555555555556,
              "#d8576b"
             ],
             [
              0.6666666666666666,
              "#ed7953"
             ],
             [
              0.7777777777777778,
              "#fb9f3a"
             ],
             [
              0.8888888888888888,
              "#fdca26"
             ],
             [
              1,
              "#f0f921"
             ]
            ],
            "type": "heatmap"
           }
          ],
          "heatmapgl": [
           {
            "colorbar": {
             "outlinewidth": 0,
             "ticks": ""
            },
            "colorscale": [
             [
              0,
              "#0d0887"
             ],
             [
              0.1111111111111111,
              "#46039f"
             ],
             [
              0.2222222222222222,
              "#7201a8"
             ],
             [
              0.3333333333333333,
              "#9c179e"
             ],
             [
              0.4444444444444444,
              "#bd3786"
             ],
             [
              0.5555555555555556,
              "#d8576b"
             ],
             [
              0.6666666666666666,
              "#ed7953"
             ],
             [
              0.7777777777777778,
              "#fb9f3a"
             ],
             [
              0.8888888888888888,
              "#fdca26"
             ],
             [
              1,
              "#f0f921"
             ]
            ],
            "type": "heatmapgl"
           }
          ],
          "histogram": [
           {
            "marker": {
             "pattern": {
              "fillmode": "overlay",
              "size": 10,
              "solidity": 0.2
             }
            },
            "type": "histogram"
           }
          ],
          "histogram2d": [
           {
            "colorbar": {
             "outlinewidth": 0,
             "ticks": ""
            },
            "colorscale": [
             [
              0,
              "#0d0887"
             ],
             [
              0.1111111111111111,
              "#46039f"
             ],
             [
              0.2222222222222222,
              "#7201a8"
             ],
             [
              0.3333333333333333,
              "#9c179e"
             ],
             [
              0.4444444444444444,
              "#bd3786"
             ],
             [
              0.5555555555555556,
              "#d8576b"
             ],
             [
              0.6666666666666666,
              "#ed7953"
             ],
             [
              0.7777777777777778,
              "#fb9f3a"
             ],
             [
              0.8888888888888888,
              "#fdca26"
             ],
             [
              1,
              "#f0f921"
             ]
            ],
            "type": "histogram2d"
           }
          ],
          "histogram2dcontour": [
           {
            "colorbar": {
             "outlinewidth": 0,
             "ticks": ""
            },
            "colorscale": [
             [
              0,
              "#0d0887"
             ],
             [
              0.1111111111111111,
              "#46039f"
             ],
             [
              0.2222222222222222,
              "#7201a8"
             ],
             [
              0.3333333333333333,
              "#9c179e"
             ],
             [
              0.4444444444444444,
              "#bd3786"
             ],
             [
              0.5555555555555556,
              "#d8576b"
             ],
             [
              0.6666666666666666,
              "#ed7953"
             ],
             [
              0.7777777777777778,
              "#fb9f3a"
             ],
             [
              0.8888888888888888,
              "#fdca26"
             ],
             [
              1,
              "#f0f921"
             ]
            ],
            "type": "histogram2dcontour"
           }
          ],
          "mesh3d": [
           {
            "colorbar": {
             "outlinewidth": 0,
             "ticks": ""
            },
            "type": "mesh3d"
           }
          ],
          "parcoords": [
           {
            "line": {
             "colorbar": {
              "outlinewidth": 0,
              "ticks": ""
             }
            },
            "type": "parcoords"
           }
          ],
          "pie": [
           {
            "automargin": true,
            "type": "pie"
           }
          ],
          "scatter": [
           {
            "fillpattern": {
             "fillmode": "overlay",
             "size": 10,
             "solidity": 0.2
            },
            "type": "scatter"
           }
          ],
          "scatter3d": [
           {
            "line": {
             "colorbar": {
              "outlinewidth": 0,
              "ticks": ""
             }
            },
            "marker": {
             "colorbar": {
              "outlinewidth": 0,
              "ticks": ""
             }
            },
            "type": "scatter3d"
           }
          ],
          "scattercarpet": [
           {
            "marker": {
             "colorbar": {
              "outlinewidth": 0,
              "ticks": ""
             }
            },
            "type": "scattercarpet"
           }
          ],
          "scattergeo": [
           {
            "marker": {
             "colorbar": {
              "outlinewidth": 0,
              "ticks": ""
             }
            },
            "type": "scattergeo"
           }
          ],
          "scattergl": [
           {
            "marker": {
             "colorbar": {
              "outlinewidth": 0,
              "ticks": ""
             }
            },
            "type": "scattergl"
           }
          ],
          "scattermapbox": [
           {
            "marker": {
             "colorbar": {
              "outlinewidth": 0,
              "ticks": ""
             }
            },
            "type": "scattermapbox"
           }
          ],
          "scatterpolar": [
           {
            "marker": {
             "colorbar": {
              "outlinewidth": 0,
              "ticks": ""
             }
            },
            "type": "scatterpolar"
           }
          ],
          "scatterpolargl": [
           {
            "marker": {
             "colorbar": {
              "outlinewidth": 0,
              "ticks": ""
             }
            },
            "type": "scatterpolargl"
           }
          ],
          "scatterternary": [
           {
            "marker": {
             "colorbar": {
              "outlinewidth": 0,
              "ticks": ""
             }
            },
            "type": "scatterternary"
           }
          ],
          "surface": [
           {
            "colorbar": {
             "outlinewidth": 0,
             "ticks": ""
            },
            "colorscale": [
             [
              0,
              "#0d0887"
             ],
             [
              0.1111111111111111,
              "#46039f"
             ],
             [
              0.2222222222222222,
              "#7201a8"
             ],
             [
              0.3333333333333333,
              "#9c179e"
             ],
             [
              0.4444444444444444,
              "#bd3786"
             ],
             [
              0.5555555555555556,
              "#d8576b"
             ],
             [
              0.6666666666666666,
              "#ed7953"
             ],
             [
              0.7777777777777778,
              "#fb9f3a"
             ],
             [
              0.8888888888888888,
              "#fdca26"
             ],
             [
              1,
              "#f0f921"
             ]
            ],
            "type": "surface"
           }
          ],
          "table": [
           {
            "cells": {
             "fill": {
              "color": "#EBF0F8"
             },
             "line": {
              "color": "white"
             }
            },
            "header": {
             "fill": {
              "color": "#C8D4E3"
             },
             "line": {
              "color": "white"
             }
            },
            "type": "table"
           }
          ]
         },
         "layout": {
          "annotationdefaults": {
           "arrowcolor": "#2a3f5f",
           "arrowhead": 0,
           "arrowwidth": 1
          },
          "autotypenumbers": "strict",
          "coloraxis": {
           "colorbar": {
            "outlinewidth": 0,
            "ticks": ""
           }
          },
          "colorscale": {
           "diverging": [
            [
             0,
             "#8e0152"
            ],
            [
             0.1,
             "#c51b7d"
            ],
            [
             0.2,
             "#de77ae"
            ],
            [
             0.3,
             "#f1b6da"
            ],
            [
             0.4,
             "#fde0ef"
            ],
            [
             0.5,
             "#f7f7f7"
            ],
            [
             0.6,
             "#e6f5d0"
            ],
            [
             0.7,
             "#b8e186"
            ],
            [
             0.8,
             "#7fbc41"
            ],
            [
             0.9,
             "#4d9221"
            ],
            [
             1,
             "#276419"
            ]
           ],
           "sequential": [
            [
             0,
             "#0d0887"
            ],
            [
             0.1111111111111111,
             "#46039f"
            ],
            [
             0.2222222222222222,
             "#7201a8"
            ],
            [
             0.3333333333333333,
             "#9c179e"
            ],
            [
             0.4444444444444444,
             "#bd3786"
            ],
            [
             0.5555555555555556,
             "#d8576b"
            ],
            [
             0.6666666666666666,
             "#ed7953"
            ],
            [
             0.7777777777777778,
             "#fb9f3a"
            ],
            [
             0.8888888888888888,
             "#fdca26"
            ],
            [
             1,
             "#f0f921"
            ]
           ],
           "sequentialminus": [
            [
             0,
             "#0d0887"
            ],
            [
             0.1111111111111111,
             "#46039f"
            ],
            [
             0.2222222222222222,
             "#7201a8"
            ],
            [
             0.3333333333333333,
             "#9c179e"
            ],
            [
             0.4444444444444444,
             "#bd3786"
            ],
            [
             0.5555555555555556,
             "#d8576b"
            ],
            [
             0.6666666666666666,
             "#ed7953"
            ],
            [
             0.7777777777777778,
             "#fb9f3a"
            ],
            [
             0.8888888888888888,
             "#fdca26"
            ],
            [
             1,
             "#f0f921"
            ]
           ]
          },
          "colorway": [
           "#636efa",
           "#EF553B",
           "#00cc96",
           "#ab63fa",
           "#FFA15A",
           "#19d3f3",
           "#FF6692",
           "#B6E880",
           "#FF97FF",
           "#FECB52"
          ],
          "font": {
           "color": "#2a3f5f"
          },
          "geo": {
           "bgcolor": "white",
           "lakecolor": "white",
           "landcolor": "#E5ECF6",
           "showlakes": true,
           "showland": true,
           "subunitcolor": "white"
          },
          "hoverlabel": {
           "align": "left"
          },
          "hovermode": "closest",
          "mapbox": {
           "style": "light"
          },
          "paper_bgcolor": "white",
          "plot_bgcolor": "#E5ECF6",
          "polar": {
           "angularaxis": {
            "gridcolor": "white",
            "linecolor": "white",
            "ticks": ""
           },
           "bgcolor": "#E5ECF6",
           "radialaxis": {
            "gridcolor": "white",
            "linecolor": "white",
            "ticks": ""
           }
          },
          "scene": {
           "xaxis": {
            "backgroundcolor": "#E5ECF6",
            "gridcolor": "white",
            "gridwidth": 2,
            "linecolor": "white",
            "showbackground": true,
            "ticks": "",
            "zerolinecolor": "white"
           },
           "yaxis": {
            "backgroundcolor": "#E5ECF6",
            "gridcolor": "white",
            "gridwidth": 2,
            "linecolor": "white",
            "showbackground": true,
            "ticks": "",
            "zerolinecolor": "white"
           },
           "zaxis": {
            "backgroundcolor": "#E5ECF6",
            "gridcolor": "white",
            "gridwidth": 2,
            "linecolor": "white",
            "showbackground": true,
            "ticks": "",
            "zerolinecolor": "white"
           }
          },
          "shapedefaults": {
           "line": {
            "color": "#2a3f5f"
           }
          },
          "ternary": {
           "aaxis": {
            "gridcolor": "white",
            "linecolor": "white",
            "ticks": ""
           },
           "baxis": {
            "gridcolor": "white",
            "linecolor": "white",
            "ticks": ""
           },
           "bgcolor": "#E5ECF6",
           "caxis": {
            "gridcolor": "white",
            "linecolor": "white",
            "ticks": ""
           }
          },
          "title": {
           "x": 0.05
          },
          "xaxis": {
           "automargin": true,
           "gridcolor": "white",
           "linecolor": "white",
           "ticks": "",
           "title": {
            "standoff": 15
           },
           "zerolinecolor": "white",
           "zerolinewidth": 2
          },
          "yaxis": {
           "automargin": true,
           "gridcolor": "white",
           "linecolor": "white",
           "ticks": "",
           "title": {
            "standoff": 15
           },
           "zerolinecolor": "white",
           "zerolinewidth": 2
          }
         }
        },
        "title": {
         "text": "個別股票每年報酬率獲利貢獻度"
        },
        "xaxis": {
         "title": {
          "text": "年份"
         }
        },
        "yaxis": {
         "title": {
          "text": "每年報酬率加總"
         }
        }
       }
      }
     },
     "metadata": {},
     "output_type": "display_data"
    },
    {
     "data": {
      "text/plain": [
       "({2003: ['MO', 'SWK', 'EMR', 'MMM', 'CAG'],\n",
       "  2004: ['ROK', 'HSY', 'SWK', 'K', 'UBSI'],\n",
       "  2005: ['MO', 'CUZ', 'ROK', 'EMR', 'HSY'],\n",
       "  2006: ['CAG', 'MRK', 'ABT', 'KO', 'MO'],\n",
       "  2007: ['FCX', 'ABT', 'BMY', 'K', 'MO']},\n",
       " {2003: ['DLX', 'MRK'],\n",
       "  2004: ['ABT', 'VTR', 'DLX', 'BMY', 'MRK', 'MMC'],\n",
       "  2005: ['K',\n",
       "   'KO',\n",
       "   'SON',\n",
       "   'FUN',\n",
       "   'CPB',\n",
       "   'BMY',\n",
       "   'MMC',\n",
       "   'VTR',\n",
       "   'UBSI',\n",
       "   'ABT',\n",
       "   'CAG',\n",
       "   'GOGL'],\n",
       "  2006: ['FCX'],\n",
       "  2007: ['KO', 'PFE', 'GE', 'CAG', 'UBSI']})"
      ]
     },
     "execution_count": 54,
     "metadata": {},
     "output_type": "execute_result"
    }
   ],
   "source": [
    "opt_rep_pe_annual.calc_returns_contrib(5)"
   ]
  },
  {
   "cell_type": "code",
   "execution_count": 44,
   "metadata": {},
   "outputs": [
    {
     "data": {
      "text/plain": [
       "{'CAGR': 0.027758697815309485,\n",
       " 'daily_sharpe': 94.66,\n",
       " 'max_drawdown': -0.5026436328166525,\n",
       " 'avg_drawdown': -0.06117132412521264,\n",
       " 'win_ratio': 0.6363636363636364,\n",
       " 'ytd': -0.14315628110434042}"
      ]
     },
     "execution_count": 44,
     "metadata": {},
     "output_type": "execute_result"
    }
   ],
   "source": [
    "opt_rep_pe_filt = backtest.sim(opt_orig_pe_filt, resample='M', data=data)\n",
    "opt_rep_pe_filt.get_stats()"
   ]
  },
  {
   "cell_type": "markdown",
   "metadata": {},
   "source": [
    "### 不包含配息率"
   ]
  },
  {
   "cell_type": "markdown",
   "metadata": {},
   "source": [
    "### 盈再率 < 40%"
   ]
  },
  {
   "cell_type": "code",
   "execution_count": 45,
   "metadata": {},
   "outputs": [],
   "source": [
    "opt_noDPR_pe = (nodpr_cond_opt & daily_pe_entry[START_DATE:END_DATE]).hold_until((~nodpr_cond_opt) | daily_pe_exit[START_DATE:END_DATE])\n",
    "\n",
    "opt_noDPR_pe_filt = (nodpr_cond_opt_filter & daily_pe_entry[START_DATE:END_DATE]).hold_until((~nodpr_cond_opt_filter) | daily_pe_exit[START_DATE:END_DATE])"
   ]
  },
  {
   "cell_type": "code",
   "execution_count": 46,
   "metadata": {},
   "outputs": [
    {
     "data": {
      "text/plain": [
       "{'CAGR': 0.02385347211740574,\n",
       " 'daily_sharpe': 96.86,\n",
       " 'max_drawdown': -0.5528854739756184,\n",
       " 'avg_drawdown': -0.08109954332480884,\n",
       " 'win_ratio': 0.4772727272727273,\n",
       " 'ytd': -0.07321609621684089}"
      ]
     },
     "execution_count": 46,
     "metadata": {},
     "output_type": "execute_result"
    }
   ],
   "source": [
    "rep_opt_noDPR_pe = backtest.sim(opt_noDPR_pe, resample='M', data=data)\n",
    "rep_opt_noDPR_pe.get_stats()"
   ]
  },
  {
   "cell_type": "code",
   "execution_count": 47,
   "metadata": {},
   "outputs": [
    {
     "data": {
      "text/plain": [
       "{'CAGR': 0.04614343309852442,\n",
       " 'daily_sharpe': 87.6,\n",
       " 'max_drawdown': -0.5293628491200129,\n",
       " 'avg_drawdown': -0.07260898869415176,\n",
       " 'win_ratio': 0.5057471264367817,\n",
       " 'ytd': -0.06527046013607718}"
      ]
     },
     "execution_count": 47,
     "metadata": {},
     "output_type": "execute_result"
    }
   ],
   "source": [
    "rep_opt_noDPR_pe_filt = backtest.sim(opt_noDPR_pe_filt, resample='M', data=data)\n",
    "rep_opt_noDPR_pe_filt.get_stats()"
   ]
  },
  {
   "cell_type": "markdown",
   "metadata": {},
   "source": [
    "---"
   ]
  },
  {
   "cell_type": "markdown",
   "metadata": {},
   "source": [
    "## 上面的入選股數比較"
   ]
  },
  {
   "cell_type": "code",
   "execution_count": 49,
   "metadata": {},
   "outputs": [
    {
     "name": "stderr",
     "output_type": "stream",
     "text": [
      "Backtesting progress: 100%|██████████| 16/16 [01:26<00:00,  5.44s/condition]\n"
     ]
    },
    {
     "data": {
      "text/html": [
       "<div>\n",
       "<style scoped>\n",
       "    .dataframe tbody tr th:only-of-type {\n",
       "        vertical-align: middle;\n",
       "    }\n",
       "\n",
       "    .dataframe tbody tr th {\n",
       "        vertical-align: top;\n",
       "    }\n",
       "\n",
       "    .dataframe thead th {\n",
       "        text-align: right;\n",
       "    }\n",
       "</style>\n",
       "<table border=\"1\" class=\"dataframe\">\n",
       "  <thead>\n",
       "    <tr style=\"text-align: right;\">\n",
       "      <th></th>\n",
       "      <th>CAGR (%)</th>\n",
       "      <th>MDD (%)</th>\n",
       "      <th>入選股數平均</th>\n",
       "      <th>中位數</th>\n",
       "      <th>25%</th>\n",
       "      <th>75%</th>\n",
       "      <th>Min</th>\n",
       "      <th>Max</th>\n",
       "    </tr>\n",
       "    <tr>\n",
       "      <th>Strategy</th>\n",
       "      <th></th>\n",
       "      <th></th>\n",
       "      <th></th>\n",
       "      <th></th>\n",
       "      <th></th>\n",
       "      <th></th>\n",
       "      <th></th>\n",
       "      <th></th>\n",
       "    </tr>\n",
       "  </thead>\n",
       "  <tbody>\n",
       "    <tr>\n",
       "      <th>單一條件_盈再率&lt;40%_羅素1000</th>\n",
       "      <td>8.65</td>\n",
       "      <td>-51.50</td>\n",
       "      <td>292.38</td>\n",
       "      <td>302.0</td>\n",
       "      <td>260.0</td>\n",
       "      <td>337.0</td>\n",
       "      <td>225.0</td>\n",
       "      <td>346.0</td>\n",
       "    </tr>\n",
       "    <tr>\n",
       "      <th>單一條件_盈再率&lt;40%</th>\n",
       "      <td>8.53</td>\n",
       "      <td>-54.18</td>\n",
       "      <td>560.95</td>\n",
       "      <td>573.0</td>\n",
       "      <td>475.0</td>\n",
       "      <td>666.0</td>\n",
       "      <td>408.0</td>\n",
       "      <td>703.0</td>\n",
       "    </tr>\n",
       "    <tr>\n",
       "      <th>單一條件_ROE五年平均_羅素1000</th>\n",
       "      <td>7.91</td>\n",
       "      <td>-52.67</td>\n",
       "      <td>231.55</td>\n",
       "      <td>219.0</td>\n",
       "      <td>201.0</td>\n",
       "      <td>263.0</td>\n",
       "      <td>197.0</td>\n",
       "      <td>302.0</td>\n",
       "    </tr>\n",
       "    <tr>\n",
       "      <th>單一條件_ROE五年平均</th>\n",
       "      <td>7.80</td>\n",
       "      <td>-53.88</td>\n",
       "      <td>377.73</td>\n",
       "      <td>362.0</td>\n",
       "      <td>330.0</td>\n",
       "      <td>432.0</td>\n",
       "      <td>319.0</td>\n",
       "      <td>480.0</td>\n",
       "    </tr>\n",
       "    <tr>\n",
       "      <th>去掉配息_有本益比_羅素1000_ROE出場條件</th>\n",
       "      <td>5.65</td>\n",
       "      <td>-51.32</td>\n",
       "      <td>71.47</td>\n",
       "      <td>64.0</td>\n",
       "      <td>52.0</td>\n",
       "      <td>82.0</td>\n",
       "      <td>39.0</td>\n",
       "      <td>146.0</td>\n",
       "    </tr>\n",
       "    <tr>\n",
       "      <th>所有條件_有本益比_羅素1000_ROE出場條件</th>\n",
       "      <td>4.73</td>\n",
       "      <td>-47.88</td>\n",
       "      <td>12.45</td>\n",
       "      <td>12.0</td>\n",
       "      <td>9.0</td>\n",
       "      <td>14.0</td>\n",
       "      <td>7.0</td>\n",
       "      <td>22.0</td>\n",
       "    </tr>\n",
       "    <tr>\n",
       "      <th>去掉配息_有本益比_羅素1000</th>\n",
       "      <td>4.61</td>\n",
       "      <td>-52.94</td>\n",
       "      <td>78.92</td>\n",
       "      <td>65.0</td>\n",
       "      <td>60.0</td>\n",
       "      <td>92.0</td>\n",
       "      <td>47.0</td>\n",
       "      <td>166.0</td>\n",
       "    </tr>\n",
       "    <tr>\n",
       "      <th>去掉配息_無本益比_羅素1000</th>\n",
       "      <td>4.18</td>\n",
       "      <td>-50.70</td>\n",
       "      <td>123.86</td>\n",
       "      <td>114.0</td>\n",
       "      <td>101.0</td>\n",
       "      <td>145.0</td>\n",
       "      <td>89.0</td>\n",
       "      <td>185.0</td>\n",
       "    </tr>\n",
       "    <tr>\n",
       "      <th>去掉配息_有本益比_ROE出場條件</th>\n",
       "      <td>3.34</td>\n",
       "      <td>-53.93</td>\n",
       "      <td>88.78</td>\n",
       "      <td>78.0</td>\n",
       "      <td>65.0</td>\n",
       "      <td>101.0</td>\n",
       "      <td>53.0</td>\n",
       "      <td>177.0</td>\n",
       "    </tr>\n",
       "    <tr>\n",
       "      <th>所有條件_有本益比_羅素1000</th>\n",
       "      <td>2.78</td>\n",
       "      <td>-50.26</td>\n",
       "      <td>14.59</td>\n",
       "      <td>14.0</td>\n",
       "      <td>11.0</td>\n",
       "      <td>15.0</td>\n",
       "      <td>10.0</td>\n",
       "      <td>24.0</td>\n",
       "    </tr>\n",
       "    <tr>\n",
       "      <th>去掉配息_無本益比</th>\n",
       "      <td>2.67</td>\n",
       "      <td>-52.79</td>\n",
       "      <td>149.68</td>\n",
       "      <td>136.0</td>\n",
       "      <td>127.0</td>\n",
       "      <td>174.0</td>\n",
       "      <td>109.0</td>\n",
       "      <td>215.0</td>\n",
       "    </tr>\n",
       "    <tr>\n",
       "      <th>去掉配息_有本益比</th>\n",
       "      <td>2.39</td>\n",
       "      <td>-55.29</td>\n",
       "      <td>100.33</td>\n",
       "      <td>83.0</td>\n",
       "      <td>77.0</td>\n",
       "      <td>115.0</td>\n",
       "      <td>63.0</td>\n",
       "      <td>194.0</td>\n",
       "    </tr>\n",
       "    <tr>\n",
       "      <th>所有條件_無本益比_羅素1000</th>\n",
       "      <td>2.13</td>\n",
       "      <td>-49.98</td>\n",
       "      <td>17.70</td>\n",
       "      <td>17.0</td>\n",
       "      <td>14.0</td>\n",
       "      <td>20.0</td>\n",
       "      <td>13.0</td>\n",
       "      <td>26.0</td>\n",
       "    </tr>\n",
       "    <tr>\n",
       "      <th>所有條件_有本益比_ROE出場條件</th>\n",
       "      <td>2.06</td>\n",
       "      <td>-50.62</td>\n",
       "      <td>13.95</td>\n",
       "      <td>13.0</td>\n",
       "      <td>10.0</td>\n",
       "      <td>15.0</td>\n",
       "      <td>8.0</td>\n",
       "      <td>26.0</td>\n",
       "    </tr>\n",
       "    <tr>\n",
       "      <th>所有條件_有本益比</th>\n",
       "      <td>0.82</td>\n",
       "      <td>-53.11</td>\n",
       "      <td>16.56</td>\n",
       "      <td>15.0</td>\n",
       "      <td>12.0</td>\n",
       "      <td>18.0</td>\n",
       "      <td>11.0</td>\n",
       "      <td>29.0</td>\n",
       "    </tr>\n",
       "    <tr>\n",
       "      <th>所有條件_無本益比</th>\n",
       "      <td>0.53</td>\n",
       "      <td>-52.54</td>\n",
       "      <td>19.67</td>\n",
       "      <td>18.0</td>\n",
       "      <td>15.0</td>\n",
       "      <td>23.0</td>\n",
       "      <td>14.0</td>\n",
       "      <td>31.0</td>\n",
       "    </tr>\n",
       "  </tbody>\n",
       "</table>\n",
       "</div>"
      ],
      "text/plain": [
       "                          CAGR (%)  MDD (%)  入選股數平均    中位數    25%    75%  \\\n",
       "Strategy                                                                   \n",
       "單一條件_盈再率<40%_羅素1000           8.65   -51.50  292.38  302.0  260.0  337.0   \n",
       "單一條件_盈再率<40%                  8.53   -54.18  560.95  573.0  475.0  666.0   \n",
       "單一條件_ROE五年平均_羅素1000           7.91   -52.67  231.55  219.0  201.0  263.0   \n",
       "單一條件_ROE五年平均                  7.80   -53.88  377.73  362.0  330.0  432.0   \n",
       "去掉配息_有本益比_羅素1000_ROE出場條件      5.65   -51.32   71.47   64.0   52.0   82.0   \n",
       "所有條件_有本益比_羅素1000_ROE出場條件      4.73   -47.88   12.45   12.0    9.0   14.0   \n",
       "去掉配息_有本益比_羅素1000              4.61   -52.94   78.92   65.0   60.0   92.0   \n",
       "去掉配息_無本益比_羅素1000              4.18   -50.70  123.86  114.0  101.0  145.0   \n",
       "去掉配息_有本益比_ROE出場條件             3.34   -53.93   88.78   78.0   65.0  101.0   \n",
       "所有條件_有本益比_羅素1000              2.78   -50.26   14.59   14.0   11.0   15.0   \n",
       "去掉配息_無本益比                     2.67   -52.79  149.68  136.0  127.0  174.0   \n",
       "去掉配息_有本益比                     2.39   -55.29  100.33   83.0   77.0  115.0   \n",
       "所有條件_無本益比_羅素1000              2.13   -49.98   17.70   17.0   14.0   20.0   \n",
       "所有條件_有本益比_ROE出場條件             2.06   -50.62   13.95   13.0   10.0   15.0   \n",
       "所有條件_有本益比                     0.82   -53.11   16.56   15.0   12.0   18.0   \n",
       "所有條件_無本益比                     0.53   -52.54   19.67   18.0   15.0   23.0   \n",
       "\n",
       "                            Min    Max  \n",
       "Strategy                                \n",
       "單一條件_盈再率<40%_羅素1000       225.0  346.0  \n",
       "單一條件_盈再率<40%              408.0  703.0  \n",
       "單一條件_ROE五年平均_羅素1000       197.0  302.0  \n",
       "單一條件_ROE五年平均              319.0  480.0  \n",
       "去掉配息_有本益比_羅素1000_ROE出場條件   39.0  146.0  \n",
       "所有條件_有本益比_羅素1000_ROE出場條件    7.0   22.0  \n",
       "去掉配息_有本益比_羅素1000           47.0  166.0  \n",
       "去掉配息_無本益比_羅素1000           89.0  185.0  \n",
       "去掉配息_有本益比_ROE出場條件          53.0  177.0  \n",
       "所有條件_有本益比_羅素1000           10.0   24.0  \n",
       "去掉配息_無本益比                 109.0  215.0  \n",
       "去掉配息_有本益比                  63.0  194.0  \n",
       "所有條件_無本益比_羅素1000           13.0   26.0  \n",
       "所有條件_有本益比_ROE出場條件           8.0   26.0  \n",
       "所有條件_有本益比                  11.0   29.0  \n",
       "所有條件_無本益比                  14.0   31.0  "
      ]
     },
     "execution_count": 49,
     "metadata": {},
     "output_type": "execute_result"
    }
   ],
   "source": [
    "# bf_tax_cond = income_bf_tax > 75000000\n",
    "orig_cond_bft = rr_cond & roe_cond & bf_tax_cond & payout_cond & listed_cond\n",
    "nodpr_bft_cond = rr_cond & roe_cond & bf_tax_cond & listed_cond\n",
    "\n",
    "\n",
    "overall_conds = {}\n",
    "\n",
    "# overall_conds['所有條件_盈再率<80_無本益比'] = orig_cond\n",
    "overall_conds['所有條件_無本益比'] = orig_cond_opt\n",
    "# overall_conds['所有條件_無本益比_稅前淨利'] = orig_cond_bft[START_DATE:END_DATE]\n",
    "overall_conds['所有條件_無本益比_羅素1000'] = orig_cond_opt[filtered_russell_1000_symbol]\n",
    "# overall_conds['所有條件_無本益比_稅前淨利_羅素1000'] = orig_cond_bft[START_DATE:END_DATE][filtered_russell_1000_symbol]\n",
    "\n",
    "# overall_conds['所有條件_盈再率<80_每季本益比'] = orig_quarter_pe\n",
    "overall_conds['所有條件_有本益比'] = opt_orig_pe\n",
    "overall_conds['所有條件_有本益比_ROE出場條件'] = opt_orig_pe & (roe[START_DATE:END_DATE] > 0.15)\n",
    "# overall_conds['所有條件_有本益比_稅前淨利'] = (orig_cond_bft[START_DATE:END_DATE] & daily_pe_entry[START_DATE:END_DATE]).hold_until((~orig_cond_bft[START_DATE:END_DATE]) | daily_pe_exit[START_DATE:END_DATE])\n",
    "overall_conds['所有條件_有本益比_羅素1000'] = opt_orig_pe_filt\n",
    "overall_conds['所有條件_有本益比_羅素1000_ROE出場條件'] = opt_orig_pe_filt & (roe[START_DATE:END_DATE] > 0.15)\n",
    "# overall_conds['所有條件_有本益比_稅前淨利_羅素1000'] = (orig_cond_bft[START_DATE:END_DATE] & daily_pe_entry[START_DATE:END_DATE]).hold_until((~orig_cond_bft[START_DATE:END_DATE]) | daily_pe_exit[START_DATE:END_DATE])[filtered_russell_1000_symbol]\n",
    "\n",
    "# overall_conds['去掉配息盈再率<80_無本益比'] = test_cond\n",
    "overall_conds['去掉配息_無本益比'] = nodpr_cond_opt\n",
    "# overall_conds['去掉配息_無本益比_稅前淨利'] = nodpr_bft_cond[START_DATE:END_DATE]\n",
    "overall_conds['去掉配息_無本益比_羅素1000'] = nodpr_cond_opt_filter\n",
    "# overall_conds['去掉配息_無本益比_稅前淨利_羅素1000'] = nodpr_bft_cond[START_DATE:END_DATE][filtered_russell_1000_symbol]\n",
    "# overall_conds['去掉配息_盈再率<80_每季本益比'] = test_noDPR_pe\n",
    "overall_conds['去掉配息_有本益比'] = opt_noDPR_pe\n",
    "overall_conds['去掉配息_有本益比_ROE出場條件'] = opt_noDPR_pe & (roe[START_DATE:END_DATE] > 0.15)\n",
    "# overall_conds['去掉配息_有本益比_稅前淨利'] = (nodpr_bft_cond[START_DATE:END_DATE] & daily_pe_entry[START_DATE:END_DATE]).hold_until((~nodpr_bft_cond[START_DATE:END_DATE]) | daily_pe_exit[START_DATE:END_DATE])\n",
    "overall_conds['去掉配息_有本益比_羅素1000'] = opt_noDPR_pe_filt\n",
    "overall_conds['去掉配息_有本益比_羅素1000_ROE出場條件'] = opt_noDPR_pe_filt & (roe[START_DATE:END_DATE] > 0.15)\n",
    "# overall_conds['去掉配息_有本益比_稅前淨利_羅素1000'] = (nodpr_bft_cond[START_DATE:END_DATE] & daily_pe_entry[START_DATE:END_DATE]).hold_until((~nodpr_bft_cond[START_DATE:END_DATE]) | daily_pe_exit[START_DATE:END_DATE])[filtered_russell_1000_symbol]\n",
    "\n",
    "\n",
    "overall_conds['單一條件_ROE五年平均'] = roe_cond[START_DATE:END_DATE]\n",
    "overall_conds['單一條件_ROE五年平均_羅素1000'] = roe_cond[START_DATE:END_DATE][filtered_russell_1000_symbol]\n",
    "\n",
    "overall_conds['單一條件_盈再率<40%'] = rr_cond[START_DATE:END_DATE]\n",
    "overall_conds['單一條件_盈再率<40%_羅素1000'] = rr_cond[START_DATE:END_DATE][filtered_russell_1000_symbol]\n",
    "# overall_conds['單一條件_盈再率<80%'] = (rr<0.8)[START_DATE:END_DATE]\n",
    "\n",
    "\n",
    "overall_conds_collecs = sim_conditions(overall_conds, resample='M', data=data)\n",
    "overall_conds_collecs.selected_stock_count_analysis()"
   ]
  },
  {
   "cell_type": "code",
   "execution_count": 50,
   "metadata": {},
   "outputs": [
    {
     "data": {
      "text/html": [
       "<div>\n",
       "<style scoped>\n",
       "    .dataframe tbody tr th:only-of-type {\n",
       "        vertical-align: middle;\n",
       "    }\n",
       "\n",
       "    .dataframe tbody tr th {\n",
       "        vertical-align: top;\n",
       "    }\n",
       "\n",
       "    .dataframe thead th {\n",
       "        text-align: right;\n",
       "    }\n",
       "</style>\n",
       "<table border=\"1\" class=\"dataframe\">\n",
       "  <thead>\n",
       "    <tr style=\"text-align: right;\">\n",
       "      <th></th>\n",
       "      <th>CAGR (%)</th>\n",
       "      <th>MDD (%)</th>\n",
       "      <th>入選股數平均</th>\n",
       "      <th>中位數</th>\n",
       "      <th>25%</th>\n",
       "      <th>75%</th>\n",
       "      <th>Min</th>\n",
       "      <th>Max</th>\n",
       "    </tr>\n",
       "    <tr>\n",
       "      <th>Strategy</th>\n",
       "      <th></th>\n",
       "      <th></th>\n",
       "      <th></th>\n",
       "      <th></th>\n",
       "      <th></th>\n",
       "      <th></th>\n",
       "      <th></th>\n",
       "      <th></th>\n",
       "    </tr>\n",
       "  </thead>\n",
       "  <tbody>\n",
       "    <tr>\n",
       "      <th>單一條件_盈再率&lt;40%_羅素1000</th>\n",
       "      <td>8.65</td>\n",
       "      <td>-51.50</td>\n",
       "      <td>292.38</td>\n",
       "      <td>302.0</td>\n",
       "      <td>260.0</td>\n",
       "      <td>337.0</td>\n",
       "      <td>225.0</td>\n",
       "      <td>346.0</td>\n",
       "    </tr>\n",
       "    <tr>\n",
       "      <th>單一條件_盈再率&lt;40%</th>\n",
       "      <td>8.53</td>\n",
       "      <td>-54.18</td>\n",
       "      <td>560.95</td>\n",
       "      <td>573.0</td>\n",
       "      <td>475.0</td>\n",
       "      <td>666.0</td>\n",
       "      <td>408.0</td>\n",
       "      <td>703.0</td>\n",
       "    </tr>\n",
       "    <tr>\n",
       "      <th>單一條件_ROE五年平均_羅素1000</th>\n",
       "      <td>7.91</td>\n",
       "      <td>-52.67</td>\n",
       "      <td>231.55</td>\n",
       "      <td>219.0</td>\n",
       "      <td>201.0</td>\n",
       "      <td>263.0</td>\n",
       "      <td>197.0</td>\n",
       "      <td>302.0</td>\n",
       "    </tr>\n",
       "    <tr>\n",
       "      <th>單一條件_ROE五年平均</th>\n",
       "      <td>7.80</td>\n",
       "      <td>-53.88</td>\n",
       "      <td>377.73</td>\n",
       "      <td>362.0</td>\n",
       "      <td>330.0</td>\n",
       "      <td>432.0</td>\n",
       "      <td>319.0</td>\n",
       "      <td>480.0</td>\n",
       "    </tr>\n",
       "    <tr>\n",
       "      <th>去掉配息_有本益比_羅素1000_ROE出場條件</th>\n",
       "      <td>5.65</td>\n",
       "      <td>-51.32</td>\n",
       "      <td>71.47</td>\n",
       "      <td>64.0</td>\n",
       "      <td>52.0</td>\n",
       "      <td>82.0</td>\n",
       "      <td>39.0</td>\n",
       "      <td>146.0</td>\n",
       "    </tr>\n",
       "    <tr>\n",
       "      <th>所有條件_有本益比_羅素1000_ROE出場條件</th>\n",
       "      <td>4.73</td>\n",
       "      <td>-47.88</td>\n",
       "      <td>12.45</td>\n",
       "      <td>12.0</td>\n",
       "      <td>9.0</td>\n",
       "      <td>14.0</td>\n",
       "      <td>7.0</td>\n",
       "      <td>22.0</td>\n",
       "    </tr>\n",
       "    <tr>\n",
       "      <th>去掉配息_有本益比_羅素1000</th>\n",
       "      <td>4.61</td>\n",
       "      <td>-52.94</td>\n",
       "      <td>78.92</td>\n",
       "      <td>65.0</td>\n",
       "      <td>60.0</td>\n",
       "      <td>92.0</td>\n",
       "      <td>47.0</td>\n",
       "      <td>166.0</td>\n",
       "    </tr>\n",
       "    <tr>\n",
       "      <th>去掉配息_無本益比_羅素1000</th>\n",
       "      <td>4.18</td>\n",
       "      <td>-50.70</td>\n",
       "      <td>123.86</td>\n",
       "      <td>114.0</td>\n",
       "      <td>101.0</td>\n",
       "      <td>145.0</td>\n",
       "      <td>89.0</td>\n",
       "      <td>185.0</td>\n",
       "    </tr>\n",
       "    <tr>\n",
       "      <th>去掉配息_有本益比_ROE出場條件</th>\n",
       "      <td>3.34</td>\n",
       "      <td>-53.93</td>\n",
       "      <td>88.78</td>\n",
       "      <td>78.0</td>\n",
       "      <td>65.0</td>\n",
       "      <td>101.0</td>\n",
       "      <td>53.0</td>\n",
       "      <td>177.0</td>\n",
       "    </tr>\n",
       "    <tr>\n",
       "      <th>所有條件_有本益比_羅素1000</th>\n",
       "      <td>2.78</td>\n",
       "      <td>-50.26</td>\n",
       "      <td>14.59</td>\n",
       "      <td>14.0</td>\n",
       "      <td>11.0</td>\n",
       "      <td>15.0</td>\n",
       "      <td>10.0</td>\n",
       "      <td>24.0</td>\n",
       "    </tr>\n",
       "    <tr>\n",
       "      <th>去掉配息_無本益比</th>\n",
       "      <td>2.67</td>\n",
       "      <td>-52.79</td>\n",
       "      <td>149.68</td>\n",
       "      <td>136.0</td>\n",
       "      <td>127.0</td>\n",
       "      <td>174.0</td>\n",
       "      <td>109.0</td>\n",
       "      <td>215.0</td>\n",
       "    </tr>\n",
       "    <tr>\n",
       "      <th>去掉配息_有本益比</th>\n",
       "      <td>2.39</td>\n",
       "      <td>-55.29</td>\n",
       "      <td>100.33</td>\n",
       "      <td>83.0</td>\n",
       "      <td>77.0</td>\n",
       "      <td>115.0</td>\n",
       "      <td>63.0</td>\n",
       "      <td>194.0</td>\n",
       "    </tr>\n",
       "    <tr>\n",
       "      <th>所有條件_無本益比_羅素1000</th>\n",
       "      <td>2.13</td>\n",
       "      <td>-49.98</td>\n",
       "      <td>17.70</td>\n",
       "      <td>17.0</td>\n",
       "      <td>14.0</td>\n",
       "      <td>20.0</td>\n",
       "      <td>13.0</td>\n",
       "      <td>26.0</td>\n",
       "    </tr>\n",
       "    <tr>\n",
       "      <th>所有條件_有本益比_ROE出場條件</th>\n",
       "      <td>2.06</td>\n",
       "      <td>-50.62</td>\n",
       "      <td>13.95</td>\n",
       "      <td>13.0</td>\n",
       "      <td>10.0</td>\n",
       "      <td>15.0</td>\n",
       "      <td>8.0</td>\n",
       "      <td>26.0</td>\n",
       "    </tr>\n",
       "    <tr>\n",
       "      <th>所有條件_有本益比</th>\n",
       "      <td>0.82</td>\n",
       "      <td>-53.11</td>\n",
       "      <td>16.56</td>\n",
       "      <td>15.0</td>\n",
       "      <td>12.0</td>\n",
       "      <td>18.0</td>\n",
       "      <td>11.0</td>\n",
       "      <td>29.0</td>\n",
       "    </tr>\n",
       "    <tr>\n",
       "      <th>所有條件_無本益比</th>\n",
       "      <td>0.53</td>\n",
       "      <td>-52.54</td>\n",
       "      <td>19.67</td>\n",
       "      <td>18.0</td>\n",
       "      <td>15.0</td>\n",
       "      <td>23.0</td>\n",
       "      <td>14.0</td>\n",
       "      <td>31.0</td>\n",
       "    </tr>\n",
       "  </tbody>\n",
       "</table>\n",
       "</div>"
      ],
      "text/plain": [
       "                          CAGR (%)  MDD (%)  入選股數平均    中位數    25%    75%  \\\n",
       "Strategy                                                                   \n",
       "單一條件_盈再率<40%_羅素1000           8.65   -51.50  292.38  302.0  260.0  337.0   \n",
       "單一條件_盈再率<40%                  8.53   -54.18  560.95  573.0  475.0  666.0   \n",
       "單一條件_ROE五年平均_羅素1000           7.91   -52.67  231.55  219.0  201.0  263.0   \n",
       "單一條件_ROE五年平均                  7.80   -53.88  377.73  362.0  330.0  432.0   \n",
       "去掉配息_有本益比_羅素1000_ROE出場條件      5.65   -51.32   71.47   64.0   52.0   82.0   \n",
       "所有條件_有本益比_羅素1000_ROE出場條件      4.73   -47.88   12.45   12.0    9.0   14.0   \n",
       "去掉配息_有本益比_羅素1000              4.61   -52.94   78.92   65.0   60.0   92.0   \n",
       "去掉配息_無本益比_羅素1000              4.18   -50.70  123.86  114.0  101.0  145.0   \n",
       "去掉配息_有本益比_ROE出場條件             3.34   -53.93   88.78   78.0   65.0  101.0   \n",
       "所有條件_有本益比_羅素1000              2.78   -50.26   14.59   14.0   11.0   15.0   \n",
       "去掉配息_無本益比                     2.67   -52.79  149.68  136.0  127.0  174.0   \n",
       "去掉配息_有本益比                     2.39   -55.29  100.33   83.0   77.0  115.0   \n",
       "所有條件_無本益比_羅素1000              2.13   -49.98   17.70   17.0   14.0   20.0   \n",
       "所有條件_有本益比_ROE出場條件             2.06   -50.62   13.95   13.0   10.0   15.0   \n",
       "所有條件_有本益比                     0.82   -53.11   16.56   15.0   12.0   18.0   \n",
       "所有條件_無本益比                     0.53   -52.54   19.67   18.0   15.0   23.0   \n",
       "\n",
       "                            Min    Max  \n",
       "Strategy                                \n",
       "單一條件_盈再率<40%_羅素1000       225.0  346.0  \n",
       "單一條件_盈再率<40%              408.0  703.0  \n",
       "單一條件_ROE五年平均_羅素1000       197.0  302.0  \n",
       "單一條件_ROE五年平均              319.0  480.0  \n",
       "去掉配息_有本益比_羅素1000_ROE出場條件   39.0  146.0  \n",
       "所有條件_有本益比_羅素1000_ROE出場條件    7.0   22.0  \n",
       "去掉配息_有本益比_羅素1000           47.0  166.0  \n",
       "去掉配息_無本益比_羅素1000           89.0  185.0  \n",
       "去掉配息_有本益比_ROE出場條件          53.0  177.0  \n",
       "所有條件_有本益比_羅素1000           10.0   24.0  \n",
       "去掉配息_無本益比                 109.0  215.0  \n",
       "去掉配息_有本益比                  63.0  194.0  \n",
       "所有條件_無本益比_羅素1000           13.0   26.0  \n",
       "所有條件_有本益比_ROE出場條件           8.0   26.0  \n",
       "所有條件_有本益比                  11.0   29.0  \n",
       "所有條件_無本益比                  14.0   31.0  "
      ]
     },
     "execution_count": 50,
     "metadata": {},
     "output_type": "execute_result"
    }
   ],
   "source": [
    "overall_conds_collecs.selected_stock_count_analysis()"
   ]
  },
  {
   "cell_type": "code",
   "execution_count": 51,
   "metadata": {},
   "outputs": [],
   "source": [
    "# # 重置索引以獲取 'Strategy' 作為欄位\n",
    "# data_df = overall_conds_collecs.selected_stock_count_analysis()\n",
    "# data_df = data_df.reset_index()\n",
    "\n",
    "# # 篩選包含特定條件的資料\n",
    "# filtered_data = data_df[data_df['Strategy'].str.contains('所有條件|去掉配息')].copy()\n",
    "\n",
    "# # 添加 'Group' 欄位\n",
    "# filtered_data['Group'] = filtered_data['Strategy'].apply(\n",
    "#     lambda x: '所有條件' if '所有條件' in x else '去掉配息率條件'\n",
    "# )\n",
    "\n",
    "# # 提取 BaseSuffix\n",
    "# def extract_base_suffix(strategy):\n",
    "#     parts = strategy.split('_')\n",
    "#     if len(parts) > 2:\n",
    "#         return '_'.join(parts[1:])  # 排除前綴\n",
    "#     return parts[-1]  # 使用最後一部分\n",
    "\n",
    "# filtered_data['BaseSuffix'] = filtered_data['Strategy'].apply(extract_base_suffix)\n",
    "\n",
    "# # 添加 'PE_Category' 欄位\n",
    "# filtered_data['PE_Category'] = filtered_data['Strategy'].apply(\n",
    "#     lambda x: '有本益比' if '有本益比' in x else '無本益比'\n",
    "# )\n",
    "\n",
    "# # 為排序新增標籤\n",
    "# filtered_data['SortOrder'] = filtered_data['PE_Category'].map(\n",
    "#     {'有本益比': 0, '無本益比': 1}\n",
    "# )\n",
    "\n",
    "# # 計算 CAGR 平均值並展開表格\n",
    "# grouped = filtered_data.groupby(['Group', 'Strategy'])['CAGR (%)'].mean().unstack()\n",
    "\n",
    "# # 重新排序欄位\n",
    "# ordered_columns = grouped.columns.to_series().sort_values(\n",
    "#     key=lambda x: x.map(filtered_data.set_index('Strategy')['SortOrder'])\n",
    "# ).index\n",
    "\n",
    "# grouped = grouped[ordered_columns]\n",
    "\n",
    "# # 生成顏色映射\n",
    "# unique_suffixes = filtered_data['BaseSuffix'].unique()\n",
    "# color_map = {suffix: f'C{i}' for i, suffix in enumerate(unique_suffixes)}\n",
    "# colors = [color_map[extract_base_suffix(col)] for col in grouped.columns]\n",
    "\n",
    "# # 繪製柱狀圖\n",
    "# grouped.plot(kind='bar', figsize=(10, 6), legend=True, rot=0, color=colors)\n",
    "\n",
    "# # 添加標題與軸標籤（繁體中文）\n",
    "# plt.title(\"所有條件與去掉配息率策略、是不是羅素1000\", fontsize=14)\n",
    "# plt.ylabel(\"CAGR (%)\", fontsize=12)\n",
    "# plt.xlabel(\"有無配息率條件\", fontsize=12)\n",
    "# plt.xticks(fontsize=12)\n",
    "# plt.yticks(fontsize=12)\n",
    "# plt.legend(title=\"策略\", fontsize=10, title_fontsize=10)\n",
    "\n",
    "# # 顯示圖表\n",
    "# plt.tight_layout()\n",
    "# plt.show()\n"
   ]
  },
  {
   "cell_type": "code",
   "execution_count": 52,
   "metadata": {},
   "outputs": [],
   "source": [
    "# overall_conds_collecs.plot_reps_stock_counts(['去掉配息盈再率<40_無本益比', '去掉配息_盈再率<40_有本益比', '所有條件_盈再率<40_無本益比', '所有條件_盈再率<40_有本益比', ])"
   ]
  },
  {
   "cell_type": "code",
   "execution_count": 53,
   "metadata": {},
   "outputs": [],
   "source": [
    "# overall_conds_collecs.plot_reps_stock_counts(['去掉配息_盈再率<80_每季本益比', '去掉配息_盈再率<40_每季本益比', '所有條件_盈再率<40_無本益比', '所有條件_盈再率<80_無本益比',  '所有條件_盈再率<40_每季本益比'])"
   ]
  },
  {
   "cell_type": "markdown",
   "metadata": {},
   "source": [
    "---"
   ]
  },
  {
   "cell_type": "markdown",
   "metadata": {},
   "source": [
    "## 比較有無其中幾項條件的差異 "
   ]
  },
  {
   "cell_type": "code",
   "execution_count": 54,
   "metadata": {},
   "outputs": [],
   "source": [
    "# import itertools\n",
    "\n",
    "# # 定義所有 DataFrame 名稱及其對應的中文名稱\n",
    "# dataframes = {\n",
    "#     'roe_15': roe_cond[START_DATE:END_DATE],  # 假設這些DataFrame已經存在\n",
    "#     'rr_cond': rr_cond[START_DATE:END_DATE],\n",
    "#     'payout_ratio_cond': payout_cond[START_DATE:END_DATE],\n",
    "#     'profit_cond': netprofit_cond[START_DATE:END_DATE],\n",
    "#     # 'hold_cond': hold_cond,\n",
    "#     'listed': listed_cond[START_DATE:END_DATE]\n",
    "# }\n",
    "\n",
    "# # 定義 DataFrame 對應的中文名稱\n",
    "# dataframe_names = {\n",
    "#     'roe_15': 'ROE五年平均',\n",
    "#     'rr_cond': '盈再率',\n",
    "#     'payout_ratio_cond': '配息率',\n",
    "#     'profit_cond': '稅前淨利',\n",
    "#     # 'hold_cond': '董監持股',\n",
    "#     'listed': '上市櫃滿兩年'\n",
    "# }\n",
    "\n",
    "\n",
    "# # 用於儲存組合結果\n",
    "# compare_conds_strat = {}\n",
    "\n",
    "# # 產生不同長度的組合，從1到6\n",
    "# counter = 1\n",
    "# for r in range(1, len(dataframes) + 1):\n",
    "#     for combination in itertools.combinations(dataframes.keys(), r):\n",
    "#         # 計算DataFrame間的 AND 運算\n",
    "#         combined_signal = dataframes[combination[0]]\n",
    "#         for df_name in combination[1:]:\n",
    "#             combined_signal &= dataframes[df_name]\n",
    "\n",
    "#         # 限制日期區間\n",
    "#         combined_signal = CustomDataFrame(combined_signal)\n",
    "#         combined_signal = combined_signal\n",
    "\n",
    "#         # 使用組合的中文名稱生成key_name\n",
    "#         key_name = \"+\".join([dataframe_names[df] for df in combination])\n",
    "\n",
    "#         # 將計算結果儲存到字典\n",
    "#         compare_conds_strat[key_name] = combined_signal\n",
    "#         counter += 1\n",
    "\n",
    "\n",
    "\n",
    "\n",
    "# compare_strat_collecs = sim_conditions(compare_conds_strat, resample='M', data=data)"
   ]
  },
  {
   "cell_type": "code",
   "execution_count": 55,
   "metadata": {},
   "outputs": [],
   "source": [
    "# compare_strat_collecs.selected_stock_count_analysis()"
   ]
  },
  {
   "cell_type": "code",
   "execution_count": 56,
   "metadata": {},
   "outputs": [],
   "source": [
    "# # 用於儲存組合結果\n",
    "# compare_conds_strat_PE={}\n",
    "\n",
    "# # 產生不同長度的組合，從1到6\n",
    "# counter = 1\n",
    "# for r in range(1, len(dataframes) + 1):\n",
    "#     for combination in itertools.combinations(dataframes.keys(), r):\n",
    "#         # 計算DataFrame間的 AND 運算\n",
    "#         combined_signal = dataframes[combination[0]]\n",
    "#         for df_name in combination[1:]:\n",
    "#             combined_signal &= dataframes[df_name]\n",
    "\n",
    "#         # 限制日期區間\n",
    "#         combined_signal = CustomDataFrame(combined_signal)\n",
    "#         combined_signal = (combined_signal[START_DATE:END_DATE] & daily_pe_entry[START_DATE:END_DATE]).hold_until((~combined_signal[START_DATE:END_DATE]) | daily_pe_exit[START_DATE:END_DATE])\n",
    "\n",
    "#         # 使用組合的中文名稱生成key_name\n",
    "#         key_name = \"+\".join([dataframe_names[df] for df in combination])\n",
    "\n",
    "#         # 將計算結果儲存到字典\n",
    "#         compare_conds_strat_PE[key_name] = combined_signal\n",
    "#         counter += 1\n",
    "\n",
    "\n",
    "# compare_strat_collecs_PE = sim_conditions(compare_conds_strat_PE, resample='M', data=data)"
   ]
  },
  {
   "cell_type": "code",
   "execution_count": 57,
   "metadata": {},
   "outputs": [],
   "source": [
    "# compare_strat_collecs_PE.selected_stock_count_analysis()"
   ]
  },
  {
   "cell_type": "markdown",
   "metadata": {},
   "source": [
    "---"
   ]
  },
  {
   "cell_type": "markdown",
   "metadata": {},
   "source": [
    "---"
   ]
  },
  {
   "cell_type": "code",
   "execution_count": 58,
   "metadata": {},
   "outputs": [],
   "source": [
    "# test_all = (close > 0)[START_DATE:END_DATE]"
   ]
  },
  {
   "cell_type": "code",
   "execution_count": 59,
   "metadata": {},
   "outputs": [],
   "source": [
    "# rep_test_all = backtest.sim(test_all, resample='M', data=data)\n",
    "# rep_test_all.get_stats()"
   ]
  },
  {
   "cell_type": "code",
   "execution_count": 60,
   "metadata": {},
   "outputs": [],
   "source": [
    "# all_pos, all_neg = rep_test_all.calc_returns_contrib()"
   ]
  },
  {
   "cell_type": "code",
   "execution_count": 61,
   "metadata": {},
   "outputs": [],
   "source": [
    "# print(all_pos[2008])"
   ]
  },
  {
   "cell_type": "code",
   "execution_count": 62,
   "metadata": {},
   "outputs": [],
   "source": [
    "# df_rr_test = rr[all_pos[2008]]['2008':'2008']\n",
    "\n",
    "# # 計算每一列的 NaN 數量\n",
    "# nan_counts = df_rr_test.isna().sum(axis=1)\n",
    "# print(nan_counts)\n",
    "\n",
    "# (df_rr_test < 0.4).sum(axis=1)"
   ]
  },
  {
   "cell_type": "markdown",
   "metadata": {},
   "source": [
    "---"
   ]
  },
  {
   "cell_type": "markdown",
   "metadata": {},
   "source": [
    "---"
   ]
  },
  {
   "cell_type": "code",
   "execution_count": 63,
   "metadata": {},
   "outputs": [
    {
     "name": "stderr",
     "output_type": "stream",
     "text": [
      "Backtesting progress: 100%|██████████| 30/30 [02:03<00:00,  4.13s/condition]\n"
     ]
    }
   ],
   "source": [
    "roe_opts = {}\n",
    "\n",
    "base_conds = rr_cond & netprofit_cond & listed_cond\n",
    "\n",
    "for n in range(3, 6):\n",
    "    for k in range(10, 31, 5):\n",
    "\n",
    "        # ROE n年平均 > k%\n",
    "        df = roe.copy()\n",
    "        # 提取index的月份\n",
    "        df['month'] = df.index.month\n",
    "        # 依據月份分組，對每個月份的每5年計算平均\n",
    "        result = df.groupby('month', group_keys=False).apply(lambda group: group.rolling(n, min_periods=n).mean())\n",
    "        # 刪除用來group的欄位\n",
    "        roe_rol_opt_df = result.drop(columns='month')\n",
    "        roe_cond_opts = roe_rol_opt_df > (k / 100)\n",
    "\n",
    "        roe_base = (roe_cond_opts & base_conds)[START_DATE:END_DATE]\n",
    "        roe_payout_base = (roe_cond_opts & base_conds & payout_cond)[START_DATE:END_DATE]\n",
    "\n",
    "        # 有本益比進出場\n",
    "        roe_opts[f'ROE{n}y_{k}_去掉配息率條件'] = (roe_base & daily_pe_entry[START_DATE:END_DATE]).hold_until((~roe_base) | daily_pe_exit[START_DATE:END_DATE])\n",
    "        roe_opts[f'ROE{n}y_{k}_原始條件'] = (roe_payout_base & daily_pe_entry[START_DATE:END_DATE]).hold_until((~roe_payout_base) | daily_pe_exit[START_DATE:END_DATE])\n",
    "\n",
    "roe_opts_collecs = sim_conditions(roe_opts, resample='M', data=data)"
   ]
  },
  {
   "cell_type": "code",
   "execution_count": 64,
   "metadata": {},
   "outputs": [
    {
     "data": {
      "text/html": [
       "<div>\n",
       "<style scoped>\n",
       "    .dataframe tbody tr th:only-of-type {\n",
       "        vertical-align: middle;\n",
       "    }\n",
       "\n",
       "    .dataframe tbody tr th {\n",
       "        vertical-align: top;\n",
       "    }\n",
       "\n",
       "    .dataframe thead th {\n",
       "        text-align: right;\n",
       "    }\n",
       "</style>\n",
       "<table border=\"1\" class=\"dataframe\">\n",
       "  <thead>\n",
       "    <tr style=\"text-align: right;\">\n",
       "      <th></th>\n",
       "      <th>CAGR (%)</th>\n",
       "      <th>MDD (%)</th>\n",
       "      <th>入選股數平均</th>\n",
       "      <th>中位數</th>\n",
       "      <th>25%</th>\n",
       "      <th>75%</th>\n",
       "      <th>Min</th>\n",
       "      <th>Max</th>\n",
       "    </tr>\n",
       "    <tr>\n",
       "      <th>Strategy</th>\n",
       "      <th></th>\n",
       "      <th></th>\n",
       "      <th></th>\n",
       "      <th></th>\n",
       "      <th></th>\n",
       "      <th></th>\n",
       "      <th></th>\n",
       "      <th></th>\n",
       "    </tr>\n",
       "  </thead>\n",
       "  <tbody>\n",
       "    <tr>\n",
       "      <th>ROE4y_25_原始條件</th>\n",
       "      <td>6.76</td>\n",
       "      <td>-49.50</td>\n",
       "      <td>7.49</td>\n",
       "      <td>7.0</td>\n",
       "      <td>6.0</td>\n",
       "      <td>9.0</td>\n",
       "      <td>5.0</td>\n",
       "      <td>11.0</td>\n",
       "    </tr>\n",
       "    <tr>\n",
       "      <th>ROE5y_25_原始條件</th>\n",
       "      <td>6.59</td>\n",
       "      <td>-49.50</td>\n",
       "      <td>7.82</td>\n",
       "      <td>7.0</td>\n",
       "      <td>6.0</td>\n",
       "      <td>10.0</td>\n",
       "      <td>5.0</td>\n",
       "      <td>12.0</td>\n",
       "    </tr>\n",
       "    <tr>\n",
       "      <th>ROE3y_30_原始條件</th>\n",
       "      <td>6.39</td>\n",
       "      <td>-50.98</td>\n",
       "      <td>4.78</td>\n",
       "      <td>5.0</td>\n",
       "      <td>4.0</td>\n",
       "      <td>5.0</td>\n",
       "      <td>3.0</td>\n",
       "      <td>7.0</td>\n",
       "    </tr>\n",
       "    <tr>\n",
       "      <th>ROE3y_25_原始條件</th>\n",
       "      <td>5.48</td>\n",
       "      <td>-52.24</td>\n",
       "      <td>7.22</td>\n",
       "      <td>7.0</td>\n",
       "      <td>6.0</td>\n",
       "      <td>9.0</td>\n",
       "      <td>5.0</td>\n",
       "      <td>10.0</td>\n",
       "    </tr>\n",
       "    <tr>\n",
       "      <th>ROE5y_30_原始條件</th>\n",
       "      <td>4.81</td>\n",
       "      <td>-55.49</td>\n",
       "      <td>5.45</td>\n",
       "      <td>6.0</td>\n",
       "      <td>4.0</td>\n",
       "      <td>7.0</td>\n",
       "      <td>3.0</td>\n",
       "      <td>8.0</td>\n",
       "    </tr>\n",
       "    <tr>\n",
       "      <th>ROE3y_20_原始條件</th>\n",
       "      <td>4.07</td>\n",
       "      <td>-49.93</td>\n",
       "      <td>10.67</td>\n",
       "      <td>10.0</td>\n",
       "      <td>7.0</td>\n",
       "      <td>12.0</td>\n",
       "      <td>7.0</td>\n",
       "      <td>19.0</td>\n",
       "    </tr>\n",
       "    <tr>\n",
       "      <th>ROE4y_30_原始條件</th>\n",
       "      <td>4.00</td>\n",
       "      <td>-56.20</td>\n",
       "      <td>5.01</td>\n",
       "      <td>5.0</td>\n",
       "      <td>4.0</td>\n",
       "      <td>6.0</td>\n",
       "      <td>4.0</td>\n",
       "      <td>7.0</td>\n",
       "    </tr>\n",
       "    <tr>\n",
       "      <th>ROE3y_30_去掉配息率條件</th>\n",
       "      <td>3.83</td>\n",
       "      <td>-58.20</td>\n",
       "      <td>25.86</td>\n",
       "      <td>19.0</td>\n",
       "      <td>16.0</td>\n",
       "      <td>33.0</td>\n",
       "      <td>12.0</td>\n",
       "      <td>59.0</td>\n",
       "    </tr>\n",
       "    <tr>\n",
       "      <th>ROE5y_20_原始條件</th>\n",
       "      <td>3.61</td>\n",
       "      <td>-50.51</td>\n",
       "      <td>11.18</td>\n",
       "      <td>10.0</td>\n",
       "      <td>9.0</td>\n",
       "      <td>13.0</td>\n",
       "      <td>8.0</td>\n",
       "      <td>17.0</td>\n",
       "    </tr>\n",
       "    <tr>\n",
       "      <th>ROE4y_20_原始條件</th>\n",
       "      <td>3.27</td>\n",
       "      <td>-49.80</td>\n",
       "      <td>10.82</td>\n",
       "      <td>11.0</td>\n",
       "      <td>8.0</td>\n",
       "      <td>13.0</td>\n",
       "      <td>7.0</td>\n",
       "      <td>17.0</td>\n",
       "    </tr>\n",
       "    <tr>\n",
       "      <th>ROE3y_10_去掉配息率條件</th>\n",
       "      <td>3.08</td>\n",
       "      <td>-57.13</td>\n",
       "      <td>158.60</td>\n",
       "      <td>148.0</td>\n",
       "      <td>112.0</td>\n",
       "      <td>195.0</td>\n",
       "      <td>90.0</td>\n",
       "      <td>283.0</td>\n",
       "    </tr>\n",
       "    <tr>\n",
       "      <th>ROE5y_30_去掉配息率條件</th>\n",
       "      <td>2.96</td>\n",
       "      <td>-58.83</td>\n",
       "      <td>22.99</td>\n",
       "      <td>20.0</td>\n",
       "      <td>19.0</td>\n",
       "      <td>22.0</td>\n",
       "      <td>16.0</td>\n",
       "      <td>47.0</td>\n",
       "    </tr>\n",
       "    <tr>\n",
       "      <th>ROE5y_10_去掉配息率條件</th>\n",
       "      <td>2.91</td>\n",
       "      <td>-57.54</td>\n",
       "      <td>149.34</td>\n",
       "      <td>132.0</td>\n",
       "      <td>118.0</td>\n",
       "      <td>169.0</td>\n",
       "      <td>88.0</td>\n",
       "      <td>270.0</td>\n",
       "    </tr>\n",
       "    <tr>\n",
       "      <th>ROE4y_30_去掉配息率條件</th>\n",
       "      <td>2.82</td>\n",
       "      <td>-59.76</td>\n",
       "      <td>23.90</td>\n",
       "      <td>19.0</td>\n",
       "      <td>15.0</td>\n",
       "      <td>26.0</td>\n",
       "      <td>13.0</td>\n",
       "      <td>54.0</td>\n",
       "    </tr>\n",
       "    <tr>\n",
       "      <th>ROE5y_25_去掉配息率條件</th>\n",
       "      <td>2.76</td>\n",
       "      <td>-54.41</td>\n",
       "      <td>34.01</td>\n",
       "      <td>29.0</td>\n",
       "      <td>27.0</td>\n",
       "      <td>32.0</td>\n",
       "      <td>22.0</td>\n",
       "      <td>69.0</td>\n",
       "    </tr>\n",
       "    <tr>\n",
       "      <th>ROE4y_10_去掉配息率條件</th>\n",
       "      <td>2.72</td>\n",
       "      <td>-57.60</td>\n",
       "      <td>154.60</td>\n",
       "      <td>139.0</td>\n",
       "      <td>116.0</td>\n",
       "      <td>187.0</td>\n",
       "      <td>89.0</td>\n",
       "      <td>276.0</td>\n",
       "    </tr>\n",
       "    <tr>\n",
       "      <th>ROE4y_15_去掉配息率條件</th>\n",
       "      <td>2.67</td>\n",
       "      <td>-56.23</td>\n",
       "      <td>108.96</td>\n",
       "      <td>95.0</td>\n",
       "      <td>78.0</td>\n",
       "      <td>131.0</td>\n",
       "      <td>65.0</td>\n",
       "      <td>213.0</td>\n",
       "    </tr>\n",
       "    <tr>\n",
       "      <th>ROE3y_15_去掉配息率條件</th>\n",
       "      <td>2.55</td>\n",
       "      <td>-56.32</td>\n",
       "      <td>113.38</td>\n",
       "      <td>105.0</td>\n",
       "      <td>69.0</td>\n",
       "      <td>141.0</td>\n",
       "      <td>62.0</td>\n",
       "      <td>223.0</td>\n",
       "    </tr>\n",
       "    <tr>\n",
       "      <th>ROE5y_15_去掉配息率條件</th>\n",
       "      <td>2.39</td>\n",
       "      <td>-55.29</td>\n",
       "      <td>100.33</td>\n",
       "      <td>83.0</td>\n",
       "      <td>77.0</td>\n",
       "      <td>115.0</td>\n",
       "      <td>63.0</td>\n",
       "      <td>194.0</td>\n",
       "    </tr>\n",
       "    <tr>\n",
       "      <th>ROE3y_20_去掉配息率條件</th>\n",
       "      <td>2.39</td>\n",
       "      <td>-56.68</td>\n",
       "      <td>66.40</td>\n",
       "      <td>54.0</td>\n",
       "      <td>41.0</td>\n",
       "      <td>83.0</td>\n",
       "      <td>37.0</td>\n",
       "      <td>136.0</td>\n",
       "    </tr>\n",
       "    <tr>\n",
       "      <th>ROE5y_10_原始條件</th>\n",
       "      <td>2.31</td>\n",
       "      <td>-51.58</td>\n",
       "      <td>26.47</td>\n",
       "      <td>25.0</td>\n",
       "      <td>22.0</td>\n",
       "      <td>29.0</td>\n",
       "      <td>17.0</td>\n",
       "      <td>44.0</td>\n",
       "    </tr>\n",
       "    <tr>\n",
       "      <th>ROE3y_10_原始條件</th>\n",
       "      <td>2.16</td>\n",
       "      <td>-53.23</td>\n",
       "      <td>26.48</td>\n",
       "      <td>24.0</td>\n",
       "      <td>22.0</td>\n",
       "      <td>29.0</td>\n",
       "      <td>17.0</td>\n",
       "      <td>43.0</td>\n",
       "    </tr>\n",
       "    <tr>\n",
       "      <th>ROE3y_25_去掉配息率條件</th>\n",
       "      <td>2.11</td>\n",
       "      <td>-57.64</td>\n",
       "      <td>39.07</td>\n",
       "      <td>29.0</td>\n",
       "      <td>25.0</td>\n",
       "      <td>49.0</td>\n",
       "      <td>21.0</td>\n",
       "      <td>83.0</td>\n",
       "    </tr>\n",
       "    <tr>\n",
       "      <th>ROE4y_10_原始條件</th>\n",
       "      <td>1.78</td>\n",
       "      <td>-53.27</td>\n",
       "      <td>26.56</td>\n",
       "      <td>25.0</td>\n",
       "      <td>22.0</td>\n",
       "      <td>28.0</td>\n",
       "      <td>18.0</td>\n",
       "      <td>43.0</td>\n",
       "    </tr>\n",
       "    <tr>\n",
       "      <th>ROE5y_20_去掉配息率條件</th>\n",
       "      <td>1.71</td>\n",
       "      <td>-55.51</td>\n",
       "      <td>58.41</td>\n",
       "      <td>51.0</td>\n",
       "      <td>46.0</td>\n",
       "      <td>62.0</td>\n",
       "      <td>37.0</td>\n",
       "      <td>116.0</td>\n",
       "    </tr>\n",
       "    <tr>\n",
       "      <th>ROE4y_25_去掉配息率條件</th>\n",
       "      <td>1.63</td>\n",
       "      <td>-56.43</td>\n",
       "      <td>36.63</td>\n",
       "      <td>29.0</td>\n",
       "      <td>25.0</td>\n",
       "      <td>40.0</td>\n",
       "      <td>21.0</td>\n",
       "      <td>77.0</td>\n",
       "    </tr>\n",
       "    <tr>\n",
       "      <th>ROE4y_20_去掉配息率條件</th>\n",
       "      <td>1.28</td>\n",
       "      <td>-57.15</td>\n",
       "      <td>62.29</td>\n",
       "      <td>51.0</td>\n",
       "      <td>42.0</td>\n",
       "      <td>71.0</td>\n",
       "      <td>38.0</td>\n",
       "      <td>132.0</td>\n",
       "    </tr>\n",
       "    <tr>\n",
       "      <th>ROE4y_15_原始條件</th>\n",
       "      <td>0.91</td>\n",
       "      <td>-51.95</td>\n",
       "      <td>16.42</td>\n",
       "      <td>15.0</td>\n",
       "      <td>13.0</td>\n",
       "      <td>16.0</td>\n",
       "      <td>11.0</td>\n",
       "      <td>30.0</td>\n",
       "    </tr>\n",
       "    <tr>\n",
       "      <th>ROE5y_15_原始條件</th>\n",
       "      <td>0.82</td>\n",
       "      <td>-53.11</td>\n",
       "      <td>16.56</td>\n",
       "      <td>15.0</td>\n",
       "      <td>12.0</td>\n",
       "      <td>18.0</td>\n",
       "      <td>11.0</td>\n",
       "      <td>29.0</td>\n",
       "    </tr>\n",
       "    <tr>\n",
       "      <th>ROE3y_15_原始條件</th>\n",
       "      <td>-0.21</td>\n",
       "      <td>-54.22</td>\n",
       "      <td>16.95</td>\n",
       "      <td>15.0</td>\n",
       "      <td>14.0</td>\n",
       "      <td>18.0</td>\n",
       "      <td>11.0</td>\n",
       "      <td>30.0</td>\n",
       "    </tr>\n",
       "  </tbody>\n",
       "</table>\n",
       "</div>"
      ],
      "text/plain": [
       "                  CAGR (%)  MDD (%)  入選股數平均    中位數    25%    75%   Min    Max\n",
       "Strategy                                                                     \n",
       "ROE4y_25_原始條件         6.76   -49.50    7.49    7.0    6.0    9.0   5.0   11.0\n",
       "ROE5y_25_原始條件         6.59   -49.50    7.82    7.0    6.0   10.0   5.0   12.0\n",
       "ROE3y_30_原始條件         6.39   -50.98    4.78    5.0    4.0    5.0   3.0    7.0\n",
       "ROE3y_25_原始條件         5.48   -52.24    7.22    7.0    6.0    9.0   5.0   10.0\n",
       "ROE5y_30_原始條件         4.81   -55.49    5.45    6.0    4.0    7.0   3.0    8.0\n",
       "ROE3y_20_原始條件         4.07   -49.93   10.67   10.0    7.0   12.0   7.0   19.0\n",
       "ROE4y_30_原始條件         4.00   -56.20    5.01    5.0    4.0    6.0   4.0    7.0\n",
       "ROE3y_30_去掉配息率條件      3.83   -58.20   25.86   19.0   16.0   33.0  12.0   59.0\n",
       "ROE5y_20_原始條件         3.61   -50.51   11.18   10.0    9.0   13.0   8.0   17.0\n",
       "ROE4y_20_原始條件         3.27   -49.80   10.82   11.0    8.0   13.0   7.0   17.0\n",
       "ROE3y_10_去掉配息率條件      3.08   -57.13  158.60  148.0  112.0  195.0  90.0  283.0\n",
       "ROE5y_30_去掉配息率條件      2.96   -58.83   22.99   20.0   19.0   22.0  16.0   47.0\n",
       "ROE5y_10_去掉配息率條件      2.91   -57.54  149.34  132.0  118.0  169.0  88.0  270.0\n",
       "ROE4y_30_去掉配息率條件      2.82   -59.76   23.90   19.0   15.0   26.0  13.0   54.0\n",
       "ROE5y_25_去掉配息率條件      2.76   -54.41   34.01   29.0   27.0   32.0  22.0   69.0\n",
       "ROE4y_10_去掉配息率條件      2.72   -57.60  154.60  139.0  116.0  187.0  89.0  276.0\n",
       "ROE4y_15_去掉配息率條件      2.67   -56.23  108.96   95.0   78.0  131.0  65.0  213.0\n",
       "ROE3y_15_去掉配息率條件      2.55   -56.32  113.38  105.0   69.0  141.0  62.0  223.0\n",
       "ROE5y_15_去掉配息率條件      2.39   -55.29  100.33   83.0   77.0  115.0  63.0  194.0\n",
       "ROE3y_20_去掉配息率條件      2.39   -56.68   66.40   54.0   41.0   83.0  37.0  136.0\n",
       "ROE5y_10_原始條件         2.31   -51.58   26.47   25.0   22.0   29.0  17.0   44.0\n",
       "ROE3y_10_原始條件         2.16   -53.23   26.48   24.0   22.0   29.0  17.0   43.0\n",
       "ROE3y_25_去掉配息率條件      2.11   -57.64   39.07   29.0   25.0   49.0  21.0   83.0\n",
       "ROE4y_10_原始條件         1.78   -53.27   26.56   25.0   22.0   28.0  18.0   43.0\n",
       "ROE5y_20_去掉配息率條件      1.71   -55.51   58.41   51.0   46.0   62.0  37.0  116.0\n",
       "ROE4y_25_去掉配息率條件      1.63   -56.43   36.63   29.0   25.0   40.0  21.0   77.0\n",
       "ROE4y_20_去掉配息率條件      1.28   -57.15   62.29   51.0   42.0   71.0  38.0  132.0\n",
       "ROE4y_15_原始條件         0.91   -51.95   16.42   15.0   13.0   16.0  11.0   30.0\n",
       "ROE5y_15_原始條件         0.82   -53.11   16.56   15.0   12.0   18.0  11.0   29.0\n",
       "ROE3y_15_原始條件        -0.21   -54.22   16.95   15.0   14.0   18.0  11.0   30.0"
      ]
     },
     "execution_count": 64,
     "metadata": {},
     "output_type": "execute_result"
    }
   ],
   "source": [
    "roe_opts_collecs.selected_stock_count_analysis()"
   ]
  },
  {
   "cell_type": "code",
   "execution_count": 65,
   "metadata": {},
   "outputs": [
    {
     "data": {
      "image/png": "[encoded data removed]",
      "text/plain": [
       "<Figure size 3600x1000 with 1 Axes>"
      ]
     },
     "metadata": {},
     "output_type": "display_data"
    }
   ],
   "source": [
    "roe_opts_collecs.compare_strat_perform('去掉配息率條件', '原始條件')"
   ]
  },
  {
   "cell_type": "markdown",
   "metadata": {},
   "source": [
    "## ROE 5年平均 + 配息率調整"
   ]
  },
  {
   "cell_type": "code",
   "execution_count": 66,
   "metadata": {},
   "outputs": [
    {
     "name": "stderr",
     "output_type": "stream",
     "text": [
      "Backtesting progress: 100%|██████████| 96/96 [03:30<00:00,  2.20s/condition]\n"
     ]
    }
   ],
   "source": [
    "payout_roe_opts = {}\n",
    "\n",
    "conds_without_roe_payout = rr_cond & netprofit_cond & listed_cond #[START_DATE:END_DATE]\n",
    "\n",
    "for i in range(0, 56, 5):\n",
    "    # for j in range(10, 13, 2):\n",
    "    for k in range(10, 46, 5):\n",
    "\n",
    "        # ROE n年平均 > k%\n",
    "        df = roe.copy()\n",
    "        # 提取index的月份\n",
    "        df['month'] = df.index.month\n",
    "        # 依據月份分組，對每個月份的每5年計算平均\n",
    "        result = df.groupby('month', group_keys=False).apply(lambda group: group.rolling(5, min_periods=5).mean())\n",
    "        # 刪除用來group的欄位\n",
    "        roe_rol_opt_df = result.drop(columns='month')\n",
    "        roe_cond_opt = roe_rol_opt_df > (k / 100)\n",
    "\n",
    "        payout_ratio_cond_opt = payout_ratio_rol >= (i/100)\n",
    "        # per_entry_opt = (daily_pe.resample('M').last() < 12)\n",
    "\n",
    "        opt_payout_PER_cond = roe_cond_opt & payout_ratio_cond_opt & conds_without_roe_payout\n",
    "        \n",
    "\n",
    "        payout_roe_opts[f'配息_{i}%_ROE_{k}'] = (opt_payout_PER_cond[START_DATE:END_DATE] & daily_pe_entry[START_DATE:END_DATE]).hold_until((~opt_payout_PER_cond[START_DATE:END_DATE]) | daily_pe_exit[START_DATE:END_DATE]) [filtered_russell_1000_symbol]\n",
    "\n",
    "        # payout_roe_opts[f'配息_{i}%_ROE_{k}'] = opt_payout_PER_cond[START_DATE:END_DATE]\n",
    "\n",
    "        # payout_roe_opts[f'配息_{i}%_ROE_{k}'] = (opt_payout_PER_cond['2009-3':] & daily_pe_entry['2009-3':]).hold_until((~opt_payout_PER_cond['2009-3':]) | daily_pe_exit['2009-3':])\n",
    "\n",
    "payout_roe_opts_comb = sim_conditions(payout_roe_opts, resample='M', data=data)"
   ]
  },
  {
   "cell_type": "code",
   "execution_count": 67,
   "metadata": {},
   "outputs": [
    {
     "data": {
      "text/html": [
       "<div>\n",
       "<style scoped>\n",
       "    .dataframe tbody tr th:only-of-type {\n",
       "        vertical-align: middle;\n",
       "    }\n",
       "\n",
       "    .dataframe tbody tr th {\n",
       "        vertical-align: top;\n",
       "    }\n",
       "\n",
       "    .dataframe thead th {\n",
       "        text-align: right;\n",
       "    }\n",
       "</style>\n",
       "<table border=\"1\" class=\"dataframe\">\n",
       "  <thead>\n",
       "    <tr style=\"text-align: right;\">\n",
       "      <th></th>\n",
       "      <th>CAGR (%)</th>\n",
       "      <th>MDD (%)</th>\n",
       "      <th>入選股數平均</th>\n",
       "      <th>中位數</th>\n",
       "      <th>25%</th>\n",
       "      <th>75%</th>\n",
       "      <th>Min</th>\n",
       "      <th>Max</th>\n",
       "    </tr>\n",
       "    <tr>\n",
       "      <th>Strategy</th>\n",
       "      <th></th>\n",
       "      <th></th>\n",
       "      <th></th>\n",
       "      <th></th>\n",
       "      <th></th>\n",
       "      <th></th>\n",
       "      <th></th>\n",
       "      <th></th>\n",
       "    </tr>\n",
       "  </thead>\n",
       "  <tbody>\n",
       "    <tr>\n",
       "      <th>配息_45%_ROE_40</th>\n",
       "      <td>19.83</td>\n",
       "      <td>-34.11</td>\n",
       "      <td>1.32</td>\n",
       "      <td>1.0</td>\n",
       "      <td>0.0</td>\n",
       "      <td>2.0</td>\n",
       "      <td>0.0</td>\n",
       "      <td>3.0</td>\n",
       "    </tr>\n",
       "    <tr>\n",
       "      <th>配息_45%_ROE_35</th>\n",
       "      <td>17.29</td>\n",
       "      <td>-38.72</td>\n",
       "      <td>2.25</td>\n",
       "      <td>2.0</td>\n",
       "      <td>2.0</td>\n",
       "      <td>3.0</td>\n",
       "      <td>1.0</td>\n",
       "      <td>3.0</td>\n",
       "    </tr>\n",
       "    <tr>\n",
       "      <th>配息_50%_ROE_40</th>\n",
       "      <td>14.87</td>\n",
       "      <td>-34.11</td>\n",
       "      <td>0.52</td>\n",
       "      <td>1.0</td>\n",
       "      <td>0.0</td>\n",
       "      <td>1.0</td>\n",
       "      <td>0.0</td>\n",
       "      <td>1.0</td>\n",
       "    </tr>\n",
       "    <tr>\n",
       "      <th>配息_20%_ROE_45</th>\n",
       "      <td>14.43</td>\n",
       "      <td>-47.53</td>\n",
       "      <td>3.85</td>\n",
       "      <td>4.0</td>\n",
       "      <td>3.0</td>\n",
       "      <td>5.0</td>\n",
       "      <td>2.0</td>\n",
       "      <td>6.0</td>\n",
       "    </tr>\n",
       "    <tr>\n",
       "      <th>配息_0%_ROE_45</th>\n",
       "      <td>14.25</td>\n",
       "      <td>-47.05</td>\n",
       "      <td>5.29</td>\n",
       "      <td>5.0</td>\n",
       "      <td>4.0</td>\n",
       "      <td>6.0</td>\n",
       "      <td>3.0</td>\n",
       "      <td>10.0</td>\n",
       "    </tr>\n",
       "    <tr>\n",
       "      <th>...</th>\n",
       "      <td>...</td>\n",
       "      <td>...</td>\n",
       "      <td>...</td>\n",
       "      <td>...</td>\n",
       "      <td>...</td>\n",
       "      <td>...</td>\n",
       "      <td>...</td>\n",
       "      <td>...</td>\n",
       "    </tr>\n",
       "    <tr>\n",
       "      <th>配息_35%_ROE_15</th>\n",
       "      <td>3.06</td>\n",
       "      <td>-45.54</td>\n",
       "      <td>21.12</td>\n",
       "      <td>19.0</td>\n",
       "      <td>18.0</td>\n",
       "      <td>23.0</td>\n",
       "      <td>14.0</td>\n",
       "      <td>35.0</td>\n",
       "    </tr>\n",
       "    <tr>\n",
       "      <th>配息_5%_ROE_20</th>\n",
       "      <td>2.98</td>\n",
       "      <td>-52.45</td>\n",
       "      <td>40.04</td>\n",
       "      <td>35.0</td>\n",
       "      <td>32.0</td>\n",
       "      <td>47.0</td>\n",
       "      <td>25.0</td>\n",
       "      <td>72.0</td>\n",
       "    </tr>\n",
       "    <tr>\n",
       "      <th>配息_40%_ROE_15</th>\n",
       "      <td>2.78</td>\n",
       "      <td>-50.26</td>\n",
       "      <td>14.59</td>\n",
       "      <td>14.0</td>\n",
       "      <td>11.0</td>\n",
       "      <td>15.0</td>\n",
       "      <td>10.0</td>\n",
       "      <td>24.0</td>\n",
       "    </tr>\n",
       "    <tr>\n",
       "      <th>配息_25%_ROE_20</th>\n",
       "      <td>2.76</td>\n",
       "      <td>-44.79</td>\n",
       "      <td>23.10</td>\n",
       "      <td>23.0</td>\n",
       "      <td>21.0</td>\n",
       "      <td>26.0</td>\n",
       "      <td>13.0</td>\n",
       "      <td>36.0</td>\n",
       "    </tr>\n",
       "    <tr>\n",
       "      <th>配息_40%_ROE_10</th>\n",
       "      <td>2.37</td>\n",
       "      <td>-52.76</td>\n",
       "      <td>21.51</td>\n",
       "      <td>22.0</td>\n",
       "      <td>19.0</td>\n",
       "      <td>23.0</td>\n",
       "      <td>15.0</td>\n",
       "      <td>31.0</td>\n",
       "    </tr>\n",
       "  </tbody>\n",
       "</table>\n",
       "<p>96 rows × 8 columns</p>\n",
       "</div>"
      ],
      "text/plain": [
       "               CAGR (%)  MDD (%)  入選股數平均   中位數   25%   75%   Min   Max\n",
       "Strategy                                                              \n",
       "配息_45%_ROE_40     19.83   -34.11    1.32   1.0   0.0   2.0   0.0   3.0\n",
       "配息_45%_ROE_35     17.29   -38.72    2.25   2.0   2.0   3.0   1.0   3.0\n",
       "配息_50%_ROE_40     14.87   -34.11    0.52   1.0   0.0   1.0   0.0   1.0\n",
       "配息_20%_ROE_45     14.43   -47.53    3.85   4.0   3.0   5.0   2.0   6.0\n",
       "配息_0%_ROE_45      14.25   -47.05    5.29   5.0   4.0   6.0   3.0  10.0\n",
       "...                 ...      ...     ...   ...   ...   ...   ...   ...\n",
       "配息_35%_ROE_15      3.06   -45.54   21.12  19.0  18.0  23.0  14.0  35.0\n",
       "配息_5%_ROE_20       2.98   -52.45   40.04  35.0  32.0  47.0  25.0  72.0\n",
       "配息_40%_ROE_15      2.78   -50.26   14.59  14.0  11.0  15.0  10.0  24.0\n",
       "配息_25%_ROE_20      2.76   -44.79   23.10  23.0  21.0  26.0  13.0  36.0\n",
       "配息_40%_ROE_10      2.37   -52.76   21.51  22.0  19.0  23.0  15.0  31.0\n",
       "\n",
       "[96 rows x 8 columns]"
      ]
     },
     "execution_count": 67,
     "metadata": {},
     "output_type": "execute_result"
    }
   ],
   "source": [
    "payout_roe_opts_comb.selected_stock_count_analysis() #.to_csv('./performance_file/US/美股2003-2009_績效比較_配息率_ROE_test-241119.csv', encoding='cp950')"
   ]
  },
  {
   "cell_type": "code",
   "execution_count": 68,
   "metadata": {},
   "outputs": [],
   "source": [
    "\n",
    "# df = payout_roe_opts_comb.selected_stock_count_analysis()\n",
    "\n",
    "# # Extracting 'N' and 'X' values manually based on the new format \"配息_{N}%_ROE_{X}\"\n",
    "# df['N'] = df.index.map(lambda x: x.split('_')[1].replace('%', ''))  # Extracting 配息率 (N)\n",
    "# df['X'] = df.index.map(lambda x: x.split('_')[-1])                  # Extracting ROE (X)\n",
    "\n",
    "# # Converting to numeric types\n",
    "# df['N'] = pd.to_numeric(df['N'], errors='coerce')\n",
    "# df['X'] = pd.to_numeric(df['X'], errors='coerce')\n",
    "\n",
    "# # Pivoting data to create a matrix for heatmap with ROE (X) as columns and 配息率 (N) as rows\n",
    "# heatmap_data = df.pivot(index=\"X\", columns=\"N\", values=\"CAGR (%)\").sort_index(ascending=False)\n",
    "\n",
    "# # Plotting the heatmap with reversed Y-axis, in coolwarm color scheme, and custom labels\n",
    "# plt.figure(figsize=(16, 5))\n",
    "# sns.heatmap(heatmap_data, annot=True, fmt=\".1f\", cmap=\"coolwarm\", cbar_kws={'label': 'CAGR (%)'}, \n",
    "#             yticklabels=heatmap_data.index[:])\n",
    "# plt.xlabel(\"配息率三年至少 (%)\")\n",
    "# plt.ylabel(\"五年ROE平均 > N %\")\n",
    "# plt.title(\"【羅素1000】五年平均ROE + 配息率條件 2003~2009\")\n",
    "# plt.show()"
   ]
  },
  {
   "cell_type": "code",
   "execution_count": 69,
   "metadata": {},
   "outputs": [
    {
     "data": {
      "image/png": "[encoded data removed]",
      "text/plain": [
       "<Figure size 1600x500 with 2 Axes>"
      ]
     },
     "metadata": {},
     "output_type": "display_data"
    }
   ],
   "source": [
    "df = payout_roe_opts_comb.selected_stock_count_analysis()\n",
    "\n",
    "# Extracting 'N' and 'X' values manually based on the new format \"配息_{N}%_ROE_{X}\"\n",
    "df['N'] = df.index.map(lambda x: x.split('_')[1].replace('%', ''))  # Extracting 配息率 (N)\n",
    "df['X'] = df.index.map(lambda x: x.split('_')[-1])                  # Extracting ROE (X)\n",
    "\n",
    "# Converting to numeric types\n",
    "df['N'] = pd.to_numeric(df['N'], errors='coerce')\n",
    "df['X'] = pd.to_numeric(df['X'], errors='coerce')\n",
    "\n",
    "# Pivoting data to create a matrix for heatmap with ROE (X) as columns and 配息率 (N) as rows\n",
    "heatmap_data = df.pivot(index=\"X\", columns=\"N\", values=\"CAGR (%)\").sort_index(ascending=False)\n",
    "\n",
    "# Creating a mask for cells where 'Min' equals 0\n",
    "min_mask_raw = df.pivot(index=\"X\", columns=\"N\", values=\"Min\") == 0\n",
    "\n",
    "# Align mask with heatmap_data (ensure same index and columns)\n",
    "min_mask = min_mask_raw.reindex(index=heatmap_data.index, columns=heatmap_data.columns).fillna(False)\n",
    "\n",
    "# Custom colormap: using \"coolwarm\" for normal data and \"red\" for highlighted cells\n",
    "normal_cmap = sns.color_palette(\"coolwarm\", as_cmap=True)\n",
    "highlight_cmap = ListedColormap([\"gray\"])\n",
    "\n",
    "# Plotting the heatmap\n",
    "plt.figure(figsize=(16, 5))\n",
    "sns.heatmap(heatmap_data, annot=True, fmt=\".1f\", cmap=normal_cmap, cbar_kws={'label': 'CAGR (%)'}, \n",
    "            yticklabels=heatmap_data.index[:])\n",
    "\n",
    "# Overlay another heatmap for the highlighted cells\n",
    "sns.heatmap(heatmap_data, mask=~min_mask, cmap=highlight_cmap, cbar=False, annot=False)\n",
    "\n",
    "# Adding labels and title\n",
    "plt.xlabel(\"配息率三年至少 (%)\")\n",
    "plt.ylabel(\"五年ROE平均 > N %\")\n",
    "plt.title(\"【羅素1000】五年平均ROE + 配息率條件 2003~2009\")\n",
    "plt.show()"
   ]
  },
  {
   "cell_type": "code",
   "execution_count": 70,
   "metadata": {},
   "outputs": [],
   "source": [
    "# payout_roe_opts_comb.reports['配息_10%_ROE_45'].display()"
   ]
  },
  {
   "cell_type": "code",
   "execution_count": 71,
   "metadata": {},
   "outputs": [],
   "source": [
    "# p, _=payout_roe_opts_comb.reports['配息_0%_ROE_15'].calc_returns_contrib()"
   ]
  },
  {
   "cell_type": "code",
   "execution_count": 72,
   "metadata": {},
   "outputs": [],
   "source": [
    "# print(p[2008])"
   ]
  },
  {
   "cell_type": "markdown",
   "metadata": {},
   "source": [
    "---"
   ]
  },
  {
   "cell_type": "code",
   "execution_count": 73,
   "metadata": {},
   "outputs": [
    {
     "name": "stderr",
     "output_type": "stream",
     "text": [
      "Backtesting progress: 100%|██████████| 48/48 [01:56<00:00,  2.43s/condition]\n"
     ]
    }
   ],
   "source": [
    "payout_roe_pe_opts = {}\n",
    "\n",
    "conds_without_roe_payout = rr_cond & netprofit_cond & listed_cond #[START_DATE:END_DATE]\n",
    "\n",
    "# for i in range(0, 56, 5):\n",
    "#     # for j in range(10, 13, 2):\n",
    "for k in range(10, 46, 5):\n",
    "\n",
    "    for p in range(8, 19, 2):\n",
    "\n",
    "        # ROE n年平均 > k%\n",
    "        df = roe.copy()\n",
    "        # 提取index的月份\n",
    "        df['month'] = df.index.month\n",
    "        # 依據月份分組，對每個月份的每5年計算平均\n",
    "        result = df.groupby('month', group_keys=False).apply(lambda group: group.rolling(5, min_periods=5).mean())\n",
    "        # 刪除用來group的欄位\n",
    "        roe_rol_opt_df = result.drop(columns='month')\n",
    "        roe_cond_opt = roe_rol_opt_df > (k / 100)\n",
    "\n",
    "        payout_ratio_cond_opt = payout_ratio_rol >= 0.4\n",
    "\n",
    "        per_entry_opt = (pe_daily.resample('M').last() < p)\n",
    "\n",
    "        opt_payout_PER_cond = roe_cond_opt & payout_ratio_cond_opt & conds_without_roe_payout\n",
    "        \n",
    "\n",
    "        payout_roe_pe_opts[f'ROE_{k}_本益比{p}'] = (opt_payout_PER_cond[START_DATE:END_DATE] & per_entry_opt[START_DATE:END_DATE]).hold_until((~opt_payout_PER_cond[START_DATE:END_DATE]) | daily_pe_exit[START_DATE:END_DATE]) #[filtered_russell_1000_symbol]\n",
    "\n",
    "        # payout_roe_pe_opts[f'配息_{i}%_ROE_{k}'] = opt_payout_PER_cond[START_DATE:END_DATE]\n",
    "\n",
    "        # payout_roe_pe_opts[f'配息_{i}%_ROE_{k}'] = (opt_payout_PER_cond['2009-3':] & daily_pe_entry['2009-3':]).hold_until((~opt_payout_PER_cond['2009-3':]) | daily_pe_exit['2009-3':])\n",
    "\n",
    "payout_roe_pe_opts_comb = sim_conditions(payout_roe_pe_opts, resample='M', data=data)"
   ]
  },
  {
   "cell_type": "code",
   "execution_count": 74,
   "metadata": {},
   "outputs": [
    {
     "data": {
      "text/html": [
       "<div>\n",
       "<style scoped>\n",
       "    .dataframe tbody tr th:only-of-type {\n",
       "        vertical-align: middle;\n",
       "    }\n",
       "\n",
       "    .dataframe tbody tr th {\n",
       "        vertical-align: top;\n",
       "    }\n",
       "\n",
       "    .dataframe thead th {\n",
       "        text-align: right;\n",
       "    }\n",
       "</style>\n",
       "<table border=\"1\" class=\"dataframe\">\n",
       "  <thead>\n",
       "    <tr style=\"text-align: right;\">\n",
       "      <th></th>\n",
       "      <th>CAGR (%)</th>\n",
       "      <th>MDD (%)</th>\n",
       "      <th>入選股數平均</th>\n",
       "      <th>中位數</th>\n",
       "      <th>25%</th>\n",
       "      <th>75%</th>\n",
       "      <th>Min</th>\n",
       "      <th>Max</th>\n",
       "    </tr>\n",
       "    <tr>\n",
       "      <th>Strategy</th>\n",
       "      <th></th>\n",
       "      <th></th>\n",
       "      <th></th>\n",
       "      <th></th>\n",
       "      <th></th>\n",
       "      <th></th>\n",
       "      <th></th>\n",
       "      <th></th>\n",
       "    </tr>\n",
       "  </thead>\n",
       "  <tbody>\n",
       "    <tr>\n",
       "      <th>ROE_40_本益比8</th>\n",
       "      <td>16.32</td>\n",
       "      <td>-38.37</td>\n",
       "      <td>2.01</td>\n",
       "      <td>2.0</td>\n",
       "      <td>1.0</td>\n",
       "      <td>3.0</td>\n",
       "      <td>0.0</td>\n",
       "      <td>5.0</td>\n",
       "    </tr>\n",
       "    <tr>\n",
       "      <th>ROE_45_本益比8</th>\n",
       "      <td>11.17</td>\n",
       "      <td>-38.35</td>\n",
       "      <td>1.04</td>\n",
       "      <td>1.0</td>\n",
       "      <td>0.0</td>\n",
       "      <td>2.0</td>\n",
       "      <td>0.0</td>\n",
       "      <td>3.0</td>\n",
       "    </tr>\n",
       "    <tr>\n",
       "      <th>ROE_40_本益比14</th>\n",
       "      <td>9.91</td>\n",
       "      <td>-30.08</td>\n",
       "      <td>3.45</td>\n",
       "      <td>3.0</td>\n",
       "      <td>2.0</td>\n",
       "      <td>5.0</td>\n",
       "      <td>1.0</td>\n",
       "      <td>7.0</td>\n",
       "    </tr>\n",
       "    <tr>\n",
       "      <th>ROE_45_本益比14</th>\n",
       "      <td>8.80</td>\n",
       "      <td>-28.82</td>\n",
       "      <td>2.26</td>\n",
       "      <td>2.0</td>\n",
       "      <td>1.0</td>\n",
       "      <td>3.0</td>\n",
       "      <td>1.0</td>\n",
       "      <td>5.0</td>\n",
       "    </tr>\n",
       "    <tr>\n",
       "      <th>ROE_45_本益比16</th>\n",
       "      <td>8.70</td>\n",
       "      <td>-32.22</td>\n",
       "      <td>2.49</td>\n",
       "      <td>2.0</td>\n",
       "      <td>2.0</td>\n",
       "      <td>3.0</td>\n",
       "      <td>1.0</td>\n",
       "      <td>5.0</td>\n",
       "    </tr>\n",
       "    <tr>\n",
       "      <th>ROE_45_本益比18</th>\n",
       "      <td>8.49</td>\n",
       "      <td>-32.22</td>\n",
       "      <td>2.52</td>\n",
       "      <td>2.0</td>\n",
       "      <td>2.0</td>\n",
       "      <td>3.0</td>\n",
       "      <td>1.0</td>\n",
       "      <td>5.0</td>\n",
       "    </tr>\n",
       "    <tr>\n",
       "      <th>ROE_40_本益比16</th>\n",
       "      <td>8.29</td>\n",
       "      <td>-32.22</td>\n",
       "      <td>3.79</td>\n",
       "      <td>3.0</td>\n",
       "      <td>2.0</td>\n",
       "      <td>5.0</td>\n",
       "      <td>2.0</td>\n",
       "      <td>8.0</td>\n",
       "    </tr>\n",
       "    <tr>\n",
       "      <th>ROE_40_本益比12</th>\n",
       "      <td>7.74</td>\n",
       "      <td>-37.62</td>\n",
       "      <td>3.33</td>\n",
       "      <td>3.0</td>\n",
       "      <td>2.0</td>\n",
       "      <td>5.0</td>\n",
       "      <td>1.0</td>\n",
       "      <td>7.0</td>\n",
       "    </tr>\n",
       "    <tr>\n",
       "      <th>ROE_40_本益比18</th>\n",
       "      <td>7.67</td>\n",
       "      <td>-32.22</td>\n",
       "      <td>3.82</td>\n",
       "      <td>3.0</td>\n",
       "      <td>2.0</td>\n",
       "      <td>5.0</td>\n",
       "      <td>2.0</td>\n",
       "      <td>8.0</td>\n",
       "    </tr>\n",
       "    <tr>\n",
       "      <th>ROE_40_本益比10</th>\n",
       "      <td>7.48</td>\n",
       "      <td>-37.62</td>\n",
       "      <td>3.23</td>\n",
       "      <td>3.0</td>\n",
       "      <td>2.0</td>\n",
       "      <td>4.0</td>\n",
       "      <td>1.0</td>\n",
       "      <td>7.0</td>\n",
       "    </tr>\n",
       "    <tr>\n",
       "      <th>ROE_25_本益比12</th>\n",
       "      <td>6.59</td>\n",
       "      <td>-49.50</td>\n",
       "      <td>7.82</td>\n",
       "      <td>7.0</td>\n",
       "      <td>6.0</td>\n",
       "      <td>10.0</td>\n",
       "      <td>5.0</td>\n",
       "      <td>12.0</td>\n",
       "    </tr>\n",
       "    <tr>\n",
       "      <th>ROE_25_本益比10</th>\n",
       "      <td>6.44</td>\n",
       "      <td>-52.59</td>\n",
       "      <td>6.19</td>\n",
       "      <td>6.0</td>\n",
       "      <td>5.0</td>\n",
       "      <td>8.0</td>\n",
       "      <td>4.0</td>\n",
       "      <td>9.0</td>\n",
       "    </tr>\n",
       "    <tr>\n",
       "      <th>ROE_45_本益比10</th>\n",
       "      <td>6.36</td>\n",
       "      <td>-36.49</td>\n",
       "      <td>2.18</td>\n",
       "      <td>2.0</td>\n",
       "      <td>1.0</td>\n",
       "      <td>3.0</td>\n",
       "      <td>1.0</td>\n",
       "      <td>5.0</td>\n",
       "    </tr>\n",
       "    <tr>\n",
       "      <th>ROE_45_本益比12</th>\n",
       "      <td>6.36</td>\n",
       "      <td>-36.49</td>\n",
       "      <td>2.19</td>\n",
       "      <td>2.0</td>\n",
       "      <td>1.0</td>\n",
       "      <td>3.0</td>\n",
       "      <td>1.0</td>\n",
       "      <td>5.0</td>\n",
       "    </tr>\n",
       "    <tr>\n",
       "      <th>ROE_30_本益比16</th>\n",
       "      <td>5.81</td>\n",
       "      <td>-50.63</td>\n",
       "      <td>6.22</td>\n",
       "      <td>6.0</td>\n",
       "      <td>5.0</td>\n",
       "      <td>8.0</td>\n",
       "      <td>4.0</td>\n",
       "      <td>9.0</td>\n",
       "    </tr>\n",
       "    <tr>\n",
       "      <th>ROE_25_本益比14</th>\n",
       "      <td>5.81</td>\n",
       "      <td>-48.38</td>\n",
       "      <td>8.53</td>\n",
       "      <td>8.0</td>\n",
       "      <td>6.0</td>\n",
       "      <td>11.0</td>\n",
       "      <td>5.0</td>\n",
       "      <td>13.0</td>\n",
       "    </tr>\n",
       "    <tr>\n",
       "      <th>ROE_30_本益比18</th>\n",
       "      <td>5.47</td>\n",
       "      <td>-50.63</td>\n",
       "      <td>6.29</td>\n",
       "      <td>6.0</td>\n",
       "      <td>5.0</td>\n",
       "      <td>8.0</td>\n",
       "      <td>4.0</td>\n",
       "      <td>9.0</td>\n",
       "    </tr>\n",
       "    <tr>\n",
       "      <th>ROE_30_本益比14</th>\n",
       "      <td>5.41</td>\n",
       "      <td>-52.62</td>\n",
       "      <td>5.75</td>\n",
       "      <td>6.0</td>\n",
       "      <td>5.0</td>\n",
       "      <td>7.0</td>\n",
       "      <td>3.0</td>\n",
       "      <td>8.0</td>\n",
       "    </tr>\n",
       "    <tr>\n",
       "      <th>ROE_35_本益比16</th>\n",
       "      <td>5.38</td>\n",
       "      <td>-48.80</td>\n",
       "      <td>4.89</td>\n",
       "      <td>4.0</td>\n",
       "      <td>4.0</td>\n",
       "      <td>6.0</td>\n",
       "      <td>3.0</td>\n",
       "      <td>8.0</td>\n",
       "    </tr>\n",
       "    <tr>\n",
       "      <th>ROE_35_本益比14</th>\n",
       "      <td>5.36</td>\n",
       "      <td>-50.01</td>\n",
       "      <td>4.55</td>\n",
       "      <td>4.0</td>\n",
       "      <td>4.0</td>\n",
       "      <td>6.0</td>\n",
       "      <td>3.0</td>\n",
       "      <td>7.0</td>\n",
       "    </tr>\n",
       "    <tr>\n",
       "      <th>ROE_25_本益比18</th>\n",
       "      <td>5.19</td>\n",
       "      <td>-47.77</td>\n",
       "      <td>9.59</td>\n",
       "      <td>9.0</td>\n",
       "      <td>8.0</td>\n",
       "      <td>12.0</td>\n",
       "      <td>7.0</td>\n",
       "      <td>14.0</td>\n",
       "    </tr>\n",
       "    <tr>\n",
       "      <th>ROE_25_本益比16</th>\n",
       "      <td>5.15</td>\n",
       "      <td>-47.77</td>\n",
       "      <td>9.33</td>\n",
       "      <td>9.0</td>\n",
       "      <td>7.0</td>\n",
       "      <td>12.0</td>\n",
       "      <td>6.0</td>\n",
       "      <td>14.0</td>\n",
       "    </tr>\n",
       "    <tr>\n",
       "      <th>ROE_35_本益比18</th>\n",
       "      <td>5.04</td>\n",
       "      <td>-48.80</td>\n",
       "      <td>4.92</td>\n",
       "      <td>4.0</td>\n",
       "      <td>4.0</td>\n",
       "      <td>6.0</td>\n",
       "      <td>4.0</td>\n",
       "      <td>8.0</td>\n",
       "    </tr>\n",
       "    <tr>\n",
       "      <th>ROE_25_本益比8</th>\n",
       "      <td>5.00</td>\n",
       "      <td>-57.05</td>\n",
       "      <td>4.38</td>\n",
       "      <td>4.0</td>\n",
       "      <td>4.0</td>\n",
       "      <td>5.0</td>\n",
       "      <td>3.0</td>\n",
       "      <td>7.0</td>\n",
       "    </tr>\n",
       "    <tr>\n",
       "      <th>ROE_30_本益比12</th>\n",
       "      <td>4.81</td>\n",
       "      <td>-55.49</td>\n",
       "      <td>5.45</td>\n",
       "      <td>6.0</td>\n",
       "      <td>4.0</td>\n",
       "      <td>7.0</td>\n",
       "      <td>3.0</td>\n",
       "      <td>8.0</td>\n",
       "    </tr>\n",
       "    <tr>\n",
       "      <th>ROE_30_本益比10</th>\n",
       "      <td>4.67</td>\n",
       "      <td>-55.66</td>\n",
       "      <td>5.14</td>\n",
       "      <td>5.0</td>\n",
       "      <td>4.0</td>\n",
       "      <td>6.0</td>\n",
       "      <td>3.0</td>\n",
       "      <td>8.0</td>\n",
       "    </tr>\n",
       "    <tr>\n",
       "      <th>ROE_35_本益比12</th>\n",
       "      <td>4.31</td>\n",
       "      <td>-54.78</td>\n",
       "      <td>4.42</td>\n",
       "      <td>4.0</td>\n",
       "      <td>3.0</td>\n",
       "      <td>6.0</td>\n",
       "      <td>3.0</td>\n",
       "      <td>7.0</td>\n",
       "    </tr>\n",
       "    <tr>\n",
       "      <th>ROE_35_本益比10</th>\n",
       "      <td>4.15</td>\n",
       "      <td>-54.78</td>\n",
       "      <td>4.33</td>\n",
       "      <td>4.0</td>\n",
       "      <td>3.0</td>\n",
       "      <td>5.0</td>\n",
       "      <td>3.0</td>\n",
       "      <td>7.0</td>\n",
       "    </tr>\n",
       "    <tr>\n",
       "      <th>ROE_20_本益比8</th>\n",
       "      <td>3.70</td>\n",
       "      <td>-54.57</td>\n",
       "      <td>6.78</td>\n",
       "      <td>6.0</td>\n",
       "      <td>6.0</td>\n",
       "      <td>7.0</td>\n",
       "      <td>4.0</td>\n",
       "      <td>12.0</td>\n",
       "    </tr>\n",
       "    <tr>\n",
       "      <th>ROE_20_本益比12</th>\n",
       "      <td>3.61</td>\n",
       "      <td>-50.51</td>\n",
       "      <td>11.18</td>\n",
       "      <td>10.0</td>\n",
       "      <td>9.0</td>\n",
       "      <td>13.0</td>\n",
       "      <td>8.0</td>\n",
       "      <td>17.0</td>\n",
       "    </tr>\n",
       "    <tr>\n",
       "      <th>ROE_20_本益比10</th>\n",
       "      <td>3.38</td>\n",
       "      <td>-53.34</td>\n",
       "      <td>8.90</td>\n",
       "      <td>8.0</td>\n",
       "      <td>7.0</td>\n",
       "      <td>11.0</td>\n",
       "      <td>6.0</td>\n",
       "      <td>16.0</td>\n",
       "    </tr>\n",
       "    <tr>\n",
       "      <th>ROE_20_本益比14</th>\n",
       "      <td>3.17</td>\n",
       "      <td>-48.97</td>\n",
       "      <td>12.04</td>\n",
       "      <td>12.0</td>\n",
       "      <td>9.0</td>\n",
       "      <td>14.0</td>\n",
       "      <td>8.0</td>\n",
       "      <td>18.0</td>\n",
       "    </tr>\n",
       "    <tr>\n",
       "      <th>ROE_20_本益比18</th>\n",
       "      <td>2.97</td>\n",
       "      <td>-48.70</td>\n",
       "      <td>13.10</td>\n",
       "      <td>13.0</td>\n",
       "      <td>11.0</td>\n",
       "      <td>16.0</td>\n",
       "      <td>10.0</td>\n",
       "      <td>18.0</td>\n",
       "    </tr>\n",
       "    <tr>\n",
       "      <th>ROE_20_本益比16</th>\n",
       "      <td>2.89</td>\n",
       "      <td>-48.70</td>\n",
       "      <td>12.84</td>\n",
       "      <td>13.0</td>\n",
       "      <td>10.0</td>\n",
       "      <td>16.0</td>\n",
       "      <td>9.0</td>\n",
       "      <td>18.0</td>\n",
       "    </tr>\n",
       "    <tr>\n",
       "      <th>ROE_10_本益比8</th>\n",
       "      <td>2.83</td>\n",
       "      <td>-52.56</td>\n",
       "      <td>18.08</td>\n",
       "      <td>14.0</td>\n",
       "      <td>13.0</td>\n",
       "      <td>21.0</td>\n",
       "      <td>12.0</td>\n",
       "      <td>36.0</td>\n",
       "    </tr>\n",
       "    <tr>\n",
       "      <th>ROE_35_本益比8</th>\n",
       "      <td>2.72</td>\n",
       "      <td>-64.72</td>\n",
       "      <td>3.01</td>\n",
       "      <td>3.0</td>\n",
       "      <td>2.0</td>\n",
       "      <td>3.0</td>\n",
       "      <td>2.0</td>\n",
       "      <td>5.0</td>\n",
       "    </tr>\n",
       "    <tr>\n",
       "      <th>ROE_10_本益比18</th>\n",
       "      <td>2.42</td>\n",
       "      <td>-51.03</td>\n",
       "      <td>29.04</td>\n",
       "      <td>27.0</td>\n",
       "      <td>24.0</td>\n",
       "      <td>33.0</td>\n",
       "      <td>19.0</td>\n",
       "      <td>45.0</td>\n",
       "    </tr>\n",
       "    <tr>\n",
       "      <th>ROE_10_本益比14</th>\n",
       "      <td>2.33</td>\n",
       "      <td>-50.98</td>\n",
       "      <td>27.77</td>\n",
       "      <td>26.0</td>\n",
       "      <td>23.0</td>\n",
       "      <td>31.0</td>\n",
       "      <td>18.0</td>\n",
       "      <td>45.0</td>\n",
       "    </tr>\n",
       "    <tr>\n",
       "      <th>ROE_10_本益比12</th>\n",
       "      <td>2.31</td>\n",
       "      <td>-51.58</td>\n",
       "      <td>26.47</td>\n",
       "      <td>25.0</td>\n",
       "      <td>22.0</td>\n",
       "      <td>29.0</td>\n",
       "      <td>17.0</td>\n",
       "      <td>44.0</td>\n",
       "    </tr>\n",
       "    <tr>\n",
       "      <th>ROE_10_本益比16</th>\n",
       "      <td>2.28</td>\n",
       "      <td>-51.03</td>\n",
       "      <td>28.78</td>\n",
       "      <td>27.0</td>\n",
       "      <td>24.0</td>\n",
       "      <td>33.0</td>\n",
       "      <td>18.0</td>\n",
       "      <td>45.0</td>\n",
       "    </tr>\n",
       "    <tr>\n",
       "      <th>ROE_10_本益比10</th>\n",
       "      <td>2.23</td>\n",
       "      <td>-52.50</td>\n",
       "      <td>22.82</td>\n",
       "      <td>20.0</td>\n",
       "      <td>18.0</td>\n",
       "      <td>26.0</td>\n",
       "      <td>14.0</td>\n",
       "      <td>42.0</td>\n",
       "    </tr>\n",
       "    <tr>\n",
       "      <th>ROE_15_本益比18</th>\n",
       "      <td>1.01</td>\n",
       "      <td>-52.16</td>\n",
       "      <td>18.92</td>\n",
       "      <td>17.0</td>\n",
       "      <td>14.0</td>\n",
       "      <td>22.0</td>\n",
       "      <td>13.0</td>\n",
       "      <td>30.0</td>\n",
       "    </tr>\n",
       "    <tr>\n",
       "      <th>ROE_15_本益比14</th>\n",
       "      <td>0.93</td>\n",
       "      <td>-52.22</td>\n",
       "      <td>17.81</td>\n",
       "      <td>16.0</td>\n",
       "      <td>13.0</td>\n",
       "      <td>20.0</td>\n",
       "      <td>12.0</td>\n",
       "      <td>30.0</td>\n",
       "    </tr>\n",
       "    <tr>\n",
       "      <th>ROE_15_本益比16</th>\n",
       "      <td>0.83</td>\n",
       "      <td>-52.16</td>\n",
       "      <td>18.66</td>\n",
       "      <td>17.0</td>\n",
       "      <td>14.0</td>\n",
       "      <td>22.0</td>\n",
       "      <td>12.0</td>\n",
       "      <td>30.0</td>\n",
       "    </tr>\n",
       "    <tr>\n",
       "      <th>ROE_15_本益比12</th>\n",
       "      <td>0.82</td>\n",
       "      <td>-53.11</td>\n",
       "      <td>16.56</td>\n",
       "      <td>15.0</td>\n",
       "      <td>12.0</td>\n",
       "      <td>18.0</td>\n",
       "      <td>11.0</td>\n",
       "      <td>29.0</td>\n",
       "    </tr>\n",
       "    <tr>\n",
       "      <th>ROE_30_本益比8</th>\n",
       "      <td>0.69</td>\n",
       "      <td>-65.24</td>\n",
       "      <td>3.41</td>\n",
       "      <td>3.0</td>\n",
       "      <td>3.0</td>\n",
       "      <td>4.0</td>\n",
       "      <td>2.0</td>\n",
       "      <td>5.0</td>\n",
       "    </tr>\n",
       "    <tr>\n",
       "      <th>ROE_15_本益比8</th>\n",
       "      <td>0.41</td>\n",
       "      <td>-55.93</td>\n",
       "      <td>10.92</td>\n",
       "      <td>9.0</td>\n",
       "      <td>8.0</td>\n",
       "      <td>11.0</td>\n",
       "      <td>8.0</td>\n",
       "      <td>23.0</td>\n",
       "    </tr>\n",
       "    <tr>\n",
       "      <th>ROE_15_本益比10</th>\n",
       "      <td>0.28</td>\n",
       "      <td>-54.91</td>\n",
       "      <td>13.47</td>\n",
       "      <td>11.0</td>\n",
       "      <td>10.0</td>\n",
       "      <td>15.0</td>\n",
       "      <td>9.0</td>\n",
       "      <td>27.0</td>\n",
       "    </tr>\n",
       "  </tbody>\n",
       "</table>\n",
       "</div>"
      ],
      "text/plain": [
       "              CAGR (%)  MDD (%)  入選股數平均   中位數   25%   75%   Min   Max\n",
       "Strategy                                                             \n",
       "ROE_40_本益比8      16.32   -38.37    2.01   2.0   1.0   3.0   0.0   5.0\n",
       "ROE_45_本益比8      11.17   -38.35    1.04   1.0   0.0   2.0   0.0   3.0\n",
       "ROE_40_本益比14      9.91   -30.08    3.45   3.0   2.0   5.0   1.0   7.0\n",
       "ROE_45_本益比14      8.80   -28.82    2.26   2.0   1.0   3.0   1.0   5.0\n",
       "ROE_45_本益比16      8.70   -32.22    2.49   2.0   2.0   3.0   1.0   5.0\n",
       "ROE_45_本益比18      8.49   -32.22    2.52   2.0   2.0   3.0   1.0   5.0\n",
       "ROE_40_本益比16      8.29   -32.22    3.79   3.0   2.0   5.0   2.0   8.0\n",
       "ROE_40_本益比12      7.74   -37.62    3.33   3.0   2.0   5.0   1.0   7.0\n",
       "ROE_40_本益比18      7.67   -32.22    3.82   3.0   2.0   5.0   2.0   8.0\n",
       "ROE_40_本益比10      7.48   -37.62    3.23   3.0   2.0   4.0   1.0   7.0\n",
       "ROE_25_本益比12      6.59   -49.50    7.82   7.0   6.0  10.0   5.0  12.0\n",
       "ROE_25_本益比10      6.44   -52.59    6.19   6.0   5.0   8.0   4.0   9.0\n",
       "ROE_45_本益比10      6.36   -36.49    2.18   2.0   1.0   3.0   1.0   5.0\n",
       "ROE_45_本益比12      6.36   -36.49    2.19   2.0   1.0   3.0   1.0   5.0\n",
       "ROE_30_本益比16      5.81   -50.63    6.22   6.0   5.0   8.0   4.0   9.0\n",
       "ROE_25_本益比14      5.81   -48.38    8.53   8.0   6.0  11.0   5.0  13.0\n",
       "ROE_30_本益比18      5.47   -50.63    6.29   6.0   5.0   8.0   4.0   9.0\n",
       "ROE_30_本益比14      5.41   -52.62    5.75   6.0   5.0   7.0   3.0   8.0\n",
       "ROE_35_本益比16      5.38   -48.80    4.89   4.0   4.0   6.0   3.0   8.0\n",
       "ROE_35_本益比14      5.36   -50.01    4.55   4.0   4.0   6.0   3.0   7.0\n",
       "ROE_25_本益比18      5.19   -47.77    9.59   9.0   8.0  12.0   7.0  14.0\n",
       "ROE_25_本益比16      5.15   -47.77    9.33   9.0   7.0  12.0   6.0  14.0\n",
       "ROE_35_本益比18      5.04   -48.80    4.92   4.0   4.0   6.0   4.0   8.0\n",
       "ROE_25_本益比8       5.00   -57.05    4.38   4.0   4.0   5.0   3.0   7.0\n",
       "ROE_30_本益比12      4.81   -55.49    5.45   6.0   4.0   7.0   3.0   8.0\n",
       "ROE_30_本益比10      4.67   -55.66    5.14   5.0   4.0   6.0   3.0   8.0\n",
       "ROE_35_本益比12      4.31   -54.78    4.42   4.0   3.0   6.0   3.0   7.0\n",
       "ROE_35_本益比10      4.15   -54.78    4.33   4.0   3.0   5.0   3.0   7.0\n",
       "ROE_20_本益比8       3.70   -54.57    6.78   6.0   6.0   7.0   4.0  12.0\n",
       "ROE_20_本益比12      3.61   -50.51   11.18  10.0   9.0  13.0   8.0  17.0\n",
       "ROE_20_本益比10      3.38   -53.34    8.90   8.0   7.0  11.0   6.0  16.0\n",
       "ROE_20_本益比14      3.17   -48.97   12.04  12.0   9.0  14.0   8.0  18.0\n",
       "ROE_20_本益比18      2.97   -48.70   13.10  13.0  11.0  16.0  10.0  18.0\n",
       "ROE_20_本益比16      2.89   -48.70   12.84  13.0  10.0  16.0   9.0  18.0\n",
       "ROE_10_本益比8       2.83   -52.56   18.08  14.0  13.0  21.0  12.0  36.0\n",
       "ROE_35_本益比8       2.72   -64.72    3.01   3.0   2.0   3.0   2.0   5.0\n",
       "ROE_10_本益比18      2.42   -51.03   29.04  27.0  24.0  33.0  19.0  45.0\n",
       "ROE_10_本益比14      2.33   -50.98   27.77  26.0  23.0  31.0  18.0  45.0\n",
       "ROE_10_本益比12      2.31   -51.58   26.47  25.0  22.0  29.0  17.0  44.0\n",
       "ROE_10_本益比16      2.28   -51.03   28.78  27.0  24.0  33.0  18.0  45.0\n",
       "ROE_10_本益比10      2.23   -52.50   22.82  20.0  18.0  26.0  14.0  42.0\n",
       "ROE_15_本益比18      1.01   -52.16   18.92  17.0  14.0  22.0  13.0  30.0\n",
       "ROE_15_本益比14      0.93   -52.22   17.81  16.0  13.0  20.0  12.0  30.0\n",
       "ROE_15_本益比16      0.83   -52.16   18.66  17.0  14.0  22.0  12.0  30.0\n",
       "ROE_15_本益比12      0.82   -53.11   16.56  15.0  12.0  18.0  11.0  29.0\n",
       "ROE_30_本益比8       0.69   -65.24    3.41   3.0   3.0   4.0   2.0   5.0\n",
       "ROE_15_本益比8       0.41   -55.93   10.92   9.0   8.0  11.0   8.0  23.0\n",
       "ROE_15_本益比10      0.28   -54.91   13.47  11.0  10.0  15.0   9.0  27.0"
      ]
     },
     "execution_count": 74,
     "metadata": {},
     "output_type": "execute_result"
    }
   ],
   "source": [
    "payout_roe_pe_opts_comb.selected_stock_count_analysis()"
   ]
  },
  {
   "cell_type": "code",
   "execution_count": 75,
   "metadata": {},
   "outputs": [],
   "source": [
    "df_roe_pe = payout_roe_pe_opts_comb.selected_stock_count_analysis()"
   ]
  },
  {
   "cell_type": "code",
   "execution_count": 76,
   "metadata": {},
   "outputs": [],
   "source": [
    "import re\n",
    "\n",
    "# 提取 N 和 K\n",
    "def extract_values(index):\n",
    "    match = re.match(r\"ROE_(\\d+)_本益比(\\d+)\", index)\n",
    "    if match:\n",
    "        return int(match.group(1)), int(match.group(2))\n",
    "    return None, None\n",
    "\n",
    "# 解析出 ROE (N) 和 本益比 (K)\n",
    "df_roe_pe['ROE_N'], df_roe_pe['PE_K'] = zip(*df_roe_pe.index.map(extract_values))"
   ]
  },
  {
   "cell_type": "code",
   "execution_count": 77,
   "metadata": {},
   "outputs": [
    {
     "data": {
      "image/png": "[encoded data removed]",
      "text/plain": [
       "<Figure size 1000x600 with 1 Axes>"
      ]
     },
     "metadata": {},
     "output_type": "display_data"
    }
   ],
   "source": [
    "# 過濾掉 Min 為 0 的行\n",
    "filtered_df = df_roe_pe[df_roe_pe['Min'] != 0]\n",
    "\n",
    "# 按照本益比分類繪製折線圖\n",
    "plt.figure(figsize=(10, 6))\n",
    "\n",
    "for pe_k, group in filtered_df.groupby('PE_K'):\n",
    "    group_sorted = group.sort_values('ROE_N')\n",
    "    plt.plot(group_sorted['ROE_N'], group_sorted['CAGR (%)'], marker='o', label=f\"本益比 <{pe_k}\")\n",
    "\n",
    "# 繪製圖表\n",
    "plt.title(\"ROE 五年平均 + 本益比進場條件（過濾掉入選最少股數 = 0）\")\n",
    "plt.xlabel(\"ROE 五年平均 (%)\")\n",
    "plt.ylabel(\"CAGR (%)\")\n",
    "plt.legend(title=\"本益比進場條件\")\n",
    "plt.grid()\n",
    "plt.show()"
   ]
  },
  {
   "cell_type": "markdown",
   "metadata": {},
   "source": [
    "---"
   ]
  },
  {
   "cell_type": "code",
   "execution_count": 78,
   "metadata": {},
   "outputs": [
    {
     "name": "stderr",
     "output_type": "stream",
     "text": [
      "Backtesting progress: 100%|██████████| 90/90 [02:57<00:00,  1.97s/condition]\n"
     ]
    },
    {
     "data": {
      "text/html": [
       "<div>\n",
       "<style scoped>\n",
       "    .dataframe tbody tr th:only-of-type {\n",
       "        vertical-align: middle;\n",
       "    }\n",
       "\n",
       "    .dataframe tbody tr th {\n",
       "        vertical-align: top;\n",
       "    }\n",
       "\n",
       "    .dataframe thead th {\n",
       "        text-align: right;\n",
       "    }\n",
       "</style>\n",
       "<table border=\"1\" class=\"dataframe\">\n",
       "  <thead>\n",
       "    <tr style=\"text-align: right;\">\n",
       "      <th></th>\n",
       "      <th>CAGR (%)</th>\n",
       "      <th>MDD (%)</th>\n",
       "      <th>入選股數平均</th>\n",
       "      <th>中位數</th>\n",
       "      <th>25%</th>\n",
       "      <th>75%</th>\n",
       "      <th>Min</th>\n",
       "      <th>Max</th>\n",
       "    </tr>\n",
       "    <tr>\n",
       "      <th>Strategy</th>\n",
       "      <th></th>\n",
       "      <th></th>\n",
       "      <th></th>\n",
       "      <th></th>\n",
       "      <th></th>\n",
       "      <th></th>\n",
       "      <th></th>\n",
       "      <th></th>\n",
       "    </tr>\n",
       "  </thead>\n",
       "  <tbody>\n",
       "    <tr>\n",
       "      <th>盈再率_15_本益比8</th>\n",
       "      <td>4.15</td>\n",
       "      <td>-57.07</td>\n",
       "      <td>8.97</td>\n",
       "      <td>8.0</td>\n",
       "      <td>7.0</td>\n",
       "      <td>8.0</td>\n",
       "      <td>5.0</td>\n",
       "      <td>19.0</td>\n",
       "    </tr>\n",
       "    <tr>\n",
       "      <th>盈再率_10_本益比8</th>\n",
       "      <td>4.06</td>\n",
       "      <td>-57.90</td>\n",
       "      <td>7.59</td>\n",
       "      <td>6.0</td>\n",
       "      <td>6.0</td>\n",
       "      <td>7.0</td>\n",
       "      <td>4.0</td>\n",
       "      <td>17.0</td>\n",
       "    </tr>\n",
       "    <tr>\n",
       "      <th>盈再率_15_本益比18</th>\n",
       "      <td>3.50</td>\n",
       "      <td>-52.68</td>\n",
       "      <td>14.99</td>\n",
       "      <td>14.0</td>\n",
       "      <td>12.0</td>\n",
       "      <td>17.0</td>\n",
       "      <td>10.0</td>\n",
       "      <td>24.0</td>\n",
       "    </tr>\n",
       "    <tr>\n",
       "      <th>盈再率_15_本益比16</th>\n",
       "      <td>3.37</td>\n",
       "      <td>-52.68</td>\n",
       "      <td>14.77</td>\n",
       "      <td>14.0</td>\n",
       "      <td>11.0</td>\n",
       "      <td>17.0</td>\n",
       "      <td>9.0</td>\n",
       "      <td>24.0</td>\n",
       "    </tr>\n",
       "    <tr>\n",
       "      <th>盈再率_15_本益比14</th>\n",
       "      <td>3.37</td>\n",
       "      <td>-52.52</td>\n",
       "      <td>14.15</td>\n",
       "      <td>13.0</td>\n",
       "      <td>11.0</td>\n",
       "      <td>16.0</td>\n",
       "      <td>9.0</td>\n",
       "      <td>24.0</td>\n",
       "    </tr>\n",
       "    <tr>\n",
       "      <th>...</th>\n",
       "      <td>...</td>\n",
       "      <td>...</td>\n",
       "      <td>...</td>\n",
       "      <td>...</td>\n",
       "      <td>...</td>\n",
       "      <td>...</td>\n",
       "      <td>...</td>\n",
       "      <td>...</td>\n",
       "    </tr>\n",
       "    <tr>\n",
       "      <th>盈再率_50_本益比10</th>\n",
       "      <td>-0.36</td>\n",
       "      <td>-55.01</td>\n",
       "      <td>14.60</td>\n",
       "      <td>12.0</td>\n",
       "      <td>11.0</td>\n",
       "      <td>17.0</td>\n",
       "      <td>10.0</td>\n",
       "      <td>27.0</td>\n",
       "    </tr>\n",
       "    <tr>\n",
       "      <th>盈再率_55_本益比10</th>\n",
       "      <td>-0.36</td>\n",
       "      <td>-55.01</td>\n",
       "      <td>14.62</td>\n",
       "      <td>12.0</td>\n",
       "      <td>11.0</td>\n",
       "      <td>17.0</td>\n",
       "      <td>10.0</td>\n",
       "      <td>27.0</td>\n",
       "    </tr>\n",
       "    <tr>\n",
       "      <th>盈再率_80_本益比8</th>\n",
       "      <td>-0.48</td>\n",
       "      <td>-56.31</td>\n",
       "      <td>14.67</td>\n",
       "      <td>14.0</td>\n",
       "      <td>12.0</td>\n",
       "      <td>16.0</td>\n",
       "      <td>12.0</td>\n",
       "      <td>25.0</td>\n",
       "    </tr>\n",
       "    <tr>\n",
       "      <th>盈再率_75_本益比8</th>\n",
       "      <td>-0.50</td>\n",
       "      <td>-56.31</td>\n",
       "      <td>14.49</td>\n",
       "      <td>13.0</td>\n",
       "      <td>12.0</td>\n",
       "      <td>16.0</td>\n",
       "      <td>11.0</td>\n",
       "      <td>25.0</td>\n",
       "    </tr>\n",
       "    <tr>\n",
       "      <th>盈再率_65_本益比8</th>\n",
       "      <td>-0.58</td>\n",
       "      <td>-56.45</td>\n",
       "      <td>13.62</td>\n",
       "      <td>13.0</td>\n",
       "      <td>11.0</td>\n",
       "      <td>14.0</td>\n",
       "      <td>10.0</td>\n",
       "      <td>25.0</td>\n",
       "    </tr>\n",
       "  </tbody>\n",
       "</table>\n",
       "<p>90 rows × 8 columns</p>\n",
       "</div>"
      ],
      "text/plain": [
       "              CAGR (%)  MDD (%)  入選股數平均   中位數   25%   75%   Min   Max\n",
       "Strategy                                                             \n",
       "盈再率_15_本益比8       4.15   -57.07    8.97   8.0   7.0   8.0   5.0  19.0\n",
       "盈再率_10_本益比8       4.06   -57.90    7.59   6.0   6.0   7.0   4.0  17.0\n",
       "盈再率_15_本益比18      3.50   -52.68   14.99  14.0  12.0  17.0  10.0  24.0\n",
       "盈再率_15_本益比16      3.37   -52.68   14.77  14.0  11.0  17.0   9.0  24.0\n",
       "盈再率_15_本益比14      3.37   -52.52   14.15  13.0  11.0  16.0   9.0  24.0\n",
       "...                ...      ...     ...   ...   ...   ...   ...   ...\n",
       "盈再率_50_本益比10     -0.36   -55.01   14.60  12.0  11.0  17.0  10.0  27.0\n",
       "盈再率_55_本益比10     -0.36   -55.01   14.62  12.0  11.0  17.0  10.0  27.0\n",
       "盈再率_80_本益比8      -0.48   -56.31   14.67  14.0  12.0  16.0  12.0  25.0\n",
       "盈再率_75_本益比8      -0.50   -56.31   14.49  13.0  12.0  16.0  11.0  25.0\n",
       "盈再率_65_本益比8      -0.58   -56.45   13.62  13.0  11.0  14.0  10.0  25.0\n",
       "\n",
       "[90 rows x 8 columns]"
      ]
     },
     "execution_count": 78,
     "metadata": {},
     "output_type": "execute_result"
    }
   ],
   "source": [
    "rr_pe_opts = {}\n",
    "\n",
    "conds_without_rr = roe_cond & payout_cond & netprofit_cond & listed_cond #[START_DATE:END_DATE]\n",
    "\n",
    "# for i in range(0, 56, 5):\n",
    "#     # for j in range(10, 13, 2):\n",
    "for k in range(10, 81, 5):\n",
    "\n",
    "    for p in range(8, 19, 2):\n",
    "\n",
    "        rr_cond_opt = rr < (k / 100)\n",
    "\n",
    "        per_entry_opt = (pe_daily.resample('M').last() < p)\n",
    "\n",
    "        opt_rr_PER_cond = conds_without_rr & rr_cond_opt\n",
    "        \n",
    "\n",
    "        rr_pe_opts[f'盈再率_{k}_本益比{p}'] = (opt_rr_PER_cond[START_DATE:END_DATE] & per_entry_opt[START_DATE:END_DATE]).hold_until((~opt_rr_PER_cond[START_DATE:END_DATE]) | daily_pe_exit[START_DATE:END_DATE]) #[filtered_russell_1000_symbol]\n",
    "\n",
    "        # payout_roe_pe_opts[f'配息_{i}%_ROE_{k}'] = opt_payout_PER_cond[START_DATE:END_DATE]\n",
    "\n",
    "        # payout_roe_pe_opts[f'配息_{i}%_ROE_{k}'] = (opt_payout_PER_cond['2009-3':] & daily_pe_entry['2009-3':]).hold_until((~opt_payout_PER_cond['2009-3':]) | daily_pe_exit['2009-3':])\n",
    "\n",
    "rr_pe_opts_comb = sim_conditions(rr_pe_opts, resample='M', data=data)\n",
    "rr_pe_opts_comb.selected_stock_count_analysis()"
   ]
  },
  {
   "cell_type": "code",
   "execution_count": 79,
   "metadata": {},
   "outputs": [],
   "source": [
    "df_rr_pe = rr_pe_opts_comb.selected_stock_count_analysis()"
   ]
  },
  {
   "cell_type": "code",
   "execution_count": 80,
   "metadata": {},
   "outputs": [
    {
     "data": {
      "image/png": "[encoded data removed]",
      "text/plain": [
       "<Figure size 1000x600 with 1 Axes>"
      ]
     },
     "metadata": {},
     "output_type": "display_data"
    }
   ],
   "source": [
    "# 提取 N 和 K\n",
    "def extract_values(index):\n",
    "    match = re.match(r\"盈再率_(\\d+)_本益比(\\d+)\", index)\n",
    "    if match:\n",
    "        return int(match.group(1)), int(match.group(2))\n",
    "    return None, None\n",
    "\n",
    "# 解析出 ROE (N) 和 本益比 (K)\n",
    "df_rr_pe['盈再率_N'], df_rr_pe['PE_K'] = zip(*df_rr_pe.index.map(extract_values))\n",
    "\n",
    "# 過濾掉 Min 為 0 的行\n",
    "filtered_df = df_rr_pe[df_rr_pe['Min'] != 0]\n",
    "\n",
    "# 按照本益比分類繪製折線圖\n",
    "plt.figure(figsize=(10, 6))\n",
    "\n",
    "for pe_k, group in filtered_df.groupby('PE_K'):\n",
    "    group_sorted = group.sort_values('盈再率_N')\n",
    "    plt.plot(group_sorted['盈再率_N'], group_sorted['CAGR (%)'], marker='o', label=f\"本益比 <{pe_k}\")\n",
    "\n",
    "# 繪製圖表\n",
    "plt.axhline(0., color='r', linestyle='--', linewidth=0.4)\n",
    "plt.title(\"盈再率 + 本益比進場條件\")\n",
    "plt.xlabel(\"盈再率 (%)\")\n",
    "plt.ylabel(\"CAGR (%)\")\n",
    "plt.legend(title=\"本益比進場條件\")\n",
    "plt.grid()\n",
    "plt.show()"
   ]
  },
  {
   "cell_type": "code",
   "execution_count": 81,
   "metadata": {},
   "outputs": [
    {
     "name": "stderr",
     "output_type": "stream",
     "text": [
      "Backtesting progress: 100%|██████████| 150/150 [04:24<00:00,  1.76s/condition]\n"
     ]
    },
    {
     "data": {
      "text/html": [
       "<div>\n",
       "<style scoped>\n",
       "    .dataframe tbody tr th:only-of-type {\n",
       "        vertical-align: middle;\n",
       "    }\n",
       "\n",
       "    .dataframe tbody tr th {\n",
       "        vertical-align: top;\n",
       "    }\n",
       "\n",
       "    .dataframe thead th {\n",
       "        text-align: right;\n",
       "    }\n",
       "</style>\n",
       "<table border=\"1\" class=\"dataframe\">\n",
       "  <thead>\n",
       "    <tr style=\"text-align: right;\">\n",
       "      <th></th>\n",
       "      <th>CAGR (%)</th>\n",
       "      <th>MDD (%)</th>\n",
       "      <th>入選股數平均</th>\n",
       "      <th>中位數</th>\n",
       "      <th>25%</th>\n",
       "      <th>75%</th>\n",
       "      <th>Min</th>\n",
       "      <th>Max</th>\n",
       "    </tr>\n",
       "    <tr>\n",
       "      <th>Strategy</th>\n",
       "      <th></th>\n",
       "      <th></th>\n",
       "      <th></th>\n",
       "      <th></th>\n",
       "      <th></th>\n",
       "      <th></th>\n",
       "      <th></th>\n",
       "      <th></th>\n",
       "    </tr>\n",
       "  </thead>\n",
       "  <tbody>\n",
       "    <tr>\n",
       "      <th>盈再率_15_ROE_40</th>\n",
       "      <td>20.03</td>\n",
       "      <td>-34.11</td>\n",
       "      <td>2.68</td>\n",
       "      <td>3.0</td>\n",
       "      <td>1.0</td>\n",
       "      <td>4.0</td>\n",
       "      <td>0.0</td>\n",
       "      <td>6.0</td>\n",
       "    </tr>\n",
       "    <tr>\n",
       "      <th>盈再率_10_ROE_40</th>\n",
       "      <td>18.97</td>\n",
       "      <td>-34.11</td>\n",
       "      <td>2.33</td>\n",
       "      <td>2.0</td>\n",
       "      <td>1.0</td>\n",
       "      <td>4.0</td>\n",
       "      <td>0.0</td>\n",
       "      <td>5.0</td>\n",
       "    </tr>\n",
       "    <tr>\n",
       "      <th>盈再率_15_ROE_45</th>\n",
       "      <td>12.28</td>\n",
       "      <td>-19.38</td>\n",
       "      <td>1.88</td>\n",
       "      <td>2.0</td>\n",
       "      <td>0.0</td>\n",
       "      <td>3.0</td>\n",
       "      <td>0.0</td>\n",
       "      <td>5.0</td>\n",
       "    </tr>\n",
       "    <tr>\n",
       "      <th>盈再率_20_ROE_40</th>\n",
       "      <td>12.12</td>\n",
       "      <td>-43.80</td>\n",
       "      <td>3.01</td>\n",
       "      <td>3.0</td>\n",
       "      <td>1.0</td>\n",
       "      <td>4.0</td>\n",
       "      <td>1.0</td>\n",
       "      <td>7.0</td>\n",
       "    </tr>\n",
       "    <tr>\n",
       "      <th>盈再率_10_ROE_45</th>\n",
       "      <td>11.44</td>\n",
       "      <td>-19.38</td>\n",
       "      <td>1.68</td>\n",
       "      <td>2.0</td>\n",
       "      <td>0.0</td>\n",
       "      <td>3.0</td>\n",
       "      <td>0.0</td>\n",
       "      <td>4.0</td>\n",
       "    </tr>\n",
       "    <tr>\n",
       "      <th>...</th>\n",
       "      <td>...</td>\n",
       "      <td>...</td>\n",
       "      <td>...</td>\n",
       "      <td>...</td>\n",
       "      <td>...</td>\n",
       "      <td>...</td>\n",
       "      <td>...</td>\n",
       "      <td>...</td>\n",
       "    </tr>\n",
       "    <tr>\n",
       "      <th>盈再率_70_ROE_15</th>\n",
       "      <td>0.26</td>\n",
       "      <td>-53.14</td>\n",
       "      <td>20.71</td>\n",
       "      <td>20.0</td>\n",
       "      <td>18.0</td>\n",
       "      <td>24.0</td>\n",
       "      <td>15.0</td>\n",
       "      <td>29.0</td>\n",
       "    </tr>\n",
       "    <tr>\n",
       "      <th>盈再率_65_ROE_15</th>\n",
       "      <td>0.20</td>\n",
       "      <td>-53.05</td>\n",
       "      <td>19.89</td>\n",
       "      <td>20.0</td>\n",
       "      <td>17.0</td>\n",
       "      <td>22.0</td>\n",
       "      <td>14.0</td>\n",
       "      <td>29.0</td>\n",
       "    </tr>\n",
       "    <tr>\n",
       "      <th>盈再率_55_ROE_15</th>\n",
       "      <td>0.19</td>\n",
       "      <td>-53.27</td>\n",
       "      <td>17.97</td>\n",
       "      <td>17.0</td>\n",
       "      <td>14.0</td>\n",
       "      <td>21.0</td>\n",
       "      <td>12.0</td>\n",
       "      <td>29.0</td>\n",
       "    </tr>\n",
       "    <tr>\n",
       "      <th>盈再率_80_ROE_15</th>\n",
       "      <td>0.16</td>\n",
       "      <td>-53.14</td>\n",
       "      <td>21.22</td>\n",
       "      <td>21.0</td>\n",
       "      <td>19.0</td>\n",
       "      <td>24.0</td>\n",
       "      <td>16.0</td>\n",
       "      <td>29.0</td>\n",
       "    </tr>\n",
       "    <tr>\n",
       "      <th>盈再率_75_ROE_15</th>\n",
       "      <td>0.16</td>\n",
       "      <td>-53.14</td>\n",
       "      <td>21.04</td>\n",
       "      <td>21.0</td>\n",
       "      <td>18.0</td>\n",
       "      <td>24.0</td>\n",
       "      <td>16.0</td>\n",
       "      <td>29.0</td>\n",
       "    </tr>\n",
       "  </tbody>\n",
       "</table>\n",
       "<p>150 rows × 8 columns</p>\n",
       "</div>"
      ],
      "text/plain": [
       "               CAGR (%)  MDD (%)  入選股數平均   中位數   25%   75%   Min   Max\n",
       "Strategy                                                              \n",
       "盈再率_15_ROE_40     20.03   -34.11    2.68   3.0   1.0   4.0   0.0   6.0\n",
       "盈再率_10_ROE_40     18.97   -34.11    2.33   2.0   1.0   4.0   0.0   5.0\n",
       "盈再率_15_ROE_45     12.28   -19.38    1.88   2.0   0.0   3.0   0.0   5.0\n",
       "盈再率_20_ROE_40     12.12   -43.80    3.01   3.0   1.0   4.0   1.0   7.0\n",
       "盈再率_10_ROE_45     11.44   -19.38    1.68   2.0   0.0   3.0   0.0   4.0\n",
       "...                 ...      ...     ...   ...   ...   ...   ...   ...\n",
       "盈再率_70_ROE_15      0.26   -53.14   20.71  20.0  18.0  24.0  15.0  29.0\n",
       "盈再率_65_ROE_15      0.20   -53.05   19.89  20.0  17.0  22.0  14.0  29.0\n",
       "盈再率_55_ROE_15      0.19   -53.27   17.97  17.0  14.0  21.0  12.0  29.0\n",
       "盈再率_80_ROE_15      0.16   -53.14   21.22  21.0  19.0  24.0  16.0  29.0\n",
       "盈再率_75_ROE_15      0.16   -53.14   21.04  21.0  18.0  24.0  16.0  29.0\n",
       "\n",
       "[150 rows x 8 columns]"
      ]
     },
     "execution_count": 81,
     "metadata": {},
     "output_type": "execute_result"
    }
   ],
   "source": [
    "rr_roe_opts = {}\n",
    "\n",
    "conds_without_rr_roe = payout_cond & netprofit_cond & listed_cond\n",
    "\n",
    "# for i in range(0, 56, 5):\n",
    "#     # for j in range(10, 13, 2):\n",
    "for k in range(10, 81, 5):\n",
    "\n",
    "    for n in range(10, 56, 5):\n",
    "\n",
    "        rr_cond_opt = rr < (k / 100)\n",
    "\n",
    "        # ROE n年平均 > k%\n",
    "        df = roe.copy()\n",
    "        # 提取index的月份\n",
    "        df['month'] = df.index.month\n",
    "        # 依據月份分組，對每個月份的每5年計算平均\n",
    "        result = df.groupby('month', group_keys=False).apply(lambda group: group.rolling(5, min_periods=5).mean())\n",
    "        # 刪除用來group的欄位\n",
    "        roe_rol_opt_df = result.drop(columns='month')\n",
    "        roe_cond_opt = roe_rol_opt_df > (n / 100)\n",
    "\n",
    "        opt_rr_roe_cond = roe_cond_opt & rr_cond_opt & conds_without_rr_roe\n",
    "        \n",
    "\n",
    "        rr_roe_opts[f'盈再率_{k}_ROE_{n}'] = (opt_rr_roe_cond[START_DATE:END_DATE] & daily_pe_entry[START_DATE:END_DATE]).hold_until((~opt_rr_roe_cond[START_DATE:END_DATE]) | daily_pe_exit[START_DATE:END_DATE]) #[filtered_russell_1000_symbol]\n",
    "\n",
    "        # payout_roe_pe_opts[f'配息_{i}%_ROE_{k}'] = opt_payout_PER_cond[START_DATE:END_DATE]\n",
    "\n",
    "        # payout_roe_pe_opts[f'配息_{i}%_ROE_{k}'] = (opt_payout_PER_cond['2009-3':] & daily_pe_entry['2009-3':]).hold_until((~opt_payout_PER_cond['2009-3':]) | daily_pe_exit['2009-3':])\n",
    "\n",
    "rr_roe_opts_comb = sim_conditions(rr_roe_opts, resample='M', data=data)\n",
    "rr_roe_opts_comb.selected_stock_count_analysis()"
   ]
  },
  {
   "cell_type": "code",
   "execution_count": 82,
   "metadata": {},
   "outputs": [
    {
     "data": {
      "image/png": "[encoded data removed]",
      "text/plain": [
       "<Figure size 1600x500 with 2 Axes>"
      ]
     },
     "metadata": {},
     "output_type": "display_data"
    }
   ],
   "source": [
    "df = rr_roe_opts_comb.selected_stock_count_analysis()\n",
    "\n",
    "# Extracting 'N' and 'X' values manually based on the new format \"配息_{N}%_ROE_{X}\"\n",
    "df['N'] = df.index.map(lambda x: x.split('_')[1])\n",
    "df['X'] = df.index.map(lambda x: x.split('_')[-1])\n",
    "\n",
    "# Converting to numeric types\n",
    "df['N'] = pd.to_numeric(df['N'], errors='coerce')\n",
    "df['X'] = pd.to_numeric(df['X'], errors='coerce')\n",
    "\n",
    "# Pivoting data to create a matrix for heatmap with ROE (X) as columns and 配息率 (N) as rows\n",
    "heatmap_data = df.pivot(index=\"X\", columns=\"N\", values=\"CAGR (%)\").sort_index(ascending=False)\n",
    "\n",
    "# Creating a mask for cells where 'Min' equals 0\n",
    "min_mask_raw = df.pivot(index=\"X\", columns=\"N\", values=\"Min\") == 0\n",
    "\n",
    "# Align mask with heatmap_data (ensure same index and columns)\n",
    "min_mask = min_mask_raw.reindex(index=heatmap_data.index, columns=heatmap_data.columns).fillna(False)\n",
    "\n",
    "# Custom colormap: using \"coolwarm\" for normal data and \"red\" for highlighted cells\n",
    "normal_cmap = sns.color_palette(\"coolwarm\", as_cmap=True)\n",
    "highlight_cmap = ListedColormap([\"gray\"])\n",
    "\n",
    "# Plotting the heatmap\n",
    "plt.figure(figsize=(16, 5))\n",
    "sns.heatmap(heatmap_data, annot=True, fmt=\".1f\", cmap=normal_cmap, cbar_kws={'label': 'CAGR (%)'}, \n",
    "            yticklabels=heatmap_data.index[:])\n",
    "\n",
    "# Overlay another heatmap for the highlighted cells\n",
    "sns.heatmap(heatmap_data, mask=~min_mask, cmap=highlight_cmap, cbar=False, annot=False)\n",
    "\n",
    "# Adding labels and title\n",
    "plt.xlabel(\"盈再率小於 N (%)\")\n",
    "plt.ylabel(\"五年ROE平均 > N %\")\n",
    "plt.title(\"五年平均ROE + 盈再率條件 2003~2009\")\n",
    "plt.show()"
   ]
  },
  {
   "cell_type": "code",
   "execution_count": 83,
   "metadata": {},
   "outputs": [
    {
     "name": "stderr",
     "output_type": "stream",
     "text": [
      "Backtesting progress: 100%|██████████| 180/180 [19:00<00:00,  6.33s/condition]\n"
     ]
    },
    {
     "data": {
      "text/html": [
       "<div>\n",
       "<style scoped>\n",
       "    .dataframe tbody tr th:only-of-type {\n",
       "        vertical-align: middle;\n",
       "    }\n",
       "\n",
       "    .dataframe tbody tr th {\n",
       "        vertical-align: top;\n",
       "    }\n",
       "\n",
       "    .dataframe thead th {\n",
       "        text-align: right;\n",
       "    }\n",
       "</style>\n",
       "<table border=\"1\" class=\"dataframe\">\n",
       "  <thead>\n",
       "    <tr style=\"text-align: right;\">\n",
       "      <th></th>\n",
       "      <th>CAGR (%)</th>\n",
       "      <th>MDD (%)</th>\n",
       "      <th>入選股數平均</th>\n",
       "      <th>中位數</th>\n",
       "      <th>25%</th>\n",
       "      <th>75%</th>\n",
       "      <th>Min</th>\n",
       "      <th>Max</th>\n",
       "    </tr>\n",
       "    <tr>\n",
       "      <th>Strategy</th>\n",
       "      <th></th>\n",
       "      <th></th>\n",
       "      <th></th>\n",
       "      <th></th>\n",
       "      <th></th>\n",
       "      <th></th>\n",
       "      <th></th>\n",
       "      <th></th>\n",
       "    </tr>\n",
       "  </thead>\n",
       "  <tbody>\n",
       "    <tr>\n",
       "      <th>盈再率_20_配息率_45</th>\n",
       "      <td>4.37</td>\n",
       "      <td>-54.10</td>\n",
       "      <td>9.47</td>\n",
       "      <td>9.0</td>\n",
       "      <td>7.0</td>\n",
       "      <td>11.0</td>\n",
       "      <td>5.0</td>\n",
       "      <td>17.0</td>\n",
       "    </tr>\n",
       "    <tr>\n",
       "      <th>盈再率_25_配息率_45</th>\n",
       "      <td>4.04</td>\n",
       "      <td>-54.10</td>\n",
       "      <td>9.55</td>\n",
       "      <td>9.0</td>\n",
       "      <td>7.0</td>\n",
       "      <td>11.0</td>\n",
       "      <td>5.0</td>\n",
       "      <td>17.0</td>\n",
       "    </tr>\n",
       "    <tr>\n",
       "      <th>盈再率_30_配息率_45</th>\n",
       "      <td>3.93</td>\n",
       "      <td>-54.75</td>\n",
       "      <td>9.92</td>\n",
       "      <td>9.0</td>\n",
       "      <td>7.0</td>\n",
       "      <td>11.0</td>\n",
       "      <td>5.0</td>\n",
       "      <td>19.0</td>\n",
       "    </tr>\n",
       "    <tr>\n",
       "      <th>盈再率_15_配息率_45</th>\n",
       "      <td>3.87</td>\n",
       "      <td>-54.89</td>\n",
       "      <td>9.12</td>\n",
       "      <td>8.0</td>\n",
       "      <td>7.0</td>\n",
       "      <td>11.0</td>\n",
       "      <td>5.0</td>\n",
       "      <td>16.0</td>\n",
       "    </tr>\n",
       "    <tr>\n",
       "      <th>盈再率_80_配息率_10</th>\n",
       "      <td>3.77</td>\n",
       "      <td>-50.48</td>\n",
       "      <td>80.52</td>\n",
       "      <td>68.0</td>\n",
       "      <td>65.0</td>\n",
       "      <td>92.0</td>\n",
       "      <td>56.0</td>\n",
       "      <td>152.0</td>\n",
       "    </tr>\n",
       "    <tr>\n",
       "      <th>...</th>\n",
       "      <td>...</td>\n",
       "      <td>...</td>\n",
       "      <td>...</td>\n",
       "      <td>...</td>\n",
       "      <td>...</td>\n",
       "      <td>...</td>\n",
       "      <td>...</td>\n",
       "      <td>...</td>\n",
       "    </tr>\n",
       "    <tr>\n",
       "      <th>盈再率_70_配息率_40</th>\n",
       "      <td>0.26</td>\n",
       "      <td>-53.14</td>\n",
       "      <td>20.71</td>\n",
       "      <td>20.0</td>\n",
       "      <td>18.0</td>\n",
       "      <td>24.0</td>\n",
       "      <td>15.0</td>\n",
       "      <td>29.0</td>\n",
       "    </tr>\n",
       "    <tr>\n",
       "      <th>盈再率_65_配息率_40</th>\n",
       "      <td>0.20</td>\n",
       "      <td>-53.05</td>\n",
       "      <td>19.89</td>\n",
       "      <td>20.0</td>\n",
       "      <td>17.0</td>\n",
       "      <td>22.0</td>\n",
       "      <td>14.0</td>\n",
       "      <td>29.0</td>\n",
       "    </tr>\n",
       "    <tr>\n",
       "      <th>盈再率_55_配息率_40</th>\n",
       "      <td>0.19</td>\n",
       "      <td>-53.27</td>\n",
       "      <td>17.97</td>\n",
       "      <td>17.0</td>\n",
       "      <td>14.0</td>\n",
       "      <td>21.0</td>\n",
       "      <td>12.0</td>\n",
       "      <td>29.0</td>\n",
       "    </tr>\n",
       "    <tr>\n",
       "      <th>盈再率_75_配息率_40</th>\n",
       "      <td>0.16</td>\n",
       "      <td>-53.14</td>\n",
       "      <td>21.04</td>\n",
       "      <td>21.0</td>\n",
       "      <td>18.0</td>\n",
       "      <td>24.0</td>\n",
       "      <td>16.0</td>\n",
       "      <td>29.0</td>\n",
       "    </tr>\n",
       "    <tr>\n",
       "      <th>盈再率_80_配息率_40</th>\n",
       "      <td>0.16</td>\n",
       "      <td>-53.14</td>\n",
       "      <td>21.22</td>\n",
       "      <td>21.0</td>\n",
       "      <td>19.0</td>\n",
       "      <td>24.0</td>\n",
       "      <td>16.0</td>\n",
       "      <td>29.0</td>\n",
       "    </tr>\n",
       "  </tbody>\n",
       "</table>\n",
       "<p>180 rows × 8 columns</p>\n",
       "</div>"
      ],
      "text/plain": [
       "               CAGR (%)  MDD (%)  入選股數平均   中位數   25%   75%   Min    Max\n",
       "Strategy                                                               \n",
       "盈再率_20_配息率_45      4.37   -54.10    9.47   9.0   7.0  11.0   5.0   17.0\n",
       "盈再率_25_配息率_45      4.04   -54.10    9.55   9.0   7.0  11.0   5.0   17.0\n",
       "盈再率_30_配息率_45      3.93   -54.75    9.92   9.0   7.0  11.0   5.0   19.0\n",
       "盈再率_15_配息率_45      3.87   -54.89    9.12   8.0   7.0  11.0   5.0   16.0\n",
       "盈再率_80_配息率_10      3.77   -50.48   80.52  68.0  65.0  92.0  56.0  152.0\n",
       "...                 ...      ...     ...   ...   ...   ...   ...    ...\n",
       "盈再率_70_配息率_40      0.26   -53.14   20.71  20.0  18.0  24.0  15.0   29.0\n",
       "盈再率_65_配息率_40      0.20   -53.05   19.89  20.0  17.0  22.0  14.0   29.0\n",
       "盈再率_55_配息率_40      0.19   -53.27   17.97  17.0  14.0  21.0  12.0   29.0\n",
       "盈再率_75_配息率_40      0.16   -53.14   21.04  21.0  18.0  24.0  16.0   29.0\n",
       "盈再率_80_配息率_40      0.16   -53.14   21.22  21.0  19.0  24.0  16.0   29.0\n",
       "\n",
       "[180 rows x 8 columns]"
      ]
     },
     "execution_count": 83,
     "metadata": {},
     "output_type": "execute_result"
    }
   ],
   "source": [
    "rr_dpr_opts = {}\n",
    "\n",
    "conds_without_rr_dpr = roe_cond & netprofit_cond & listed_cond\n",
    "\n",
    "\n",
    "for k in range(10, 81, 5):\n",
    "\n",
    "    for n in range(0, 56, 5):\n",
    "\n",
    "        rr_cond_opt = rr < (k / 100)\n",
    "\n",
    "        payout_ratio_cond_opt = payout_ratio_rol >= (n/100)\n",
    "\n",
    "        opt_rr_dpr_cond = conds_without_rr_dpr & rr_cond_opt & payout_ratio_cond_opt\n",
    "        \n",
    "\n",
    "        rr_dpr_opts[f'盈再率_{k}_配息率_{n}'] = (opt_rr_dpr_cond[START_DATE:END_DATE] & daily_pe_entry[START_DATE:END_DATE]).hold_until((~opt_rr_dpr_cond[START_DATE:END_DATE]) | daily_pe_exit[START_DATE:END_DATE]) #[filtered_russell_1000_symbol]\n",
    "\n",
    "        # payout_roe_pe_opts[f'配息_{i}%_ROE_{k}'] = opt_payout_PER_cond[START_DATE:END_DATE]\n",
    "\n",
    "        # payout_roe_pe_opts[f'配息_{i}%_ROE_{k}'] = (opt_payout_PER_cond['2009-3':] & daily_pe_entry['2009-3':]).hold_until((~opt_payout_PER_cond['2009-3':]) | daily_pe_exit['2009-3':])\n",
    "\n",
    "rr_dpr_opts_comb = sim_conditions(rr_dpr_opts, resample='M', data=data)\n",
    "rr_dpr_opts_comb.selected_stock_count_analysis()"
   ]
  },
  {
   "cell_type": "code",
   "execution_count": 84,
   "metadata": {},
   "outputs": [
    {
     "name": "stderr",
     "output_type": "stream",
     "text": [
      "c:\\Users\\user\\anaconda3\\envs\\lab_exp\\Lib\\site-packages\\seaborn\\matrix.py:202: RuntimeWarning:\n",
      "\n",
      "All-NaN slice encountered\n",
      "\n",
      "c:\\Users\\user\\anaconda3\\envs\\lab_exp\\Lib\\site-packages\\seaborn\\matrix.py:207: RuntimeWarning:\n",
      "\n",
      "All-NaN slice encountered\n",
      "\n"
     ]
    },
    {
     "data": {
      "image/png": "[encoded data removed]",
      "text/plain": [
       "<Figure size 1600x500 with 2 Axes>"
      ]
     },
     "metadata": {},
     "output_type": "display_data"
    }
   ],
   "source": [
    "df = rr_dpr_opts_comb.selected_stock_count_analysis()\n",
    "\n",
    "# Extracting 'N' and 'X' values manually based on the new format \"配息_{N}%_ROE_{X}\"\n",
    "df['N'] = df.index.map(lambda x: x.split('_')[1])\n",
    "df['X'] = df.index.map(lambda x: x.split('_')[-1])\n",
    "\n",
    "# Converting to numeric types\n",
    "df['N'] = pd.to_numeric(df['N'], errors='coerce')\n",
    "df['X'] = pd.to_numeric(df['X'], errors='coerce')\n",
    "\n",
    "# Pivoting data to create a matrix for heatmap with ROE (X) as columns and 配息率 (N) as rows\n",
    "heatmap_data = df.pivot(index=\"X\", columns=\"N\", values=\"CAGR (%)\").sort_index(ascending=False)\n",
    "\n",
    "# Creating a mask for cells where 'Min' equals 0\n",
    "min_mask_raw = df.pivot(index=\"X\", columns=\"N\", values=\"Min\") == 0\n",
    "\n",
    "# Align mask with heatmap_data (ensure same index and columns)\n",
    "min_mask = min_mask_raw.reindex(index=heatmap_data.index, columns=heatmap_data.columns).fillna(False)\n",
    "\n",
    "# Custom colormap: using \"coolwarm\" for normal data and \"red\" for highlighted cells\n",
    "normal_cmap = sns.color_palette(\"coolwarm\", as_cmap=True)\n",
    "highlight_cmap = ListedColormap([\"gray\"])\n",
    "\n",
    "# Plotting the heatmap\n",
    "plt.figure(figsize=(16, 5))\n",
    "sns.heatmap(heatmap_data, annot=True, fmt=\".1f\", cmap=normal_cmap, cbar_kws={'label': 'CAGR (%)'}, \n",
    "            yticklabels=heatmap_data.index[:])\n",
    "\n",
    "# Overlay another heatmap for the highlighted cells\n",
    "sns.heatmap(heatmap_data, mask=~min_mask, cmap=highlight_cmap, cbar=False, annot=False)\n",
    "\n",
    "# Adding labels and title\n",
    "plt.xlabel(\"盈再率小於 N (%)\")\n",
    "plt.ylabel(\"配息率三年至少 > N %\")\n",
    "plt.title(\"盈再率 + 配息率條件 2003~2009\")\n",
    "plt.show()"
   ]
  },
  {
   "cell_type": "markdown",
   "metadata": {},
   "source": [
    "---"
   ]
  },
  {
   "cell_type": "markdown",
   "metadata": {},
   "source": [
    "---"
   ]
  }
 ],
 "metadata": {
  "kernelspec": {
   "display_name": "lab_exp",
   "language": "python",
   "name": "python3"
  },
  "language_info": {
   "codemirror_mode": {
    "name": "ipython",
    "version": 3
   },
   "file_extension": ".py",
   "mimetype": "text/x-python",
   "name": "python",
   "nbconvert_exporter": "python",
   "pygments_lexer": "ipython3",
   "version": "3.11.10"
  }
 },
 "nbformat": 4,
 "nbformat_minor": 2
}
