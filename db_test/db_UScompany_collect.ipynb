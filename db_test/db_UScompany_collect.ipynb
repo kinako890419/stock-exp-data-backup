{
 "cells": [
  {
   "cell_type": "markdown",
   "metadata": {},
   "source": [
    "# 把美股羅素3000成分股清單匯入DB"
   ]
  },
  {
   "cell_type": "code",
   "execution_count": null,
   "metadata": {},
   "outputs": [],
   "source": [
    "import pandas as pd\n",
    "from sqlalchemy import create_engine\n",
    "import configparser"
   ]
  },
  {
   "cell_type": "code",
   "execution_count": null,
   "metadata": {},
   "outputs": [],
   "source": [
    "config = configparser.ConfigParser()\n",
    "config.read('../../DB_Processor/config.ini')"
   ]
  },
  {
   "cell_type": "code",
   "execution_count": null,
   "metadata": {},
   "outputs": [],
   "source": [
    "username = config['database']['user']\n",
    "password = config['database']['password']\n",
    "database = config['database']['db']\n",
    "host = config['database']['host']\n",
    "port = config['database']['port']\n",
    "\n",
    "engine = create_engine(f'mysql+pymysql://{username}:{password}@{host}/{database}')"
   ]
  },
  {
   "cell_type": "markdown",
   "metadata": {},
   "source": [
    "---"
   ]
  },
  {
   "cell_type": "code",
   "execution_count": 4,
   "metadata": {},
   "outputs": [],
   "source": [
    "us_company = pd.read_csv(\"C:/Users/user/Documents/iplab/stock_factor_lab/2024_code/us_data/US_company_russell3000.csv\")"
   ]
  },
  {
   "cell_type": "code",
   "execution_count": 5,
   "metadata": {},
   "outputs": [
    {
     "data": {
      "text/html": [
       "<div>\n",
       "<style scoped>\n",
       "    .dataframe tbody tr th:only-of-type {\n",
       "        vertical-align: middle;\n",
       "    }\n",
       "\n",
       "    .dataframe tbody tr th {\n",
       "        vertical-align: top;\n",
       "    }\n",
       "\n",
       "    .dataframe thead th {\n",
       "        text-align: right;\n",
       "    }\n",
       "</style>\n",
       "<table border=\"1\" class=\"dataframe\">\n",
       "  <thead>\n",
       "    <tr style=\"text-align: right;\">\n",
       "      <th></th>\n",
       "      <th>company_symbol</th>\n",
       "      <th>name</th>\n",
       "      <th>exchange_name</th>\n",
       "      <th>country</th>\n",
       "    </tr>\n",
       "  </thead>\n",
       "  <tbody>\n",
       "    <tr>\n",
       "      <th>0</th>\n",
       "      <td>A</td>\n",
       "      <td>Agilent Technologies, Inc.</td>\n",
       "      <td>NYSE</td>\n",
       "      <td>US</td>\n",
       "    </tr>\n",
       "    <tr>\n",
       "      <th>1</th>\n",
       "      <td>AA</td>\n",
       "      <td>Alcoa Corporation</td>\n",
       "      <td>NYSE</td>\n",
       "      <td>US</td>\n",
       "    </tr>\n",
       "    <tr>\n",
       "      <th>2</th>\n",
       "      <td>AAL</td>\n",
       "      <td>American Airlines Group Inc.</td>\n",
       "      <td>NASDAQ</td>\n",
       "      <td>US</td>\n",
       "    </tr>\n",
       "    <tr>\n",
       "      <th>3</th>\n",
       "      <td>AAN</td>\n",
       "      <td>The Aaron's Company, Inc.</td>\n",
       "      <td>NYSE</td>\n",
       "      <td>US</td>\n",
       "    </tr>\n",
       "    <tr>\n",
       "      <th>4</th>\n",
       "      <td>AAON</td>\n",
       "      <td>AAON, Inc.</td>\n",
       "      <td>NASDAQ</td>\n",
       "      <td>US</td>\n",
       "    </tr>\n",
       "    <tr>\n",
       "      <th>...</th>\n",
       "      <td>...</td>\n",
       "      <td>...</td>\n",
       "      <td>...</td>\n",
       "      <td>...</td>\n",
       "    </tr>\n",
       "    <tr>\n",
       "      <th>2650</th>\n",
       "      <td>ZWS</td>\n",
       "      <td>Zurn Elkay Water Solutions Corporation</td>\n",
       "      <td>NYSE</td>\n",
       "      <td>US</td>\n",
       "    </tr>\n",
       "    <tr>\n",
       "      <th>2651</th>\n",
       "      <td>ZYME</td>\n",
       "      <td>Zymeworks Inc.</td>\n",
       "      <td>NYSE</td>\n",
       "      <td>CA</td>\n",
       "    </tr>\n",
       "    <tr>\n",
       "      <th>2652</th>\n",
       "      <td>ZYXI</td>\n",
       "      <td>Zynex, Inc.</td>\n",
       "      <td>NASDAQ</td>\n",
       "      <td>US</td>\n",
       "    </tr>\n",
       "    <tr>\n",
       "      <th>2653</th>\n",
       "      <td>CWEN-A</td>\n",
       "      <td>Clearway Energy, Inc.</td>\n",
       "      <td>NYSE</td>\n",
       "      <td>US</td>\n",
       "    </tr>\n",
       "    <tr>\n",
       "      <th>2654</th>\n",
       "      <td>UHAL-B</td>\n",
       "      <td>U-Haul Holding Company</td>\n",
       "      <td>NYSE</td>\n",
       "      <td>US</td>\n",
       "    </tr>\n",
       "  </tbody>\n",
       "</table>\n",
       "<p>2655 rows × 4 columns</p>\n",
       "</div>"
      ],
      "text/plain": [
       "     company_symbol                                    name exchange_name  \\\n",
       "0                 A              Agilent Technologies, Inc.          NYSE   \n",
       "1                AA                       Alcoa Corporation          NYSE   \n",
       "2               AAL            American Airlines Group Inc.        NASDAQ   \n",
       "3               AAN               The Aaron's Company, Inc.          NYSE   \n",
       "4              AAON                              AAON, Inc.        NASDAQ   \n",
       "...             ...                                     ...           ...   \n",
       "2650            ZWS  Zurn Elkay Water Solutions Corporation          NYSE   \n",
       "2651           ZYME                          Zymeworks Inc.          NYSE   \n",
       "2652           ZYXI                             Zynex, Inc.        NASDAQ   \n",
       "2653         CWEN-A                   Clearway Energy, Inc.          NYSE   \n",
       "2654         UHAL-B                  U-Haul Holding Company          NYSE   \n",
       "\n",
       "     country  \n",
       "0         US  \n",
       "1         US  \n",
       "2         US  \n",
       "3         US  \n",
       "4         US  \n",
       "...      ...  \n",
       "2650      US  \n",
       "2651      CA  \n",
       "2652      US  \n",
       "2653      US  \n",
       "2654      US  \n",
       "\n",
       "[2655 rows x 4 columns]"
      ]
     },
     "execution_count": 5,
     "metadata": {},
     "output_type": "execute_result"
    }
   ],
   "source": [
    "us_company"
   ]
  },
  {
   "cell_type": "code",
   "execution_count": 12,
   "metadata": {},
   "outputs": [],
   "source": [
    "# # 填補空值\n",
    "# us_company[us_company['country'].isnull()]['company_symbol']\n",
    "# us_company.loc[us_company['country'].isnull(), 'country'] = 'US'"
   ]
  },
  {
   "cell_type": "code",
   "execution_count": 6,
   "metadata": {},
   "outputs": [
    {
     "data": {
      "text/plain": [
       "Series([], Name: company_symbol, dtype: object)"
      ]
     },
     "execution_count": 6,
     "metadata": {},
     "output_type": "execute_result"
    }
   ],
   "source": [
    "us_company[us_company['country'].isnull()]['company_symbol']"
   ]
  },
  {
   "cell_type": "code",
   "execution_count": 7,
   "metadata": {},
   "outputs": [
    {
     "name": "stdout",
     "output_type": "stream",
     "text": [
      "資料匯入成功\n"
     ]
    }
   ],
   "source": [
    "# 將資料匯入到資料庫\n",
    "try:\n",
    "    us_company.to_sql('company', con=engine, if_exists='append', index=False)\n",
    "    print(\"資料匯入成功\")\n",
    "except Exception as e:\n",
    "    print(f\"資料匯入失敗: {e}\")"
   ]
  }
 ],
 "metadata": {
  "kernelspec": {
   "display_name": "stock_factor_lab",
   "language": "python",
   "name": "python3"
  },
  "language_info": {
   "codemirror_mode": {
    "name": "ipython",
    "version": 3
   },
   "file_extension": ".py",
   "mimetype": "text/x-python",
   "name": "python",
   "nbconvert_exporter": "python",
   "pygments_lexer": "ipython3",
   "version": "3.8.19"
  }
 },
 "nbformat": 4,
 "nbformat_minor": 2
}
