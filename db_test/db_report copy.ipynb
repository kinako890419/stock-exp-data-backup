{
 "cells": [
  {
   "cell_type": "markdown",
   "metadata": {},
   "source": [
    "## 美股資料匯入 `financialreportindicatorvalue` 資料表\n",
    "\n",
    "- 格式設定選預設"
   ]
  },
  {
   "cell_type": "code",
   "execution_count": null,
   "metadata": {},
   "outputs": [],
   "source": [
    "import pandas as pd\n",
    "from sqlalchemy import create_engine\n",
    "import configparser"
   ]
  },
  {
   "cell_type": "code",
   "execution_count": null,
   "metadata": {},
   "outputs": [],
   "source": [
    "config = configparser.ConfigParser()\n",
    "config.read('../../DB_Processor/config.ini')"
   ]
  },
  {
   "cell_type": "code",
   "execution_count": null,
   "metadata": {},
   "outputs": [],
   "source": [
    "username = config['database']['user']\n",
    "password = config['database']['password']\n",
    "database = config['database']['db']\n",
    "host = config['database']['host']\n",
    "port = config['database']['port']\n",
    "\n",
    "# 建立資料庫連接\n",
    "engine = create_engine(f'mysql+pymysql://{username}:{password}@{host}:{port}/{database}')"
   ]
  },
  {
   "cell_type": "code",
   "execution_count": 3,
   "metadata": {},
   "outputs": [],
   "source": [
    "df = pd.read_csv('../../stock_factor_lab/2024_code/us_data/240915quarter_ratios_data.csv')"
   ]
  },
  {
   "cell_type": "code",
   "execution_count": 4,
   "metadata": {},
   "outputs": [
    {
     "data": {
      "text/html": [
       "<div>\n",
       "<style scoped>\n",
       "    .dataframe tbody tr th:only-of-type {\n",
       "        vertical-align: middle;\n",
       "    }\n",
       "\n",
       "    .dataframe tbody tr th {\n",
       "        vertical-align: top;\n",
       "    }\n",
       "\n",
       "    .dataframe thead th {\n",
       "        text-align: right;\n",
       "    }\n",
       "</style>\n",
       "<table border=\"1\" class=\"dataframe\">\n",
       "  <thead>\n",
       "    <tr style=\"text-align: right;\">\n",
       "      <th></th>\n",
       "      <th>id</th>\n",
       "      <th>symbol</th>\n",
       "      <th>date</th>\n",
       "      <th>period</th>\n",
       "      <th>returnOnEquity</th>\n",
       "      <th>dividendPayoutRatio</th>\n",
       "      <th>priceEarningsRatio</th>\n",
       "    </tr>\n",
       "  </thead>\n",
       "  <tbody>\n",
       "    <tr>\n",
       "      <th>0</th>\n",
       "      <td>1841</td>\n",
       "      <td>A</td>\n",
       "      <td>2024-07-31</td>\n",
       "      <td>Q3</td>\n",
       "      <td>0.047772</td>\n",
       "      <td>0.241135</td>\n",
       "      <td>36.352837</td>\n",
       "    </tr>\n",
       "    <tr>\n",
       "      <th>1</th>\n",
       "      <td>1841</td>\n",
       "      <td>A</td>\n",
       "      <td>2024-04-30</td>\n",
       "      <td>Q2</td>\n",
       "      <td>0.049565</td>\n",
       "      <td>0.224026</td>\n",
       "      <td>32.591494</td>\n",
       "    </tr>\n",
       "    <tr>\n",
       "      <th>2</th>\n",
       "      <td>1841</td>\n",
       "      <td>A</td>\n",
       "      <td>2024-01-31</td>\n",
       "      <td>Q1</td>\n",
       "      <td>0.056238</td>\n",
       "      <td>0.198276</td>\n",
       "      <td>27.384555</td>\n",
       "    </tr>\n",
       "    <tr>\n",
       "      <th>3</th>\n",
       "      <td>1841</td>\n",
       "      <td>A</td>\n",
       "      <td>2023-10-31</td>\n",
       "      <td>Q4</td>\n",
       "      <td>0.081266</td>\n",
       "      <td>0.138947</td>\n",
       "      <td>15.886337</td>\n",
       "    </tr>\n",
       "    <tr>\n",
       "      <th>4</th>\n",
       "      <td>1841</td>\n",
       "      <td>A</td>\n",
       "      <td>2023-07-31</td>\n",
       "      <td>Q3</td>\n",
       "      <td>0.019971</td>\n",
       "      <td>0.594595</td>\n",
       "      <td>80.631486</td>\n",
       "    </tr>\n",
       "    <tr>\n",
       "      <th>...</th>\n",
       "      <td>...</td>\n",
       "      <td>...</td>\n",
       "      <td>...</td>\n",
       "      <td>...</td>\n",
       "      <td>...</td>\n",
       "      <td>...</td>\n",
       "      <td>...</td>\n",
       "    </tr>\n",
       "    <tr>\n",
       "      <th>231606</th>\n",
       "      <td>4495</td>\n",
       "      <td>UHAL-B</td>\n",
       "      <td>1995-03-31</td>\n",
       "      <td>Q4</td>\n",
       "      <td>-0.016539</td>\n",
       "      <td>-0.285324</td>\n",
       "      <td>-17.857236</td>\n",
       "    </tr>\n",
       "    <tr>\n",
       "      <th>231607</th>\n",
       "      <td>4495</td>\n",
       "      <td>UHAL-B</td>\n",
       "      <td>1994-12-31</td>\n",
       "      <td>Q3</td>\n",
       "      <td>0.002703</td>\n",
       "      <td>1.699528</td>\n",
       "      <td>84.208411</td>\n",
       "    </tr>\n",
       "    <tr>\n",
       "      <th>231608</th>\n",
       "      <td>4495</td>\n",
       "      <td>UHAL-B</td>\n",
       "      <td>1994-09-30</td>\n",
       "      <td>Q2</td>\n",
       "      <td>0.056535</td>\n",
       "      <td>0.080881</td>\n",
       "      <td>4.010836</td>\n",
       "    </tr>\n",
       "    <tr>\n",
       "      <th>231609</th>\n",
       "      <td>4495</td>\n",
       "      <td>UHAL-B</td>\n",
       "      <td>1994-06-30</td>\n",
       "      <td>Q1</td>\n",
       "      <td>0.043652</td>\n",
       "      <td>0.110189</td>\n",
       "      <td>5.480089</td>\n",
       "    </tr>\n",
       "    <tr>\n",
       "      <th>231610</th>\n",
       "      <td>4495</td>\n",
       "      <td>UHAL-B</td>\n",
       "      <td>1994-03-31</td>\n",
       "      <td>Q4</td>\n",
       "      <td>-0.012577</td>\n",
       "      <td>0.000000</td>\n",
       "      <td>-20.500381</td>\n",
       "    </tr>\n",
       "  </tbody>\n",
       "</table>\n",
       "<p>231611 rows × 7 columns</p>\n",
       "</div>"
      ],
      "text/plain": [
       "          id  symbol        date period  returnOnEquity  dividendPayoutRatio  \\\n",
       "0       1841       A  2024-07-31     Q3        0.047772             0.241135   \n",
       "1       1841       A  2024-04-30     Q2        0.049565             0.224026   \n",
       "2       1841       A  2024-01-31     Q1        0.056238             0.198276   \n",
       "3       1841       A  2023-10-31     Q4        0.081266             0.138947   \n",
       "4       1841       A  2023-07-31     Q3        0.019971             0.594595   \n",
       "...      ...     ...         ...    ...             ...                  ...   \n",
       "231606  4495  UHAL-B  1995-03-31     Q4       -0.016539            -0.285324   \n",
       "231607  4495  UHAL-B  1994-12-31     Q3        0.002703             1.699528   \n",
       "231608  4495  UHAL-B  1994-09-30     Q2        0.056535             0.080881   \n",
       "231609  4495  UHAL-B  1994-06-30     Q1        0.043652             0.110189   \n",
       "231610  4495  UHAL-B  1994-03-31     Q4       -0.012577             0.000000   \n",
       "\n",
       "        priceEarningsRatio  \n",
       "0                36.352837  \n",
       "1                32.591494  \n",
       "2                27.384555  \n",
       "3                15.886337  \n",
       "4                80.631486  \n",
       "...                    ...  \n",
       "231606          -17.857236  \n",
       "231607           84.208411  \n",
       "231608            4.010836  \n",
       "231609            5.480089  \n",
       "231610          -20.500381  \n",
       "\n",
       "[231611 rows x 7 columns]"
      ]
     },
     "execution_count": 4,
     "metadata": {},
     "output_type": "execute_result"
    }
   ],
   "source": [
    "df"
   ]
  },
  {
   "cell_type": "code",
   "execution_count": 5,
   "metadata": {},
   "outputs": [],
   "source": [
    "# 定義 mapping 字典\n",
    "mapping = {'Q1': 1, 'Q2': 2, 'Q3': 3, 'Q4': 4, 'FY':5}\n",
    "\n",
    "# 將月份對應到 period_id，並存入 df['period_id']\n",
    "df['period_id'] = df['period'].map(mapping)"
   ]
  },
  {
   "cell_type": "code",
   "execution_count": 6,
   "metadata": {},
   "outputs": [],
   "source": [
    "df = df.drop(columns=['period'])"
   ]
  },
  {
   "cell_type": "code",
   "execution_count": 7,
   "metadata": {},
   "outputs": [],
   "source": [
    "# 將 'id' 欄位改名為 'company_id'\n",
    "df.rename(columns={'id': 'company_id'}, inplace=True)"
   ]
  },
  {
   "cell_type": "code",
   "execution_count": 8,
   "metadata": {},
   "outputs": [
    {
     "data": {
      "text/plain": [
       "Index(['company_id', 'symbol', 'date', 'returnOnEquity', 'dividendPayoutRatio',\n",
       "       'priceEarningsRatio', 'period_id'],\n",
       "      dtype='object')"
      ]
     },
     "execution_count": 8,
     "metadata": {},
     "output_type": "execute_result"
    }
   ],
   "source": [
    "# df.columns = [col.strip() for col in df.columns]\n",
    "indicator = df.columns[3:-1]\n",
    "df.columns"
   ]
  },
  {
   "cell_type": "code",
   "execution_count": 9,
   "metadata": {},
   "outputs": [
    {
     "data": {
      "text/plain": [
       "Index(['returnOnEquity', 'dividendPayoutRatio', 'priceEarningsRatio'], dtype='object')"
      ]
     },
     "execution_count": 9,
     "metadata": {},
     "output_type": "execute_result"
    }
   ],
   "source": [
    "indicator"
   ]
  },
  {
   "cell_type": "code",
   "execution_count": 10,
   "metadata": {},
   "outputs": [
    {
     "data": {
      "text/plain": [
       "returnOnEquity          217\n",
       "dividendPayoutRatio    6119\n",
       "priceEarningsRatio        0\n",
       "dtype: int64"
      ]
     },
     "execution_count": 10,
     "metadata": {},
     "output_type": "execute_result"
    }
   ],
   "source": [
    "df[indicator].isna().sum()"
   ]
  },
  {
   "cell_type": "code",
   "execution_count": 11,
   "metadata": {},
   "outputs": [
    {
     "data": {
      "text/plain": [
       "0"
      ]
     },
     "execution_count": 11,
     "metadata": {},
     "output_type": "execute_result"
    }
   ],
   "source": [
    "df['period_id'].isna().sum()"
   ]
  },
  {
   "cell_type": "code",
   "execution_count": 12,
   "metadata": {},
   "outputs": [],
   "source": [
    "indicators = pd.read_sql('SELECT id, us_indicator FROM singleindicator', engine)"
   ]
  },
  {
   "cell_type": "code",
   "execution_count": 13,
   "metadata": {},
   "outputs": [
    {
     "data": {
      "text/plain": [
       "array(['eps', None, 'netDebt', 'ebitda', 'revenue', 'freeCashFlow',\n",
       "       'totalLiabilitiesAndStockholdersEquity', 'netIncome',\n",
       "       'totalStockholdersEquity', 'bookValuePerShare',\n",
       "       'netCashProvidedByOperatingActivities', None, 'priceEarningsRatio',\n",
       "       None, None, None, None, None, None, None, None, None,\n",
       "       'dividendPayoutRatio', None, 'returnOnEquity', None,\n",
       "       'longTermInvestments', 'propertyPlantEquipmentNet'], dtype=object)"
      ]
     },
     "execution_count": 13,
     "metadata": {},
     "output_type": "execute_result"
    }
   ],
   "source": [
    "indicators['us_indicator'].values"
   ]
  },
  {
   "cell_type": "code",
   "execution_count": 14,
   "metadata": {},
   "outputs": [
    {
     "data": {
      "text/plain": [
       "'date'"
      ]
     },
     "execution_count": 14,
     "metadata": {},
     "output_type": "execute_result"
    }
   ],
   "source": [
    "df.columns[2]"
   ]
  },
  {
   "cell_type": "code",
   "execution_count": 15,
   "metadata": {},
   "outputs": [],
   "source": [
    "# 財報資料處理\n",
    "\n",
    "data_to_insert = []\n",
    "for column in df.columns: # 從第3個column開始\n",
    "    if column in indicators['us_indicator'].values:\n",
    "        indicator_id = indicators[indicators['us_indicator'] == column].id.values[0]\n",
    "        for index, row in df.iterrows():\n",
    "            data_to_insert.append({\n",
    "                'company_id': row['company_id'],\n",
    "                'date': row['date'],\n",
    "                'period_id': row['period_id'],\n",
    "                'indicator_id': indicator_id,\n",
    "                'indicator_value': row[column]\n",
    "            })\n"
   ]
  },
  {
   "cell_type": "code",
   "execution_count": 16,
   "metadata": {},
   "outputs": [
    {
     "data": {
      "text/html": [
       "<div>\n",
       "<style scoped>\n",
       "    .dataframe tbody tr th:only-of-type {\n",
       "        vertical-align: middle;\n",
       "    }\n",
       "\n",
       "    .dataframe tbody tr th {\n",
       "        vertical-align: top;\n",
       "    }\n",
       "\n",
       "    .dataframe thead th {\n",
       "        text-align: right;\n",
       "    }\n",
       "</style>\n",
       "<table border=\"1\" class=\"dataframe\">\n",
       "  <thead>\n",
       "    <tr style=\"text-align: right;\">\n",
       "      <th></th>\n",
       "      <th>company_id</th>\n",
       "      <th>date</th>\n",
       "      <th>period_id</th>\n",
       "      <th>indicator_id</th>\n",
       "      <th>indicator_value</th>\n",
       "    </tr>\n",
       "  </thead>\n",
       "  <tbody>\n",
       "    <tr>\n",
       "      <th>0</th>\n",
       "      <td>1841</td>\n",
       "      <td>2024-07-31</td>\n",
       "      <td>3</td>\n",
       "      <td>25</td>\n",
       "      <td>0.047772</td>\n",
       "    </tr>\n",
       "    <tr>\n",
       "      <th>1</th>\n",
       "      <td>1841</td>\n",
       "      <td>2024-04-30</td>\n",
       "      <td>2</td>\n",
       "      <td>25</td>\n",
       "      <td>0.049565</td>\n",
       "    </tr>\n",
       "    <tr>\n",
       "      <th>2</th>\n",
       "      <td>1841</td>\n",
       "      <td>2024-01-31</td>\n",
       "      <td>1</td>\n",
       "      <td>25</td>\n",
       "      <td>0.056238</td>\n",
       "    </tr>\n",
       "    <tr>\n",
       "      <th>3</th>\n",
       "      <td>1841</td>\n",
       "      <td>2023-10-31</td>\n",
       "      <td>4</td>\n",
       "      <td>25</td>\n",
       "      <td>0.081266</td>\n",
       "    </tr>\n",
       "    <tr>\n",
       "      <th>4</th>\n",
       "      <td>1841</td>\n",
       "      <td>2023-07-31</td>\n",
       "      <td>3</td>\n",
       "      <td>25</td>\n",
       "      <td>0.019971</td>\n",
       "    </tr>\n",
       "    <tr>\n",
       "      <th>...</th>\n",
       "      <td>...</td>\n",
       "      <td>...</td>\n",
       "      <td>...</td>\n",
       "      <td>...</td>\n",
       "      <td>...</td>\n",
       "    </tr>\n",
       "    <tr>\n",
       "      <th>694828</th>\n",
       "      <td>4495</td>\n",
       "      <td>1995-03-31</td>\n",
       "      <td>4</td>\n",
       "      <td>13</td>\n",
       "      <td>-17.857236</td>\n",
       "    </tr>\n",
       "    <tr>\n",
       "      <th>694829</th>\n",
       "      <td>4495</td>\n",
       "      <td>1994-12-31</td>\n",
       "      <td>3</td>\n",
       "      <td>13</td>\n",
       "      <td>84.208411</td>\n",
       "    </tr>\n",
       "    <tr>\n",
       "      <th>694830</th>\n",
       "      <td>4495</td>\n",
       "      <td>1994-09-30</td>\n",
       "      <td>2</td>\n",
       "      <td>13</td>\n",
       "      <td>4.010836</td>\n",
       "    </tr>\n",
       "    <tr>\n",
       "      <th>694831</th>\n",
       "      <td>4495</td>\n",
       "      <td>1994-06-30</td>\n",
       "      <td>1</td>\n",
       "      <td>13</td>\n",
       "      <td>5.480089</td>\n",
       "    </tr>\n",
       "    <tr>\n",
       "      <th>694832</th>\n",
       "      <td>4495</td>\n",
       "      <td>1994-03-31</td>\n",
       "      <td>4</td>\n",
       "      <td>13</td>\n",
       "      <td>-20.500381</td>\n",
       "    </tr>\n",
       "  </tbody>\n",
       "</table>\n",
       "<p>694833 rows × 5 columns</p>\n",
       "</div>"
      ],
      "text/plain": [
       "        company_id        date  period_id  indicator_id  indicator_value\n",
       "0             1841  2024-07-31          3            25         0.047772\n",
       "1             1841  2024-04-30          2            25         0.049565\n",
       "2             1841  2024-01-31          1            25         0.056238\n",
       "3             1841  2023-10-31          4            25         0.081266\n",
       "4             1841  2023-07-31          3            25         0.019971\n",
       "...            ...         ...        ...           ...              ...\n",
       "694828        4495  1995-03-31          4            13       -17.857236\n",
       "694829        4495  1994-12-31          3            13        84.208411\n",
       "694830        4495  1994-09-30          2            13         4.010836\n",
       "694831        4495  1994-06-30          1            13         5.480089\n",
       "694832        4495  1994-03-31          4            13       -20.500381\n",
       "\n",
       "[694833 rows x 5 columns]"
      ]
     },
     "execution_count": 16,
     "metadata": {},
     "output_type": "execute_result"
    }
   ],
   "source": [
    "data_df = pd.DataFrame(data_to_insert)\n",
    "data_df"
   ]
  },
  {
   "cell_type": "code",
   "execution_count": 17,
   "metadata": {},
   "outputs": [
    {
     "data": {
      "text/plain": [
       "company_id            0\n",
       "date                  0\n",
       "period_id             0\n",
       "indicator_id          0\n",
       "indicator_value    6336\n",
       "dtype: int64"
      ]
     },
     "execution_count": 17,
     "metadata": {},
     "output_type": "execute_result"
    }
   ],
   "source": [
    "missing_values = data_df.isna().sum()\n",
    "missing_values"
   ]
  },
  {
   "cell_type": "code",
   "execution_count": 18,
   "metadata": {},
   "outputs": [
    {
     "data": {
      "text/html": [
       "<div>\n",
       "<style scoped>\n",
       "    .dataframe tbody tr th:only-of-type {\n",
       "        vertical-align: middle;\n",
       "    }\n",
       "\n",
       "    .dataframe tbody tr th {\n",
       "        vertical-align: top;\n",
       "    }\n",
       "\n",
       "    .dataframe thead th {\n",
       "        text-align: right;\n",
       "    }\n",
       "</style>\n",
       "<table border=\"1\" class=\"dataframe\">\n",
       "  <thead>\n",
       "    <tr style=\"text-align: right;\">\n",
       "      <th></th>\n",
       "      <th>company_id</th>\n",
       "      <th>date</th>\n",
       "      <th>period_id</th>\n",
       "      <th>indicator_id</th>\n",
       "      <th>indicator_value</th>\n",
       "    </tr>\n",
       "  </thead>\n",
       "  <tbody>\n",
       "    <tr>\n",
       "      <th>2769</th>\n",
       "      <td>1876</td>\n",
       "      <td>2000-01-01</td>\n",
       "      <td>4</td>\n",
       "      <td>25</td>\n",
       "      <td>NaN</td>\n",
       "    </tr>\n",
       "    <tr>\n",
       "      <th>4066</th>\n",
       "      <td>1889</td>\n",
       "      <td>2015-12-31</td>\n",
       "      <td>4</td>\n",
       "      <td>25</td>\n",
       "      <td>NaN</td>\n",
       "    </tr>\n",
       "    <tr>\n",
       "      <th>7247</th>\n",
       "      <td>1924</td>\n",
       "      <td>2018-12-31</td>\n",
       "      <td>4</td>\n",
       "      <td>25</td>\n",
       "      <td>NaN</td>\n",
       "    </tr>\n",
       "    <tr>\n",
       "      <th>7259</th>\n",
       "      <td>1924</td>\n",
       "      <td>2015-12-31</td>\n",
       "      <td>4</td>\n",
       "      <td>25</td>\n",
       "      <td>NaN</td>\n",
       "    </tr>\n",
       "    <tr>\n",
       "      <th>7930</th>\n",
       "      <td>1931</td>\n",
       "      <td>2010-12-31</td>\n",
       "      <td>4</td>\n",
       "      <td>25</td>\n",
       "      <td>NaN</td>\n",
       "    </tr>\n",
       "    <tr>\n",
       "      <th>...</th>\n",
       "      <td>...</td>\n",
       "      <td>...</td>\n",
       "      <td>...</td>\n",
       "      <td>...</td>\n",
       "      <td>...</td>\n",
       "    </tr>\n",
       "    <tr>\n",
       "      <th>462905</th>\n",
       "      <td>4491</td>\n",
       "      <td>1986-09-30</td>\n",
       "      <td>3</td>\n",
       "      <td>23</td>\n",
       "      <td>NaN</td>\n",
       "    </tr>\n",
       "    <tr>\n",
       "      <th>462906</th>\n",
       "      <td>4491</td>\n",
       "      <td>1986-06-30</td>\n",
       "      <td>2</td>\n",
       "      <td>23</td>\n",
       "      <td>NaN</td>\n",
       "    </tr>\n",
       "    <tr>\n",
       "      <th>462907</th>\n",
       "      <td>4491</td>\n",
       "      <td>1986-03-31</td>\n",
       "      <td>1</td>\n",
       "      <td>23</td>\n",
       "      <td>NaN</td>\n",
       "    </tr>\n",
       "    <tr>\n",
       "      <th>462908</th>\n",
       "      <td>4491</td>\n",
       "      <td>1985-12-31</td>\n",
       "      <td>4</td>\n",
       "      <td>23</td>\n",
       "      <td>NaN</td>\n",
       "    </tr>\n",
       "    <tr>\n",
       "      <th>462909</th>\n",
       "      <td>4491</td>\n",
       "      <td>1985-09-30</td>\n",
       "      <td>3</td>\n",
       "      <td>23</td>\n",
       "      <td>NaN</td>\n",
       "    </tr>\n",
       "  </tbody>\n",
       "</table>\n",
       "<p>6336 rows × 5 columns</p>\n",
       "</div>"
      ],
      "text/plain": [
       "        company_id        date  period_id  indicator_id  indicator_value\n",
       "2769          1876  2000-01-01          4            25              NaN\n",
       "4066          1889  2015-12-31          4            25              NaN\n",
       "7247          1924  2018-12-31          4            25              NaN\n",
       "7259          1924  2015-12-31          4            25              NaN\n",
       "7930          1931  2010-12-31          4            25              NaN\n",
       "...            ...         ...        ...           ...              ...\n",
       "462905        4491  1986-09-30          3            23              NaN\n",
       "462906        4491  1986-06-30          2            23              NaN\n",
       "462907        4491  1986-03-31          1            23              NaN\n",
       "462908        4491  1985-12-31          4            23              NaN\n",
       "462909        4491  1985-09-30          3            23              NaN\n",
       "\n",
       "[6336 rows x 5 columns]"
      ]
     },
     "execution_count": 18,
     "metadata": {},
     "output_type": "execute_result"
    }
   ],
   "source": [
    "# print missing values in data_df\n",
    "data_df[data_df.isnull().any(axis=1)]"
   ]
  },
  {
   "cell_type": "code",
   "execution_count": 19,
   "metadata": {},
   "outputs": [
    {
     "data": {
      "text/plain": [
       "694833"
      ]
     },
     "execution_count": 19,
     "metadata": {},
     "output_type": "execute_result"
    }
   ],
   "source": [
    "data_df.to_sql('financialreportindicatorvalue', con=engine, if_exists='append', index=False)"
   ]
  },
  {
   "cell_type": "markdown",
   "metadata": {},
   "source": [
    "---"
   ]
  },
  {
   "cell_type": "code",
   "execution_count": 20,
   "metadata": {},
   "outputs": [],
   "source": [
    "# data = pd.read_sql(f\"\"\"SELECT date, company_symbol, us_indicator, indicator_value \n",
    "#                             FROM singleindicator \n",
    "#                             RIGHT JOIN financialreportindicatorvalue \n",
    "#                             ON singleindicator.id = financialreportindicatorvalue.indicator_id  \n",
    "#                             LEFT JOIN company \n",
    "#                             ON financialreportindicatorvalue.company_id = company.id \n",
    "#                             WHERE company.exchange_name IN ('NASDAQ', 'NYSE', 'AMEX')\"\"\", engine)"
   ]
  },
  {
   "cell_type": "code",
   "execution_count": 21,
   "metadata": {},
   "outputs": [],
   "source": [
    "# columns = [\"date\", \"company_symbol\", \"report_fundamentals_name\", \"report_fundamentals_value\"]\n",
    "# df = pd.DataFrame(data)\n",
    "# df"
   ]
  },
  {
   "cell_type": "code",
   "execution_count": 22,
   "metadata": {},
   "outputs": [],
   "source": [
    "# df.isna().sum()"
   ]
  }
 ],
 "metadata": {
  "kernelspec": {
   "display_name": "stock_factor_lab",
   "language": "python",
   "name": "python3"
  },
  "language_info": {
   "codemirror_mode": {
    "name": "ipython",
    "version": 3
   },
   "file_extension": ".py",
   "mimetype": "text/x-python",
   "name": "python",
   "nbconvert_exporter": "python",
   "pygments_lexer": "ipython3",
   "version": "3.8.19"
  }
 },
 "nbformat": 4,
 "nbformat_minor": 2
}
