{
 "cells": [
  {
   "cell_type": "markdown",
   "metadata": {},
   "source": [
    "# 美股 API 測試"
   ]
  },
  {
   "cell_type": "code",
   "execution_count": 5,
   "metadata": {},
   "outputs": [],
   "source": [
    "import pandas as pd\n",
    "import requests\n",
    "import json\n",
    "import configparser\n",
    "from sqlalchemy import create_engine"
   ]
  },
  {
   "cell_type": "code",
   "execution_count": 2,
   "metadata": {},
   "outputs": [
    {
     "data": {
      "text/html": [
       "<div>\n",
       "<style scoped>\n",
       "    .dataframe tbody tr th:only-of-type {\n",
       "        vertical-align: middle;\n",
       "    }\n",
       "\n",
       "    .dataframe tbody tr th {\n",
       "        vertical-align: top;\n",
       "    }\n",
       "\n",
       "    .dataframe thead th {\n",
       "        text-align: right;\n",
       "    }\n",
       "</style>\n",
       "<table border=\"1\" class=\"dataframe\">\n",
       "  <thead>\n",
       "    <tr style=\"text-align: right;\">\n",
       "      <th></th>\n",
       "      <th>Symbol</th>\n",
       "      <th>Name</th>\n",
       "      <th>Exchange</th>\n",
       "      <th>Industry</th>\n",
       "      <th>SIC Description</th>\n",
       "    </tr>\n",
       "  </thead>\n",
       "  <tbody>\n",
       "    <tr>\n",
       "      <th>0</th>\n",
       "      <td>A</td>\n",
       "      <td>Agilent Technologies</td>\n",
       "      <td>NYSE</td>\n",
       "      <td>Electronic Test Equipment</td>\n",
       "      <td>SIC-3826 Laboratory Analytical Instruments</td>\n",
       "    </tr>\n",
       "    <tr>\n",
       "      <th>1</th>\n",
       "      <td>AA</td>\n",
       "      <td>Alcoa Corp</td>\n",
       "      <td>NYSE</td>\n",
       "      <td>Metal Products - Distribution</td>\n",
       "      <td>SIC-3334 Primary Production of Aluminium</td>\n",
       "    </tr>\n",
       "    <tr>\n",
       "      <th>2</th>\n",
       "      <td>AAL</td>\n",
       "      <td>American Airlines Gp</td>\n",
       "      <td>NASDAQ</td>\n",
       "      <td>Transportation - Airline</td>\n",
       "      <td>SIC-4512 Air Transportation, Scheduled</td>\n",
       "    </tr>\n",
       "    <tr>\n",
       "      <th>3</th>\n",
       "      <td>AAN</td>\n",
       "      <td>Aarons Holdings Company</td>\n",
       "      <td>NYSE</td>\n",
       "      <td>Consumer Services - Misc</td>\n",
       "      <td>SIC-7359 Services-Equipment Rental &amp; Leasing, NEC</td>\n",
       "    </tr>\n",
       "    <tr>\n",
       "      <th>4</th>\n",
       "      <td>AAON</td>\n",
       "      <td>Aaon Inc</td>\n",
       "      <td>NASDAQ</td>\n",
       "      <td>Building Prdcts - Air Heating</td>\n",
       "      <td>SIC-3585 Air-Cond &amp; Warm Air Heatg Equip &amp; Com...</td>\n",
       "    </tr>\n",
       "    <tr>\n",
       "      <th>...</th>\n",
       "      <td>...</td>\n",
       "      <td>...</td>\n",
       "      <td>...</td>\n",
       "      <td>...</td>\n",
       "      <td>...</td>\n",
       "    </tr>\n",
       "    <tr>\n",
       "      <th>2644</th>\n",
       "      <td>ZUMZ</td>\n",
       "      <td>Zumiez Inc</td>\n",
       "      <td>NASDAQ</td>\n",
       "      <td>Retail - Apparel &amp; Shoes</td>\n",
       "      <td>SIC-5600 Retail-Apparel &amp; Accessory Stores</td>\n",
       "    </tr>\n",
       "    <tr>\n",
       "      <th>2645</th>\n",
       "      <td>ZUO</td>\n",
       "      <td>Zuora Inc</td>\n",
       "      <td>NYSE</td>\n",
       "      <td>Internet - Software</td>\n",
       "      <td>SIC-7372 Services-Prepackaged Software</td>\n",
       "    </tr>\n",
       "    <tr>\n",
       "      <th>2646</th>\n",
       "      <td>ZWS</td>\n",
       "      <td>Zurn Elkay Water Solutions Corp</td>\n",
       "      <td>NYSE</td>\n",
       "      <td>Machinery - Electrical</td>\n",
       "      <td>SIC-3560 General Industrial Machinery &amp; Equipment</td>\n",
       "    </tr>\n",
       "    <tr>\n",
       "      <th>2647</th>\n",
       "      <td>ZYME</td>\n",
       "      <td>Zymeworks Inc</td>\n",
       "      <td>NASDAQ</td>\n",
       "      <td>Medical - Biomedical</td>\n",
       "      <td>SIC-2834 Pharmaceutical Preparations</td>\n",
       "    </tr>\n",
       "    <tr>\n",
       "      <th>2648</th>\n",
       "      <td>ZYXI</td>\n",
       "      <td>Zynex Inc</td>\n",
       "      <td>NASDAQ</td>\n",
       "      <td>Medical Products</td>\n",
       "      <td>SIC-3845 Electromedical &amp; Electrotherapeutic A...</td>\n",
       "    </tr>\n",
       "  </tbody>\n",
       "</table>\n",
       "<p>2649 rows × 5 columns</p>\n",
       "</div>"
      ],
      "text/plain": [
       "     Symbol                             Name Exchange  \\\n",
       "0         A             Agilent Technologies     NYSE   \n",
       "1        AA                       Alcoa Corp     NYSE   \n",
       "2       AAL             American Airlines Gp   NASDAQ   \n",
       "3       AAN          Aarons Holdings Company     NYSE   \n",
       "4      AAON                         Aaon Inc   NASDAQ   \n",
       "...     ...                              ...      ...   \n",
       "2644   ZUMZ                       Zumiez Inc   NASDAQ   \n",
       "2645    ZUO                        Zuora Inc     NYSE   \n",
       "2646    ZWS  Zurn Elkay Water Solutions Corp     NYSE   \n",
       "2647   ZYME                    Zymeworks Inc   NASDAQ   \n",
       "2648   ZYXI                        Zynex Inc   NASDAQ   \n",
       "\n",
       "                           Industry  \\\n",
       "0         Electronic Test Equipment   \n",
       "1     Metal Products - Distribution   \n",
       "2          Transportation - Airline   \n",
       "3          Consumer Services - Misc   \n",
       "4     Building Prdcts - Air Heating   \n",
       "...                             ...   \n",
       "2644       Retail - Apparel & Shoes   \n",
       "2645            Internet - Software   \n",
       "2646         Machinery - Electrical   \n",
       "2647           Medical - Biomedical   \n",
       "2648               Medical Products   \n",
       "\n",
       "                                        SIC Description  \n",
       "0            SIC-3826 Laboratory Analytical Instruments  \n",
       "1              SIC-3334 Primary Production of Aluminium  \n",
       "2                SIC-4512 Air Transportation, Scheduled  \n",
       "3     SIC-7359 Services-Equipment Rental & Leasing, NEC  \n",
       "4     SIC-3585 Air-Cond & Warm Air Heatg Equip & Com...  \n",
       "...                                                 ...  \n",
       "2644         SIC-5600 Retail-Apparel & Accessory Stores  \n",
       "2645             SIC-7372 Services-Prepackaged Software  \n",
       "2646  SIC-3560 General Industrial Machinery & Equipment  \n",
       "2647               SIC-2834 Pharmaceutical Preparations  \n",
       "2648  SIC-3845 Electromedical & Electrotherapeutic A...  \n",
       "\n",
       "[2649 rows x 5 columns]"
      ]
     },
     "execution_count": 2,
     "metadata": {},
     "output_type": "execute_result"
    }
   ],
   "source": [
    "russel1_3000_comp_list = pd.read_csv('../data/US_data/russell_components_lists/russell_3000_company_barchart_240927.csv').iloc[:-1, :]\n",
    "\n",
    "russel1_3000_comp_list "
   ]
  },
  {
   "cell_type": "code",
   "execution_count": 3,
   "metadata": {},
   "outputs": [
    {
     "data": {
      "text/plain": [
       "2649"
      ]
     },
     "execution_count": 3,
     "metadata": {},
     "output_type": "execute_result"
    }
   ],
   "source": [
    "companies = russel1_3000_comp_list['Symbol'].tolist()\n",
    "len(companies)"
   ]
  },
  {
   "cell_type": "code",
   "execution_count": 8,
   "metadata": {},
   "outputs": [
    {
     "data": {
      "text/plain": [
       "['../../DB_Processor/config.ini']"
      ]
     },
     "execution_count": 8,
     "metadata": {},
     "output_type": "execute_result"
    }
   ],
   "source": [
    "# 讀取 config.ini 檔案\n",
    "config = configparser.ConfigParser()\n",
    "config.read('../../DB_Processor/config.ini')"
   ]
  },
  {
   "cell_type": "code",
   "execution_count": 9,
   "metadata": {},
   "outputs": [],
   "source": [
    "comp_test = 'AAPL'\n",
    "BASE_URL = 'https://financialmodelingprep.com/api/v3/profile/'\n",
    "API_KEY = config['api']['financialmodelingprep_api_key']"
   ]
  },
  {
   "cell_type": "code",
   "execution_count": 16,
   "metadata": {},
   "outputs": [],
   "source": [
    "url = f'{BASE_URL}{comp_test}?apikey={API_KEY}'\n",
    "\n",
    "response = requests.get(url)\n",
    "profile_json = response.json()"
   ]
  },
  {
   "cell_type": "code",
   "execution_count": 27,
   "metadata": {},
   "outputs": [],
   "source": [
    "profile_json[0]\n",
    "# get ['symbol', 'companyName', 'exchangeShortName', 'country','ipoDate', 'sector'] from profile_json and safe to a dataframe\n",
    "\n",
    "profile_df = pd.DataFrame(profile_json)\n",
    "profile_df = profile_df[['symbol', 'companyName', 'exchangeShortName', 'country','ipoDate', 'sector']]"
   ]
  },
  {
   "cell_type": "code",
   "execution_count": 28,
   "metadata": {},
   "outputs": [
    {
     "data": {
      "text/html": [
       "<div>\n",
       "<style scoped>\n",
       "    .dataframe tbody tr th:only-of-type {\n",
       "        vertical-align: middle;\n",
       "    }\n",
       "\n",
       "    .dataframe tbody tr th {\n",
       "        vertical-align: top;\n",
       "    }\n",
       "\n",
       "    .dataframe thead th {\n",
       "        text-align: right;\n",
       "    }\n",
       "</style>\n",
       "<table border=\"1\" class=\"dataframe\">\n",
       "  <thead>\n",
       "    <tr style=\"text-align: right;\">\n",
       "      <th></th>\n",
       "      <th>symbol</th>\n",
       "      <th>companyName</th>\n",
       "      <th>exchangeShortName</th>\n",
       "      <th>country</th>\n",
       "      <th>ipoDate</th>\n",
       "      <th>sector</th>\n",
       "    </tr>\n",
       "  </thead>\n",
       "  <tbody>\n",
       "    <tr>\n",
       "      <th>0</th>\n",
       "      <td>AAPL</td>\n",
       "      <td>Apple Inc.</td>\n",
       "      <td>NASDAQ</td>\n",
       "      <td>US</td>\n",
       "      <td>1980-12-12</td>\n",
       "      <td>Technology</td>\n",
       "    </tr>\n",
       "  </tbody>\n",
       "</table>\n",
       "</div>"
      ],
      "text/plain": [
       "  symbol companyName exchangeShortName country     ipoDate      sector\n",
       "0   AAPL  Apple Inc.            NASDAQ      US  1980-12-12  Technology"
      ]
     },
     "execution_count": 28,
     "metadata": {},
     "output_type": "execute_result"
    }
   ],
   "source": [
    "profile_df"
   ]
  },
  {
   "cell_type": "code",
   "execution_count": 38,
   "metadata": {},
   "outputs": [
    {
     "data": {
      "text/html": [
       "<div>\n",
       "<style scoped>\n",
       "    .dataframe tbody tr th:only-of-type {\n",
       "        vertical-align: middle;\n",
       "    }\n",
       "\n",
       "    .dataframe tbody tr th {\n",
       "        vertical-align: top;\n",
       "    }\n",
       "\n",
       "    .dataframe thead th {\n",
       "        text-align: right;\n",
       "    }\n",
       "</style>\n",
       "<table border=\"1\" class=\"dataframe\">\n",
       "  <thead>\n",
       "    <tr style=\"text-align: right;\">\n",
       "      <th></th>\n",
       "      <th>symbol</th>\n",
       "      <th>companyName</th>\n",
       "      <th>exchangeShortName</th>\n",
       "      <th>country</th>\n",
       "      <th>ipoDate</th>\n",
       "      <th>sector</th>\n",
       "    </tr>\n",
       "  </thead>\n",
       "  <tbody>\n",
       "    <tr>\n",
       "      <th>0</th>\n",
       "      <td>A</td>\n",
       "      <td>Agilent Technologies, Inc.</td>\n",
       "      <td>NYSE</td>\n",
       "      <td>US</td>\n",
       "      <td>1999-11-18</td>\n",
       "      <td>Healthcare</td>\n",
       "    </tr>\n",
       "    <tr>\n",
       "      <th>1</th>\n",
       "      <td>AA</td>\n",
       "      <td>Alcoa Corporation</td>\n",
       "      <td>NYSE</td>\n",
       "      <td>US</td>\n",
       "      <td>2016-11-01</td>\n",
       "      <td>Basic Materials</td>\n",
       "    </tr>\n",
       "  </tbody>\n",
       "</table>\n",
       "</div>"
      ],
      "text/plain": [
       "  symbol                 companyName exchangeShortName country     ipoDate  \\\n",
       "0      A  Agilent Technologies, Inc.              NYSE      US  1999-11-18   \n",
       "1     AA           Alcoa Corporation              NYSE      US  2016-11-01   \n",
       "\n",
       "            sector  \n",
       "0       Healthcare  \n",
       "1  Basic Materials  "
      ]
     },
     "execution_count": 38,
     "metadata": {},
     "output_type": "execute_result"
    }
   ],
   "source": [
    "comp_head_tests = companies[:2]  \n",
    "profile_df = pd.DataFrame()\n",
    "\n",
    "for comp in comp_head_tests:\n",
    "    url = f'{BASE_URL}{comp}?apikey={API_KEY}'\n",
    "    response = requests.get(url)\n",
    "    profile_json = response.json()\n",
    "\n",
    "    profile_data = pd.DataFrame([profile_json[0]])[['symbol', 'companyName',  'exchangeShortName', 'country', 'ipoDate', 'sector']]\n",
    "\n",
    "    profile_df = pd.concat([profile_df, profile_data], ignore_index=True)\n",
    "\n",
    "profile_df"
   ]
  },
  {
   "cell_type": "code",
   "execution_count": null,
   "metadata": {},
   "outputs": [],
   "source": [
    "profile_df = pd.DataFrame()\n",
    "\n",
    "for comp in companies:\n",
    "    url = f'{BASE_URL}{comp}?apikey={API_KEY}'\n",
    "    \n",
    "    response = requests.get(url)\n",
    "    profile_json = response.json()\n",
    "\n",
    "    profile_data = pd.DataFrame([profile_json[0]])[['symbol', 'companyName',  'exchangeShortName', 'country', 'ipoDate', 'sector']]\n",
    "\n",
    "    profile_df = pd.concat([profile_df, profile_data], ignore_index=True)"
   ]
  },
  {
   "cell_type": "markdown",
   "metadata": {},
   "source": [
    "---"
   ]
  },
  {
   "cell_type": "code",
   "execution_count": null,
   "metadata": {},
   "outputs": [],
   "source": [
    "# # 資料庫連接設定\n",
    "\n",
    "# # 從 config.ini 中獲取資料庫連接設定\n",
    "# username = config['database']['user']\n",
    "# password = config['database']['password']\n",
    "# database = config['database']['db']\n",
    "# host = config['database']['host']\n",
    "# port = config['database']['port']\n",
    "\n",
    "# engine = create_engine(f'mysql+pymysql://{username}:{password}@{host}/{database}')\n",
    "# # data = pd.read_csv(csv_path)"
   ]
  }
 ],
 "metadata": {
  "kernelspec": {
   "display_name": "lab_exp",
   "language": "python",
   "name": "python3"
  },
  "language_info": {
   "codemirror_mode": {
    "name": "ipython",
    "version": 3
   },
   "file_extension": ".py",
   "mimetype": "text/x-python",
   "name": "python",
   "nbconvert_exporter": "python",
   "pygments_lexer": "ipython3",
   "version": "3.11.10"
  }
 },
 "nbformat": 4,
 "nbformat_minor": 2
}
